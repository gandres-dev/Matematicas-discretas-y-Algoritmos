{
 "cells": [
  {
   "cell_type": "markdown",
   "id": "2f83eabf-539c-4383-b5ab-f87537f98193",
   "metadata": {},
   "source": [
    "<a href=\"https://colab.research.google.com/github/RodolfoFigueroa/madi2022-1/blob/main/Unidad_4/01_Ordenamiento_topologico.ipynb\" target=\"_parent\"><img src=\"https://colab.research.google.com/assets/colab-badge.svg\" alt=\"Open In Colab\"/></a>"
   ]
  },
  {
   "cell_type": "code",
   "execution_count": 1,
   "id": "435a1483-4625-4f6b-83bd-bdf93d3dd053",
   "metadata": {},
   "outputs": [],
   "source": [
    "import networkx as nx\n",
    "from queue import deque"
   ]
  },
  {
   "cell_type": "markdown",
   "id": "30192a52-0ef5-408a-ada4-38217a7fa484",
   "metadata": {},
   "source": [
    "En esta libreta, veremos un recordatorio de ordenamiento topológico, y cómo puede aplicarse para resolver distintos problemas.\n",
    "\n",
    "# Definición\n",
    "\n",
    "Copiando lo que habíamos escrito en la libreta `6_NetworkX_para_graficas_planares_y_dirigidas` (Unidad 1), tenemos que un ordenamiento topológico de los vértices de una gráfica dirigida cumple que, si existe una arista del vértice $u$ al vértice $v$, entonces $u$ viene antes de $v$ en el ordenamiento.\n",
    "\n",
    "Por ejemplo, tomando la siguiente gráfica:"
   ]
  },
  {
   "cell_type": "code",
   "execution_count": 60,
   "id": "3f67b30c-4de7-4552-b2ff-6ab3297c9f74",
   "metadata": {},
   "outputs": [
    {
     "data": {
      "image/png": "[encoded data removed]",
      "text/plain": [
       "<Figure size 432x288 with 1 Axes>"
      ]
     },
     "metadata": {},
     "output_type": "display_data"
    }
   ],
   "source": [
    "g = nx.DiGraph()\n",
    "g.add_nodes_from([0,1,2,3,4,5,6,7])\n",
    "g.add_edges_from([(0,3), (1,3), (1,4), (2,4), (2,7), (3,5), (3,6), (3,7), (4,6)])\n",
    "pos = {i: (i%3, 3-i//3*3) for i in g.nodes}\n",
    "pos[5], pos[6], pos[7] = [0,-3], [1,-3], [2,-3]\n",
    "nx.draw(g, with_labels=True, pos=pos)"
   ]
  },
  {
   "cell_type": "markdown",
   "id": "7f699054-df1c-4a9d-bc95-b93cb84ebaf3",
   "metadata": {},
   "source": [
    "Algunos ordenamientos posibles son:\n",
    "\n",
    "* 0, 1, 2, 3, 4, 5, 6, 7\n",
    "* 2, 0, 1, 4, 3, 5, 6, 7\n",
    "* 0, 1, 2, 4, 3, 7, 6, 5\n",
    "\n",
    "Una manera sencilla de comprobar si un ordenamiento es válido es colocar a todos los vértices en una fila, siguiendo el ordenamiento de izquierda a derecha. Si todas las aristas apuntan hacia la derecha, entonces es válido.\n",
    "\n",
    "# Algoritmos\n",
    "\n",
    "## Post-order\n",
    "\n",
    "En la libreta previamente mencionada, probamos que una manera de generar un ordenamiento topológico es la de recorrer la gráfica en reverse postorder, lo cual se ve reflejado en la siguiente función:"
   ]
  },
  {
   "cell_type": "code",
   "execution_count": 61,
   "id": "1c03ca8f-ed9f-450c-a967-ba748d1f408c",
   "metadata": {},
   "outputs": [],
   "source": [
    "def _order_handler(g, v, kind, visited=None, out=None): \n",
    "    visited[v] = True\n",
    "    if kind == 'preorder':\n",
    "        out.append(v)\n",
    "    for u in g.adj[v]:\n",
    "        if not visited[u]:\n",
    "            _order_handler(g, u, kind, visited, out) # recursion\n",
    "    if kind != 'preorder': # postorder or reverse_postorder\n",
    "        out.append(v)\n",
    "\n",
    "\n",
    "def order(g, kind):\n",
    "    visited = [False] * len(g.nodes)\n",
    "    out = []\n",
    "    for n in g.nodes:\n",
    "        if not visited[n]:\n",
    "            _order_handler(g, n, kind, visited, out)\n",
    "            \n",
    "    if kind == 'reverse_postorder':\n",
    "        return out[::-1]\n",
    "    else:\n",
    "        return out"
   ]
  },
  {
   "cell_type": "markdown",
   "id": "168a44a4-d527-4929-8951-4a3814d59d0d",
   "metadata": {},
   "source": [
    "Aplicándola a nuestra gráfica anterior:"
   ]
  },
  {
   "cell_type": "code",
   "execution_count": 62,
   "id": "020c6135-7e56-4ed5-ad04-639ef16f4923",
   "metadata": {},
   "outputs": [
    {
     "data": {
      "text/plain": [
       "[2, 1, 4, 0, 3, 7, 6, 5]"
      ]
     },
     "execution_count": 62,
     "metadata": {},
     "output_type": "execute_result"
    }
   ],
   "source": [
    "res = order(g, 'reverse_postorder')\n",
    "res"
   ]
  },
  {
   "cell_type": "markdown",
   "id": "81bd52be-6121-4db5-a18e-5bc4c7a04caf",
   "metadata": {},
   "source": [
    "Podemos comprobar a ojo que es un ordenamiento correcto:"
   ]
  },
  {
   "cell_type": "code",
   "execution_count": 63,
   "id": "4a25f6c5-d91e-4b40-9cff-03a71d454804",
   "metadata": {},
   "outputs": [
    {
     "data": {
      "image/png": "[encoded data removed]",
      "text/plain": [
       "<Figure size 432x288 with 1 Axes>"
      ]
     },
     "metadata": {},
     "output_type": "display_data"
    }
   ],
   "source": [
    "def pos_order(order):\n",
    "    pos = {}\n",
    "    for i, p in enumerate(order):\n",
    "        pos[p] = (i,0)\n",
    "    return pos\n",
    "\n",
    "pos = pos_order(res)\n",
    "nx.draw(g, pos=pos, connectionstyle=\"arc3,rad=-0.5\", with_labels=True, font_weight='bold')"
   ]
  },
  {
   "cell_type": "markdown",
   "id": "a3b286a2-4a1e-4ef1-b3ee-926da2c63a91",
   "metadata": {},
   "source": [
    "Claramente, todas las aristas apuntan en la misma dirección."
   ]
  },
  {
   "cell_type": "markdown",
   "id": "809c1120-c2ba-4573-ba60-c4434af61e66",
   "metadata": {},
   "source": [
    "## Kahn\n",
    "\n",
    "Otra manera de generar un ordenamiento es utilizando el algoritmo de Kahn. Este puede expresarse en pseudocódigo como:\n",
    "\n",
    "* $S$: Conjunto de vértices sin ninguna arista entrante. Al inicio es no-vacío (de otra manera la gráfica no tiene un ordenamiento topológico válido).\n",
    "* $L$: Lista que contendrá los vértices en orden topológico.\n",
    "1. Mientras $S$ no es vacío:\n",
    "    1. Tomamos un vértice $n$ de $S$.\n",
    "    2. Añadimos $n$ a $L$.\n",
    "    3. Para cada vértice $m$ con arista $e$ de $n$ a $m$:\n",
    "        1. Removemos a $e$ de la gráfica\n",
    "        2. Si $m$ no tiene más aristas entrantes, lo insertamos en $S$.\n",
    "\n",
    "Si al final de la ejecución, la gráfica sigue teniendo aristas, significa que tenía un ciclo, y por lo tanto no tiene un ordenamiento. De otra manera, $L$ será un ordenamiento válido.\n",
    "\n",
    "Expresado en código, el algoritmo es:"
   ]
  },
  {
   "cell_type": "code",
   "execution_count": 68,
   "id": "f6ebdeac-a025-43be-8b1e-c447089df936",
   "metadata": {},
   "outputs": [],
   "source": [
    "def kahn_order(g):\n",
    "    g = g.copy()\n",
    "    S = deque()\n",
    "    L = []\n",
    "    for n in g.nodes:\n",
    "        if g.in_degree(n) == 0:\n",
    "            S.append(n)\n",
    "            \n",
    "    while S:\n",
    "        n = S.pop()\n",
    "        L.append(n)\n",
    "        neighbors = list(g.neighbors(n)) \n",
    "        for m in neighbors:\n",
    "            g.remove_edge(n, m)\n",
    "            if g.in_degree(m) == 0:\n",
    "                S.append(m)\n",
    "    \n",
    "    assert len(g.edges) == 0, \"La gráfica tiene un ciclo.\"\n",
    "    \n",
    "    return L"
   ]
  },
  {
   "cell_type": "markdown",
   "id": "bafa6e05-4504-445a-9944-5ea4e03ba149",
   "metadata": {},
   "source": [
    "Aplicándolo a nuestra gráfica:"
   ]
  },
  {
   "cell_type": "code",
   "execution_count": 69,
   "id": "7e7d50f2-c244-4154-a14c-8de4c2009025",
   "metadata": {},
   "outputs": [
    {
     "data": {
      "text/plain": [
       "[2, 1, 4, 0, 3, 7, 6, 5]"
      ]
     },
     "execution_count": 69,
     "metadata": {},
     "output_type": "execute_result"
    }
   ],
   "source": [
    "res = kahn_order(g)\n",
    "res"
   ]
  },
  {
   "cell_type": "code",
   "execution_count": 72,
   "id": "6dbba1db-1850-435f-97a4-3d8d4f03234a",
   "metadata": {},
   "outputs": [
    {
     "data": {
      "image/png": "[encoded data removed]",
      "text/plain": [
       "<Figure size 432x288 with 1 Axes>"
      ]
     },
     "metadata": {},
     "output_type": "display_data"
    }
   ],
   "source": [
    "pos = pos_order(res)\n",
    "nx.draw(g, pos=pos, connectionstyle=\"arc3,rad=-0.5\", with_labels=True, font_weight='bold')"
   ]
  },
  {
   "cell_type": "markdown",
   "id": "56b72945-0372-4c66-b53d-ba798fabca45",
   "metadata": {},
   "source": [
    "Veamos qué pasa con una gráfica que tiene ciclos:"
   ]
  },
  {
   "cell_type": "code",
   "execution_count": 70,
   "id": "88b35f1e-6d83-413f-b83f-9fb30361457b",
   "metadata": {},
   "outputs": [
    {
     "data": {
      "image/png": "[encoded data removed]",
      "text/plain": [
       "<Figure size 432x288 with 1 Axes>"
      ]
     },
     "metadata": {},
     "output_type": "display_data"
    }
   ],
   "source": [
    "g_ciclo = nx.DiGraph()\n",
    "g_ciclo.add_edges_from([(0, 1), (1,2), (2,0)])\n",
    "nx.draw(g_ciclo, with_labels=True)"
   ]
  },
  {
   "cell_type": "code",
   "execution_count": 71,
   "id": "bf8860cf-af55-4b5c-a601-e8085a81e6e7",
   "metadata": {},
   "outputs": [
    {
     "ename": "AssertionError",
     "evalue": "La gráfica tiene un ciclo.",
     "output_type": "error",
     "traceback": [
      "\u001b[0;31m---------------------------------------------------------------------------\u001b[0m",
      "\u001b[0;31mAssertionError\u001b[0m                            Traceback (most recent call last)",
      "\u001b[0;32m/tmp/ipykernel_18688/70588964.py\u001b[0m in \u001b[0;36m<module>\u001b[0;34m\u001b[0m\n\u001b[0;32m----> 1\u001b[0;31m \u001b[0mkahn_order\u001b[0m\u001b[0;34m(\u001b[0m\u001b[0mg_ciclo\u001b[0m\u001b[0;34m)\u001b[0m\u001b[0;34m\u001b[0m\u001b[0;34m\u001b[0m\u001b[0m\n\u001b[0m",
      "\u001b[0;32m/tmp/ipykernel_18688/4275757915.py\u001b[0m in \u001b[0;36mkahn_order\u001b[0;34m(g)\u001b[0m\n\u001b[1;32m     16\u001b[0m                 \u001b[0mS\u001b[0m\u001b[0;34m.\u001b[0m\u001b[0mappend\u001b[0m\u001b[0;34m(\u001b[0m\u001b[0mm\u001b[0m\u001b[0;34m)\u001b[0m\u001b[0;34m\u001b[0m\u001b[0;34m\u001b[0m\u001b[0m\n\u001b[1;32m     17\u001b[0m \u001b[0;34m\u001b[0m\u001b[0m\n\u001b[0;32m---> 18\u001b[0;31m     \u001b[0;32massert\u001b[0m \u001b[0mlen\u001b[0m\u001b[0;34m(\u001b[0m\u001b[0mg\u001b[0m\u001b[0;34m.\u001b[0m\u001b[0medges\u001b[0m\u001b[0;34m)\u001b[0m \u001b[0;34m==\u001b[0m \u001b[0;36m0\u001b[0m\u001b[0;34m,\u001b[0m \u001b[0;34m\"La gráfica tiene un ciclo.\"\u001b[0m\u001b[0;34m\u001b[0m\u001b[0;34m\u001b[0m\u001b[0m\n\u001b[0m\u001b[1;32m     19\u001b[0m \u001b[0;34m\u001b[0m\u001b[0m\n\u001b[1;32m     20\u001b[0m     \u001b[0;32mreturn\u001b[0m \u001b[0mL\u001b[0m\u001b[0;34m\u001b[0m\u001b[0;34m\u001b[0m\u001b[0m\n",
      "\u001b[0;31mAssertionError\u001b[0m: La gráfica tiene un ciclo."
     ]
    }
   ],
   "source": [
    "kahn_order(g_ciclo)"
   ]
  },
  {
   "cell_type": "markdown",
   "id": "85fefae0-bd5b-4c79-bc7a-e87931dbb6af",
   "metadata": {},
   "source": [
    "Graficando:"
   ]
  },
  {
   "cell_type": "markdown",
   "id": "070750a0-05e4-48a0-a4e7-10e6413b81fe",
   "metadata": {},
   "source": [
    "# Camino más corto\n",
    "\n",
    "Una aplicación del ordenamiento topológico es encontrar el camino más corto entre un nodo $s$ y todos los demás en una gráfica con pesos. Para hacerlo, seguimos el siguiente algoritmo:\n",
    "\n",
    "* $d$: Lista con las distancias mínimas de cada vértice a $s$. Al inicio, $d[v]=\\infty$ para toda $v\\neq s$, y $d[s] = 0$.\n",
    "* $p$: $p[u]$ será el predecesor de $u$ en el camino más corto de $v$ a $u$. Al inicio todas sus entradas son vacías.\n",
    "\n",
    "1. Para cada $u$ en el ordenamiento topológico de la gráfica, empezando de $s$:\n",
    "    1. Para cada vértice $v$ tal que existe una arista $(u,v)$:\n",
    "        1. $w\\leftarrow \\text{peso}(u,v)$\n",
    "        2. Si $d[v] > d[u] + w$:\n",
    "            1. $d[v] \\leftarrow d[u] + w$\n",
    "            2. $p[v] \\leftarrow u$\n",
    "        \n",
    "Este algoritmo solo funciona si revisamos los vértices $u$ en orden topológico, ya que de esta manera vamos actualizando las distancias de manera ordenada.\n",
    "\n",
    "Por ejemplo, para la siguiente gráfica:"
   ]
  },
  {
   "cell_type": "code",
   "execution_count": 74,
   "id": "cabce1ad-1370-4c64-afcd-c94cdb3de703",
   "metadata": {},
   "outputs": [
    {
     "data": {
      "text/plain": [
       "{(0, 1): Text(0.654508476093664, 0.47552828417802706, '1'),\n",
       " (0, 2): Text(0.09549147175227024, 0.2938926307527015, '5'),\n",
       " (1, 2): Text(-0.25000005215406573, 0.7694209149307285, '3'),\n",
       " (1, 3): Text(-0.25000002235174246, 0.18163562362300228, '2'),\n",
       " (1, 4): Text(0.3090170266931363, 2.980232327587373e-08, '10'),\n",
       " (3, 4): Text(-0.24999994784593424, -0.7694209149307285, '2')}"
      ]
     },
     "execution_count": 74,
     "metadata": {},
     "output_type": "execute_result"
    },
    {
     "data": {
      "image/png": "[encoded data removed]",
      "text/plain": [
       "<Figure size 432x288 with 1 Axes>"
      ]
     },
     "metadata": {},
     "output_type": "display_data"
    }
   ],
   "source": [
    "g = nx.DiGraph()\n",
    "g.add_nodes_from(range(5))\n",
    "g.add_edges_from([\n",
    "    (0, 1, {'weight': 1}), \n",
    "    (1, 2, {'weight': 3}), \n",
    "    (3, 4, {'weight': 2}), \n",
    "    (1, 3, {'weight': 2}), \n",
    "    (0, 2, {'weight': 5}), \n",
    "    (1, 4, {'weight': 10})\n",
    "])\n",
    "pos = nx.circular_layout(g)\n",
    "nx.draw(g, pos=pos, with_labels=True)\n",
    "labels = nx.get_edge_attributes(g, 'weight')\n",
    "nx.draw_networkx_edge_labels(g, pos, edge_labels=labels)"
   ]
  },
  {
   "cell_type": "code",
   "execution_count": 77,
   "id": "7c7fdd8d-a8b0-4daf-8e6a-a20c5d8a5c4b",
   "metadata": {},
   "outputs": [
    {
     "name": "stdout",
     "output_type": "stream",
     "text": [
      "Predecesores: [None, 0, 1, 1, 3]\n",
      "Distancias: [0, 1, 4, 3, 5]\n"
     ]
    }
   ],
   "source": [
    "def shortest_paths(g, s):\n",
    "    d = [float('inf')] * len(g.nodes)\n",
    "    d[s] = 0\n",
    "    p = [None] * len(g.nodes)\n",
    "    \n",
    "    order = kahn_order(g)\n",
    "    idx = order.index(s)\n",
    "    for u in order[idx:]:\n",
    "        for v in g.neighbors(u):\n",
    "            w = g.edges[(u,v)]['weight']\n",
    "            if d[v] > d[u] + w:\n",
    "                d[v] = d[u] + w\n",
    "                p[v] = u\n",
    "    return p, d\n",
    "                \n",
    "p, d = shortest_paths(g, 0)\n",
    "print(f\"Predecesores: {p}\")\n",
    "print(f\"Distancias: {d}\")"
   ]
  },
  {
   "cell_type": "markdown",
   "id": "dc3eda74-eab3-44aa-8a50-5e009071b847",
   "metadata": {},
   "source": [
    "# Ejercicios\n",
    "\n",
    "Para los siguientes problemas, solo puedes usar funciones básicas de `networkx` (`nodes`, `edges`, `neighbors`, `degree`, etc.) No puedes utilizar nada relacionado a ordenamientos topológicos/DFS/BFS.\n",
    "\n",
    "## Ejercicio 1\n",
    "\n",
    "Escribe una función que genere todos los ordenamientos topológicos posibles de una gráfica. Compara tu resultado con lo obtenido con `nx.all_topological_sorts`."
   ]
  },
  {
   "cell_type": "markdown",
   "id": "58ee4b2b-1730-4f07-8ea9-82b9ae7ed653",
   "metadata": {},
   "source": [
    "*Aquí va la explicación de tu algoritmo*"
   ]
  },
  {
   "cell_type": "code",
   "execution_count": 10,
   "id": "5c68bcf2-06d4-464d-ad5e-bdbd6b20c446",
   "metadata": {},
   "outputs": [],
   "source": [
    "# Aquí va tu código"
   ]
  },
  {
   "cell_type": "markdown",
   "id": "f7c101ae-2bf7-496f-ab2c-232465cd7ea9",
   "metadata": {},
   "source": [
    "## Ejercicio 2\n",
    "\n",
    "Encontraste una página del diccionario de una civilización perdida. Los habitantes utilizaban el alfabeto para escribir, pero no necesariamente en el mismo orden; por ejemplo, `b` podía venir antes de `a`. \n",
    "\n",
    "Basándote en el hecho de que las palabras del diccionario están ordenadas lexicográficamente, y asumiendo que solo utilizaban las letras provistas, determina el orden del alfabeto.\n",
    "\n",
    "Como ejemplo, tomamos la lista ordenada `L=[\"zxx\",\"xxx\",\"xxy\"]`. Vemos que la primera palabra empieza con `z`, mientras que las otras dos empiezan con `x`. Por lo tanto, la primera letra del alfabeto es `z`. Por otro lado, las últimas dos palabras empiezan con `xx`, pero la segunda tiene una `x`, y la tercera una `y`. Por lo tanto, `x` viene antes de `y` en el alfabeto.\n",
    "\n",
    "De esta manera, concluimos que el alfabeto es `zxy`.\n",
    "\n",
    "*Hint:* Si representas las letras como vértices de una gráfica, de modo que una arista entre `X` y `Y` indica que `X` viene antes que `Y`, lo único que tienes que hacer es encontrar un ordenamiento topológico. Piensa entonces cómo traducir las palabras que te dan a dicha gráfica."
   ]
  },
  {
   "cell_type": "markdown",
   "id": "00081550-aa9b-4d34-aa3c-caeb9960189b",
   "metadata": {},
   "source": [
    "*Aquí va la explicación de tu algoritmo*"
   ]
  },
  {
   "cell_type": "code",
   "execution_count": 11,
   "id": "ae74563e-86dd-46f1-b9c8-1d61dd670c83",
   "metadata": {},
   "outputs": [],
   "source": [
    "# Aquí va tu código\n",
    "def dictionary_sort(L):\n",
    "    None"
   ]
  },
  {
   "cell_type": "markdown",
   "id": "69fcf6c8-33e1-456f-a54f-14d249baf0f1",
   "metadata": {},
   "source": [
    "Prueba tu código con la siguiente celda:"
   ]
  },
  {
   "cell_type": "code",
   "execution_count": 18,
   "id": "d20942a2-ac54-4f81-b030-b6e824caa666",
   "metadata": {},
   "outputs": [
    {
     "name": "stdout",
     "output_type": "stream",
     "text": [
      "Ordenamiento esperado: [z, v, x, y, w]. Obtenido: None\n",
      "Ordenamiento esperado: [x, w, y, z]. Obtenido: None\n"
     ]
    }
   ],
   "source": [
    "L = [\"zxy\", \"zxw\",\"vx\",\"vyy\",\"xwyy\"]\n",
    "res = dictionary_sort(L)\n",
    "print(f\"Ordenamiento esperado: [z, v, x, y, w]. Obtenido: {res}\")\n",
    "\n",
    "L = [\"xyy\",\"yxzw\",\"yxzy\",\"zyx\",\"zyw\"]\n",
    "res = dictionary_sort(L)\n",
    "print(f\"Ordenamiento esperado: [x, w, y, z]. Obtenido: {res}\")"
   ]
  }
 ],
 "metadata": {
  "kernelspec": {
   "display_name": "Python 3 (ipykernel)",
   "language": "python",
   "name": "python3"
  },
  "language_info": {
   "codemirror_mode": {
    "name": "ipython",
    "version": 3
   },
   "file_extension": ".py",
   "mimetype": "text/x-python",
   "name": "python",
   "nbconvert_exporter": "python",
   "pygments_lexer": "ipython3",
   "version": "3.8.12"
  }
 },
 "nbformat": 4,
 "nbformat_minor": 5
}
