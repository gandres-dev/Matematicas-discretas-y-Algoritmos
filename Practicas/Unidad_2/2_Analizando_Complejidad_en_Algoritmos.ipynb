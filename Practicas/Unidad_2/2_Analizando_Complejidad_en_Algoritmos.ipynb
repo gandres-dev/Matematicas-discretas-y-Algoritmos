{
 "cells": [
  {
   "cell_type": "markdown",
   "metadata": {
    "colab_type": "text",
    "id": "view-in-github"
   },
   "source": [
    "<a href=\"https://colab.research.google.com/github/RodolfoFigueroa/madi2022-1/blob/main/Unidad_2/2_Analizando_Complejidad_en_Algoritmos.ipynb\" target=\"_parent\"><img src=\"https://colab.research.google.com/assets/colab-badge.svg\" alt=\"Open In Colab\"/></a>"
   ]
  },
  {
   "cell_type": "code",
   "execution_count": 115,
   "metadata": {},
   "outputs": [],
   "source": [
    "import numpy as np\n",
    "import time\n",
    "import networkx as nx\n",
    "\n",
    "import matplotlib.pyplot as plt"
   ]
  },
  {
   "cell_type": "markdown",
   "metadata": {
    "id": "ycgcgz06MxZr"
   },
   "source": [
    "En esta sesión veremos algunos ejemplos de algoritmos (unos nuevos, y otros que ya hemos visto) y analizaremos sus complejidades, ya sea en tiempo, memoria o ambas. Antes, es importante notar algo:\n",
    "\n",
    "**NOTA:** Python utiliza por default `bigint` para representar enteros. Esto significa que los cálculos con números enteros siempre serán exactos, sin importar su magnitud. Sin embargo, las operaciones sobre `bigints` **no** son $O(1)$, ya que dependen de su tamaño.\n",
    "\n",
    "Veamos un ejemplo de esto. La siguiente función calcula $n!$:"
   ]
  },
  {
   "cell_type": "code",
   "execution_count": 65,
   "metadata": {},
   "outputs": [],
   "source": [
    "def my_fac(n):\n",
    "    s = 1\n",
    "    for i in range(1,int(n)+1):\n",
    "        s *= i\n",
    "    return s"
   ]
  },
  {
   "cell_type": "markdown",
   "metadata": {},
   "source": [
    "Claramente, su complejidad es $O(n)$, por lo tanto, esperamos que su gráfica de tiempo vs. $n$ sea una línea recta. Sin embargo, ejecutándola para distintos valores de $n$ y midiendo su tiempo:"
   ]
  },
  {
   "cell_type": "code",
   "execution_count": 127,
   "metadata": {},
   "outputs": [
    {
     "name": "stdout",
     "output_type": "stream",
     "text": [
      "6.97 ns ± 0.0959 ns per loop (mean ± std. dev. of 7 runs, 100000000 loops each)\n"
     ]
    }
   ],
   "source": [
    "res = %timeit -o 1+1"
   ]
  },
  {
   "cell_type": "code",
   "execution_count": 64,
   "metadata": {},
   "outputs": [
    {
     "name": "stdout",
     "output_type": "stream",
     "text": [
      "585 ns ± 7.87 ns per loop (mean ± std. dev. of 7 runs, 1000000 loops each)\n",
      "1.05 µs ± 25.5 ns per loop (mean ± std. dev. of 7 runs, 1000000 loops each)\n",
      "2.1 µs ± 88.9 ns per loop (mean ± std. dev. of 7 runs, 100000 loops each)\n",
      "4.02 µs ± 109 ns per loop (mean ± std. dev. of 7 runs, 100000 loops each)\n",
      "9.23 µs ± 224 ns per loop (mean ± std. dev. of 7 runs, 100000 loops each)\n",
      "22.5 µs ± 976 ns per loop (mean ± std. dev. of 7 runs, 10000 loops each)\n",
      "65.5 µs ± 2.64 µs per loop (mean ± std. dev. of 7 runs, 10000 loops each)\n",
      "223 µs ± 7.69 µs per loop (mean ± std. dev. of 7 runs, 1000 loops each)\n",
      "782 µs ± 19.1 µs per loop (mean ± std. dev. of 7 runs, 1000 loops each)\n",
      "2.81 ms ± 78.1 µs per loop (mean ± std. dev. of 7 runs, 100 loops each)\n",
      "11 ms ± 447 µs per loop (mean ± std. dev. of 7 runs, 100 loops each)\n",
      "41.7 ms ± 1.9 ms per loop (mean ± std. dev. of 7 runs, 10 loops each)\n",
      "166 ms ± 3.99 ms per loop (mean ± std. dev. of 7 runs, 10 loops each)\n",
      "648 ms ± 21.6 ms per loop (mean ± std. dev. of 7 runs, 1 loop each)\n",
      "2.68 s ± 75.2 ms per loop (mean ± std. dev. of 7 runs, 1 loop each)\n"
     ]
    }
   ],
   "source": [
    "times = []\n",
    "ns = np.logspace(1, 5, 15)\n",
    "for n in ns:\n",
    "    res = %timeit -o my_fac(n)\n",
    "    times.append(res.average)"
   ]
  },
  {
   "cell_type": "markdown",
   "metadata": {},
   "source": [
    "Graficando:"
   ]
  },
  {
   "cell_type": "code",
   "execution_count": 66,
   "metadata": {},
   "outputs": [
    {
     "data": {
      "text/plain": [
       "[<matplotlib.lines.Line2D at 0x7f04d7138400>]"
      ]
     },
     "execution_count": 66,
     "metadata": {},
     "output_type": "execute_result"
    },
    {
     "data": {
      "image/png": "[encoded data removed]",
      "text/plain": [
       "<Figure size 432x288 with 1 Axes>"
      ]
     },
     "metadata": {
      "needs_background": "light"
     },
     "output_type": "display_data"
    }
   ],
   "source": [
    "plt.plot(ns, times)"
   ]
  },
  {
   "cell_type": "markdown",
   "metadata": {},
   "source": [
    "Vemos que la gráfica es curva en vez de recta. Para entender por qué pasa esto, usamos la función `bit_length` para ver cuántos bits de memoria ocupan distintos enteros:"
   ]
  },
  {
   "cell_type": "code",
   "execution_count": 68,
   "metadata": {},
   "outputs": [
    {
     "name": "stdout",
     "output_type": "stream",
     "text": [
      "Número de bits de 7: 3\n",
      "Número de bits de 15: 4\n",
      "Número de bits de 32: 6\n",
      "Número de bits de 1023: 10\n",
      "Número de bits de 100000000000000000000: 67\n"
     ]
    }
   ],
   "source": [
    "enteros = [7, 15, 32, 1023, int(1e20)]\n",
    "for i in enteros:\n",
    "    print(f\"Número de bits de {i}: {i.bit_length()}\")"
   ]
  },
  {
   "cell_type": "markdown",
   "metadata": {},
   "source": [
    "Como puede verse, entre más grande el entero, más bits son necesarios para guardarlo. El problema es que la multiplicación de esta clase de números en Python tiene complejidad $O(n^2)$ (o $O(n^{1.58})$ para números muy grandes), donde $n$ es el número de bits. \n",
    "\n",
    "En la mayoría de los casos esto no representa un problema, ya que el tiempo de ejecución es tan bajo que bien podría ser constante. Sin embargo, como estamos multiplicando números hasta $100000!$ (que requiere de un total de 1516688 bits para poder representarse por completo), los costos de ejecución se vuelven mucho más evidentes.\n",
    "\n",
    "En caso de que la precisión no sea tan importante, podemos solucionar este problema usando `float` en vez de `int`. Como `float` tiene un tamaño fijo de 64 bits, la multiplicación siempre toma un tiempo constante:"
   ]
  },
  {
   "cell_type": "code",
   "execution_count": 72,
   "metadata": {},
   "outputs": [],
   "source": [
    "def my_fac_2(n):\n",
    "    s = 1.0\n",
    "    for i in range(1,int(n)+1):\n",
    "        s *= i\n",
    "    return s"
   ]
  },
  {
   "cell_type": "code",
   "execution_count": 73,
   "metadata": {},
   "outputs": [
    {
     "name": "stdout",
     "output_type": "stream",
     "text": [
      "614 ns ± 6.22 ns per loop (mean ± std. dev. of 7 runs, 1000000 loops each)\n",
      "1.06 µs ± 47.8 ns per loop (mean ± std. dev. of 7 runs, 1000000 loops each)\n",
      "1.79 µs ± 78.5 ns per loop (mean ± std. dev. of 7 runs, 1000000 loops each)\n",
      "3.21 µs ± 73.9 ns per loop (mean ± std. dev. of 7 runs, 100000 loops each)\n",
      "6.18 µs ± 109 ns per loop (mean ± std. dev. of 7 runs, 100000 loops each)\n",
      "11.5 µs ± 633 ns per loop (mean ± std. dev. of 7 runs, 100000 loops each)\n",
      "23.1 µs ± 799 ns per loop (mean ± std. dev. of 7 runs, 10000 loops each)\n",
      "49 µs ± 2.37 µs per loop (mean ± std. dev. of 7 runs, 10000 loops each)\n",
      "93.8 µs ± 3.72 µs per loop (mean ± std. dev. of 7 runs, 10000 loops each)\n",
      "177 µs ± 6.02 µs per loop (mean ± std. dev. of 7 runs, 10000 loops each)\n",
      "366 µs ± 16.6 µs per loop (mean ± std. dev. of 7 runs, 1000 loops each)\n",
      "710 µs ± 18.4 µs per loop (mean ± std. dev. of 7 runs, 1000 loops each)\n",
      "1.23 ms ± 21.8 µs per loop (mean ± std. dev. of 7 runs, 1000 loops each)\n",
      "2.46 ms ± 115 µs per loop (mean ± std. dev. of 7 runs, 100 loops each)\n",
      "4.55 ms ± 54 µs per loop (mean ± std. dev. of 7 runs, 100 loops each)\n"
     ]
    }
   ],
   "source": [
    "times = []\n",
    "ns = np.logspace(1, 5, 15)\n",
    "for n in ns:\n",
    "    res = %timeit -o my_fac_2(n)\n",
    "    times.append(res.average)"
   ]
  },
  {
   "cell_type": "code",
   "execution_count": 74,
   "metadata": {},
   "outputs": [
    {
     "data": {
      "text/plain": [
       "[<matplotlib.lines.Line2D at 0x7f04cecc8160>]"
      ]
     },
     "execution_count": 74,
     "metadata": {},
     "output_type": "execute_result"
    },
    {
     "data": {
      "image/png": "[encoded data removed]",
      "text/plain": [
       "<Figure size 432x288 with 1 Axes>"
      ]
     },
     "metadata": {
      "needs_background": "light"
     },
     "output_type": "display_data"
    }
   ],
   "source": [
    "plt.plot(ns, times)"
   ]
  },
  {
   "cell_type": "markdown",
   "metadata": {
    "id": "d1iAEuxWNdvN"
   },
   "source": [
    "# Ejemplos\n",
    "\n",
    "## Ejemplo 1\n",
    "\n",
    "En la práctica de inducción, teníamos el siguiente problema:\n",
    "\n",
    "Encuentra el valor de $$\\Big\\lfloor \\frac{1}{2}\\Big \\rfloor + \\Big\\lfloor \\frac{2}{2}\\Big \\rfloor + \\cdots + \\Big\\lfloor \\frac{n}{2}\\Big \\rfloor$$\n",
    "\n",
    "Este problema se puede resolver de forma sencilla utilizando un bucle `for`:"
   ]
  },
  {
   "cell_type": "code",
   "execution_count": 86,
   "metadata": {},
   "outputs": [],
   "source": [
    "def floor_sum(n):\n",
    "    s = 0\n",
    "    for i in range(n+1):\n",
    "        s += i//2\n",
    "    return s"
   ]
  },
  {
   "cell_type": "markdown",
   "metadata": {
    "id": "d1iAEuxWNdvN"
   },
   "source": [
    "En tiempo, es $O(n)$, pues estamos haciendo $n$ operaciones, una en cada ciclo. En memoria, es constante, pues lo único que tenemos que ir recordando es el valor de la suma en cada momento, es decir, es $O(1)$.\n",
    "\n",
    "Nosotros habíamos encontrado una expresión cerrada para esta suma, con la cual podemos escribir otra función:"
   ]
  },
  {
   "cell_type": "code",
   "execution_count": 87,
   "metadata": {},
   "outputs": [],
   "source": [
    "def floor_sum_2(n):\n",
    "    return (n//2) * ((n+1)//2)"
   ]
  },
  {
   "cell_type": "markdown",
   "metadata": {
    "id": "d1iAEuxWNdvN"
   },
   "source": [
    "En este caso, la complejidad tanto en tiempo como en espacio es $O(1)$, ya que solo tenemos que realizar una operación sin importar el tamaño de la entrada."
   ]
  },
  {
   "cell_type": "markdown",
   "metadata": {
    "id": "PHBjq3mPPedF"
   },
   "source": [
    "## Ejemplo 2\n",
    "\n",
    "Pasemos a un ejemplo más interesante. Supongamos que tenemos que diseñar un algoritmo tal que dado un entero positivo $n$ y un número real $x$, tenemos que encontrar el valor de $x^n$, pero utilizando únicamente operaciones básicas (suma, resta, multiplicación y división).\n",
    "\n",
    "Un primer algoritmo para hacer esto sería lo siguiente:"
   ]
  },
  {
   "cell_type": "code",
   "execution_count": 92,
   "metadata": {
    "colab": {
     "base_uri": "https://localhost:8080/",
     "height": 185
    },
    "id": "aSFCHyjjP_PW",
    "outputId": "7ac043b7-ce4f-4c84-9d92-caf1b85d6bdd"
   },
   "outputs": [
    {
     "data": {
      "text/plain": [
       "1024"
      ]
     },
     "execution_count": 92,
     "metadata": {},
     "output_type": "execute_result"
    }
   ],
   "source": [
    "def potencia(x, n):\n",
    "    p = x\n",
    "    for i in range(2, n+1):\n",
    "        p *= x\n",
    "    return p\n",
    "\n",
    "potencia(2,10)"
   ]
  },
  {
   "cell_type": "markdown",
   "metadata": {
    "id": "-xa3l1h7YSoo"
   },
   "source": [
    "¿Cuáles son las complejidades de este algoritmo? En tiempo, nos toma $O(n)$, pues estamos iterando $n$ veces y en cada una hacemos una cantidad constante de operaciones, mientras que es constante en memoria, pues sólo actualizamos el valor de $p$ en cada iteración. \n",
    "\n",
    "¿Cómo podemos optimizar este algoritmo? Notemos que si $n = 2k$, entonces $x^n = (x^k)^2$, mientras que si $n = 2k+1$, $x^n = (x^k)^2 \\cdot x$. Usemos esto para obtener un algoritmo que sea mejor en cuanto a tiempo de ejecución."
   ]
  },
  {
   "cell_type": "code",
   "execution_count": null,
   "metadata": {},
   "outputs": [],
   "source": []
  },
  {
   "cell_type": "code",
   "execution_count": 94,
   "metadata": {
    "colab": {
     "base_uri": "https://localhost:8080/",
     "height": 34
    },
    "id": "KCsN1Fn62G9j",
    "outputId": "bf921934-3e9b-4ac9-9904-68416f89bde8"
   },
   "outputs": [
    {
     "data": {
      "text/plain": [
       "1024"
      ]
     },
     "execution_count": 94,
     "metadata": {},
     "output_type": "execute_result"
    }
   ],
   "source": [
    "def potencia_2(x, n):\n",
    "    if n == 1:\n",
    "        return x\n",
    "    \n",
    "    p = potencia_2(x, n//2)\n",
    "    \n",
    "    if n%2 == 0:\n",
    "        return p*p\n",
    "    else:\n",
    "        return x*p*p\n",
    "\n",
    "potencia_2(2, 10)"
   ]
  },
  {
   "cell_type": "markdown",
   "metadata": {
    "id": "3Q-ElBFw3Kyl"
   },
   "source": [
    "El tiempo de ejecución disminuye considerablemente, pues hacemos un promedio de $log_2(n)$ iteraciones, en donde hacemos una cantidad constante de operaciones en cada iteración, por lo que la complejidad en tiempo del algoritmo es $O(log(n))$. Sin embargo, la complejidad en cuanto a memoria se ve afectada, ya que nuestra pila de recursión alcanza un promedio de $log_2(n)$ de profundidad, lo que hace que la complejidad de nuestro nuevo algoritmo en memoria sea $O(log(n))$.\n",
    "\n",
    "Este ejemplo ilustra algo que es muy común en análisis de algoritmos, en muchas ocasiones es conveniente sacrificar un poco de memoria a cambio de una gran mejora en el tiempo de ejecución, pues bajar el tiempo de $O(n)$ a $O(log(n))$ es una gran mejora, mientras que aumentar la complejidad en espacio de $O(1)$ a $O(log(n))$ no es tan significativo. La programación dinámica nos permite trabajar situaciones similares, donde almacenar valores suele ser muy conveniente para poder mejorar el tiempo de ejecución de los algoritmos."
   ]
  },
  {
   "cell_type": "markdown",
   "metadata": {
    "id": "JZklEwUr6tWG"
   },
   "source": [
    "## Ejemplo 3\n",
    "\n",
    "Recordemos una sucesión de la que hemos hablado en el pasado: la sucesión de Fibonacci. Supongamos que se nos pide encontrar el $n-$ésimo valor de esta sucesión, es decir, $F_n$.\n",
    "\n",
    "Un primer algoritmo para hacer esto, sería hacer una recursión que calcule los valores de Fibonacci:"
   ]
  },
  {
   "cell_type": "code",
   "execution_count": 96,
   "metadata": {
    "colab": {
     "base_uri": "https://localhost:8080/",
     "height": 34
    },
    "id": "S8O5d2rmLQ9u",
    "outputId": "695f221d-f655-4067-cad5-d2f5b09aca47"
   },
   "outputs": [
    {
     "data": {
      "text/plain": [
       "21"
      ]
     },
     "execution_count": 96,
     "metadata": {},
     "output_type": "execute_result"
    }
   ],
   "source": [
    "def fib(n):\n",
    "    if n == 0:\n",
    "        return 0\n",
    "    if n == 1:\n",
    "        return 1\n",
    "    return fib(n-1) + fib(n-2)\n",
    "\n",
    "fib(8)"
   ]
  },
  {
   "cell_type": "markdown",
   "metadata": {
    "id": "ou_KVtjdLy6K"
   },
   "source": [
    "¿Cuáles son las complejidades de este algoritmo? Notemos que la pila de recursión tiene como longitud máxima $n$, y como no guardamos variables, se concluye que la complejidad en memoria del algoritmo es $O(n)$. Ahora, como para cada $n > 1$, requerimos llamar a la función `fib` dos veces, se concluye que la complejidad en tiempo es $O(2^n)$.\n",
    "\n",
    "¿Cómo mejorar esto? ¿Qué pasa si guardamos los valores de los números de Fibonacci que vamos calculando? Es decir, guardamos el valor de $F_k$ la primera vez que llamemos a $fib(k)$."
   ]
  },
  {
   "cell_type": "code",
   "execution_count": 113,
   "metadata": {
    "colab": {
     "base_uri": "https://localhost:8080/",
     "height": 50
    },
    "id": "N9ZIbGlVNY3K",
    "outputId": "8a955581-818d-4280-d664-eff4917167d7"
   },
   "outputs": [
    {
     "data": {
      "text/plain": [
       "21"
      ]
     },
     "execution_count": 113,
     "metadata": {},
     "output_type": "execute_result"
    }
   ],
   "source": [
    "def fib2(k, Fs=None):\n",
    "    if Fs is None:\n",
    "        Fs = [None] * (k+1)\n",
    "\n",
    "    if k == 0:\n",
    "        return 0\n",
    "    elif k == 1:\n",
    "        return 1\n",
    "    \n",
    "    if Fs[k] is not None:\n",
    "        return Fs[k]\n",
    "    else:\n",
    "        Fs[k] = fib2(k-1, Fs=Fs) + fib2(k-2, Fs=Fs) \n",
    "        return Fs[k]\n",
    "\n",
    "fib2(8)"
   ]
  },
  {
   "cell_type": "markdown",
   "metadata": {
    "id": "qXP88u6qO3YU"
   },
   "source": [
    "¿Cuáles son las complejidades de este algoritmo? En cuanto a memoria, tenemos lo mismo que en el algoritmo anterior en la pila de recursión, y además estamos agregando $Fs[]$, pero tiene una cantidad lineal de entradas, por lo que la complejidad en espacio sigue siendo $O(n)$. La complejidad en tiempo mejora considerablemente, pues ahora $fib(k)$ llama a $fib(k-1), fib(k-2)$ únicamente una vez,  lo que permite que la complejidad ahora sea $O(n)$.\n",
    "\n",
    "A esta técnica de guardar los resultados de una función para utilizarlos después se le conoce como *memoización*.\n",
    "\n",
    "Estos algoritmos nos permiten encontrar el valor de $F_n$ de manera recursiva, ¿lo podemos hacer de forma iterativa? Es decir, de atrás para adelante. Sí podemos:"
   ]
  },
  {
   "cell_type": "code",
   "execution_count": 114,
   "metadata": {
    "colab": {
     "base_uri": "https://localhost:8080/",
     "height": 34
    },
    "id": "Byezw4CKQ5M6",
    "outputId": "042f9948-6e00-45a4-cd7b-43fbfecca514"
   },
   "outputs": [
    {
     "data": {
      "text/plain": [
       "21"
      ]
     },
     "execution_count": 114,
     "metadata": {},
     "output_type": "execute_result"
    }
   ],
   "source": [
    "def fib3(n):\n",
    "    if n == 0:\n",
    "        return 0\n",
    "    elif n == 1:\n",
    "        return 1\n",
    "    \n",
    "    c = 1\n",
    "    k1 = 0\n",
    "    k2 = 1\n",
    "    while c != n:\n",
    "        t = k1\n",
    "        k1 = k2\n",
    "        k2 = t + k1\n",
    "        c = c+1\n",
    "    return k2\n",
    "\n",
    "fib3(8)"
   ]
  },
  {
   "cell_type": "markdown",
   "metadata": {
    "id": "HnyMLqfeRvza"
   },
   "source": [
    "¿Cuáles son las complejidades de este algoritmo? En cuanto a memoria, notemos que ocupamos constante en la pila de recursión (llamamos sólo una vez a $fib3(n)$), y nuestras únicas variables son $c, k1, k2$, por lo que la complejidad en espacio es $O(1)$. La complejidad en tiempo es $O(n)$, pues hacemos el $while$ hasta llegar a $n$, sumando $1$ a $c$ en cada paso. \n",
    "\n",
    "Esto nos muestra algo que también es bastante común, hacer un algoritmo de forma iterativa suele hacerlo más eficiente, ya sea en espacio, en tiempo o ambas. Sin embargo, muchas veces es muy complicado pasar de algo recursivo a algo iterativo."
   ]
  },
  {
   "cell_type": "markdown",
   "metadata": {
    "id": "yaR8YMk7PruC"
   },
   "source": [
    "## Ejemplo 4\n",
    "\n",
    "Analicemos las complejidades de el algoritmo de DFS, que vimos anteriormente. Recordemos el cómo era este algoritmo, exploramos los caminos de la gráfica hasta llegar a algún vértice que ya había sido visitado, y nos regresamos al vértice anterior para continuar explorando:"
   ]
  },
  {
   "cell_type": "code",
   "execution_count": 120,
   "metadata": {
    "id": "EGuqGML5TDgZ"
   },
   "outputs": [
    {
     "name": "stdout",
     "output_type": "stream",
     "text": [
      "[(0, 3), (0, 4), (0, 5), (0, 6), (0, 7), (1, 2), (1, 4), (1, 7), (3, 4), (4, 5)] \n",
      "\n"
     ]
    },
    {
     "data": {
      "image/png": "[encoded data removed]",
      "text/plain": [
       "<Figure size 432x288 with 1 Axes>"
      ]
     },
     "metadata": {},
     "output_type": "display_data"
    }
   ],
   "source": [
    "n = 8\n",
    "p = 1/3\n",
    "\n",
    "G = nx.gnp_random_graph(n, p)\n",
    "print(G.edges, '\\n')\n",
    "nx.draw(G, with_labels=True, font_weight='bold')"
   ]
  },
  {
   "cell_type": "code",
   "execution_count": 121,
   "metadata": {
    "id": "EGuqGML5TDgZ"
   },
   "outputs": [
    {
     "name": "stdout",
     "output_type": "stream",
     "text": [
      "0\n",
      "3\n",
      "4\n",
      "1\n",
      "2\n",
      "7\n",
      "5\n",
      "6\n"
     ]
    }
   ],
   "source": [
    "def dfs(g, v, visited=None):\n",
    "    if visited is None:\n",
    "        visited = [False] * len(g.nodes)\n",
    "        \n",
    "    visited[v] = True\n",
    "    print(v) # Aquí puede ir cualquier otra cosa\n",
    "    for u in g.adj[v]:\n",
    "        if not visited[u]:\n",
    "            dfs(g, u, visited)\n",
    "            \n",
    "dfs(G, 0)"
   ]
  },
  {
   "cell_type": "markdown",
   "metadata": {
    "id": "sz0PXE24TUlQ"
   },
   "source": [
    "Estamos analizando la complejidad únicamente del algoritmo, es decir, podemos omitir por el momento el espacio que ocupa la gráfica $G$ por sí misma. Sea $n$ la cantidad de vértices y $m$ la cantidad de aristas. En cuanto a memoria, tenemos el vector `visited` que guarda $n$ valores, y en cuanto a la pila de recursión, podría darse el caso en el que se llegue a una profundidad de $n$, entonces, la complejidad en espacio es $O(n)$. Para la complejidad en tiempo, notemos que cada arista puede ser usada a lo más una vez, y exploramos a partir de cada vértice exactamente una vez, por lo que la complejidad en tiempo de DFS es $O(n + m)$."
   ]
  },
  {
   "cell_type": "markdown",
   "metadata": {
    "id": "79t_wVyqUYcX"
   },
   "source": [
    "# Ejercicios\n",
    "\n",
    "## Ejercicio 1\n",
    "\n",
    "Determina las complejidades en tiempo y espacio del algoritmo de BFS visto en clases pasadas:"
   ]
  },
  {
   "cell_type": "code",
   "execution_count": 122,
   "metadata": {},
   "outputs": [],
   "source": [
    "from collections import deque\n",
    "\n",
    "def bfs(g, v):\n",
    "    visited = [False] * len(g.nodes)\n",
    "    q = deque()\n",
    "    visited[v] = True\n",
    "    q.append(v)\n",
    "    \n",
    "    while(q):\n",
    "        u = q.popleft()\n",
    "        print(u) # Pueden hacer lo que quieran\n",
    "        for w in g.adj[u]:\n",
    "            if not visited[w]:\n",
    "                visited[w] = True\n",
    "                q.append(w)"
   ]
  },
  {
   "cell_type": "markdown",
   "metadata": {},
   "source": [
    "*Aquí va tu demostración*"
   ]
  },
  {
   "cell_type": "markdown",
   "metadata": {
    "id": "79t_wVyqUYcX"
   },
   "source": [
    "## Ejercicio 2\n",
    "\n",
    "Considera el siguiente problema: Dado un entero $n$, encuentra el valor de $1! + 2! + \\cdots + n!$. \n",
    "\n",
    "  a)   Describe e implementa un algoritmo que tenga complejidad $O(1)$ en espacio, ¿cuál es su complejidad en tiempo? \n",
    "  \n",
    "  b)   Describe e implementa un algoritmo que tenga complejidad $O(n)$ en tiempo, ¿cuál es su complejidad en espacio?"
   ]
  },
  {
   "cell_type": "markdown",
   "metadata": {
    "id": "-Kn6pfGpecXx"
   },
   "source": [
    "a) *Describe aquí el algoritmo solicitado*"
   ]
  },
  {
   "cell_type": "code",
   "execution_count": 123,
   "metadata": {
    "id": "Uw83N-QJfXcB"
   },
   "outputs": [],
   "source": [
    "#(Aquí va el código de la implementación del algoritmo que describiste en la celda anterior)"
   ]
  },
  {
   "cell_type": "markdown",
   "metadata": {
    "id": "SLs0OWpafdm5"
   },
   "source": [
    "b) *Describe aquí el algoritmo solicitado.*"
   ]
  },
  {
   "cell_type": "code",
   "execution_count": null,
   "metadata": {
    "id": "xBs5UuNdfdv8"
   },
   "outputs": [],
   "source": [
    "#(Aquí va el código de la implementación del algoritmo que describiste en la celda anterior)"
   ]
  }
 ],
 "metadata": {
  "colab": {
   "collapsed_sections": [],
   "include_colab_link": true,
   "name": "Analizando Complejidad en Algoritmos.ipynb",
   "provenance": []
  },
  "kernelspec": {
   "display_name": "Python 3 (ipykernel)",
   "language": "python",
   "name": "python3"
  },
  "language_info": {
   "codemirror_mode": {
    "name": "ipython",
    "version": 3
   },
   "file_extension": ".py",
   "mimetype": "text/x-python",
   "name": "python",
   "nbconvert_exporter": "python",
   "pygments_lexer": "ipython3",
   "version": "3.8.8"
  }
 },
 "nbformat": 4,
 "nbformat_minor": 4
}
