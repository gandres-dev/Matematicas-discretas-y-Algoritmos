{
 "cells": [
  {
   "cell_type": "markdown",
   "id": "f00c2f8c-2714-44e4-8980-af4da8cff8b1",
   "metadata": {},
   "source": [
    "<a href=\"https://colab.research.google.com/github/RodolfoFigueroa/madi2022-1/blob/main/Unidad_2/3_Programacion_orientada_a_objetos.ipynb\" target=\"_parent\"><img src=\"https://colab.research.google.com/assets/colab-badge.svg\" alt=\"Open In Colab\"/></a>"
   ]
  },
  {
   "cell_type": "markdown",
   "id": "52f71f5b-f97d-44c2-a696-30cd9a6e6bc9",
   "metadata": {},
   "source": [
    "# Ejercicios\n",
    "\n",
    "## Ejercicio 1\n",
    "\n",
    "Crea una clase `Mazo` que defina un mazo de cartas de la baraja inglesa. Cada carta debe de ser a su vez un objeto de tipo `Carta`. Tu mazo debe de tener los siguientes atributos y métodos.\n",
    "\n",
    "* `cartas`: Cartas en el mazo.\n",
    "* `reparte(n)`: Función que regresa `n` cartas al azar del mazo. Una vez que las regresa, son eliminadas de la lista de cartas.\n",
    "* `revuelve()`: Reinicia el mazo de modo que vuelva a tener las 52 cartas de la baraja inglesa.\n",
    "* `busca(n, p)`: Determina si la carta con número `n` y palo `p` está presente en el mazo. Si sí está, la regresa y la quita del mazo.\n",
    "\n",
    "Por otro lado, las cartas deben estar estructuradas de la siguiente forma:\n",
    "\n",
    "* `palo`: Palo de la carta.\n",
    "* `valor`: Valor de la carta (para las figuras puedes usar 11, 12 y 13).\n",
    "\n",
    "Finalmente, redefine el método `__repr__` de modo que al imprimir una carta se impriman su palo y valor, y al imprimir un mazo se impriman todas las cartas que contiene, agrupadas por palos y en orden numérico (i.e. `1 Corazón, 2 Corazón, 3 Corazón..., 1 Trébol, 2 Trébol, ...`)."
   ]
  },
  {
   "cell_type": "code",
   "execution_count": 154,
   "id": "62da790c-ecd8-49d4-a565-82957f486e32",
   "metadata": {},
   "outputs": [],
   "source": [
    "# Aquí va tu código\n",
    "import random\n",
    "\n",
    "class Carta:\n",
    "    \n",
    "    def __init__(self, valor, palo, color):\n",
    "        self.palo = palo\n",
    "        self.valor = valor\n",
    "        self.color = color\n",
    "    \n",
    "    def __repr__(self):\n",
    "        return f'{self.valor} {self.color} {self.palo} '\n",
    "        pass    \n",
    "    \n",
    "class Mazo():\n",
    "    \n",
    "    def __init__(self):\n",
    "        self.cartas = self.revuelve()                                \n",
    "    \n",
    "    def reparte(self):\n",
    "        \"\"\"Función que regresa n cartas al azar del mazo. Una vez que las\n",
    "        regresa, son eliminadas de la lista de cartas.\"\"\"\n",
    "        \n",
    "        n = []\n",
    "        for i in range(5):\n",
    "            indice = random.randint(0,len(self.cartas)-1)\n",
    "            carta = self.cartas.pop(indice)\n",
    "            n.append(carta)\n",
    "        return n\n",
    "            \n",
    "    def revuelve(self):\n",
    "        \"\"\"Reinicia el mazo de modo que vuelva a tener las 52 cartas de la\n",
    "        baraja inglesa.\"\"\"\n",
    "\n",
    "        cartas = []\n",
    "        palos = ['Corazon', 'Diamantes', 'Trebol', 'Pica']\n",
    "        figuras = ['Rey', 'Reina', 'Jota']\n",
    "\n",
    "        # Cartas rojas Corazon\n",
    "        for num in range(1,11):            \n",
    "            cartas.append(Carta(num, palos[0], \"Roja\"))\n",
    "        cartas.append(Carta(11,figuras[0], \"Roja\"))\n",
    "        cartas.append(Carta(12,figuras[1], \"Roja\"))\n",
    "        cartas.append(Carta(13,figuras[2], \"Roja\"))\n",
    "            \n",
    "        # Cartas rojas Diamantes\n",
    "        for num in range(1,11):            \n",
    "            cartas.append(Carta(num, palos[1], \"Roja\"))\n",
    "        cartas.append(Carta(11,figuras[0], \"Roja\"))\n",
    "        cartas.append(Carta(12,figuras[1], \"Roja\"))\n",
    "        cartas.append(Carta(13,figuras[2], \"Roja\"))\n",
    "            \n",
    "        # Cartas negras Trebol\n",
    "        for num in range(1,11):            \n",
    "            cartas.append(Carta(num, palos[2], \"Negra\"))\n",
    "        cartas.append(Carta(11, figuras[0], \"Negra\"))\n",
    "        cartas.append(Carta(12, figuras[1], \"Negra\"))\n",
    "        cartas.append(Carta(13, figuras[2], \"Negra\"))\n",
    "\n",
    "        # Cartas negras Pica\n",
    "        for num in range(1,11):            \n",
    "            cartas.append(Carta(num, palos[3], \"Negra\"))\n",
    "        cartas.append(Carta(11, figuras[0], \"Negra\"))\n",
    "        cartas.append(Carta(12, figuras[1], \"Negra\"))\n",
    "        cartas.append(Carta(13, figuras[2], \"Negra\"))\n",
    "\n",
    "        return cartas\n",
    "        \n",
    "    def buscar(self, n, p):\n",
    "        \"\"\"Determina si la carta con número n y palo p está presente en el\n",
    "        mazo. Si sí está, la regresa y la quita del mazo.\"\"\"\n",
    "        \n",
    "        carta_aux = Carta(n, p, \"\")\n",
    "        for carta in self.cartas:\n",
    "            if carta_aux.valor == carta.valor and carta_aux.palo == carta.palo:\n",
    "                return carta\n",
    "        return None\n",
    "    \n",
    "    def __repr__(self):\n",
    "        string = ''\n",
    "        for carta in self.cartas:\n",
    "            string += repr(carta)\n",
    "        return string\n"
   ]
  },
  {
   "cell_type": "code",
   "execution_count": 156,
   "id": "dcb27ea9",
   "metadata": {},
   "outputs": [
    {
     "name": "stdout",
     "output_type": "stream",
     "text": [
      "1 Roja Corazon 2 Roja Corazon 3 Roja Corazon 4 Roja Corazon 5 Roja Corazon 6 Roja Corazon 7 Roja Corazon 8 Roja Corazon 9 Roja Corazon 10 Roja Corazon 11 Roja Rey 12 Roja Reina 13 Roja Jota 1 Roja Diamantes 2 Roja Diamantes 3 Roja Diamantes 4 Roja Diamantes 5 Roja Diamantes 6 Roja Diamantes 7 Roja Diamantes 8 Roja Diamantes 9 Roja Diamantes 10 Roja Diamantes 11 Roja Rey 12 Roja Reina 13 Roja Jota 1 Negra Trebol 2 Negra Trebol 3 Negra Trebol 4 Negra Trebol 5 Negra Trebol 6 Negra Trebol 7 Negra Trebol 8 Negra Trebol 9 Negra Trebol 10 Negra Trebol 11 Negra Rey 12 Negra Reina 13 Negra Jota 1 Negra Pica 2 Negra Pica 3 Negra Pica 4 Negra Pica 5 Negra Pica 6 Negra Pica 7 Negra Pica 8 Negra Pica 9 Negra Pica 10 Negra Pica 11 Negra Rey 12 Negra Reina 13 Negra Jota \n",
      "1 Roja Corazon \n"
     ]
    },
    {
     "data": {
      "text/plain": [
       "1 Roja Corazon "
      ]
     },
     "execution_count": 156,
     "metadata": {},
     "output_type": "execute_result"
    }
   ],
   "source": [
    "mazo = Mazo()\n",
    "print(mazo)\n",
    "carta = Carta(1, 'Corazon', 'Roja')\n",
    "print(carta)\n",
    "mazo.buscar(1, 'Corazon')\n"
   ]
  },
  {
   "cell_type": "markdown",
   "id": "1f2c162d-49fb-4a12-881d-5c863dda73d5",
   "metadata": {},
   "source": [
    "## Ejercicio 2\n",
    "\n",
    "Define una clase `Rectangulo` que represente un rectángulo. El constructor debe de aceptar las coordenadas de su esquina inferior izquierda y su esquina superior derecha. Los métodos y atributos que debe de tener son los siguientes:\n",
    "\n",
    "* `p1`: Coordenadas de la esquina inferior izquierda.\n",
    "* `p2`: Coordenadas de la esquina superior derecha.\n",
    "* `alto()`\n",
    "* `ancho()`\n",
    "* `perimetro()`\n",
    "* `area()`\n",
    "\n",
    "Posteriormente, define una clase `Cuadrado` que herede de `Rectángulo`. En este caso, el constructor debe de aceptar las coordenadas de la esquina inferior izquierda, y el tamaño del lado del cuadrado."
   ]
  },
  {
   "cell_type": "code",
   "execution_count": 62,
   "id": "8e03f695-2493-40f5-a9b9-02b9a2b33203",
   "metadata": {},
   "outputs": [],
   "source": [
    "\n",
    "class Rectangulo:\n",
    "    \n",
    "    def __init__(self, p1, p2):\n",
    "        self.p1 = p1\n",
    "        self.p2 = p2\n",
    "\n",
    "    def alto(self):\n",
    "        return self.p2[1] - self.p1[1]\n",
    "\n",
    "    def ancho(self):\n",
    "        return self.p2[0] - self.p1[0]\n",
    "    \n",
    "    def perimetro(self):\n",
    "        return 2 * self.ancho() + 2 * self.alto()\n",
    "\n",
    "    def area(self):\n",
    "        return self.ancho() * self.alto()\n",
    "\n",
    "\n",
    "class Cuadrado(Rectangulo):\n",
    "\n",
    "    def __init__(self, p1, p2, lado):\n",
    "        super().__init__(p1, p2)\n",
    "        self.lado = lado\n",
    "    pass\n"
   ]
  },
  {
   "cell_type": "code",
   "execution_count": 63,
   "id": "e47a1d3c",
   "metadata": {},
   "outputs": [
    {
     "name": "stdout",
     "output_type": "stream",
     "text": [
      "4\n",
      "5\n",
      "18\n",
      "20\n"
     ]
    }
   ],
   "source": [
    "rect = Rectangulo((1,2), (5,7))\n",
    "print(rect.ancho())\n",
    "print(rect.alto())\n",
    "print(rect.perimetro())\n",
    "print(rect.area())"
   ]
  }
 ],
 "metadata": {
  "kernelspec": {
   "display_name": "Python 3",
   "language": "python",
   "name": "python3"
  },
  "language_info": {
   "codemirror_mode": {
    "name": "ipython",
    "version": 3
   },
   "file_extension": ".py",
   "mimetype": "text/x-python",
   "name": "python",
   "nbconvert_exporter": "python",
   "pygments_lexer": "ipython3",
   "version": "3.8.8"
  }
 },
 "nbformat": 4,
 "nbformat_minor": 5
}
