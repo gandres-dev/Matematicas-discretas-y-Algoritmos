{
 "cells": [
  {
   "cell_type": "markdown",
   "id": "f00c2f8c-2714-44e4-8980-af4da8cff8b1",
   "metadata": {},
   "source": [
    "<a href=\"https://colab.research.google.com/github/RodolfoFigueroa/madi2022-1/blob/main/Unidad_2/3_Programacion_orientada_a_objetos.ipynb\" target=\"_parent\"><img src=\"https://colab.research.google.com/assets/colab-badge.svg\" alt=\"Open In Colab\"/></a>"
   ]
  },
  {
   "cell_type": "markdown",
   "id": "52f71f5b-f97d-44c2-a696-30cd9a6e6bc9",
   "metadata": {},
   "source": [
    "# Ejercicios\n",
    "\n",
    "## Ejercicio 1\n",
    "\n",
    "Crea una clase `Mazo` que defina un mazo de cartas de la baraja inglesa. Cada carta debe de ser a su vez un objeto de tipo `Carta`. Tu mazo debe de tener los siguientes atributos y métodos.\n",
    "\n",
    "* `cartas`: Cartas en el mazo.\n",
    "* `reparte(n)`: Función que regresa `n` cartas al azar del mazo. Una vez que las regresa, son eliminadas de la lista de cartas.\n",
    "* `revuelve()`: Reinicia el mazo de modo que vuelva a tener las 52 cartas de la baraja inglesa.\n",
    "* `busca(n, p)`: Determina si la carta con número `n` y palo `p` está presente en el mazo. Si sí está, la regresa y la quita del mazo.\n",
    "\n",
    "Por otro lado, las cartas deben estar estructuradas de la siguiente forma:\n",
    "\n",
    "* `palo`: Palo de la carta.\n",
    "* `valor`: Valor de la carta (para las figuras puedes usar 11, 12 y 13).\n",
    "\n",
    "Finalmente, redefine el método `__repr__` de modo que al imprimir una carta se impriman su palo y valor, y al imprimir un mazo se impriman todas las cartas que contiene, agrupadas por palos y en orden numérico (i.e. `1 Corazón, 2 Corazón, 3 Corazón..., 1 Trébol, 2 Trébol, ...`)."
   ]
  },
  {
   "cell_type": "code",
   "execution_count": null,
   "id": "62da790c-ecd8-49d4-a565-82957f486e32",
   "metadata": {},
   "outputs": [],
   "source": [
    "# Aquí va tu código"
   ]
  },
  {
   "cell_type": "markdown",
   "id": "1f2c162d-49fb-4a12-881d-5c863dda73d5",
   "metadata": {},
   "source": [
    "## Ejercicio 2\n",
    "\n",
    "Define una clase `Rectangulo` que represente un rectángulo. El constructor debe de aceptar las coordenadas de su esquina inferior izquierda y su esquina superior derecha. Los métodos y atributos que debe de tener son los siguientes:\n",
    "\n",
    "* `p1`: Coordenadas de la esquina inferior izquierda.\n",
    "* `p2`: Coordenadas de la esquina superior derecha.\n",
    "* `alto()`\n",
    "* `ancho()`\n",
    "* `perimetro()`\n",
    "* `area()`\n",
    "\n",
    "Posteriormente, define una clase `Cuadrado` que herede de `Rectángulo`. En este caso, el constructor debe de aceptar las coordenadas de la esquina inferior izquierda, y el tamaño del lado del cuadrado."
   ]
  },
  {
   "cell_type": "code",
   "execution_count": null,
   "id": "8e03f695-2493-40f5-a9b9-02b9a2b33203",
   "metadata": {},
   "outputs": [],
   "source": []
  }
 ],
 "metadata": {
  "kernelspec": {
   "display_name": "Python 3 (ipykernel)",
   "language": "python",
   "name": "python3"
  },
  "language_info": {
   "codemirror_mode": {
    "name": "ipython",
    "version": 3
   },
   "file_extension": ".py",
   "mimetype": "text/x-python",
   "name": "python",
   "nbconvert_exporter": "python",
   "pygments_lexer": "ipython3",
   "version": "3.8.8"
  }
 },
 "nbformat": 4,
 "nbformat_minor": 5
}
