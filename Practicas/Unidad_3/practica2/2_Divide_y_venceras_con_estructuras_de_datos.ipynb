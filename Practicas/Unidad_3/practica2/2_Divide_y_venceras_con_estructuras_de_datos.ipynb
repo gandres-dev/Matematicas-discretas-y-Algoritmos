{
 "cells": [
  {
   "cell_type": "markdown",
   "metadata": {
    "colab_type": "text",
    "id": "view-in-github"
   },
   "source": [
    "<a href=\"https://colab.research.google.com/github/RodolfoFigueroa/madi2022-1/blob/main/Unidad_3/2_Divide_y_venceras_con_estructuras_de_datos.ipynb\" target=\"_parent\"><img src=\"https://colab.research.google.com/assets/colab-badge.svg\" alt=\"Open In Colab\"/></a>"
   ]
  },
  {
   "cell_type": "code",
   "execution_count": 56,
   "metadata": {},
   "outputs": [],
   "source": [
    "import numpy as np"
   ]
  },
  {
   "cell_type": "markdown",
   "metadata": {
    "id": "rJmUt3n2uYWJ"
   },
   "source": [
    "En esta sesión, veremos dos estructuras de datos que están muy ligadas a las ideas de los algoritmos de divide y vencerás, que suelen ser muy útiles para realizar operaciones que suelen requerirse bastante."
   ]
  },
  {
   "cell_type": "markdown",
   "metadata": {
    "id": "tKoBPnksvBZ9"
   },
   "source": [
    "# Trie\n",
    "\n",
    "Consideremos el siguiente problema. Dadas dos palabras, decimos que su \"similitud\" es el mayor número de letras iniciales en las que coinciden, es decir, es el tamaño del prefijo común más grande entre ambas palabras. Dado un conjunto de palabras $C$, ,y una nueva palabra, $s$, queremos saber la mayor similitud posible con alguna letra del conjunto. \n",
    "\n",
    "¿Cómo proceder? Una forma de hacerlo es haciendo una búsqueda exhaustiva, donde para cada palabra de $C$ la comparamos con la palabra $s$, y vamos verificando letra por letra los prefijos hasta que dejen de coincidir. Podemos acotar la complejidad en tiempo por $O(|C|\\cdot |s|)$. ¿Qué pasa si queremos repetir el proceso para una cantidad muy grande de palabras s?\n",
    "\n",
    "Otra forma de atacar el problema sería ordenar las palabras en orden alfabético, incluyendo a $s$, y posteriormente comparar a $s$ con las palabras vecinas en el ordenamiento (queda como ejercicio probar que en efecto uno de sus vecinos es la palabra que cumple tener mayor similitud con $s$). ¿Qué complejidad tiene esto?\n",
    "\n",
    "La forma que veremos introduce una estructura, que resulta ser muy poderosa para este tipo de problemas, es un árbol especial, que tiene por nombre *trie*. Un trie es un árbol donde cada nodo puede tener $26$ hijos (uno por cada letra del abecedario). De este modo, si una palabra tiene las letras \"xy\" de forma consecutiva, el respectivo nodo tendrá un hijo no nulo en la entrada correspondiente a \"y\". Veamos un ejemplo de esta estructura.\n",
    "\n",
    "Consideremos las palabras `[abcdef, abecede, hola, hoja, puedes, luz]`. El trie respectivo a este conjunto de palabras es el siguiente:\n",
    "\n",
    "```\n",
    "       (Nodo raíz)\n",
    "      /   |   |  \\\n",
    "     a    h   p   l\n",
    "     |    |   \\    \\\n",
    "     b    o    u    u\n",
    "    / \\   | \\   \\    \\\n",
    "   c   e  l  j   e    z\n",
    "   |   |  |  |   |\n",
    "   d   c  a  a   d\n",
    "   |   |         |\n",
    "   e   e         e\n",
    "   |   |         |\n",
    "   f   d         s\n",
    "       |\n",
    "       e\n",
    "```\n",
    "\n",
    "Esta estructura nos permite identificar de manera rápida y sencilla el mayor prefijo que coincide con cierta palabra. Veamos cómo implementar esta estructura y cómo usarla para nuestro problema."
   ]
  },
  {
   "cell_type": "code",
   "execution_count": 57,
   "metadata": {
    "colab": {
     "base_uri": "https://localhost:8080/"
    },
    "id": "RzGPrHkciSf4",
    "outputId": "bd13c35c-2e8f-41a9-c4f6-49d8de4444bc"
   },
   "outputs": [
    {
     "name": "stdout",
     "output_type": "stream",
     "text": [
      "2\n",
      "4\n",
      "1\n"
     ]
    }
   ],
   "source": [
    "def char_index(c):\n",
    "    return ord(c) - ord('a')\n",
    "\n",
    "class TrieNode:\n",
    "    def __init__(self):\n",
    "        self.children = [None]*26\n",
    "        \n",
    "    def insert(self, word):\n",
    "        word = word.casefold()\n",
    "        current = self\n",
    "        for c in word:\n",
    "            idx = char_index(c)\n",
    "            if current.children[idx] is None:\n",
    "                current.children[idx] = TrieNode()\n",
    "            current = current.children[idx]\n",
    "            \n",
    "    def count_prefix(self, word):\n",
    "        curr = self\n",
    "        count = 0\n",
    "        for c in word:\n",
    "            idx = char_index(c)\n",
    "            if curr.children[idx] is None:\n",
    "                return count\n",
    "            else:\n",
    "                curr = curr.children[idx]\n",
    "                count += 1\n",
    "        return count\n",
    "\n",
    "\n",
    "C = [\"abcdef\", \"abecede\", \"hola\", \"hoja\", \"puedes\", \"luz\"]\n",
    "root = TrieNode()\n",
    "for c in C:\n",
    "    root.insert(c)\n",
    "\n",
    "S = [\"abaco\", \"holandes\", \"paz\"]\n",
    "for s in S:\n",
    "    print(root.count_prefix(s))"
   ]
  },
  {
   "cell_type": "markdown",
   "metadata": {},
   "source": [
    "# Sumas de intervalos\n",
    "\n",
    "Dada una lista $L$ de números reales ($|L| = n$), queremos saber la suma de los elementos en un intervalo dado, es decir $L_i + L_{i+1} + \\dots + L_j$ para determinados $i \\leq j$. Además de esto, queremos poder actualizar nuestra lista $L$. Es decir, tenemos dos tipos de operaciones:\n",
    "\n",
    "*   Preguntar por la suma de los valores con índices en el intervalo $[i,j]$.\n",
    "*   Actualizar el valor de cierto elemento $L_i$.\n",
    "\n",
    "Una forma sencilla de poder recuperar el valor de la suma en cierto intervalo es guardando una lista de sumas acumuladas, sin embargo, esto hace que las operaciones de actualización de elementos sean costosas.\n",
    "\n",
    "## Bloques\n",
    "\n",
    "¿Qué pasa si dividimos la lista en sublistas de longitud $k$? (Veremos después qué $k$ nos conviene). Tendremos un total de $\\left\\lceil\\frac{n}{k}\\right\\rceil$ 'bloques', para cada bloque guardaremos el valor de la suma de sus elementos. ¿Qué tan costosas son las operaciones de actualización y preguntar por sumas? \n",
    "\n",
    "* Para actualizar, únicamente debemos actualizar el valor del elemento, así como la suma correspondiente en el bloque al que pertenece, por lo que cada actualización nos toma $O(1)$. \n",
    "* Para calcular la suma de un intervalo $I$, notamos que para cada bloque $B$ existen tres casos:\n",
    "\n",
    "    1. $B\\cap I=\\emptyset$. En este caso, no hacemos nada. ($O(1)$)\n",
    "    2. $B\\subseteq I$. Aquí, simplemente añadimos la suma del bloque entero (que tenemos guardada). ($O(1)$)\n",
    "    3. $B\\cap I \\neq \\emptyset \\wedge B\\not\\subseteq I$. En este caso, tenemos que iterar sobre $B$ para encontrar cuáles son los elementos que están en $I$, y sumarlos. ($O(k)$)\n",
    "    \n",
    "El tercer caso sólo puede pasar para dos bloques: los que están en el extremo izquierdo y derecho del intervalo. Por lo tanto, la complejidad de estos casos es $O(k)$. \n",
    "\n",
    "Por otro lado, como hay un total de $\\frac{n}{k}$ bloques, el primer y segundo caso no pueden pasar más de esta cantidad, así que su complejidad es $(O(\\frac{n}{k}))$.\n",
    "\n",
    "Por lo tanto, la complejidad del problema completo es $O\\left(\\frac{n}{k}+k\\right)$.\n",
    "\n",
    "Entonces, queremos encontrar la $k$ que minimice esta cantidad. Derivando e igualando a cero, obtenemos $k=\\sqrt{n}$.\n",
    "\n",
    "## Segment tree\n",
    "\n",
    "Otra manera de resolver este problema es utilizar un árbol binario, donde cada nodo representa a un intervalo, y tiene los siguientes atributos:\n",
    "\n",
    "* `value`: Suma del intervalo.\n",
    "* `left`: Hijo izquierdo.\n",
    "* `right`: Hijo derecho.\n",
    "* `start`: Extremo izquierdo del intervalo.\n",
    "* `end`: Extremo derecho del intervalo.\n",
    "\n",
    "El intervalo de un nodo padre es la unión de los intervalos de sus dos hijos. Los nodos hoja corresponden a los intervalos triviales de la lista original (i.e. $[L_0, L_0], [L_1, L_1]$, etc.)\n",
    "\n",
    "De este modo, logramos que preguntar por la suma en un intervalo $[l,r]$ sea $O(logn)$, mientras que actualizar también nos tomará $O(logn)$, ya que esta es la altura de nuestro árbol.\n",
    "\n",
    "Veamos una implementación de esta estructura y un ejemplo de su uso."
   ]
  },
  {
   "cell_type": "code",
   "execution_count": 58,
   "metadata": {
    "colab": {
     "base_uri": "https://localhost:8080/"
    },
    "id": "49hIhauoJMna",
    "outputId": "20694821-71e0-48bb-e598-2fdb307572ee"
   },
   "outputs": [],
   "source": [
    "class SegNode:\n",
    "    def __init__(self, L, l=None, r=None):\n",
    "        self.value = 0\n",
    "        \n",
    "        if l is None:\n",
    "            l = 0\n",
    "        if r is None:\n",
    "            r = len(L) - 1\n",
    "        \n",
    "        self.start = l\n",
    "        self.end = r\n",
    "        if self.start == self.end:\n",
    "            self.value = L[self.start]\n",
    "            self.left = None\n",
    "            self.right = None\n",
    "        else:\n",
    "            m = (l+r)//2\n",
    "            self.left = SegNode(L, l=self.start, r=m)\n",
    "            self.right = SegNode(L, l=m+1, r=self.end)\n",
    "            self.value += self.left.value\n",
    "            self.value += self.right.value\n",
    "    \n",
    "    def _arr_str(self):\n",
    "        return f'[{self.start}, {self.end}]'\n",
    "    \n",
    "    def __repr__(self):\n",
    "        s1 = s2 = ''\n",
    "        if self.left is not None:\n",
    "            s1 = self.left._arr_str()\n",
    "        if self.right is not None:\n",
    "            s2 = self.right._arr_str()\n",
    "        return f'{self._arr_str()}\\nHijos: I: {s1}, D:{s2}'\n",
    "    \n",
    "    def query(self, l, r):\n",
    "        if l <= self.start and self.end <= r:\n",
    "            return self.value\n",
    "        if self.end < l:\n",
    "            return 0\n",
    "        if r < self.start:\n",
    "            return 0\n",
    "        \n",
    "        s = 0\n",
    "        s += self.left.query(l, r) + self.right.query(l, r)\n",
    "        return s\n",
    "    \n",
    "    def update(self, i, val):\n",
    "        if self.end < i or i < self.start:\n",
    "            return self.value\n",
    "        if self.end == self.start == i:\n",
    "            self.value = val\n",
    "        else:\n",
    "            self.value = self.left.update(i, val) + self.right.update(i, val)\n",
    "        return self.value"
   ]
  },
  {
   "cell_type": "markdown",
   "metadata": {},
   "source": [
    "Generamos una lista aleatoria:"
   ]
  },
  {
   "cell_type": "code",
   "execution_count": 59,
   "metadata": {},
   "outputs": [
    {
     "data": {
      "text/plain": [
       "array([ 11,   0,  14,   1, -18,   6,  -6,  11, -17,  -8,  15,  12, -15,\n",
       "        13, -18, -20,  -1,  -9,  15,  12,  13,  -8,   9, -12,   8,  15,\n",
       "         3,   7,  -2,  -2,  -4,  13, -11,   5,   1,  -6,   3,   8,  10,\n",
       "        14,   6,  -1,  13,  16, -11, -20, -17, -20, -19,  -4,  -7,  19,\n",
       "        13,   1,   7,  10,  11,  -8,  -3,  10, -20,  12, -17, -14,   6,\n",
       "        -6,   8,   7,   6,   4,  13,  18,  -9,   3, -18,  -6, -17, -14,\n",
       "        11, -10,   8,  18,  19,  -9,  -5,  14,  -7,   4, -19,   8,  10,\n",
       "         4, -17,   8, -10,   5,   7,  -6, -11, -10])"
      ]
     },
     "execution_count": 59,
     "metadata": {},
     "output_type": "execute_result"
    }
   ],
   "source": [
    "L = np.random.randint(-20, 20, 100)\n",
    "L"
   ]
  },
  {
   "cell_type": "markdown",
   "metadata": {},
   "source": [
    "Creamos el árbol de segmentos:"
   ]
  },
  {
   "cell_type": "code",
   "execution_count": 60,
   "metadata": {},
   "outputs": [],
   "source": [
    "root = SegNode(L)"
   ]
  },
  {
   "cell_type": "markdown",
   "metadata": {},
   "source": [
    "Calculamos algunas sumas:"
   ]
  },
  {
   "cell_type": "code",
   "execution_count": 61,
   "metadata": {},
   "outputs": [
    {
     "name": "stdout",
     "output_type": "stream",
     "text": [
      "Suma desde el índice 0 hasta 99: 26\n",
      "Suma desde el índice 5 hasta 7: 11\n",
      "Suma desde el índice 8 hasta 8: -17\n"
     ]
    }
   ],
   "source": [
    "l, r = 0, 99\n",
    "print(f\"Suma desde el índice {l} hasta {r}: {root.query(l, r)}\")\n",
    "\n",
    "l, r = 5, 7\n",
    "print(f\"Suma desde el índice {l} hasta {r}: {root.query(l, r)}\")\n",
    "\n",
    "l, r = 8, 8\n",
    "print(f\"Suma desde el índice {l} hasta {r}: {root.query(l, r)}\")"
   ]
  },
  {
   "cell_type": "markdown",
   "metadata": {},
   "source": [
    "Sustituimos el valor de la primera entrada:"
   ]
  },
  {
   "cell_type": "code",
   "execution_count": 62,
   "metadata": {},
   "outputs": [
    {
     "data": {
      "text/plain": [
       "115"
      ]
     },
     "execution_count": 62,
     "metadata": {},
     "output_type": "execute_result"
    }
   ],
   "source": [
    "root.update(0, 100)"
   ]
  },
  {
   "cell_type": "markdown",
   "metadata": {},
   "source": [
    "Y volvemos a calcular:"
   ]
  },
  {
   "cell_type": "code",
   "execution_count": 63,
   "metadata": {},
   "outputs": [
    {
     "name": "stdout",
     "output_type": "stream",
     "text": [
      "Suma desde el índice 0 hasta 99: 115\n",
      "Suma desde el índice 5 hasta 7: 11\n",
      "Suma desde el índice 8 hasta 8: -17\n"
     ]
    }
   ],
   "source": [
    "l, r = 0, 99\n",
    "print(f\"Suma desde el índice {l} hasta {r}: {root.query(l, r)}\")\n",
    "\n",
    "l, r = 5, 7\n",
    "print(f\"Suma desde el índice {l} hasta {r}: {root.query(l, r)}\")\n",
    "\n",
    "l, r = 8, 8\n",
    "print(f\"Suma desde el índice {l} hasta {r}: {root.query(l, r)}\")"
   ]
  },
  {
   "cell_type": "markdown",
   "metadata": {},
   "source": [
    "# Ejercicios\n",
    "\n",
    "## Ejercicio 1\n",
    "\n",
    "Extiende la clase de Trie para determinar si una palabra o no está en el conjunto de palabras dado (*Hint:* Añade un atributo a los nodos que diga si representa el final de una palabra). Prueba tu código con el conjunto $C = \\{ola, hola, noche, diez, no, ciencia, camaron\\}$ y las palabras $cama, hola, nop, cien, diez$."
   ]
  },
  {
   "cell_type": "code",
   "execution_count": 17,
   "metadata": {},
   "outputs": [],
   "source": [
    "def char_index(c):\n",
    "    return ord(c) - ord('a')\n",
    "\n",
    "class TrieNode:\n",
    "    def __init__(self):\n",
    "        self.children = [None] * 26\n",
    "        self.end_word = False\n",
    "\n",
    "    def insert(self, word):\n",
    "        word = word.casefold()\n",
    "        current = self\n",
    "        for c in word:\n",
    "            idx = char_index(c)\n",
    "            if current.children[idx] is None:\n",
    "                current.children[idx] = TrieNode()            \n",
    "            current = current.children[idx]\n",
    "        current.end_word = True\n",
    "\n",
    "    def count_prefix(self, word):\n",
    "        curr = self\n",
    "        count = 0\n",
    "        for c in word:\n",
    "            idx = char_index(c)\n",
    "            if curr.children[idx] is None:\n",
    "                return count\n",
    "            else:\n",
    "                curr = curr.children[idx]\n",
    "                count += 1\n",
    "        return count\n",
    "    \n",
    "    def is_word(self, word):\n",
    "        current = self\n",
    "        for c in word:\n",
    "            idx = char_index(c)\n",
    "            if current.children[idx] is None:\n",
    "                return False\n",
    "            else:\n",
    "                current = current.children[idx]                \n",
    "        if current.end_word:\n",
    "            return True\n",
    "        return False"
   ]
  },
  {
   "cell_type": "code",
   "execution_count": 22,
   "metadata": {},
   "outputs": [
    {
     "name": "stdout",
     "output_type": "stream",
     "text": [
      "La palabra \"hola\" esta en el conjunto de palabras dado\n",
      "La palabra \"diez\" esta en el conjunto de palabras dado\n"
     ]
    }
   ],
   "source": [
    "C = ['ola', 'hola', 'noche', 'diez', 'no', 'ciencia', 'camaron']\n",
    "root = TrieNode()\n",
    "for word in C:\n",
    "    root.insert(word)\n",
    "S = ['cama', 'hola', 'nop', 'cien', 'diez']\n",
    "for s in S:    \n",
    "    if root.is_word(s):\n",
    "        print('La palabra \"{}\" esta en el conjunto de palabras dado'.format(s))\n",
    "    "
   ]
  },
  {
   "cell_type": "markdown",
   "metadata": {},
   "source": [
    "## Ejercicio 2\n",
    "\n",
    "En la siguiente celda se muestra un prototipo de una clase para implementar el método de bloques. Su constructor debe de tomar una lista `L` arbitraria. Como ejemplo, tomaremos `L=[1,3,5,7]`. Con esto, los atributos que debe de tener son:\n",
    "\n",
    "* `k`: Tamaño de cada bloque, de modo que sea óptimo. En el ejemplo, `k=2`.\n",
    "* `blocks`: Lista de todos los bloques. Cada bloque es a su vez una lista. Para la lista de ejemplo, esto sería igual a `[[1,3],[5,7]]`.\n",
    "* `sums`: Lista con las sumas de todos los elementos de cada bloque. En el ejemplo, sería `[4, 12]`.\n",
    "\n",
    "Por otro lado, sus métodos son:\n",
    "\n",
    "* `query(l, r)`: Suma de los elementos desde el índice `l` hasta `r`, inclusivo. Tomando nuestra lista de ejemplo, `query(0, 2) = 9`.\n",
    "* `update(i, val)`: Actualiza el valor del elemento en el índice `i`, con el nuevo valor `val`. Debe de actualizar también el bloque y la suma correspondiente.\n",
    "\n",
    "Reemplaza todos los `None` en el siguiente ejemplo con el código apropiado. Los métodos deben de aplicar lo que vimos en clase (¡nada de iterar sobre la lista entera cada vez que quieras calcular la suma!)."
   ]
  },
  {
   "cell_type": "code",
   "execution_count": 34,
   "metadata": {},
   "outputs": [
    {
     "name": "stdout",
     "output_type": "stream",
     "text": [
      "[[1, 3], [5, 7]]\n",
      "[4, 12]\n"
     ]
    }
   ],
   "source": [
    "def split_list(L, n):\n",
    "    for i in range(n+1):\n",
    "        print(L[n*i:n*(i+1)])                \n",
    "    \n",
    "L=[1,3,5,7]\n",
    "n = 2\n",
    "L = [L[n*i:n*(i+1)] for i in range(n)]\n",
    "print(L)\n",
    "suma = [sum(Li) for Li in L]\n",
    "print(suma)\n",
    "\n"
   ]
  },
  {
   "cell_type": "code",
   "execution_count": 37,
   "metadata": {},
   "outputs": [],
   "source": [
    "import math\n",
    "\n",
    "class Blocks:\n",
    "    def __init__(self, L): # L: lista a procesar\n",
    "        self.k = math.ceil(math.sqrt(len(L)))\n",
    "        self.blocks = [L[self.k*i:self.k*(i+1)] for i in range(self.k)]\n",
    "        self.sums = [sum(b) for b in self.blocks]\n",
    "        self.L = L\n",
    "        \n",
    "    def query(self, l, r):\n",
    "        # Verifico que no salga del rango\n",
    "        if r > len(L)-1:\n",
    "            return None\n",
    "        total = 0\n",
    "        for i, block in enumerate(self.blocks):\n",
    "            l = l+self.k           \n",
    "            if l < r:\n",
    "                total += self.sums[i]                \n",
    "            elif l > r:\n",
    "                for num in self.blocks[i-1]:\n",
    "                    i = l-self.k\n",
    "                    if i < r:\n",
    "                        total += num\n",
    "                    elif i <=r:\n",
    "                        total += num\n",
    "                        break\n",
    "                break\n",
    "            else:\n",
    "                # Siginifica que es igual                \n",
    "                total += self.sums[i]               \n",
    "                total += self.blocks[i+1][l-self.k]                                \n",
    "                break                                \n",
    "        return total\n",
    "        \n",
    "    def update(self, i, val):\n",
    "        self.L[i] = val\n",
    "        aux = Blocks(L)\n",
    "        self.blocks = aux.blocks\n",
    "        self.sums = aux.sums"
   ]
  },
  {
   "cell_type": "code",
   "execution_count": 39,
   "metadata": {},
   "outputs": [
    {
     "name": "stdout",
     "output_type": "stream",
     "text": [
      "[[1, 3], [5, 7]]\n",
      "[4, 12]\n",
      "9\n",
      "12\n",
      "------update(1,40)----------\n",
      "[[1, 40], [5, 7]]\n",
      "[41, 12]\n",
      "46\n",
      "12\n"
     ]
    }
   ],
   "source": [
    "L = [1,3,5,7]\n",
    "blocks = Blocks(L)\n",
    "print(blocks.blocks)\n",
    "print(blocks.sums)\n",
    "\n",
    "print(blocks.query(0, 2))\n",
    "print(blocks.query(2, 3))\n",
    "#query(0, 2) = 9\n",
    "#query(2, 3) = 12\n",
    "\n",
    "print('------update(1,40)----------')\n",
    "blocks.update(1,40)\n",
    "print(blocks.blocks)\n",
    "print(blocks.sums)\n",
    "\n",
    "print(blocks.query(0, 2))\n",
    "print(blocks.query(2, 3))\n"
   ]
  },
  {
   "cell_type": "code",
   "execution_count": 53,
   "metadata": {},
   "outputs": [
    {
     "name": "stdout",
     "output_type": "stream",
     "text": [
      "['p', 'e', 'm']\n"
     ]
    }
   ],
   "source": [
    "# Deleting list items\n",
    "my_list = ['p', 'r', 'o', 'b', 'l', 'e', 'm']\n",
    "\n",
    "# delete multiple items\n",
    "del my_list[1:5]\n",
    "\n",
    "print(my_list)\n",
    "\n",
    "\n"
   ]
  },
  {
   "cell_type": "markdown",
   "metadata": {},
   "source": [
    "Después, ejecuta la siguiente celda (sin cambiar nada), y compara tus resultados:"
   ]
  },
  {
   "cell_type": "code",
   "execution_count": 28,
   "metadata": {},
   "outputs": [
    {
     "name": "stdout",
     "output_type": "stream",
     "text": [
      "Resultado esperado: -127. Obtenido: -55\n",
      "Resultado esperado: -22. Obtenido: -52\n",
      "Resultado esperado: -16. Obtenido: -55\n",
      "Resultado esperado: -22. Obtenido: -52\n"
     ]
    }
   ],
   "source": [
    "L = [5, -11, 9, 3, 10, 2, -2, 18, -12, -9, -19, 11, -18, -1, -13, -14, 19, -15, 1, -19, 15, 19, 9, -1, -13, -6, 4, -19, -9, 1, 8, -20, 11, 2, 8, -20, -19, -2, -2, 1, 1, 12, -16, -8, -9, 11, -3, 10, 15, -6, 9, 8, -5, 7, -12, -1, -16, -7, 7, 16, 5, 11, -11, -11, 8, 18, -6, 1, -19, 17, -18, 15, 5, -18, 7, -5, -13, 19, -6, -19, -15, 4, 10, 19, -2, 18, -7, 11, -14, -4, -10, -18, 4, 14, -18, -3, -19, -8, 7, -1]\n",
    "blocks = Blocks(L)\n",
    "\n",
    "r = blocks.query(0, 99)\n",
    "print(f\"Resultado esperado: -127. Obtenido: {r}\")\n",
    "\n",
    "r = blocks.query(5, 10)\n",
    "print(f\"Resultado esperado: -22. Obtenido: {r}\")\n",
    "\n",
    "#blocks.update(1, 100)\n",
    "\n",
    "r = blocks.query(0, 99)\n",
    "print(f\"Resultado esperado: -16. Obtenido: {r}\")\n",
    "\n",
    "r = blocks.query(5, 10)\n",
    "print(f\"Resultado esperado: -22. Obtenido: {r}\")"
   ]
  }
 ],
 "metadata": {
  "colab": {
   "collapsed_sections": [],
   "include_colab_link": true,
   "name": "Divide y vencerás con estructuras de datos.ipynb",
   "provenance": []
  },
  "kernelspec": {
   "display_name": "Python 3",
   "language": "python",
   "name": "python3"
  },
  "language_info": {
   "codemirror_mode": {
    "name": "ipython",
    "version": 3
   },
   "file_extension": ".py",
   "mimetype": "text/x-python",
   "name": "python",
   "nbconvert_exporter": "python",
   "pygments_lexer": "ipython3",
   "version": "3.8.8"
  }
 },
 "nbformat": 4,
 "nbformat_minor": 4
}
