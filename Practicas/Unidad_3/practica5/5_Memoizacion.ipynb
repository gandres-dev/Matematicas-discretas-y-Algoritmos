{
 "cells": [
  {
   "cell_type": "markdown",
   "id": "83483d03",
   "metadata": {},
   "source": [
    "<a href=\"https://colab.research.google.com/github/RodolfoFigueroa/madi2022-1/blob/main/Unidad_3/5_Memoizacion.ipynb\" target=\"_parent\"><img src=\"https://colab.research.google.com/assets/colab-badge.svg\" alt=\"Open In Colab\"/></a>"
   ]
  },
  {
   "cell_type": "code",
   "execution_count": 12,
   "id": "b698324d",
   "metadata": {},
   "outputs": [],
   "source": [
    "import numpy as np"
   ]
  },
  {
   "cell_type": "markdown",
   "id": "2c3f1534",
   "metadata": {},
   "source": [
    "# Memoización\n",
    "\n",
    "En esta libreta veremos algunos ejemplos de uso de memoización.\n",
    "\n",
    "## Sucesión de Fibonacci\n",
    "\n",
    "Empecemos con un ejemplo que ya habíamos visto. Una función recursiva sencilla para calcular el n-ésimo número de Fibonacci es:"
   ]
  },
  {
   "cell_type": "code",
   "execution_count": 1,
   "id": "15693737",
   "metadata": {},
   "outputs": [],
   "source": [
    "def fib(n):\n",
    "    if n == 0:\n",
    "        return 0\n",
    "    elif n == 1:\n",
    "        return 1\n",
    "    else:\n",
    "        return fib(n-1) + fib(n-2)"
   ]
  },
  {
   "cell_type": "markdown",
   "id": "6e70fc16",
   "metadata": {},
   "source": [
    "Esta función realiza muchas llamadas redundantes. Por ejemplo, si queremos calcular $F_4$, el árbol de recursión asociado será:\n",
    "\n",
    "```\n",
    "            f(4)\n",
    "        /         \\\n",
    "      f(3)       f(2)\n",
    "     /    \\     /    \\\n",
    "   f(2)  f(1) f(1)  f(0)\n",
    "  /    \\\n",
    "f(1)  f(0)\n",
    "```\n",
    "Podemos ver que hace dos llamadas a `f(2)`; conforme más crece `n`, habrá aun más llamadas redundantes.\n",
    "\n",
    "Para solucionar esto, podemos inicializar una lista vacía `L` de tamaño `n`. El elemento $L_i$ tendrá el resultado de `f(i)`. Al inicio, todos los elementos de `L` serán `None`, con la excepción de `L[0]=0`, y `L[1]=1`. En la primera llamada de `f(i)`, llenaremos el correspondiente `L[i]`, y en todas las subsecuentes simplemente consultaremos el valor guardado."
   ]
  },
  {
   "cell_type": "code",
   "execution_count": 4,
   "id": "d42afa21",
   "metadata": {},
   "outputs": [],
   "source": [
    "def fib_memo(n, L=None):\n",
    "    if L is None:\n",
    "        L = [None] * (n+1)\n",
    "        L[0] = 0\n",
    "        L[1] = 1\n",
    "    if L[n] is not None:\n",
    "        return L[n]\n",
    "    else:\n",
    "        L[n] = fib_memo(n-1, L) + fib_memo(n-2, L)\n",
    "        return L[n]"
   ]
  },
  {
   "cell_type": "markdown",
   "id": "604b945f",
   "metadata": {},
   "source": [
    "Podemos comparar los tiempos de ejución para números grandes:"
   ]
  },
  {
   "cell_type": "code",
   "execution_count": 5,
   "id": "8aaa6668",
   "metadata": {},
   "outputs": [
    {
     "name": "stdout",
     "output_type": "stream",
     "text": [
      "360 ms ± 14.4 ms per loop (mean ± std. dev. of 7 runs, 1 loop each)\n",
      "11.4 µs ± 553 ns per loop (mean ± std. dev. of 7 runs, 100000 loops each)\n"
     ]
    }
   ],
   "source": [
    "n = 30\n",
    "%timeit fib(n)\n",
    "%timeit fib_memo(n)"
   ]
  },
  {
   "cell_type": "markdown",
   "id": "1c33edf0",
   "metadata": {},
   "source": [
    "## Mochilas\n",
    "\n",
    "Supongamos que tenemos una lista de artículos, cada uno con pesos $W=\\{w_i\\}$ y valores $V=\\{v_i\\}$. Nosotros podemos cargar como máximo $w$ kilos. ¿Cuál es la combinación de artículos que maximiza nuestras ganancias?\n",
    "\n",
    "A este y otros problemas similares se les conoce como *problemas de mochila*. Específicamente, esta es la variante $0-1$, ya que las únicas opciones son llevar un artículo ($1$) o no hacerlo ($1$). En otras versiones, podemos llevar partes de artículos, o tenemos una mochila infinita.\n",
    "\n",
    "Podemos resolver este problema utilizando *backtracking*:\n",
    "\n",
    "* Empezamos con una mochila vacía y vamos pasando por cada uno de los artículos haciendo dos llamadas recursivas: una en la que sí lo tomamos, y otra en la que no. \n",
    "* Regresamos el máximo de las ganancias de las dos llamadas.\n",
    "* Los casos base son cuando ya no podemos cargar nada más, o acabamos todos los artículos."
   ]
  },
  {
   "cell_type": "code",
   "execution_count": 30,
   "id": "83c8d9fa",
   "metadata": {},
   "outputs": [],
   "source": [
    "def knapsack(weights, values, capacity, idx=0):\n",
    "    if capacity <= 0 or idx >= len(values):\n",
    "        return 0\n",
    "    \n",
    "    if weights[idx] <= capacity:\n",
    "        new_capacity = capacity - weights[idx]        \n",
    "        p1 = values[idx] + knapsack(weights, values, new_capacity, idx+1) \n",
    "    else:        \n",
    "        p1 = 0        \n",
    "        \n",
    "    p2 = knapsack(weights, values, capacity, idx+1)\n",
    "    \n",
    "    return max(p1, p2)"
   ]
  },
  {
   "cell_type": "code",
   "execution_count": 31,
   "id": "05aa54c9",
   "metadata": {},
   "outputs": [
    {
     "data": {
      "text/plain": [
       "22"
      ]
     },
     "execution_count": 31,
     "metadata": {},
     "output_type": "execute_result"
    }
   ],
   "source": [
    "weights = [1, 2, 3, 5]\n",
    "values = [1, 6, 10, 16]\n",
    "capacity = 7\n",
    "knapsack(weights, values, capacity)"
   ]
  },
  {
   "cell_type": "markdown",
   "id": "73301a39",
   "metadata": {},
   "source": [
    "Podemos mejorar esto utilizando memoización. En las llamadas recursivas, tenemos dos valores cambiantes: la capacidad y el índice. Entonces, creamos un arreglo `memo` de tamaño $(\\text{capacidad}+1)\\times (\\text{largo de las listas})$ (ya que la capacidad va de $0$ hasta la inicial y el índice de $0$ al tamaño de las listas). La entrada `memo[i,j]` tendrá la ganancia máxima para la capacidad `i` y el índice `j`:"
   ]
  },
  {
   "cell_type": "code",
   "execution_count": 97,
   "id": "709b9372",
   "metadata": {},
   "outputs": [],
   "source": [
    "def knapsack_memo(weights, values, capacity, idx=0, memo=None):\n",
    "    if memo is None:\n",
    "        memo = [[None for _ in range(len(weights))] for _ in range(capacity+1)]\n",
    "    \n",
    "    if capacity <= 0 or idx >= len(values):\n",
    "        return 0\n",
    "    \n",
    "    if memo[capacity][idx] is not None:\n",
    "        return memo[capacity][idx]\n",
    "    else:\n",
    "        p1 = 0\n",
    "        if weights[idx] <= capacity:\n",
    "            new_capacity = capacity - weights[idx]\n",
    "            p1 = values[idx] + knapsack_memo(weights, values, new_capacity, idx+1, memo)\n",
    "        p2 = knapsack_memo(weights, values, capacity, idx+1, memo)\n",
    "        \n",
    "        memo[capacity][idx] = max(p1, p2)\n",
    "    return memo[capacity][idx]"
   ]
  },
  {
   "cell_type": "code",
   "execution_count": 98,
   "id": "52589061",
   "metadata": {},
   "outputs": [
    {
     "data": {
      "text/plain": [
       "22"
      ]
     },
     "execution_count": 98,
     "metadata": {},
     "output_type": "execute_result"
    }
   ],
   "source": [
    "weights = [1, 2, 3, 5]\n",
    "values = [1, 6, 10, 16]\n",
    "capacity = 7\n",
    "knapsack_memo(weights, values, capacity)"
   ]
  },
  {
   "cell_type": "markdown",
   "id": "aad5638f",
   "metadata": {},
   "source": [
    "Notemos que el resultado que queremos es el elemento `memo[capacidad, largo de listas]`, ya que dicho elemento representa la ganancia máxima posible dada la capacidad `capacidad`, y estando parados en el índice `largo de listas` (i.e., cuando recorrimos las listas por completo).\n",
    "\n",
    "Entonces, podemos quitar nuestras llamadas recursivas y simplemente enfocarnos en llenar el arreglo completo, después de lo cual extraemos el elemento que buscamos. Para hacer esto, primero vemos que para cada entrada `memo[c, i]`, tenemos dos opciones:\n",
    "\n",
    "1. Excluir el artículo en el índice `i`, en cuyo caso la ganancia `memo[c, i]` será igual a la ganancia en `memo[c, i-1]`.\n",
    "2. Tomar el artículo en el índice `i` (si su peso lo permite). En este caso, la ganancia será igual al precio del artículo `i`, mas la ganancia máxima de los artículos anteriores, dada la nueva capacidad: `valor[i] + memo[c-pesos[i], i-1]`\n",
    "\n",
    "La entrada `memo[c,i]` será el máximo de las dos cantidades anteriores.\n",
    "\n",
    "Finalmente, los casos base son: \n",
    "\n",
    "* Tenemos una capacidad de cero, en cuyo caso la ganancia máxima posible es cero. Es decir, `memo[0, i] = 0`.\n",
    "* Tenemos solo un elemento, en cuyo caso la ganancia será igual al precio del elemento (si podemos cargarlo) y 0 en otro caso.\n",
    "* (Como nota: `memo[0,0] = 0`)"
   ]
  },
  {
   "cell_type": "code",
   "execution_count": 87,
   "id": "214e7ba4",
   "metadata": {},
   "outputs": [],
   "source": [
    "def knapsack_memo_2(weights, values, capacity, memo=None):\n",
    "    if memo is None:\n",
    "        memo = [[None for _ in range(len(weights))] for _ in range(capacity+1)]\n",
    "        \n",
    "        for c in range(capacity+1):\n",
    "            memo[c][0] = values[0] if weights[0] <= c else 0\n",
    "\n",
    "        for i in range(len(weights)):\n",
    "            memo[0][i] = 0\n",
    "    for i in range(1, len(weights)):\n",
    "        for c in range(1, capacity+1):\n",
    "            p1 = memo[c][i-1]\n",
    "            p2 = 0\n",
    "            if weights[i] <= c:\n",
    "                p2 = values[i] + memo[c-weights[i]][i-1]\n",
    "            memo[c][i] = max(p1, p2)\n",
    "    return memo[capacity][len(weights)-1]"
   ]
  },
  {
   "cell_type": "code",
   "execution_count": 88,
   "id": "0d4a46a6",
   "metadata": {},
   "outputs": [
    {
     "data": {
      "text/plain": [
       "22"
      ]
     },
     "execution_count": 88,
     "metadata": {},
     "output_type": "execute_result"
    }
   ],
   "source": [
    "knapsack_memo_2(weights, values, capacity)"
   ]
  },
  {
   "cell_type": "markdown",
   "id": "188fac55",
   "metadata": {},
   "source": [
    "Esta técnica de eliminar llamadas recursivas y simplemente llenar un arreglo se utiliza mucho en memoización, ya que es más eficiente."
   ]
  },
  {
   "cell_type": "markdown",
   "id": "981987fb",
   "metadata": {
    "tags": []
   },
   "source": [
    "# Ejercicios\n",
    "\n",
    "Dadas dos cadenas de caracteres $X=x_1x_2\\ldots x_n$, $Y=y_1y_2\\ldots y_m$, la *distancia de edición* es el costo mínimo de *operaciones de edición* que debemos de realizar para convertir la cadena $X$ a $Y$. Las operaciones de edición son:\n",
    "\n",
    "* Borrar una letra, con costo $\\delta$\n",
    "* Insertar una letra, con costo $\\delta$\n",
    "* Cambiar una letra $u$ a una letra $v$, con costo $\\alpha(u, v)$\n",
    "\n",
    "Ahora, denotemos por $f(i,j)$ como la distancia de edición entre la cadena $X_i=x_1x_2\\ldots x_i$ y $Y_j=x_1x_2\\ldots x_j$, con $0\\leq i\\leq n$ y $0\\leq j\\leq m$. \n",
    "\n",
    "Claramente $f(n,m)$ es la distancia de edición entre las palabras originales. Por otro lado, si $i=0$, tenemos que $X_i$ va a ser igual a la cadena vacía, por lo cual tendremos que insertar $j$ caracteres para volverla $Y_j$. Por lo tanto:\n",
    "$$\n",
    "f(0,j) = \\delta\\cdot j\n",
    "$$\n",
    "\n",
    "Análogamente, si $j=0$, $Y_j$ será la cadena vacía ($\\epsilon$), por lo cual tendremos que borrar todos los caracteres de $X_i$, que es equivalente a $i$ operaciones de borrado. Así:\n",
    "$$\n",
    "f(i,0) = \\delta\\cdot i\n",
    "$$\n",
    "\n",
    "Por otro lado, si $i\\neq 0, j\\neq 0$, consideremos $x_i, y_j$, los últimos caracteres de $X_i$ y $Y_j$, respectivamente. Si queremos que ambos caracteres sean iguales, tenemos que realizar una de las tres operaciones de edición para cambiarlos. Como estamos buscando el costo de edición *mínimo*, la distancia de edición será igual al costo mínimo de estas tres operaciones.\n",
    "\n",
    "Para entender cómo se obtienen las expresiones recursivas, consideremos un ejemplo con `X=HOLA` y `Y=POZO`. Como mencionamos anteriormente, tenemos tres opciones:\n",
    "\n",
    "1. Insertar la úlima letra de `Y` al final de `X`. Con esto, las palabras se vuelven:\n",
    "\n",
    "```\n",
    "HOLAO\n",
    " POZO\n",
    "```\n",
    "\n",
    "Ahora, los últimos caracteres son iguales, por lo cual podemos ignorarlos. Como la inserción tiene un costo `d`, la distancia será:\n",
    "\n",
    "```\n",
    "f(HOLA, POZO) = f(HOLA, POZ) + d\n",
    "```\n",
    "\n",
    "Podemos ver que en este caso, la palabra `X` se mantuvo igual, mientras que la palabra `Y` perdió su última letra. Por lo tanto, en general podemos expresar el costo de esta operación como:\n",
    "\n",
    "$$\n",
    "f(i,j) = f(i, j-1) + \\delta\n",
    "$$\n",
    "\n",
    "2. Borrar la última letra de `X`. Con esto, las palabras son:\n",
    "\n",
    "```\n",
    "HOL*\n",
    "POZO\n",
    "```\n",
    "\n",
    "En este caso, fue la palabra `X` la que cambió de largo, por lo cual el costo es:\n",
    "\n",
    "```\n",
    "f(HOLA, POZO) = f(HOL, POZO) + d\n",
    "```\n",
    "\n",
    "O, en general:\n",
    "\n",
    "$$\n",
    "f(i, j) = f(i-1, j) + \\delta\n",
    "$$\n",
    "\n",
    "Uno puede preguntarse de qué sirve borrar una letra. Para entender por qué, basta con imaginar qué pasa si tenemos palabras de distintos largos; por ejemplo, `X=CARTERA` y `Y=TAZA`. Podemos imaginar que colocamos caracteres vacíos (`*`) al final de `TAZA` para alinearla con `CARTERA`:\n",
    "```\n",
    "CARTERA\n",
    "TAZA***\n",
    "```\n",
    "Con esto, podemos considerar a `*` como una letra más, y hacer todas las comparaciones necesarias. \n",
    "\n",
    "3. Reemplazar la última letra de `X` por la última letra de `Y`, es decir:\n",
    "\n",
    "```\n",
    "HOLO\n",
    "POZO\n",
    "```\n",
    "\n",
    "Recordando que el reemplazo tiene un costo `a(u,v)`, donde `u` es la letra original y `v` la nueva, tenemos que el costo es:\n",
    "\n",
    "```\n",
    "f(HOLA, POZO) = f(HOL, POZ) + a(A, O)\n",
    "```\n",
    "\n",
    "Ambas palabras perdieron su última letra, por lo tanto:\n",
    "\n",
    "$$\n",
    "f(i, j) = \n",
    "f(i-1, j-1) + \\alpha(x_i, y_j)\n",
    "$$\n",
    "\n",
    "Finalmente, la distancia de edición será el mínimo de las tres cantidades anteriores. Añadiendo los casos base que explicamos previamente, llegamos a la expresión recursiva completa:\n",
    "\n",
    "$$\n",
    "f(i, j) = \n",
    "\\begin{cases}\n",
    "\\delta\\cdot i & j = 0\\\\\n",
    "\\delta \\cdot j & i = 0\\\\\n",
    "\\min\n",
    "\\begin{cases}\n",
    "\\alpha(x_i, y_j) + f(i-1, j-1) \\\\\n",
    "\\delta + f(i-1, j) \\\\\n",
    "\\delta + f(i, j-1) \n",
    "\\end{cases} & \\text{en otro caso}\n",
    "\\end{cases}\n",
    "$$"
   ]
  },
  {
   "cell_type": "markdown",
   "id": "5346f6a9",
   "metadata": {},
   "source": [
    "## Ejercicio 1\n",
    "\n",
    "Utilizando la expresión anterior, escribe en la siguiente celda una función recursiva que calcule la distancia de edición entre dos cadenas. Asume que el costo de reemplazar cualquier par de caracteres es $a$ (i.e. , $\\alpha(x, y)=a$, con la excepción de $x=y$, en cuyo caso vale cero). No utilices memoización."
   ]
  },
  {
   "cell_type": "code",
   "execution_count": 243,
   "id": "b95ccbee",
   "metadata": {},
   "outputs": [],
   "source": [
    "def edit_distance(X, Y, m, n, a=1, d=1):\n",
    "  \n",
    "    #Si la primera cadena es vacia, la unica opcion\n",
    "    #es insertar todos los caracteres de la segunda cadena. \n",
    "    if m == 0:\n",
    "        return n * d\n",
    "  \n",
    "    #Si la segunda cadena es vacia, la unica opcion\n",
    "    #es eliminar todos los caracteres de la primera cadena.\n",
    "    if n == 0:\n",
    "        return m * d\n",
    "  \n",
    "    # Si los ultimos caractares de las dos cadenas son los mismo.\n",
    "    if X[m-1] == Y[n-1]:\n",
    "        return edit_distance(X, Y, m-1, n-1, a, d) + 0 \n",
    "  \n",
    "    # Si los ultimos caractares son diferentes, considerar\n",
    "    # todas las posibilidades y encontrar el minimo.\n",
    "    return min(edit_distance(X, Y, m, n-1, a, d)+d,\n",
    "                   edit_distance(X, Y, m-1, n, a, d)+d,\n",
    "                   edit_distance(X, Y, m-1, n-1, a, d)+a)"
   ]
  },
  {
   "cell_type": "markdown",
   "id": "b6bf39f2",
   "metadata": {},
   "source": [
    "Ejecuta la siguiente celda sin cambiar nada, y compara tus resultados:"
   ]
  },
  {
   "cell_type": "code",
   "execution_count": 245,
   "id": "721d399f",
   "metadata": {},
   "outputs": [
    {
     "name": "stdout",
     "output_type": "stream",
     "text": [
      "Distancia obtenida: 2. Esperada: 2\n",
      "Distancia obtenida: 1. Esperada: 1\n",
      "Distancia obtenida: 27. Esperada: 27\n"
     ]
    }
   ],
   "source": [
    "X, Y = \"casa\", \"raza\"\n",
    "d = edit_distance(X, Y, len(X), len(Y))\n",
    "print(f\"Distancia obtenida: {d}. Esperada: 2\")\n",
    "\n",
    "X, Y = \"ola\", \"hola\"\n",
    "d = edit_distance(X, Y, len(X), len(Y))\n",
    "print(f\"Distancia obtenida: {d}. Esperada: 1\")\n",
    "\n",
    "X, Y = \"silla\", \"escritorio\"\n",
    "d = edit_distance(X, Y, len(X), len(Y), d = 3, a = 4)\n",
    "print(f\"Distancia obtenida: {d}. Esperada: 27\")"
   ]
  },
  {
   "cell_type": "markdown",
   "id": "8bbf09eb",
   "metadata": {},
   "source": [
    "## Ejercicio 2\n",
    "\n",
    "Realiza memoización parcial, es decir, solo crea una tabla de memoización, y guarda los resultados, pero no cambies la estructura recursiva (como lo que hicimos en `knapsack_memo`)."
   ]
  },
  {
   "cell_type": "code",
   "execution_count": 249,
   "id": "42b8fedf",
   "metadata": {},
   "outputs": [],
   "source": [
    "def edit_distance_2(X, Y, m, n, a=1, d=1, memo=None):\n",
    "    \n",
    "    # Creacion de una tabla para almacenar los resultados de los subproblemas.\n",
    "    if memo is None:        \n",
    "        memo = [[None for x in range(n + 1)] for x in range(m + 1)]\n",
    "\n",
    "    #Si la primera cadena es vacia, la unica opcion\n",
    "    #es insertar todos los caracteres de la segunda cadena  \n",
    "    if m == 0:\n",
    "        return n * d\n",
    "\n",
    "    #Si la segunda cadena es vacia, la unica opcion\n",
    "    #es eliminar todos los caracteres de la primera cadena      \n",
    "    if n == 0:\n",
    "        return m * d\n",
    "\n",
    "    # Si los ultimos caractares de las dos cadenas son los mismo. \n",
    "    if X[m-1] == Y[n-1]:\n",
    "        return edit_distance_2(X, Y, m-1, n-1, a, d) + 0\n",
    "\n",
    "    # Si los ultimos caractares son diferentes, considerar\n",
    "    # todas las posibilidades y encontrar el minimo.    \n",
    "    if memo[m][n] is not None:\n",
    "        return memo[m][n]\n",
    "    else:\n",
    "        memo[m][n] = min(edit_distance_2(X, Y, m, n-1, a, d)+d,    # Insert\n",
    "                   edit_distance_2(X, Y, m-1, n, a, d)+d,    # Remove\n",
    "                   edit_distance_2(X, Y, m-1, n-1, a, d)+a)\n",
    "        return memo[m][n]"
   ]
  },
  {
   "cell_type": "markdown",
   "id": "a22b91f8",
   "metadata": {},
   "source": [
    "Verifica tus resultados:"
   ]
  },
  {
   "cell_type": "code",
   "execution_count": 248,
   "id": "8b04ea61",
   "metadata": {},
   "outputs": [
    {
     "name": "stdout",
     "output_type": "stream",
     "text": [
      "Distancia obtenida: 2. Esperada: 2\n",
      "Distancia obtenida: 1. Esperada: 1\n",
      "Distancia obtenida: 27. Esperada: 27\n"
     ]
    }
   ],
   "source": [
    "X, Y = \"casa\", \"raza\"\n",
    "d = edit_distance_2(X, Y, len(X), len(Y))\n",
    "print(f\"Distancia obtenida: {d}. Esperada: 2\")\n",
    "\n",
    "X, Y = \"ola\", \"hola\"\n",
    "d = edit_distance_2(X, Y, len(X), len(Y))\n",
    "print(f\"Distancia obtenida: {d}. Esperada: 1\")\n",
    "\n",
    "X, Y = \"silla\", \"escritorio\"\n",
    "d = edit_distance_2(X, Y, len(X), len(Y), d = 3, a = 4)\n",
    "print(f\"Distancia obtenida: {d}. Esperada: 27\")"
   ]
  },
  {
   "cell_type": "markdown",
   "id": "98f58c3d",
   "metadata": {},
   "source": [
    "## Ejercicio 3\n",
    "\n",
    "Quita todas las llamadas recursivas y llena la tabla de manera iterativa (como `knapsack_memo_2`)."
   ]
  },
  {
   "cell_type": "code",
   "execution_count": 234,
   "id": "b731d984",
   "metadata": {},
   "outputs": [],
   "source": [
    "\n",
    "def edit_distance_3(X, Y, m, n, a=1, d=1, memo=None):\n",
    "    # Creacion de una tabla para almacenar los resultados de los subproblemas.\n",
    "    if memo is None:\n",
    "        memo = [[0 for x in range(n + 1)] for x in range(m + 1)]\n",
    "      \n",
    "    for i in range(m + 1):\n",
    "        for j in range(n + 1):\n",
    "  \n",
    "            #Si la primera cadena es vacia, la unica opcion\n",
    "            #es insertar todos los caracteres de la segunda cadena        \n",
    "            if i == 0:\n",
    "                memo[i][j] = j * d    # Min. operations = j\n",
    "              \n",
    "            #Si la segunda cadena es vacia, la unica opcion\n",
    "            #es eliminar todos los caracteres de la primera cadena\n",
    "            elif j == 0:\n",
    "                memo[i][j] = i * d\n",
    "              \n",
    "            # Si los ultimos caractares de las dos cadenas son los mismo.            \n",
    "            elif X[i-1] == Y[j-1]:\n",
    "                memo[i][j] = memo[i-1][j-1]\n",
    "              \n",
    "            # Si los ultimos caractares son diferentes, considerar\n",
    "            # todas las posibilidades y encontrar el minimo.\n",
    "            else:\n",
    "                memo[i][j] = min(memo[i][j-1] + d,\n",
    "                                   memo[i-1][j] + d,\n",
    "                                   memo[i-1][j-1] + a)\n",
    "  \n",
    "    return memo[m][n]"
   ]
  },
  {
   "cell_type": "markdown",
   "id": "8239dba4",
   "metadata": {},
   "source": [
    "Verifica tus resultados:"
   ]
  },
  {
   "cell_type": "code",
   "execution_count": 242,
   "id": "cb8bbc70",
   "metadata": {},
   "outputs": [
    {
     "name": "stdout",
     "output_type": "stream",
     "text": [
      "Distancia obtenida: 2. Esperada: 2\n",
      "Distancia obtenida: 1. Esperada: 1\n",
      "Distancia obtenida: 27. Esperada: 27\n"
     ]
    }
   ],
   "source": [
    "X, Y = \"casa\", \"raza\"\n",
    "d = edit_distance_3(X, Y, len(X), len(Y))\n",
    "print(f\"Distancia obtenida: {d}. Esperada: 2\")\n",
    "\n",
    "X, Y = \"ola\", \"hola\"\n",
    "d = edit_distance_3(X, Y, len(X), len(Y))\n",
    "print(f\"Distancia obtenida: {d}. Esperada: 1\")\n",
    "\n",
    "X, Y = \"silla\", \"escritorio\"\n",
    "d = edit_distance_3(X, Y, len(X), len(Y), d = 3, a = 4)\n",
    "print(f\"Distancia obtenida: {d}. Esperada: 27\")"
   ]
  },
  {
   "cell_type": "markdown",
   "id": "720c674e-6067-4274-83ea-ef83f3a97790",
   "metadata": {},
   "source": [
    "## References \n",
    "- https://www.geeksforgeeks.org/edit-distance-dp-5/\n",
    "- https://en.wikipedia.org/wiki/Edit_distance\n",
    "- https://web.stanford.edu/class/cs124/lec/med.pdf\n",
    "- https://colab.research.google.com/drive/14--aBFHwZv4QPNyAfYOM7HBRY56wkGGf?usp=sharing"
   ]
  }
 ],
 "metadata": {
  "kernelspec": {
   "display_name": "Python 3",
   "language": "python",
   "name": "python3"
  },
  "language_info": {
   "codemirror_mode": {
    "name": "ipython",
    "version": 3
   },
   "file_extension": ".py",
   "mimetype": "text/x-python",
   "name": "python",
   "nbconvert_exporter": "python",
   "pygments_lexer": "ipython3",
   "version": "3.8.8"
  }
 },
 "nbformat": 4,
 "nbformat_minor": 5
}
