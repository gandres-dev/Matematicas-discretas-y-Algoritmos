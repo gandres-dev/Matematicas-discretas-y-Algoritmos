{
 "cells": [
  {
   "cell_type": "markdown",
   "metadata": {
    "colab_type": "text",
    "id": "view-in-github"
   },
   "source": [
    "<a href=\"https://colab.research.google.com/github/RodolfoFigueroa/madi2022-1/blob/main/Unidad_3/1_Algoritmos_voraces.ipynb\" target=\"_parent\"><img src=\"https://colab.research.google.com/assets/colab-badge.svg\" alt=\"Open In Colab\"/></a>"
   ]
  },
  {
   "cell_type": "code",
   "execution_count": 28,
   "metadata": {},
   "outputs": [],
   "source": [
    "import numpy as np\n",
    "import matplotlib.pyplot as plt\n",
    "import matplotlib.ticker as plticker"
   ]
  },
  {
   "cell_type": "markdown",
   "metadata": {
    "id": "cK5ClbfMH23A"
   },
   "source": [
    "En esta sesión veremos varios ejemplos de algoritmos tipo greedy, algunos serán correctos y otros no, con tal de ir ejercitando la habilidad para poder determinar cuándo un algoritmo de este tipo es correcto o no."
   ]
  },
  {
   "cell_type": "markdown",
   "metadata": {},
   "source": [
    "# Correctitud\n",
    "\n",
    "## Una rana\n",
    "\n",
    "Consideremos el siguiente problema:\n",
    "\n",
    "* Una rana empieza en la posición 0 en el río, y quiere llegar a la posición $n$.\n",
    "* Hay lirios en diversas posiciones; siempre hay uno en 0 y otro en $n$.\n",
    "* La rana puede brincar a lo mucho $r$ unidades en un solo salto.\n",
    "\n",
    "**Objetivo:** Encontrar el camino que la rana debe de tomar para minimizar el número de saltos que da, asumiendo que una solución existe.\n",
    "\n",
    "El algoritmo *greedy* es simplemente moverse al lirio más distante posible en cada salto, hasta llegar a $n$. \n",
    "\n",
    "---\n",
    "\n",
    "Formalmente:\n",
    "\n",
    "*Entradas:* $L$ una lista de lirios, $r$ la distancia máxima que puede saltar la rana, y $n$ la posición a la que queremos llegar. Se cumple $n\\in L$.\n",
    "\n",
    "*Salida:* $J$, una lista con las posiciones de cada lirio a las cuales tenemos que saltar.\n",
    "\n",
    "*Algoritmo:*\n",
    "\n",
    "1. Inicializamos $J=[0]$ una lista de saltos, y $x=0$ nuestra posición actual\n",
    "2. Mientras $x<n$:\n",
    "    1. Encontrar el lirio más distante $l\\in L$ tal que $x<l\\leq x+r$. Si no existe, el problema no tiene solución.\n",
    "    2. $J.\\text{append}(l)$\n",
    "    3. $x \\leftarrow l$.\n",
    "3. Regresar $J$.\n",
    "\n",
    "Veamos una implementación:"
   ]
  },
  {
   "cell_type": "code",
   "execution_count": 22,
   "metadata": {},
   "outputs": [],
   "source": [
    "def rana(L, n, r):\n",
    "    assert n in L, \"La posición final no tiene un lirio!\"\n",
    "    \n",
    "    x = 0\n",
    "    L = list(sorted(L))\n",
    "    J = [0]\n",
    "    \n",
    "    while x < n:\n",
    "        valid = [l for l in L if x < l <= x+r]\n",
    "        if not valid:\n",
    "            return\n",
    "        x = valid[-1]\n",
    "        J.append(x)\n",
    "    return J"
   ]
  },
  {
   "cell_type": "markdown",
   "metadata": {},
   "source": [
    "Ahora, supongamos que tenemos los siguientes parámetros:"
   ]
  },
  {
   "cell_type": "code",
   "execution_count": 30,
   "metadata": {},
   "outputs": [],
   "source": [
    "L = [0, 1, 4, 6, 7, 8, 10, 12]\n",
    "n = 10\n",
    "r = 2"
   ]
  },
  {
   "cell_type": "markdown",
   "metadata": {},
   "source": [
    "Visualizando las posiciones de los lirios:"
   ]
  },
  {
   "cell_type": "code",
   "execution_count": 31,
   "metadata": {},
   "outputs": [
    {
     "data": {
      "image/png": "[encoded data removed]",
      "text/plain": [
       "<Figure size 720x576 with 1 Axes>"
      ]
     },
     "metadata": {
      "needs_background": "light"
     },
     "output_type": "display_data"
    }
   ],
   "source": [
    "fig, ax = plt.subplots(figsize=(10,8))\n",
    "\n",
    "for l in L:\n",
    "    col = 'red' if l == n else 'green'\n",
    "    circ = plt.Circle((l, 0), 0.4, color=col)\n",
    "    ax.add_patch(circ)\n",
    "    \n",
    "loc = plticker.MultipleLocator(base=1.0) # this locator puts ticks at regular intervals\n",
    "ax.xaxis.set_major_locator(loc)\n",
    "ax.set_xlim(min(L)-1, max(L)+1)\n",
    "ax.set_ylim(min(L), max(L))\n",
    "plt.show()"
   ]
  },
  {
   "cell_type": "markdown",
   "metadata": {},
   "source": [
    "Claramente, este problema no tiene solución, ya que la rana no puede librar el salto entre el lirio 1 y 4:"
   ]
  },
  {
   "cell_type": "code",
   "execution_count": 33,
   "metadata": {},
   "outputs": [
    {
     "name": "stdout",
     "output_type": "stream",
     "text": [
      "None\n"
     ]
    }
   ],
   "source": [
    "print(rana(L, n, r))"
   ]
  },
  {
   "cell_type": "markdown",
   "metadata": {},
   "source": [
    "Cambiando $r=3$."
   ]
  },
  {
   "cell_type": "code",
   "execution_count": 34,
   "metadata": {},
   "outputs": [
    {
     "data": {
      "text/plain": [
       "[0, 1, 4, 7, 10]"
      ]
     },
     "execution_count": 34,
     "metadata": {},
     "output_type": "execute_result"
    }
   ],
   "source": [
    "r = 3\n",
    "rana(L, n, r)"
   ]
  },
  {
   "cell_type": "markdown",
   "metadata": {},
   "source": [
    "¿Cómo probamos que este algoritmo es correcto? Para esto, necesitamos probar dos cosas:\n",
    "\n",
    "1. Si el problema tiene solución, el algoritmo siempre encontrará una serie de saltos válida (i.e., no se atora).\n",
    "2. El algoritmo encuentra una serie *óptima* de saltos (i.e., no existe un mejor camino).\n",
    "\n",
    "---\n",
    "\n",
    "Probamos la primera propiedad por contradicción. Sean las posiciones de los lirios $l_1 < l_2 < \\cdots < l_m$. Asumimos que existe un camino de $l_1$ a $l_m$, pero que el algoritmo no pudo encontrarlo.\n",
    "\n",
    "Llamemos $l_k$ al último lirio que alcanzó nuestro algoritmo, después del cual ya no pudo saltar a otro. En particular, esto implica que no pudo saltar al lirio $k+1$, por lo tanto:\n",
    "\n",
    "$$ l_k + r < l_{k+1}$$\n",
    "\n",
    "Como asumimos que existe un camino de $l_1$ a $l_m$, debe de haber algún salto en dicho camino que empieza antes de $l_{k+1}$, y que acaba en $l_{k+1}$, o algún lirio posterior. Este salto no puede hacerse desde $l_k$, así que debe de haberse hecho desde algún otro $l_s$, con $s<k$. Pero entonces tenemos:\n",
    "\n",
    "$$ l_s + r < l_k + r < l_{k+1}$$\n",
    "\n",
    "Es decir \n",
    "\n",
    "$$ l_s + r < l_{k+1}$$\n",
    "\n",
    "Lo cual no es válido.\n",
    "\n",
    "---\n",
    "\n",
    "Ahora, para probar la segunda propiedad, la idea es considerar una serie de saltos óptima $J^*$ arbitraria. Si podemos probar que la serie $J$ que genera nuestro algoritmo es \"tan buena\" como $J^*$, habremos terminado. \n",
    "\n",
    "Primero que nada, es fácil notar que $|J| \\geq |J^*|$, ya que cualquier solución tiene a lo mucho tantos saltos como la óptima. Nuestro objetivo es probar $|J| = |J^*|$.\n",
    "\n",
    "Denotamos $p_J(i)$ como la posición de la rana después de dar el $i$-ésimo salto listado en la lista $J$. De esto surge el primer lema:\n",
    "\n",
    "**Lema:** Para cada $0\\leq i\\leq |J^*|$, tenemos $p_J(i) \\geq p_{J^*}(i)$. Es decir, si consideramos dos ranas, una que sigue la lista *greedy* $J$ y otra que sigue la óptima $J^*$, tenemos que después de $i$ saltos, la *greedy* siempre estará o en la posición de la óptima, o más adelante.\n",
    "\n",
    "**Demostración**\n",
    "\n",
    "* Caso base: Como $i=0$, en este caso la posición de ambas es la misma, 0.\n",
    "* H.I.:  Arriba, para $0\\leq i < |J^*|$\n",
    "* Paso inductivo: Consideremos $i+1$. Existen dos casos posibles:\n",
    "    * Caso 1: $p_J(i) \\geq p_{J^*}(i+1)$. Como cada salto se mueve hacia adelante, tenemos:\n",
    "    \n",
    "    $$p_J(i+1) \\geq p_J(i)$$\n",
    "    \n",
    "    Entonces: \n",
    "    \n",
    "    $$p_J(i+1) \\geq p_{J^*}(i+1)$$\n",
    "    \n",
    "    * Caso 2: $p_J(i) < p_{J^*}(i+1)$ Cada salto es de tamaño a lo mucho $r$, entonces:\n",
    "    \n",
    "    $$p_{J^*}(i+1) \\leq p_{J^*}(i) + r$$\n",
    "    \n",
    "    Por nuestra H.I., sabemos que: \n",
    "    \n",
    "    $$p_J(i) \\geq p_{J^*}(i+1)$$\n",
    "    \n",
    "    Por lo que:\n",
    "    \n",
    "    $$ p_{J^*}(i+1) \\leq p_J(i) + r$$\n",
    "    \n",
    "    Por lo tanto, el algoritmo *greedy* puede brincar al menos a la posición $p_{J^*}(i+1)$. Por lo tanto:\n",
    "    \n",
    "    $$p_J(i+1) \\geq p_{J^*}(i+1)$$\n",
    "    \n",
    "Esto completa nuestra prueba de inducción.\n",
    "\n",
    "---\n",
    "\n",
    "Finalmente, podemos usar este lema para probar la segunda propiedad. Por lo mencionado anteriormente, sabemos que $|J^*| \\leq |J|$. Probaremos que $|J^*| \\geq |J|$.\n",
    "\n",
    "**Demostración:** Suponemos por contradicción que $|J^*| < |J|$. Sea $k=|J^*|$. Por el lema, tenemos:\n",
    "\n",
    "$$ n = p_{J^*}(k) \\leq p_J(k)$$\n",
    "\n",
    "Como la rana llega a la posición $n$ después de $k$ saltos de $J^*$, sabemos que:\n",
    "\n",
    "$$ n\\leq p_J(k)$$\n",
    "\n",
    "Luego, como el algoritmo *greedy* nunca se pasa de la posición $n$, sabemos:\n",
    "\n",
    "$$p_J(k) \\leq n$$.\n",
    "\n",
    "Por lo tanto:\n",
    "\n",
    "$$ n = p_J(k)$$\n",
    "\n",
    "Como asumimos que $|J^*| < |J|$, el algoritmo *greedy* debe de haber dado otro salto después de $k$, lo cual contradice el hecho de que paró después de haber llegado a la posición $n$.\n",
    "\n",
    "Por lo tanto, nuestra suposición es falsa, y $|J^*| = |J|$, lo cual nos dice que el algoritmo *greedy* produce una solución óptima."
   ]
  },
  {
   "cell_type": "markdown",
   "metadata": {},
   "source": [
    "## Greedy stays ahead\n",
    "\n",
    "Esta clase de pruebas se le conoce como *greedy stays ahead*. La estructura general es la siguiente:\n",
    "\n",
    "* Encontrar una serie de medidas/costos/penalizaciones $M_1, M_2, \\ldots, M_k$ que puedan aplicarse a cualquier solución.\n",
    "* Mostrar que las medidas del algoritmo *greedy* son al menos tan buenas como las de cualquier solución (usualmente por inducción).\n",
    "* Mostrar que como las medidas del algoritmo *greedy* son al menos tan buenas como las de cualquier solución, la solución *greedy* debe de ser óptima."
   ]
  },
  {
   "cell_type": "markdown",
   "metadata": {},
   "source": [
    "# Intervalos\n",
    "\n",
    "Antes habíamos visto ejemplos relacionados con gráficas de intervalos, donde lo que nos importaba era considerar las intersecciones de los intervalos por parejas. Consideremos ahora el siguiente problema: dado un conjunto de intervalos $[a_1, b_1], [a_2, b_2], \\dots, [a_n,b_n]$, encuentra un subconjunto de intervalos tal que cualesquiera dos no se intersecten, y que el subconjunto tenga la mayor cantidad de elementos posible.\n",
    "\n",
    "Un posible algoritmo sería considerar ordenar los intervalos según su longitud, de menor a mayor, e ir considerando los intervalos, checando que no se vayan intersectando. ¿Es este algoritmo correcto? Consideremos el siguiente ejemplo: \n",
    "\n",
    "$$[0,10], [12,20], [9,14]$$ \n",
    "\n",
    "Siguiendo el algoritmo propuesto, se tendría que al ordenar los intervalos por longitud: \n",
    "\n",
    "$$[9,14], [12,20], [0,10]$$\n",
    "\n",
    "Entonces se metería $[9,14]$ al conjunto, sin embargo ya no se podrían meter más intervalos. Notemos que este subconjunto no tiene la mayor cantidad posible, pues:\n",
    "\n",
    "$$[12,20], [0,10]$$ tiene dos elementos que no se intersectan.\n",
    "\n",
    "¿Qué pasa si ordenamos los intervalos según su extremo derecho? Ordenamos de menor a mayor, según el extremo derecho de los intervalos. Vamos iterando sobre la lista, y si nos encontramos con un intervalo tal que no se intersecta con los anteriores del subconjunto lo agregamos. ¿Este algoritmo funciona? Notemos que en el ejemplo previo sí obtenemos un subconjunto con la mayor cantidad de elementos posible."
   ]
  },
  {
   "cell_type": "code",
   "execution_count": 12,
   "metadata": {},
   "outputs": [
    {
     "name": "stdout",
     "output_type": "stream",
     "text": [
      "[(1, 4), (5, 8), (9, 10)]\n"
     ]
    }
   ],
   "source": [
    "L = [(7, 15), (1,8), (1, 4), (5, 8), (9, 10), (3, 7), (6,8)]\n",
    "\n",
    "L.sort(key=lambda x: x[1]) # Ordena los elementos según su segunda entrada\n",
    "\n",
    "ans = [L[0]]\n",
    "for i in range(1, len(L)):\n",
    "    if(L[i][0] > ans[-1][1]): # Si el extremo izquierdo es mayor que el derecho del último\n",
    "        ans.append(L[i])\n",
    "print(ans)"
   ]
  },
  {
   "cell_type": "markdown",
   "metadata": {},
   "source": [
    "El probar que este algoritmo siempre produce un subconjunto válido es fácil de hacer por inducción. Nos concentramos en probar que el subconjunto producido es óptimo. Para hacerlo, usamos un argumento de *greedy stays ahead*.\n",
    "\n",
    "Usamos la siguiente notación:\n",
    "\n",
    "* $S$: El subconjunto de intervalos generado por nuestro algoritmo.\n",
    "* $S^*$: El subconjunto de intervalos óptimo (nótese $|S|\\leq |S^*|$)\n",
    "* $S_i$: $i$-ésimo intervalo del conjunto $S$.\n",
    "* $f(S_i)$: Extremo derecho del $i$-ésimo intervalo de $S$.\n",
    "\n",
    "Ahora, probamos el siguiente lema:\n",
    "\n",
    "---\n",
    "\n",
    "**Lema:** Para cada $1\\leq i\\leq |S|$, tenemos $f(S_i) \\leq f(S^*_i)$. Es decir, el $i$-ésimo intervalo del algoritmo siempre acaba antes que el $i$-ésimo óptimo.\n",
    "\n",
    "**Demostración:** Probamos por inducción:\n",
    "\n",
    "* Caso base: Inmediato, ya por definición del algoritmo el primer intervalo de $S$ siempre termina antes que cualquier otro.\n",
    "* H.I.: Arriba, para $1\\leq i<|S|$.\n",
    "* Paso inductivo: Por H.I., tenemos que $S_i$ acaba antes que $S^*_i$. Como el intervalo $S^*_{i+1}$ necesariamente empieza después de que $S^*_i$ acaba, tenemos que también empieza después de que $S_i$ acaba. \n",
    "\n",
    "Por lo tanto, cuando el algoritmo *greedy* busca qué intervalo insertar en el paso $i+1$, $S^*_{i+1}$ es un posible candidato. Como en cada paso el algoritmo selecciona el intervalo que acaba antes, tenemos:\n",
    "\n",
    "$$ f(S_{i+1}) \\leq f(S^*_{i+1})\\qquad \\square$$\n",
    "\n",
    "---\n",
    "\n",
    "Con esto, probamos que el algoritmo es óptimo:\n",
    "\n",
    "La idea es la misma que en la de la rana: sabemos $|S|\\leq |S^*|$, probaremos $|S|\\geq |S^*|$. Asumimos por contradicción lo contrario, i.e. $|S|<|S^*|$. Sea $k=|S|$, por el lema sabemos que:\n",
    "\n",
    "$$f(S_k)\\leq f(S^*_k)$$\n",
    "\n",
    "Es decir, que el $k$-ésima intervalo de $S^*$ siempre acaba más tarde que el de $S$ (que coincide con ser el último de $S$). Como asumimos que $|S|<|S^*|$, $S^*$ tiene al menos un intervalo más, el cual naturalmente debe de empezar después de que acaba $S^*_k$, y por lo tanto después de que acaba $S_k$. \n",
    "\n",
    "Por lo tanto, después de que el algoritmo añadió el $k$-ésimo intervalo a $S$, es posible añadir todavía el intervalo $S^*_{k+1}$. Sin embargo, obtuvimos que $S_k$ era el último intervalo de $S$, lo cual es una contradicción.\n",
    "\n",
    "Por lo tanto, nuestra suposición es falsa y $|S|\\geq |S^*|$, con lo cual acabamos la prueba."
   ]
  },
  {
   "cell_type": "markdown",
   "metadata": {
    "id": "hFPV01cuIKTz"
   },
   "source": [
    "# Monedas\n",
    "\n",
    "Consideremos monedas con valores $1, 2, 5, 10$. Dado un entero positivo $n$, ¿cómo podemos encontrar el menor número de monedas con el que podemos sumar $n$?\n",
    "\n",
    "Un algoritmo greedy sería en cada momento, considerar el mayor valor que es menor o igual a $n$, y usar esa moneda, continuando con este proceso con el valor que resulta de restarle a $n$ el valor de la moneda usada.\n",
    "\n",
    "Veamos una implementación de esto:"
   ]
  },
  {
   "cell_type": "code",
   "execution_count": 33,
   "metadata": {
    "colab": {
     "base_uri": "https://localhost:8080/"
    },
    "id": "MvmcuMXkKKrl",
    "outputId": "8a6057bb-86e9-45b5-a120-afdacbfdfb9b"
   },
   "outputs": [
    {
     "name": "stdout",
     "output_type": "stream",
     "text": [
      "(10, [0, 0, 0, 10])\n",
      "(4, [0, 1, 1, 2])\n",
      "(8, [0, 0, 1, 7])\n"
     ]
    }
   ],
   "source": [
    "coins = [1, 2, 5, 10]\n",
    "\n",
    "def min_coins(n):\n",
    "    max_idx = len(coins) - 1\n",
    "    count = [0] * len(coins)\n",
    "    while n > 0:\n",
    "        count[max_idx] += n//coins[max_idx]\n",
    "        n -= count[max_idx] * coins[max_idx]\n",
    "        max_idx -= 1\n",
    "    return sum(count), count\n",
    "\n",
    "print(min_coins(100))\n",
    "print(min_coins(27))\n",
    "print(min_coins(75))"
   ]
  },
  {
   "cell_type": "markdown",
   "metadata": {
    "id": "4Ov-EyN4LZwx"
   },
   "source": [
    "conjuntoParece que nuestro algoritmo es correcto, ¿cómo demostrar que en efecto lo es? Muchas veces podemos proceder por contradicción o por inducción para demostrar la correctitud de una algoritmo greedy.\n",
    "\n",
    "Primero, probamos el siguiente lema:\n",
    "\n",
    "---\n",
    "\n",
    "**Lema:** Si nosotros sabemos que el algoritmo no usó ninguna moneda de $10$, entonces a lo mucho cambiamos $9$ pesos.\n",
    "\n",
    "**Demostración:** Primero, notemos que nuestro algoritmo utiliza a lo mucho una moneda de $1$, ya que de otra manera podría haberla sustituido por una de $2$. Por el mismo argumento, no puede usar tres monedas de $2$, ya que podría haberlas cambiado por una de $5$ y una de $1$. \n",
    "\n",
    "Por lo tanto, la suma máxima que podemos formar es:\n",
    "\n",
    "$$ 1 \\cdot 1 + 2 \\cdot 2 + 1 \\cdot 5 = 10 $$\n",
    "\n",
    "Pero si hubiésemos llegado a 10, podríamos haber cambiado las monedas por una de $10$. Por lo tanto, tenemos que detenernos en $10-1=9$. \n",
    "\n",
    "---\n",
    "\n",
    "Ahora, probamos la correctitud del algoritmo por inducción. \n",
    "\n",
    "Como caso base consideramos todos los enteros del 1 al 10, para los cuales es fácil ver que nuestro algoritmo sí nos da el menor número de monedas posible. \n",
    "\n",
    "Nuestra hipótesis de inducción será que el algoritmo cumple con darnos la menor cantidad de monedas posible para todo $k \\leq n$. \n",
    "\n",
    "Veamos que la afirmación es cierta para $n+1$. Como ya vimos que es cierto para todo entero positivo menor o igual a $10$, podemos suponer que $11 \\leq n+1$. \n",
    "\n",
    "Por el lema, dado que $n+1>10$, sabemos que el algoritmo utiliza al menos una moneda de $10$. Usándola, tenemos ahora $n+1-10$. Esta suma es menor que $n+1$, por lo cual por H.I. sabemos que el algoritmo nos dará una solución óptima. Finalmente, si añadimos la moneda de $10$ del principio a esta solución, tendremos una solución óptima para $n+1$.\n",
    "\n",
    "---\n",
    "\n",
    "Con esto hemos probado que el algoritmo greedy para esta distribución de monedas nos dice el menor número de monedas posible, ¿será cierto para cualquier destribución de monedas?\n",
    "\n",
    "Como es de esperarse, no. Hay diferentes cosas que pueden suceder para que el algoritmo no nos dé el menor número de monedas necesario.\n",
    "*   Puede suceder que exista $n$ tal que no se pueda formar con las monedas disponibles. Por ejemplo, si $\\{3, 7\\}$ son las posibles denominaciones de las monedas, no se puede formar el número $11$.\n",
    "*   También puede suceder que sí exista forma de llegar al número deseado, pero que nuestro algoritmo no nos diga correctamente el menor número de monedas necesarias, un ejemplo de esto es tener monedas con denominaciones $\\{1, 4, 7, 8, 10\\}$ y queremos formar el número $15$, siguiendo el algoritmo greedy se seleccionarán una moneda de $10$, otra de $4$ y otra de $1$, sin embargo, es posible usar menos monedas, seleccionando una de $8$ y otra de $7$.\n",
    "\n",
    "¿Se puede dar un algoritmo que siempre funcione independientemente de las denominaciones de las monedas? En efecto se puede, usando programación dinámica es posible garantizar encontrar la respuesta independientemente de las denominaciones (¿cómo hacemos esto?). Esto ilustra algo que es también bastante usual: si un algoritmo greedy no funciona, se puede encontrar una forma de resolver el problema usando programación dinámica, esto no es una regla pero suele ser bastante común.\n"
   ]
  },
  {
   "cell_type": "markdown",
   "metadata": {
    "id": "JEqNl2qhBkI4"
   },
   "source": [
    "**Ejercicios.**\n",
    "\n",
    "\n",
    "1.   Determina si el algoritmo descrito en el ejercicio 1 (el de las monedas) funciona si tenemos monedas con denominaciones potencias de $3$, es decir, si $\\{3^n | n \\in \\mathbb{N}_{0}\\}$ es el conjunto de denominaciones de las monedas. Desmuestra su correctitud e implementa el respectivo código en caso afirmativo o da un contraejemplo en caso negativo.\n",
    "2.   Dadas dos listas con $n$ enteros cada una, $L_1, L_2$ una operación permitida es seleccionar un elemento de $L_2$ y sumarle o restarle $1$. Describe un algoritmo que permita encontrar el menor número de operaciones permitidas para que $L_1$ y $L_2$ tengan los mismos números (no necesariamente en el mismo orden), prueba su correctitud e implementa el algoritmo.\n",
    "\n"
   ]
  },
  {
   "cell_type": "markdown",
   "metadata": {
    "id": "gj6sIprsIULh"
   },
   "source": [
    "*Ejercicio 1.* Aquí va tu demostración o tu contraejemplo, según sea el caso."
   ]
  },
  {
   "cell_type": "code",
   "execution_count": null,
   "metadata": {
    "id": "DbzvvgP9Icmt"
   },
   "outputs": [],
   "source": [
    "# Aquí va el código del algoritmo, en caso de haber obtenido una respuesta afirmativa"
   ]
  },
  {
   "cell_type": "markdown",
   "metadata": {
    "id": "BPi1x1WvIiYR"
   },
   "source": [
    "*Ejercicio 2.* Aquí va la descripción y prueba de correctitud de tu algoritmo."
   ]
  },
  {
   "cell_type": "code",
   "execution_count": null,
   "metadata": {
    "id": "FT0fKoQ9IuVQ"
   },
   "outputs": [],
   "source": [
    "# Aquí va la implementación del algoritmo descrito en la celda anterior"
   ]
  }
 ],
 "metadata": {
  "colab": {
   "collapsed_sections": [],
   "include_colab_link": true,
   "name": "Algoritmos voraces.ipynb",
   "provenance": []
  },
  "kernelspec": {
   "display_name": "Python 3 (ipykernel)",
   "language": "python",
   "name": "python3"
  },
  "language_info": {
   "codemirror_mode": {
    "name": "ipython",
    "version": 3
   },
   "file_extension": ".py",
   "mimetype": "text/x-python",
   "name": "python",
   "nbconvert_exporter": "python",
   "pygments_lexer": "ipython3",
   "version": "3.8.12"
  }
 },
 "nbformat": 4,
 "nbformat_minor": 4
}
