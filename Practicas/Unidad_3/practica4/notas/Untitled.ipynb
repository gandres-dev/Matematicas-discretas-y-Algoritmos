{
 "cells": [
  {
   "cell_type": "markdown",
   "id": "32bea8bd",
   "metadata": {},
   "source": [
    "### Mi algortimo de las monedas"
   ]
  },
  {
   "cell_type": "code",
   "execution_count": 1,
   "id": "a0719ffa",
   "metadata": {},
   "outputs": [],
   "source": [
    "def count(L, n, i=0, comb=None):    \n",
    "    \"\"\"Regresa la cantidad de formas de formar un entero n\"\"\"\n",
    "    if comb is None:\n",
    "        comb = []\n",
    "    \n",
    "    if i >= len(L):\n",
    "        return 0\n",
    "    \n",
    "    if n == 0:\n",
    "        print(comb)\n",
    "        return 1\n",
    "    \n",
    "    if L[i] > n:\n",
    "        return count(L, n, i+1, comb)\n",
    "    else:        \n",
    "        aux = comb.copy()\n",
    "        aux.append(L[i])\n",
    "        return count(L, n-L[i], i, aux) + count(L,n, i+1, comb)"
   ]
  },
  {
   "cell_type": "code",
   "execution_count": 2,
   "id": "e18c003c",
   "metadata": {},
   "outputs": [
    {
     "name": "stdout",
     "output_type": "stream",
     "text": [
      "[2, 2, 2, 2, 2]\n",
      "[2, 2, 2, 2, 2]\n",
      "[2, 2, 2, 2, 2]\n",
      "[2, 2, 2, 2, 2]\n",
      "[2, 2, 2, 2, 2]\n",
      "[2, 8]\n",
      "[2, 2, 2, 2, 2]\n",
      "[2, 8]\n",
      "[10]\n"
     ]
    },
    {
     "data": {
      "text/plain": [
       "9"
      ]
     },
     "execution_count": 2,
     "metadata": {},
     "output_type": "execute_result"
    }
   ],
   "source": [
    "L = [2, 2, 8, 10]\n",
    "# L = [2, 8, 4, 6]\n",
    "count(L, 10)"
   ]
  }
 ],
 "metadata": {
  "kernelspec": {
   "display_name": "Python 3",
   "language": "python",
   "name": "python3"
  },
  "language_info": {
   "codemirror_mode": {
    "name": "ipython",
    "version": 3
   },
   "file_extension": ".py",
   "mimetype": "text/x-python",
   "name": "python",
   "nbconvert_exporter": "python",
   "pygments_lexer": "ipython3",
   "version": "3.8.8"
  }
 },
 "nbformat": 4,
 "nbformat_minor": 5
}
