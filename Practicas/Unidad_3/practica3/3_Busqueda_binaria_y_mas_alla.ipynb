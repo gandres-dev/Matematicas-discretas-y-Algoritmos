{
 "cells": [
  {
   "cell_type": "markdown",
   "metadata": {
    "colab_type": "text",
    "id": "view-in-github"
   },
   "source": [
    "<a href=\"https://colab.research.google.com/github/RodolfoFigueroa/madi2022-1/blob/main/Unidad_3/3_Busqueda_binaria_y_mas_alla.ipynb\" target=\"_parent\"><img src=\"https://colab.research.google.com/assets/colab-badge.svg\" alt=\"Open In Colab\"/></a>"
   ]
  },
  {
   "cell_type": "code",
   "execution_count": 1,
   "metadata": {},
   "outputs": [],
   "source": [
    "import numpy as np"
   ]
  },
  {
   "cell_type": "markdown",
   "metadata": {
    "id": "ZEP-Y6N37H50"
   },
   "source": [
    "# Búsqueda binaria\n",
    "\n",
    "La búsqueda binaria es un constructo muy útil que sirve para mejorar el tiempo de ejecución de muchos algoritmos que operan sobre listas.\n",
    "\n",
    "## Intuición\n",
    "\n",
    "Imaginemos que tenemos una lista ordenada, y queremos determinar si contiene a un elemento $x$. Podríamos (ingenuamente) recorrer toda la lista y compara elemento por elemento; sin embargo, como la lista está ordenada, y asumiendo que estamos parados en un índice $i$, podemos notar lo siguiente:\n",
    "\n",
    "* Si $L_i < x$, entonces tenemos que checar solo los elementos a la derecha de $L_i$ (i.e., aquellos con un índice mayor a $i$), ya que sabemos que todos los elementos a la izquierda también serán menores que $x$.\n",
    "* Por el mismo razonamiento, si $x<L_i$, solo tenemos que checar los elementos a la izquierda.\n",
    "* Finalmente, si $x=L_i$, habremos terminado.\n",
    "\n",
    "Implementamos esto en la siguiente celda:"
   ]
  },
  {
   "cell_type": "code",
   "execution_count": 7,
   "metadata": {},
   "outputs": [],
   "source": [
    "def b_search(L, x):\n",
    "    l = 0\n",
    "    r = len(L) - 1\n",
    "    while l <= r:\n",
    "        m = (l+r)//2\n",
    "        if L[m] == x:\n",
    "            return m\n",
    "        elif L[m] > x:\n",
    "            r = m-1\n",
    "        elif L[m] < x:\n",
    "            l = m+1\n",
    "    return"
   ]
  },
  {
   "cell_type": "markdown",
   "metadata": {},
   "source": [
    "Tomando una lista de ejemplo:"
   ]
  },
  {
   "cell_type": "code",
   "execution_count": 8,
   "metadata": {},
   "outputs": [
    {
     "name": "stdout",
     "output_type": "stream",
     "text": [
      "[-10, -8, -8, -7, -7, -7, -6, -4, -3, -2, -1, -1, 0, 2, 4, 6, 7, 7, 8, 8]\n",
      "El 0 se encuentra en el índice 12\n"
     ]
    }
   ],
   "source": [
    "x = 0\n",
    "L = list(sorted(np.random.randint(-10, 10, 20)))\n",
    "print(L)\n",
    "\n",
    "idx = b_search(L, x)\n",
    "print(f\"El {x} se encuentra en el índice {idx}\")"
   ]
  },
  {
   "cell_type": "markdown",
   "metadata": {},
   "source": [
    "## Extensión\n",
    "\n",
    "Este método puede extenderse a toda clase de problemas que impliquen buscar sobre una lista hasta que uno de sus elementos cumpla una cierta condición. Para evitar estar reescribiendo la función anterior cada vez que queramos cambiarla, la generalizamos de la siguiente manera:"
   ]
  },
  {
   "cell_type": "code",
   "execution_count": 25,
   "metadata": {},
   "outputs": [],
   "source": [
    "def binary_search(L, det):\n",
    "    l = 0\n",
    "    r = len(L) - 1\n",
    "    while l <= r:\n",
    "        m = (l+r)//2\n",
    "        print('m:',m)\n",
    "        res = det(L, m)\n",
    "        if res == 0:\n",
    "            return m\n",
    "        elif res > 0:\n",
    "            r = m-1\n",
    "        elif res < 0:\n",
    "            l = m+1\n",
    "    return"
   ]
  },
  {
   "cell_type": "markdown",
   "metadata": {},
   "source": [
    "Nótese que cambiamos el argumento `x` por `det`. Esta es una función de dos argumentos que en cada iteración evaluamos sobre `(L, m)`, y consideramos su resultado de la siguiente forma:\n",
    "\n",
    "* Si `det(L, m) < 0`, tomamos la sublista de la izquierda.\n",
    "* Si `det(L, m) > 0`, tomamos la sublista de la derecha.\n",
    "* Si `det(L, m) = 0`, regresamos.\n",
    "\n",
    "Entonces, nuestro problema de búsqueda binaria original puede reescribirse con la función:\n",
    "\n",
    "$$\n",
    "det(L, m) = L[m] - x\n",
    "$$"
   ]
  },
  {
   "cell_type": "code",
   "execution_count": 24,
   "metadata": {},
   "outputs": [
    {
     "name": "stdout",
     "output_type": "stream",
     "text": [
      "El -7 se encuentra en el índice 4\n"
     ]
    }
   ],
   "source": [
    "x = -7\n",
    "det = lambda L, m: L[m] - x\n",
    "idx = binary_search(L, det)\n",
    "print(f\"El {x} se encuentra en el índice {idx}\")"
   ]
  },
  {
   "cell_type": "markdown",
   "metadata": {
    "id": "xT0MXIpA7cu9"
   },
   "source": [
    "# Ejemplos\n",
    "\n",
    "## Puntos fijos\n",
    "\n",
    "Consideremos una lista $L$ de números enteros en orden estrictamente creciente. Nuestro objetivo será determinar si existen o no puntos fijos, es decir, si existen elementos tales que $i = L[i]$.\n",
    "\n",
    "Podemos utilizar búsqueda binaria para este problema, ya que si estamos parados en un índice $i$, tenemos tres posibilidades:\n",
    "\n",
    "*   $i = L[i]$, en cuyo caso hemos terminado.\n",
    "*   $i < L[i]$, dado que $L$ tiene puros enteros, y están en orden creciente, se tiene que para cualquier $j > i$, $j < L[j]$, por lo que nos queda restringirnos a los índices menores que $i$.\n",
    "*   $i > L[i]$ de manera análoga al caso anterior se tiene que podemos restringir nuestra búsqueda a los índices mayores que $i$.\n",
    "\n",
    "Entonces, nuestra función determinante es simplemente:\n",
    "\n",
    "$$\n",
    "det(L, m) = L_m - m\n",
    "$$"
   ]
  },
  {
   "cell_type": "code",
   "execution_count": 26,
   "metadata": {
    "colab": {
     "base_uri": "https://localhost:8080/"
    },
    "id": "G6OjtMibE5s5",
    "outputId": "dfaed938-e348-4344-d58a-bb722594be97"
   },
   "outputs": [
    {
     "name": "stdout",
     "output_type": "stream",
     "text": [
      "m: 3\n",
      "m: 5\n",
      "m: 4\n",
      "El punto fijo está en el lugar 4\n"
     ]
    }
   ],
   "source": [
    "L = [-4, -1, 0, 1, 4, 6, 8]\n",
    "det = lambda L, m: L[m] - m\n",
    "idx = binary_search(L, det)\n",
    "print(f\"El punto fijo está en el lugar {idx}\")"
   ]
  },
  {
   "cell_type": "markdown",
   "metadata": {
    "id": "qtl9uhZhHVww"
   },
   "source": [
    "## Raíz cuadrada\n",
    "\n",
    "Hasta ahora hemos visto ejemplos de búsqueda binaria en casos discretos, ¿se puede hacer búsqueda binaria en casos no discretos? Un ejemplo de esto es que podemos encontrar el valor de $\\sqrt{x}$ usando estas ideas, ya que se cumplen las propiedades para poder hacer este tipo de búsqueda:\n",
    "\n",
    "*   Si $a^2 < x$, entonces podemos restringir nuestra búsqueda a números mayores que $a$.\n",
    "*   Si $a^2 > x$, podemos restringir la búsqueda a números menores que $a$.\n",
    "*   Si $a^2 = x$, hemos terminado.\n",
    "\n",
    "Antes de proceder a la implementación, debemos cosiderar dos cosas: La primera es que no podemos ser tan optimistas de encontrar el valor exacto de $\\sqrt{x}$, por lo que debemos definir un margen de error. La segunda es que primero debemos deifnir nuestro intervalo de búsqueda: para $x>1$ tomaremos el rango $[1,x]$, mientras que para $x\\leq 1$, tomaremos el intervalo $[0,1]$."
   ]
  },
  {
   "cell_type": "code",
   "execution_count": 5,
   "metadata": {
    "colab": {
     "base_uri": "https://localhost:8080/"
    },
    "id": "Nd3IbGOgLt7j",
    "outputId": "d53ecefd-f387-4831-c0b3-15b5509b150c"
   },
   "outputs": [
    {
     "name": "stdout",
     "output_type": "stream",
     "text": [
      "12.000000010244548\n"
     ]
    }
   ],
   "source": [
    "def sqrt(x, e=1e-6):\n",
    "    if x < 0:\n",
    "        raise Exception(\"El número no tiene raíz cuadrada en los reales\")\n",
    "    elif x >= 1:\n",
    "        l, r = 1, x\n",
    "    else:\n",
    "        l, r = 0, 1\n",
    "        \n",
    "    while l < r:\n",
    "        m = (l+r)/2\n",
    "        aux = m*m\n",
    "        if abs(aux - x) < e:\n",
    "            return m\n",
    "        elif aux > x:\n",
    "            r = m\n",
    "        elif aux < x:\n",
    "            l = m\n",
    "    return (l+r)/2\n",
    "\n",
    "print(sqrt(144))"
   ]
  },
  {
   "cell_type": "markdown",
   "metadata": {
    "id": "7cmTBlVpPRq2"
   },
   "source": [
    "## Picos\n",
    "\n",
    "Aupongamos ahora que tenemos una lista (con al menos tres elementos) en forma de pico, es decir, que existe un elemento tal que todos los elementos antes de él estan en orden creciente, y todos los elementos posteriores están en orden decreciente. ¿Cómo encontrar el elemento más grande de $L$?\n",
    "\n",
    "Notemos que el elemento más grande es justamente el que está en el pico, y para encontrarlo podemos usar búsqueda binaria, considerando las siguientes observaciones. Si estamos parados en el $i-$ésimo elemento, se tienen tres casos:\n",
    "\n",
    "*   $L[i-1] < L[i] < L[i+1]$, en este caso, sabemos que el 'pico' se encuentra a la derecha de $i$.\n",
    "*   $L[i-1] > L[i] > L[i+1]$, en este caso, sabemos que el 'pico' se encuentra a la izquierda de $i$.\n",
    "*   $L[i-1] < L[i]$ y $L[i] > L[i+1]$, en este caso hemos encontrado el 'pico' de la lista, pues es el único elemento que cumple ambas desigualdades.\n",
    "\n",
    "Veamos la implementación de este algoritmo. Notemos que debemos tener cuidado con que $i$ sea algún valor de los extremos de la lista.\n",
    "\n"
   ]
  },
  {
   "cell_type": "code",
   "execution_count": 14,
   "metadata": {
    "colab": {
     "base_uri": "https://localhost:8080/"
    },
    "id": "gdp5pyCThy0W",
    "outputId": "d3391254-911f-4034-f64d-01e020dfdade"
   },
   "outputs": [
    {
     "name": "stdout",
     "output_type": "stream",
     "text": [
      "El pico está en la posición 5 y es 6\n"
     ]
    }
   ],
   "source": [
    "def peak(L):\n",
    "    l = 0\n",
    "    r = len(L) - 1\n",
    "    while l <= r:\n",
    "        m = (l+r)//2\n",
    "        if m == 0:\n",
    "            if L[0] < L[1] :\n",
    "                return 1\n",
    "            else:\n",
    "                return 0\n",
    "        elif m == len(L) - 1:\n",
    "            if(L[m] > L[m-1]):\n",
    "                return m\n",
    "            else:\n",
    "                return m-1\n",
    "        else:\n",
    "            if L[m-1] < L[m]:\n",
    "                if(L[m] < L[m+1]):\n",
    "                    l = m+1\n",
    "                else:\n",
    "                    return m\n",
    "            else:\n",
    "                r = m-1\n",
    "    return l\n",
    "\n",
    "Lista = [1, 2, 3, 4, 5, 6, 4, 2, 0]\n",
    "idx = peak(Lista)\n",
    "print('El pico está en la posición', idx, 'y es', Lista[idx])"
   ]
  },
  {
   "cell_type": "markdown",
   "metadata": {
    "id": "jPbNU9CSj7JI"
   },
   "source": [
    "Notemos que lo pudimos haber resuelto con un tipo de 'counting sort', conservando en cada momento el mayor valor que hemos visto al recorrer la lista, sin embargo hacer esto tiene complejidad $O(n)$ en tiempo, mientras que con la búsqueda binaria se reduce a $O(log \\; n)$.\n",
    "\n",
    "En el espíritu del ejemplo anterior, ¿podemos pasar de este algoritmo a un ejemplo que no sea discreto? Es decir, supongamos que se tiene una función $f : [a,b] \\rightarrow \\mathbb{R}$ tal que existe $c \\in [a,b]$ que cumple que para cualesquiera $x < y \\in [a,c]$ se tiene $f(x) < f(y)$ mientras que para cualesquiera $x < y \\in [c, b]$ se tiene que $f(x) > f(y)$. ¿Podemos encontrar el valor de $c$ con búsqueda binaria?\n",
    "\n",
    "Después de analizar este problema un rato, podemos notar que la búsqueda binaria nos permite únicamente investigar por un elemento a la vez, lo que no es suficiente en nuestro caso, ¿qué pasa si en lugar de investigar por un único elemento, investigamos por dos? Es decir, en lugar de analizar el elemento de enmedio y con esto tomar una decisión, analizaremos los elementos que surgen de partir el intervalo en tres, y esto nos permitirá eliminar una de las terceras partes en las que se partió el intervalo.\n",
    "\n",
    "Para poder hacer todo esto, sean $m_1, m_2$ los puntos que dividen al intervalo $[l,r]$ en tres, hagamos algunas observaciones:\n",
    "\n",
    "*   Si $f(m_1) < f(m_2)$, se tiene que podemos descartar el intervalo $[l, m_1]$.\n",
    "*   Si $f(m_1) > f(m_2)$, se tiene que podemos descartar el intervalo $[m_2, r]$\n",
    "*   Si $f(m_1) = f(m_2)$, podemos descartar tanto el intervalo $[l, m_1]$ como $[m_2, r]$, ya que sabemos que el mayor estará enmedio.\n",
    "\n",
    "Veamos una implementación de este algoritmo. Encontraremos el máximo de la función $x^3 + 3x^2$ en el intervalo $[-3,0]$. Al igual que en el ejemplo anterior, tenemos que definir un intervalo de error, para definir la precisión de nuestro resultado.\n",
    "\n"
   ]
  },
  {
   "cell_type": "code",
   "execution_count": 4,
   "metadata": {},
   "outputs": [],
   "source": [
    "import matplotlib.pyplot as plt"
   ]
  },
  {
   "cell_type": "code",
   "execution_count": 5,
   "metadata": {
    "colab": {
     "base_uri": "https://localhost:8080/"
    },
    "id": "6B5Nuw60oiuk",
    "outputId": "663f9f23-6379-4f56-ceab-5c91d39f7eda"
   },
   "outputs": [
    {
     "data": {
      "text/plain": [
       "-2.000000042236351"
      ]
     },
     "execution_count": 5,
     "metadata": {},
     "output_type": "execute_result"
    }
   ],
   "source": [
    "def peakC(f, l, r, e=1e-6):\n",
    "    while r - l >= e:\n",
    "        m1 = l + (r-l)/3\n",
    "        m2 = r - (r-l)/3\n",
    "        f1 = f(m1)\n",
    "        f2 = f(m2)\n",
    "        if f1 < f2:\n",
    "            l = m1\n",
    "        elif f1 > f2:\n",
    "            r = m2\n",
    "        elif f1 == f2:\n",
    "            l = m1\n",
    "            r = m2\n",
    "    return (r+l)/2\n",
    "\n",
    "f = lambda x: x**3 + 3 * x**2\n",
    "peakC(f, -3,0)"
   ]
  },
  {
   "cell_type": "code",
   "execution_count": 6,
   "metadata": {},
   "outputs": [
    {
     "data": {
      "text/plain": [
       "[<matplotlib.lines.Line2D at 0x7fbe6c0b9520>]"
      ]
     },
     "execution_count": 6,
     "metadata": {},
     "output_type": "execute_result"
    },
    {
     "data": {
      "image/png": "[encoded data removed]",
      "text/plain": [
       "<Figure size 432x288 with 1 Axes>"
      ]
     },
     "metadata": {
      "needs_background": "light"
     },
     "output_type": "display_data"
    }
   ],
   "source": [
    "x = np.linspace(-5, 0, 100)\n",
    "y = f(x)\n",
    "plt.plot(x, y)"
   ]
  },
  {
   "cell_type": "markdown",
   "metadata": {
    "id": "xs9Qt2eeAP2p"
   },
   "source": [
    "## Sublista con suma máxima\n",
    "\n",
    "Dada una lista $L$ de números reales, encontrar la mayor suma posible de una sublista no vacía (con elementos contiguos).\n",
    "\n",
    "El problema se puede resolver de forma sencilla iterando sobre los posibles extremos de la lista, sin embargo, esto nos da una complejidad de al menos $O(n^2)$, ¿se puede mejorar?\n",
    "\n",
    "Consideremos dividir el problema de la siguiente forma: \n",
    "\n",
    "*   Sea $m$ la mitad de la longitud de la lista (que es $n$).\n",
    "*   Resolvemos el problema para la lista formada por $[L_0, L_1, \\ldots, L_{m-1}]$.\n",
    "*   Resolvemos el problema para la lista formada por $[L_{m+1}, L_{m+2}, \\ldots, L_n]$.\n",
    "*   Encontramos la lista de mayor suma que contiene al elemento $L_m$ (lo cual se puede hacer en $O(n)$). Basta con encontrar la mayor suma por la derecha y la mayor suma por la izquierda para listas que contengan a $L_m$.\n",
    "*   Devolvemos el mayor valor encontrado.\n",
    "\n",
    "Podemos notar que este algoritmo tiene una complejidad de $O(n \\; log n)$. Veamos su implementación."
   ]
  },
  {
   "cell_type": "code",
   "execution_count": 18,
   "metadata": {
    "colab": {
     "base_uri": "https://localhost:8080/"
    },
    "id": "x4-A_pTOVWdT",
    "outputId": "0ba290a5-af18-4b51-e5c7-ef709db0f8f3"
   },
   "outputs": [
    {
     "data": {
      "text/plain": [
       "7"
      ]
     },
     "execution_count": 18,
     "metadata": {},
     "output_type": "execute_result"
    }
   ],
   "source": [
    "def max_sum(L, l=None, r=None):\n",
    "    if l is None:\n",
    "        l = 0\n",
    "    if r is None:\n",
    "        r = len(L) - 1\n",
    "        \n",
    "    if l == r:\n",
    "        return L[l]\n",
    "    elif l == r - 1:\n",
    "        return max(L[l], L[r], L[r]+L[l])\n",
    "    \n",
    "    m = (l+r)//2\n",
    "    m1 = max_sum(L, l, m-1)\n",
    "    m2 = max_sum(L, m+1, r)\n",
    "    sum_r = L[m]\n",
    "    sum_l = L[m]\n",
    "    max_r = L[m]\n",
    "    max_l = L[m]\n",
    "    idx = m+1\n",
    "    while idx <= r:\n",
    "        sum_r += L[idx]\n",
    "        if sum_r > max_r:\n",
    "            max_r = sum_r\n",
    "        idx += 1\n",
    "    idx = m-1\n",
    "    while idx >= l:\n",
    "        sum_l += L[idx]\n",
    "        if sum_l > max_l:\n",
    "            max_l = sum_l\n",
    "        idx -= 1\n",
    "    Mmax = max_r + max_l - L[m]\n",
    "    return max(Mmax, m1, m2)\n",
    "\n",
    "L = [-2, -5, 6, -2, -3, 1, 5, -6]\n",
    "max_sum(L)"
   ]
  },
  {
   "cell_type": "markdown",
   "metadata": {
    "id": "NlH2YcNySb1y"
   },
   "source": [
    "**Ejercicios**\n",
    "\n",
    "\n",
    "1.  Dada una lista de números reales $L$, describe e implementa un algoritmo con complejidad en tiempo menor a $O(n^2)$ que cuente el número de inversiones en la lista, es decir, que cuente cuántas parejas $(i,j)$ cumplen que $i < j$ pero $L[i] > L[j]$. (Hint: Merge sort). Muestra un ejemplo en una lista de tu elección."
   ]
  },
  {
   "cell_type": "markdown",
   "metadata": {
    "id": "E0B-afHQYt9Z"
   },
   "source": [
    "*Ejercicio 1.* Como hint, recuerda cómo funciona merge sort. Cuenta las inversiones en la primera mitad y en la segund mitad de la lista. Resta contar cuántas inversiones tienen un elemento en cada mitad, estas se pueden ir contando en el proceso de unión de las listas que se hace en el algoritmo de merge sort."
   ]
  },
  {
   "cell_type": "markdown",
   "metadata": {
    "id": "MMhUxcmMZEku"
   },
   "source": [
    "(Aquí va la descripción de tu algoritmo)\n",
    "\n",
    "La idea esta algortirmo es ir contando las inversiones aprovachenado el algoritmo de merge sort, es decir, separaremos nuestro arreglo a la mitad hasta llegar a la minima expresion, que es cuando tengamos un solo elemento, despues uniremos con la funcion `merge()` y aqui es donde se encontrara la escencia del algortimo, cuando hagamos `merge()` iremos contando las inversiones y a la vez estaremos ordenando. Aprovechando esto, cuando nuestros subarreglos izquiero y derecho vayan creciendo se vera visible una propiedad por el hecho de estar ordenada, que es cuando verifiquemos si $L_i > L_j$, si cumple sabremos la cantidad de inversiones faltantes que sera $m-i$ donde $m$ es el punto medio o punto inicial de $j$ del subarreglo derecho, ya que sabemos que si $Li > L_j$ entonces los subsecuentes tambien los sera por el hecho de estar ordenados, es decir, $L_{i+1}, L_{i+2},\\ldots, L_{i-m} > L_j$.\n",
    "\n"
   ]
  },
  {
   "cell_type": "code",
   "execution_count": 72,
   "metadata": {},
   "outputs": [],
   "source": [
    "def merge_inversion(L, l, r):    \n",
    "    if r-l == 0:\n",
    "        return 0\n",
    "    m = (l+r)//2\n",
    "    print(\"j\")\n",
    "    invers_left  = merge_inversion(L, l, m)\n",
    "    invers_right = merge_inversion(L, m+1, r)\n",
    "    invers = merge(L,l,m+1,r)\n",
    "    return invers + invers_left + invers_right\n",
    "    \n",
    "def merge(L, i,j,r):   \n",
    "    print('---merge--')\n",
    "    print(L)\n",
    "    izq = L[i:j]\n",
    "    der = L[j:r+1]\n",
    "    print(izq)\n",
    "    print(der)\n",
    "    print('i:',i)\n",
    "    print('j',j)\n",
    "    print('r',r)\n",
    "    inicio = i\n",
    "    m = j\n",
    "    print('m:',m)\n",
    "    invers = 0    \n",
    "    new = []\n",
    "    while i < m and j <= r:\n",
    "        if L[i] > L[j]:\n",
    "            print(' con L[i] {} y L[j]: {}'.format(L[i], L[j]))\n",
    "            invers += m-i\n",
    "            new.append(L[j])\n",
    "            j += 1\n",
    "        else:\n",
    "            print('Entro al else con L[i] {} y L[j]: {}'.format(L[i], L[j]))\n",
    "            new.append(L[i])\n",
    "            i += 1\n",
    "    # Vaciamos los restantes\n",
    "    if i == m:\n",
    "        new = new + L[j:r+1]\n",
    "    else:\n",
    "        new = new + L[i:m]        \n",
    "    print('new:',new)\n",
    "    L[inicio:r+1] = new\n",
    "    print('inver:',invers)\n",
    "    print(L)\n",
    "    print('---')\n",
    "    return invers"
   ]
  },
  {
   "cell_type": "code",
   "execution_count": 75,
   "metadata": {},
   "outputs": [
    {
     "name": "stdout",
     "output_type": "stream",
     "text": [
      "j\n",
      "j\n",
      "j\n",
      "---merge--\n",
      "[6, 1, 5, 2, 3, 8, 4, 2]\n",
      "[6]\n",
      "[1]\n",
      "i: 0\n",
      "j 1\n",
      "r 1\n",
      "m: 1\n",
      " con L[i] 6 y L[j]: 1\n",
      "new: [1, 6]\n",
      "inver: 1\n",
      "[1, 6, 5, 2, 3, 8, 4, 2]\n",
      "---\n",
      "j\n",
      "---merge--\n",
      "[1, 6, 5, 2, 3, 8, 4, 2]\n",
      "[5]\n",
      "[2]\n",
      "i: 2\n",
      "j 3\n",
      "r 3\n",
      "m: 3\n",
      " con L[i] 5 y L[j]: 2\n",
      "new: [2, 5]\n",
      "inver: 1\n",
      "[1, 6, 2, 5, 3, 8, 4, 2]\n",
      "---\n",
      "---merge--\n",
      "[1, 6, 2, 5, 3, 8, 4, 2]\n",
      "[1, 6]\n",
      "[2, 5]\n",
      "i: 0\n",
      "j 2\n",
      "r 3\n",
      "m: 2\n",
      "Entro al else con L[i] 1 y L[j]: 2\n",
      " con L[i] 6 y L[j]: 2\n",
      " con L[i] 6 y L[j]: 5\n",
      "new: [1, 2, 5, 6]\n",
      "inver: 2\n",
      "[1, 2, 5, 6, 3, 8, 4, 2]\n",
      "---\n",
      "j\n",
      "j\n",
      "---merge--\n",
      "[1, 2, 5, 6, 3, 8, 4, 2]\n",
      "[3]\n",
      "[8]\n",
      "i: 4\n",
      "j 5\n",
      "r 5\n",
      "m: 5\n",
      "Entro al else con L[i] 3 y L[j]: 8\n",
      "new: [3, 8]\n",
      "inver: 0\n",
      "[1, 2, 5, 6, 3, 8, 4, 2]\n",
      "---\n",
      "j\n",
      "---merge--\n",
      "[1, 2, 5, 6, 3, 8, 4, 2]\n",
      "[4]\n",
      "[2]\n",
      "i: 6\n",
      "j 7\n",
      "r 7\n",
      "m: 7\n",
      " con L[i] 4 y L[j]: 2\n",
      "new: [2, 4]\n",
      "inver: 1\n",
      "[1, 2, 5, 6, 3, 8, 2, 4]\n",
      "---\n",
      "---merge--\n",
      "[1, 2, 5, 6, 3, 8, 2, 4]\n",
      "[3, 8]\n",
      "[2, 4]\n",
      "i: 4\n",
      "j 6\n",
      "r 7\n",
      "m: 6\n",
      " con L[i] 3 y L[j]: 2\n",
      "Entro al else con L[i] 3 y L[j]: 4\n",
      " con L[i] 8 y L[j]: 4\n",
      "new: [2, 3, 4, 8]\n",
      "inver: 3\n",
      "[1, 2, 5, 6, 2, 3, 4, 8]\n",
      "---\n",
      "---merge--\n",
      "[1, 2, 5, 6, 2, 3, 4, 8]\n",
      "[1, 2, 5, 6]\n",
      "[2, 3, 4, 8]\n",
      "i: 0\n",
      "j 4\n",
      "r 7\n",
      "m: 4\n",
      "Entro al else con L[i] 1 y L[j]: 2\n",
      "Entro al else con L[i] 2 y L[j]: 2\n",
      " con L[i] 5 y L[j]: 2\n",
      " con L[i] 5 y L[j]: 3\n",
      " con L[i] 5 y L[j]: 4\n",
      "Entro al else con L[i] 5 y L[j]: 8\n",
      "Entro al else con L[i] 6 y L[j]: 8\n",
      "new: [1, 2, 2, 3, 4, 5, 6, 8]\n",
      "inver: 6\n",
      "[1, 2, 2, 3, 4, 5, 6, 8]\n",
      "---\n",
      "14\n"
     ]
    }
   ],
   "source": [
    "L = [6,1,5,2,3,8,4,2]\n",
    "a = merge_inversion(L, 0, len(L)-1)\n",
    "print(a)"
   ]
  },
  {
   "cell_type": "code",
   "execution_count": 65,
   "metadata": {},
   "outputs": [
    {
     "data": {
      "text/plain": [
       "[1, 2, 3, 4, 99, 6, 4, 2]"
      ]
     },
     "execution_count": 65,
     "metadata": {},
     "output_type": "execute_result"
    }
   ],
   "source": [
    "# Prueba de slicing\n",
    "L = [6,1,5,2,99,6,4,2]\n",
    "new = [1,2,3,4]\n",
    "L[0:4] = new\n",
    "L"
   ]
  },
  {
   "cell_type": "markdown",
   "metadata": {},
   "source": [
    "- https://www.youtube.com/watch?v=k9RQh21KrH8&ab_channel=GeeksforGeeks\n",
    "- https://stackoverflow.com/questions/54759750/algorithm-number-of-inversions-python"
   ]
  },
  {
   "cell_type": "markdown",
   "metadata": {
    "id": "NlH2YcNySb1y"
   },
   "source": [
    "2.   Usando búsqueda ternaria, encuentra el menor valor de $x^3 - 4x^2$ en el intervalo $[0,4]$."
   ]
  },
  {
   "cell_type": "markdown",
   "metadata": {
    "id": "CZH7R2NqZYhk"
   },
   "source": [
    "*Ejercicio 2.* Escribe a continuación el código correspondiente.\n",
    "\n",
    "\n",
    "*   Si $f(m_1) > f(m_2)$, se tiene que podemos descartar el intervalo $[l, m_1]$.\n",
    "*   Si $f(m_1) < f(m_2)$, se tiene que podemos descartar el intervalo $[m_2, r]$\n",
    "*   Si $f(m_1) = f(m_2)$, podemos descartar tanto el intervalo $[l, m_1]$ como $[m_2, r]$, ya que sabemos que el mayor estará enmedio."
   ]
  },
  {
   "cell_type": "code",
   "execution_count": 11,
   "metadata": {
    "id": "ADDS3SgfZj6v"
   },
   "outputs": [
    {
     "data": {
      "text/plain": [
       "2.6666665194969155"
      ]
     },
     "execution_count": 11,
     "metadata": {},
     "output_type": "execute_result"
    }
   ],
   "source": [
    "# Aquí va el código para la búsqueda ternaria solicitada\n",
    "def peakC(f, l, r, e=1e-6):\n",
    "    while r - l >= e:\n",
    "        m1 = l + (r-l)/3\n",
    "        m2 = r - (r-l)/3\n",
    "        f1 = f(m1)\n",
    "        f2 = f(m2)\n",
    "        if f1 > f2:\n",
    "            l = m1\n",
    "        elif f1 < f2:\n",
    "            r = m2\n",
    "        elif f1 == f2:\n",
    "            l = m1\n",
    "            r = m2\n",
    "    return (r+l)/2\n",
    "\n",
    "f = lambda x: x**3 - 4 * x**2\n",
    "peakC(f, 0,4)"
   ]
  },
  {
   "cell_type": "code",
   "execution_count": 13,
   "metadata": {},
   "outputs": [
    {
     "data": {
      "text/plain": [
       "[<matplotlib.lines.Line2D at 0x7fbe580bf7c0>]"
      ]
     },
     "execution_count": 13,
     "metadata": {},
     "output_type": "execute_result"
    },
    {
     "data": {
      "image/png": "[encoded data removed]",
      "text/plain": [
       "<Figure size 432x288 with 1 Axes>"
      ]
     },
     "metadata": {
      "needs_background": "light"
     },
     "output_type": "display_data"
    }
   ],
   "source": [
    "x = np.linspace(0, 4, 100)\n",
    "y = f(x)\n",
    "plt.plot(x, y)"
   ]
  }
 ],
 "metadata": {
  "colab": {
   "collapsed_sections": [],
   "include_colab_link": true,
   "name": "Búsqueda binaria y más allá.ipynb",
   "provenance": []
  },
  "kernelspec": {
   "display_name": "Python 3",
   "language": "python",
   "name": "python3"
  },
  "language_info": {
   "codemirror_mode": {
    "name": "ipython",
    "version": 3
   },
   "file_extension": ".py",
   "mimetype": "text/x-python",
   "name": "python",
   "nbconvert_exporter": "python",
   "pygments_lexer": "ipython3",
   "version": "3.8.8"
  }
 },
 "nbformat": 4,
 "nbformat_minor": 4
}
