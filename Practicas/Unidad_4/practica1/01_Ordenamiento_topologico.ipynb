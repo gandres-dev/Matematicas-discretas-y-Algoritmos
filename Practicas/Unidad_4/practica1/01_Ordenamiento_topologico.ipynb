{
 "cells": [
  {
   "cell_type": "markdown",
   "id": "2f83eabf-539c-4383-b5ab-f87537f98193",
   "metadata": {},
   "source": [
    "<a href=\"https://colab.research.google.com/github/RodolfoFigueroa/madi2022-1/blob/main/Unidad_4/01_Ordenamiento_topologico.ipynb\" target=\"_parent\"><img src=\"https://colab.research.google.com/assets/colab-badge.svg\" alt=\"Open In Colab\"/></a>"
   ]
  },
  {
   "cell_type": "code",
   "execution_count": 1,
   "id": "435a1483-4625-4f6b-83bd-bdf93d3dd053",
   "metadata": {},
   "outputs": [],
   "source": [
    "import networkx as nx\n",
    "from queue import deque"
   ]
  },
  {
   "cell_type": "markdown",
   "id": "30192a52-0ef5-408a-ada4-38217a7fa484",
   "metadata": {},
   "source": [
    "En esta libreta, veremos un recordatorio de ordenamiento topológico, y cómo puede aplicarse para resolver distintos problemas.\n",
    "\n",
    "# Definición\n",
    "\n",
    "Copiando lo que habíamos escrito en la libreta `6_NetworkX_para_graficas_planares_y_dirigidas` (Unidad 1), tenemos que un ordenamiento topológico de los vértices de una gráfica dirigida cumple que, si existe una arista del vértice $u$ al vértice $v$, entonces $u$ viene antes de $v$ en el ordenamiento.\n",
    "\n",
    "Por ejemplo, tomando la siguiente gráfica:"
   ]
  },
  {
   "cell_type": "code",
   "execution_count": 60,
   "id": "3f67b30c-4de7-4552-b2ff-6ab3297c9f74",
   "metadata": {},
   "outputs": [
    {
     "data": {
      "image/png": "[encoded data removed]",
      "text/plain": [
       "<Figure size 432x288 with 1 Axes>"
      ]
     },
     "metadata": {},
     "output_type": "display_data"
    }
   ],
   "source": [
    "g = nx.DiGraph()\n",
    "g.add_nodes_from([0,1,2,3,4,5,6,7])\n",
    "g.add_edges_from([(0,3), (1,3), (1,4), (2,4), (2,7), (3,5), (3,6), (3,7), (4,6)])\n",
    "pos = {i: (i%3, 3-i//3*3) for i in g.nodes}\n",
    "pos[5], pos[6], pos[7] = [0,-3], [1,-3], [2,-3]\n",
    "nx.draw(g, with_labels=True, pos=pos)"
   ]
  },
  {
   "cell_type": "markdown",
   "id": "7f699054-df1c-4a9d-bc95-b93cb84ebaf3",
   "metadata": {},
   "source": [
    "Algunos ordenamientos posibles son:\n",
    "\n",
    "* 0, 1, 2, 3, 4, 5, 6, 7\n",
    "* 2, 0, 1, 4, 3, 5, 6, 7\n",
    "* 0, 1, 2, 4, 3, 7, 6, 5\n",
    "\n",
    "Una manera sencilla de comprobar si un ordenamiento es válido es colocar a todos los vértices en una fila, siguiendo el ordenamiento de izquierda a derecha. Si todas las aristas apuntan hacia la derecha, entonces es válido.\n",
    "\n",
    "# Algoritmos\n",
    "\n",
    "## Post-order\n",
    "\n",
    "En la libreta previamente mencionada, probamos que una manera de generar un ordenamiento topológico es la de recorrer la gráfica en reverse postorder, lo cual se ve reflejado en la siguiente función:"
   ]
  },
  {
   "cell_type": "code",
   "execution_count": 61,
   "id": "1c03ca8f-ed9f-450c-a967-ba748d1f408c",
   "metadata": {},
   "outputs": [],
   "source": [
    "def _order_handler(g, v, kind, visited=None, out=None): \n",
    "    visited[v] = True\n",
    "    if kind == 'preorder':\n",
    "        out.append(v)\n",
    "    for u in g.adj[v]:\n",
    "        if not visited[u]:\n",
    "            _order_handler(g, u, kind, visited, out) # recursion\n",
    "    if kind != 'preorder': # postorder or reverse_postorder\n",
    "        out.append(v)\n",
    "\n",
    "\n",
    "def order(g, kind):\n",
    "    visited = [False] * len(g.nodes)\n",
    "    out = []\n",
    "    for n in g.nodes:\n",
    "        if not visited[n]:\n",
    "            _order_handler(g, n, kind, visited, out)\n",
    "            \n",
    "    if kind == 'reverse_postorder':\n",
    "        return out[::-1]\n",
    "    else:\n",
    "        return out"
   ]
  },
  {
   "cell_type": "markdown",
   "id": "168a44a4-d527-4929-8951-4a3814d59d0d",
   "metadata": {},
   "source": [
    "Aplicándola a nuestra gráfica anterior:"
   ]
  },
  {
   "cell_type": "code",
   "execution_count": 62,
   "id": "020c6135-7e56-4ed5-ad04-639ef16f4923",
   "metadata": {},
   "outputs": [
    {
     "data": {
      "text/plain": [
       "[2, 1, 4, 0, 3, 7, 6, 5]"
      ]
     },
     "execution_count": 62,
     "metadata": {},
     "output_type": "execute_result"
    }
   ],
   "source": [
    "res = order(g, 'reverse_postorder')\n",
    "res"
   ]
  },
  {
   "cell_type": "markdown",
   "id": "81bd52be-6121-4db5-a18e-5bc4c7a04caf",
   "metadata": {},
   "source": [
    "Podemos comprobar a ojo que es un ordenamiento correcto:"
   ]
  },
  {
   "cell_type": "code",
   "execution_count": 63,
   "id": "4a25f6c5-d91e-4b40-9cff-03a71d454804",
   "metadata": {},
   "outputs": [
    {
     "data": {
      "image/png": "[encoded data removed]",
      "text/plain": [
       "<Figure size 432x288 with 1 Axes>"
      ]
     },
     "metadata": {},
     "output_type": "display_data"
    }
   ],
   "source": [
    "def pos_order(order):\n",
    "    pos = {}\n",
    "    for i, p in enumerate(order):\n",
    "        pos[p] = (i,0)\n",
    "    return pos\n",
    "\n",
    "pos = pos_order(res)\n",
    "nx.draw(g, pos=pos, connectionstyle=\"arc3,rad=-0.5\", with_labels=True, font_weight='bold')"
   ]
  },
  {
   "cell_type": "markdown",
   "id": "a3b286a2-4a1e-4ef1-b3ee-926da2c63a91",
   "metadata": {},
   "source": [
    "Claramente, todas las aristas apuntan en la misma dirección."
   ]
  },
  {
   "cell_type": "markdown",
   "id": "809c1120-c2ba-4573-ba60-c4434af61e66",
   "metadata": {},
   "source": [
    "## Kahn\n",
    "\n",
    "Otra manera de generar un ordenamiento es utilizando el algoritmo de Kahn. Este puede expresarse en pseudocódigo como:\n",
    "\n",
    "* $S$: Conjunto de vértices sin ninguna arista entrante. Al inicio es no-vacío (de otra manera la gráfica no tiene un ordenamiento topológico válido).\n",
    "* $L$: Lista que contendrá los vértices en orden topológico.\n",
    "1. Mientras $S$ no es vacío:\n",
    "    1. Tomamos un vértice $n$ de $S$.\n",
    "    2. Añadimos $n$ a $L$.\n",
    "    3. Para cada vértice $m$ con arista $e$ de $n$ a $m$:\n",
    "        1. Removemos a $e$ de la gráfica\n",
    "        2. Si $m$ no tiene más aristas entrantes, lo insertamos en $S$.\n",
    "\n",
    "Si al final de la ejecución, la gráfica sigue teniendo aristas, significa que tenía un ciclo, y por lo tanto no tiene un ordenamiento. De otra manera, $L$ será un ordenamiento válido.\n",
    "\n",
    "Expresado en código, el algoritmo es:"
   ]
  },
  {
   "cell_type": "code",
   "execution_count": 33,
   "id": "cff7e5c1",
   "metadata": {},
   "outputs": [
    {
     "data": {
      "text/plain": [
       "[4, 7]"
      ]
     },
     "execution_count": 33,
     "metadata": {},
     "output_type": "execute_result"
    }
   ],
   "source": [
    "list(g.neighbors(2)) "
   ]
  },
  {
   "cell_type": "code",
   "execution_count": 52,
   "id": "f6ebdeac-a025-43be-8b1e-c447089df936",
   "metadata": {},
   "outputs": [],
   "source": [
    "def kahn_order(g):\n",
    "    g = g.copy()\n",
    "    S = deque()\n",
    "    L = []\n",
    "    for n in g.nodes:\n",
    "        if g.in_degree(n) == 0:\n",
    "            print('n', n)\n",
    "            S.append(n)\n",
    "            \n",
    "    while S:\n",
    "        n = S.pop()\n",
    "        print('pop', n)\n",
    "        L.append(n)\n",
    "        neighbors = list(g.neighbors(n)) \n",
    "        for m in neighbors:\n",
    "            g.remove_edge(n, m)\n",
    "            if g.in_degree(m) == 0:\n",
    "                S.append(m)\n",
    "    \n",
    "    assert len(g.edges) == 0, \"La gráfica tiene un ciclo.\"\n",
    "    \n",
    "    return L"
   ]
  },
  {
   "cell_type": "markdown",
   "id": "bafa6e05-4504-445a-9944-5ea4e03ba149",
   "metadata": {},
   "source": [
    "Aplicándolo a nuestra gráfica:"
   ]
  },
  {
   "cell_type": "code",
   "execution_count": 53,
   "id": "7e7d50f2-c244-4154-a14c-8de4c2009025",
   "metadata": {},
   "outputs": [
    {
     "name": "stdout",
     "output_type": "stream",
     "text": [
      "n 0\n",
      "n 1\n",
      "n 2\n",
      "pop 2\n",
      "pop 1\n",
      "pop 4\n",
      "pop 0\n",
      "pop 3\n",
      "pop 7\n",
      "pop 6\n",
      "pop 5\n"
     ]
    },
    {
     "data": {
      "text/plain": [
       "[2, 1, 4, 0, 3, 7, 6, 5]"
      ]
     },
     "execution_count": 53,
     "metadata": {},
     "output_type": "execute_result"
    }
   ],
   "source": [
    "res = kahn_order(g)\n",
    "res"
   ]
  },
  {
   "cell_type": "code",
   "execution_count": 72,
   "id": "6dbba1db-1850-435f-97a4-3d8d4f03234a",
   "metadata": {},
   "outputs": [
    {
     "data": {
      "image/png": "[encoded data removed]",
      "text/plain": [
       "<Figure size 432x288 with 1 Axes>"
      ]
     },
     "metadata": {},
     "output_type": "display_data"
    }
   ],
   "source": [
    "pos = pos_order(res)\n",
    "nx.draw(g, pos=pos, connectionstyle=\"arc3,rad=-0.5\", with_labels=True, font_weight='bold')"
   ]
  },
  {
   "cell_type": "markdown",
   "id": "56b72945-0372-4c66-b53d-ba798fabca45",
   "metadata": {},
   "source": [
    "Veamos qué pasa con una gráfica que tiene ciclos:"
   ]
  },
  {
   "cell_type": "code",
   "execution_count": 70,
   "id": "88b35f1e-6d83-413f-b83f-9fb30361457b",
   "metadata": {},
   "outputs": [
    {
     "data": {
      "image/png": "[encoded data removed]",
      "text/plain": [
       "<Figure size 432x288 with 1 Axes>"
      ]
     },
     "metadata": {},
     "output_type": "display_data"
    }
   ],
   "source": [
    "g_ciclo = nx.DiGraph()\n",
    "g_ciclo.add_edges_from([(0, 1), (1,2), (2,0)])\n",
    "nx.draw(g_ciclo, with_labels=True)"
   ]
  },
  {
   "cell_type": "code",
   "execution_count": 71,
   "id": "bf8860cf-af55-4b5c-a601-e8085a81e6e7",
   "metadata": {},
   "outputs": [
    {
     "ename": "AssertionError",
     "evalue": "La gráfica tiene un ciclo.",
     "output_type": "error",
     "traceback": [
      "\u001b[0;31m---------------------------------------------------------------------------\u001b[0m",
      "\u001b[0;31mAssertionError\u001b[0m                            Traceback (most recent call last)",
      "\u001b[0;32m/tmp/ipykernel_18688/70588964.py\u001b[0m in \u001b[0;36m<module>\u001b[0;34m\u001b[0m\n\u001b[0;32m----> 1\u001b[0;31m \u001b[0mkahn_order\u001b[0m\u001b[0;34m(\u001b[0m\u001b[0mg_ciclo\u001b[0m\u001b[0;34m)\u001b[0m\u001b[0;34m\u001b[0m\u001b[0;34m\u001b[0m\u001b[0m\n\u001b[0m",
      "\u001b[0;32m/tmp/ipykernel_18688/4275757915.py\u001b[0m in \u001b[0;36mkahn_order\u001b[0;34m(g)\u001b[0m\n\u001b[1;32m     16\u001b[0m                 \u001b[0mS\u001b[0m\u001b[0;34m.\u001b[0m\u001b[0mappend\u001b[0m\u001b[0;34m(\u001b[0m\u001b[0mm\u001b[0m\u001b[0;34m)\u001b[0m\u001b[0;34m\u001b[0m\u001b[0;34m\u001b[0m\u001b[0m\n\u001b[1;32m     17\u001b[0m \u001b[0;34m\u001b[0m\u001b[0m\n\u001b[0;32m---> 18\u001b[0;31m     \u001b[0;32massert\u001b[0m \u001b[0mlen\u001b[0m\u001b[0;34m(\u001b[0m\u001b[0mg\u001b[0m\u001b[0;34m.\u001b[0m\u001b[0medges\u001b[0m\u001b[0;34m)\u001b[0m \u001b[0;34m==\u001b[0m \u001b[0;36m0\u001b[0m\u001b[0;34m,\u001b[0m \u001b[0;34m\"La gráfica tiene un ciclo.\"\u001b[0m\u001b[0;34m\u001b[0m\u001b[0;34m\u001b[0m\u001b[0m\n\u001b[0m\u001b[1;32m     19\u001b[0m \u001b[0;34m\u001b[0m\u001b[0m\n\u001b[1;32m     20\u001b[0m     \u001b[0;32mreturn\u001b[0m \u001b[0mL\u001b[0m\u001b[0;34m\u001b[0m\u001b[0;34m\u001b[0m\u001b[0m\n",
      "\u001b[0;31mAssertionError\u001b[0m: La gráfica tiene un ciclo."
     ]
    }
   ],
   "source": [
    "kahn_order(g_ciclo)"
   ]
  },
  {
   "cell_type": "markdown",
   "id": "85fefae0-bd5b-4c79-bc7a-e87931dbb6af",
   "metadata": {},
   "source": [
    "Graficando:"
   ]
  },
  {
   "cell_type": "markdown",
   "id": "070750a0-05e4-48a0-a4e7-10e6413b81fe",
   "metadata": {},
   "source": [
    "# Camino más corto\n",
    "\n",
    "Una aplicación del ordenamiento topológico es encontrar el camino más corto entre un nodo $s$ y todos los demás en una gráfica con pesos. Para hacerlo, seguimos el siguiente algoritmo:\n",
    "\n",
    "* $d$: Lista con las distancias mínimas de cada vértice a $s$. Al inicio, $d[v]=\\infty$ para toda $v\\neq s$, y $d[s] = 0$.\n",
    "* $p$: $p[u]$ será el predecesor de $u$ en el camino más corto de $v$ a $u$. Al inicio todas sus entradas son vacías.\n",
    "\n",
    "1. Para cada $u$ en el ordenamiento topológico de la gráfica, empezando de $s$:\n",
    "    1. Para cada vértice $v$ tal que existe una arista $(u,v)$:\n",
    "        1. $w\\leftarrow \\text{peso}(u,v)$\n",
    "        2. Si $d[v] > d[u] + w$:\n",
    "            1. $d[v] \\leftarrow d[u] + w$\n",
    "            2. $p[v] \\leftarrow u$\n",
    "        \n",
    "Este algoritmo solo funciona si revisamos los vértices $u$ en orden topológico, ya que de esta manera vamos actualizando las distancias de manera ordenada.\n",
    "\n",
    "Por ejemplo, para la siguiente gráfica:"
   ]
  },
  {
   "cell_type": "code",
   "execution_count": 74,
   "id": "cabce1ad-1370-4c64-afcd-c94cdb3de703",
   "metadata": {},
   "outputs": [
    {
     "data": {
      "text/plain": [
       "{(0, 1): Text(0.654508476093664, 0.47552828417802706, '1'),\n",
       " (0, 2): Text(0.09549147175227024, 0.2938926307527015, '5'),\n",
       " (1, 2): Text(-0.25000005215406573, 0.7694209149307285, '3'),\n",
       " (1, 3): Text(-0.25000002235174246, 0.18163562362300228, '2'),\n",
       " (1, 4): Text(0.3090170266931363, 2.980232327587373e-08, '10'),\n",
       " (3, 4): Text(-0.24999994784593424, -0.7694209149307285, '2')}"
      ]
     },
     "execution_count": 74,
     "metadata": {},
     "output_type": "execute_result"
    },
    {
     "data": {
      "image/png": "[encoded data removed]",
      "text/plain": [
       "<Figure size 432x288 with 1 Axes>"
      ]
     },
     "metadata": {},
     "output_type": "display_data"
    }
   ],
   "source": [
    "g = nx.DiGraph()\n",
    "g.add_nodes_from(range(5))\n",
    "g.add_edges_from([\n",
    "    (0, 1, {'weight': 1}), \n",
    "    (1, 2, {'weight': 3}), \n",
    "    (3, 4, {'weight': 2}), \n",
    "    (1, 3, {'weight': 2}), \n",
    "    (0, 2, {'weight': 5}), \n",
    "    (1, 4, {'weight': 10})\n",
    "])\n",
    "pos = nx.circular_layout(g)\n",
    "nx.draw(g, pos=pos, with_labels=True)\n",
    "labels = nx.get_edge_attributes(g, 'weight')\n",
    "nx.draw_networkx_edge_labels(g, pos, edge_labels=labels)"
   ]
  },
  {
   "cell_type": "code",
   "execution_count": 77,
   "id": "7c7fdd8d-a8b0-4daf-8e6a-a20c5d8a5c4b",
   "metadata": {},
   "outputs": [
    {
     "name": "stdout",
     "output_type": "stream",
     "text": [
      "Predecesores: [None, 0, 1, 1, 3]\n",
      "Distancias: [0, 1, 4, 3, 5]\n"
     ]
    }
   ],
   "source": [
    "def shortest_paths(g, s):\n",
    "    d = [float('inf')] * len(g.nodes)\n",
    "    d[s] = 0\n",
    "    p = [None] * len(g.nodes)\n",
    "    \n",
    "    order = kahn_order(g)\n",
    "    idx = order.index(s)\n",
    "    for u in order[idx:]:\n",
    "        for v in g.neighbors(u):\n",
    "            w = g.edges[(u,v)]['weight']\n",
    "            if d[v] > d[u] + w:\n",
    "                d[v] = d[u] + w\n",
    "                p[v] = u\n",
    "    return p, d\n",
    "                \n",
    "p, d = shortest_paths(g, 0)\n",
    "print(f\"Predecesores: {p}\")\n",
    "print(f\"Distancias: {d}\")"
   ]
  },
  {
   "cell_type": "markdown",
   "id": "dc3eda74-eab3-44aa-8a50-5e009071b847",
   "metadata": {},
   "source": [
    "# Ejercicios\n",
    "\n",
    "Para los siguientes problemas, solo puedes usar funciones básicas de `networkx` (`nodes`, `edges`, `neighbors`, `degree`, etc.) No puedes utilizar nada relacionado a ordenamientos topológicos/DFS/BFS.\n",
    "\n",
    "## Ejercicio 1\n",
    "\n",
    "Escribe una función que genere todos los ordenamientos topológicos posibles de una gráfica. Compara tu resultado con lo obtenido con `nx.all_topological_sorts`."
   ]
  },
  {
   "cell_type": "markdown",
   "id": "58ee4b2b-1730-4f07-8ea9-82b9ae7ed653",
   "metadata": {},
   "source": [
    "*Aquí va la explicación de tu algoritmo*"
   ]
  },
  {
   "cell_type": "code",
   "execution_count": 1,
   "id": "5c68bcf2-06d4-464d-ad5e-bdbd6b20c446",
   "metadata": {},
   "outputs": [],
   "source": [
    "import networkx as nx\n",
    "from collections import deque"
   ]
  },
  {
   "cell_type": "code",
   "execution_count": 2,
   "id": "4ab8782f",
   "metadata": {},
   "outputs": [
    {
     "data": {
      "image/png": "[encoded data removed]",
      "text/plain": [
       "<Figure size 432x288 with 1 Axes>"
      ]
     },
     "metadata": {},
     "output_type": "display_data"
    }
   ],
   "source": [
    "g = nx.DiGraph()\n",
    "g.add_nodes_from([0,1,2,3,4,5,6,7])\n",
    "g.add_edges_from([(0,3), (1,3), (1,4), (2,4), (2,7), (3,5), (3,6), (3,7), (4,6)])\n",
    "pos = {i: (i%3, 3-i//3*3) for i in g.nodes}\n",
    "pos[5], pos[6], pos[7] = [0,-3], [1,-3], [2,-3]\n",
    "nx.draw(g, with_labels=True, pos=pos)"
   ]
  },
  {
   "cell_type": "markdown",
   "id": "4627c0dd",
   "metadata": {},
   "source": [
    "Algunos ordenamientos posibles son:\n",
    "\n",
    "* 0, 1, 2, 3, 4, 5, 6, 7\n",
    "\n",
    "* 2, 0, 1, 4, 3, 5, 6, 7\n",
    "\n",
    "* 0, 1, 2, 4, 3, 7, 6, 5\n",
    "\n",
    "* 3,0,1,2,4,5,6,7,8 (no valido"
   ]
  },
  {
   "cell_type": "code",
   "execution_count": 6,
   "id": "40715ca0",
   "metadata": {},
   "outputs": [
    {
     "data": {
      "text/plain": [
       "NodeView((0, 1, 2, 3, 4, 5, 6, 7))"
      ]
     },
     "execution_count": 6,
     "metadata": {},
     "output_type": "execute_result"
    }
   ],
   "source": [
    "g.nodes"
   ]
  },
  {
   "cell_type": "code",
   "execution_count": 13,
   "id": "a95a5f7a",
   "metadata": {},
   "outputs": [],
   "source": [
    "def order(g, v, kind, visited=None, out=None): \n",
    "    visited[v] = True\n",
    "    if kind == 'preorder':\n",
    "        out.append(v)\n",
    "    for u in g.adj[v]:\n",
    "        if not visited[u]:\n",
    "            order(g, u, kind, visited, out) # recursion\n",
    "    #print('v', v)\n",
    "    if kind != 'preorder': # postorder or reverse_postorder\n",
    "        out.append(v)\n",
    "\n",
    "\n",
    "def order_handler(g, kind):\n",
    "    visited = [False] * len(g.nodes)\n",
    "    out = []\n",
    "    for n in g.nodes:\n",
    "        if not visited[n]:\n",
    "            order(g, n, kind, visited, out)\n",
    "            \n",
    "    if kind == 'reverse_postorder':\n",
    "        return out[::-1]\n",
    "    else:\n",
    "        return out"
   ]
  },
  {
   "cell_type": "code",
   "execution_count": 12,
   "id": "afd68482",
   "metadata": {},
   "outputs": [
    {
     "name": "stdout",
     "output_type": "stream",
     "text": [
      "v 5\n",
      "v 6\n",
      "v 7\n",
      "v 3\n",
      "v 0\n",
      "v 4\n",
      "v 1\n",
      "v 2\n"
     ]
    },
    {
     "data": {
      "text/plain": [
       "[5, 6, 7, 3, 0, 4, 1, 2]"
      ]
     },
     "execution_count": 12,
     "metadata": {},
     "output_type": "execute_result"
    }
   ],
   "source": [
    "order_handler(g, 'postorder')"
   ]
  },
  {
   "cell_type": "code",
   "execution_count": 14,
   "id": "07fb9df5",
   "metadata": {},
   "outputs": [
    {
     "name": "stdout",
     "output_type": "stream",
     "text": [
      "Preorder: [0, 3, 5, 6, 7, 1, 4, 2]\n",
      "Postorder: [5, 6, 7, 3, 0, 4, 1, 2]\n",
      "Reverse postorder: [2, 1, 4, 0, 3, 7, 6, 5]\n"
     ]
    }
   ],
   "source": [
    "print(f\"\"\"Preorder: {order_handler(g, 'preorder')}\n",
    "Postorder: {order_handler(g, 'postorder')}\n",
    "Reverse postorder: {order_handler(g, 'reverse_postorder')}\"\"\")"
   ]
  },
  {
   "cell_type": "code",
   "execution_count": 15,
   "id": "46085642",
   "metadata": {},
   "outputs": [],
   "source": [
    "def pos_order(order):\n",
    "    pos = {}\n",
    "    for i, p in enumerate(order):\n",
    "        pos[p] = (i,0)\n",
    "    return pos"
   ]
  },
  {
   "cell_type": "code",
   "execution_count": 16,
   "id": "9e6c8903",
   "metadata": {},
   "outputs": [
    {
     "data": {
      "image/png": "[encoded data removed]",
      "text/plain": [
       "<Figure size 432x288 with 1 Axes>"
      ]
     },
     "metadata": {},
     "output_type": "display_data"
    }
   ],
   "source": [
    "pos = pos_order([5, 6, 7, 3, 0, 4, 1, 2])\n",
    "nx.draw(g, pos=pos, connectionstyle=\"arc3,rad=-0.5\", with_labels=True, font_weight='bold')"
   ]
  },
  {
   "cell_type": "code",
   "execution_count": 17,
   "id": "fff8ff3d",
   "metadata": {},
   "outputs": [
    {
     "data": {
      "image/png": "[encoded data removed]",
      "text/plain": [
       "<Figure size 432x288 with 1 Axes>"
      ]
     },
     "metadata": {},
     "output_type": "display_data"
    }
   ],
   "source": [
    "pos = pos_order([2, 1, 4, 0, 3, 7, 6, 5])\n",
    "nx.draw(g, pos=pos, connectionstyle=\"arc3,rad=-0.5\", with_labels=True, font_weight='bold')"
   ]
  },
  {
   "cell_type": "code",
   "execution_count": 37,
   "id": "e404acfb",
   "metadata": {},
   "outputs": [
    {
     "name": "stdout",
     "output_type": "stream",
     "text": [
      "[2, 1, 4, 0, 3, 7, 6, 5]\n",
      "[2, 1, 4, 0, 3, 7, 5, 6]\n",
      "[2, 1, 4, 0, 3, 6, 5, 7]\n",
      "[2, 1, 4, 0, 3, 6, 7, 5]\n",
      "[2, 1, 4, 0, 3, 5, 7, 6]\n",
      "[2, 1, 4, 0, 3, 5, 6, 7]\n",
      "[2, 1, 0, 3, 7, 5, 4, 6]\n",
      "[2, 1, 0, 3, 7, 4, 6, 5]\n",
      "[2, 1, 0, 3, 7, 4, 5, 6]\n",
      "[2, 1, 0, 3, 5, 4, 6, 7]\n",
      "[2, 1, 0, 3, 5, 4, 7, 6]\n",
      "[2, 1, 0, 3, 5, 7, 4, 6]\n",
      "[2, 1, 0, 3, 4, 6, 7, 5]\n",
      "[2, 1, 0, 3, 4, 6, 5, 7]\n",
      "[2, 1, 0, 3, 4, 7, 5, 6]\n",
      "[2, 1, 0, 3, 4, 7, 6, 5]\n",
      "[2, 1, 0, 3, 4, 5, 6, 7]\n",
      "[2, 1, 0, 3, 4, 5, 7, 6]\n",
      "[2, 1, 0, 4, 3, 7, 6, 5]\n",
      "[2, 1, 0, 4, 3, 7, 5, 6]\n",
      "[2, 1, 0, 4, 3, 6, 5, 7]\n",
      "[2, 1, 0, 4, 3, 6, 7, 5]\n",
      "[2, 1, 0, 4, 3, 5, 7, 6]\n",
      "[2, 1, 0, 4, 3, 5, 6, 7]\n",
      "[2, 0, 1, 4, 3, 7, 6, 5]\n",
      "[2, 0, 1, 4, 3, 7, 5, 6]\n",
      "[2, 0, 1, 4, 3, 6, 5, 7]\n",
      "[2, 0, 1, 4, 3, 6, 7, 5]\n",
      "[2, 0, 1, 4, 3, 5, 7, 6]\n",
      "[2, 0, 1, 4, 3, 5, 6, 7]\n",
      "[2, 0, 1, 3, 7, 5, 4, 6]\n",
      "[2, 0, 1, 3, 7, 4, 6, 5]\n",
      "[2, 0, 1, 3, 7, 4, 5, 6]\n",
      "[2, 0, 1, 3, 5, 4, 6, 7]\n",
      "[2, 0, 1, 3, 5, 4, 7, 6]\n",
      "[2, 0, 1, 3, 5, 7, 4, 6]\n",
      "[2, 0, 1, 3, 4, 6, 7, 5]\n",
      "[2, 0, 1, 3, 4, 6, 5, 7]\n",
      "[2, 0, 1, 3, 4, 7, 5, 6]\n",
      "[2, 0, 1, 3, 4, 7, 6, 5]\n",
      "[2, 0, 1, 3, 4, 5, 6, 7]\n",
      "[2, 0, 1, 3, 4, 5, 7, 6]\n",
      "[1, 0, 3, 5, 2, 7, 4, 6]\n",
      "[1, 0, 3, 5, 2, 4, 6, 7]\n",
      "[1, 0, 3, 5, 2, 4, 7, 6]\n",
      "[1, 0, 3, 2, 7, 4, 6, 5]\n",
      "[1, 0, 3, 2, 7, 4, 5, 6]\n",
      "[1, 0, 3, 2, 7, 5, 4, 6]\n",
      "[1, 0, 3, 2, 4, 6, 5, 7]\n",
      "[1, 0, 3, 2, 4, 6, 7, 5]\n",
      "[1, 0, 3, 2, 4, 5, 7, 6]\n",
      "[1, 0, 3, 2, 4, 5, 6, 7]\n",
      "[1, 0, 3, 2, 4, 7, 6, 5]\n",
      "[1, 0, 3, 2, 4, 7, 5, 6]\n",
      "[1, 0, 3, 2, 5, 7, 4, 6]\n",
      "[1, 0, 3, 2, 5, 4, 6, 7]\n",
      "[1, 0, 3, 2, 5, 4, 7, 6]\n",
      "[1, 0, 2, 4, 3, 7, 6, 5]\n",
      "[1, 0, 2, 4, 3, 7, 5, 6]\n",
      "[1, 0, 2, 4, 3, 6, 5, 7]\n",
      "[1, 0, 2, 4, 3, 6, 7, 5]\n",
      "[1, 0, 2, 4, 3, 5, 7, 6]\n",
      "[1, 0, 2, 4, 3, 5, 6, 7]\n",
      "[1, 0, 2, 3, 7, 5, 4, 6]\n",
      "[1, 0, 2, 3, 7, 4, 6, 5]\n",
      "[1, 0, 2, 3, 7, 4, 5, 6]\n",
      "[1, 0, 2, 3, 5, 4, 6, 7]\n",
      "[1, 0, 2, 3, 5, 4, 7, 6]\n",
      "[1, 0, 2, 3, 5, 7, 4, 6]\n",
      "[1, 0, 2, 3, 4, 6, 7, 5]\n",
      "[1, 0, 2, 3, 4, 6, 5, 7]\n",
      "[1, 0, 2, 3, 4, 7, 5, 6]\n",
      "[1, 0, 2, 3, 4, 7, 6, 5]\n",
      "[1, 0, 2, 3, 4, 5, 6, 7]\n",
      "[1, 0, 2, 3, 4, 5, 7, 6]\n",
      "[1, 2, 4, 0, 3, 7, 6, 5]\n",
      "[1, 2, 4, 0, 3, 7, 5, 6]\n",
      "[1, 2, 4, 0, 3, 6, 5, 7]\n",
      "[1, 2, 4, 0, 3, 6, 7, 5]\n",
      "[1, 2, 4, 0, 3, 5, 7, 6]\n",
      "[1, 2, 4, 0, 3, 5, 6, 7]\n",
      "[1, 2, 0, 3, 7, 5, 4, 6]\n",
      "[1, 2, 0, 3, 7, 4, 6, 5]\n",
      "[1, 2, 0, 3, 7, 4, 5, 6]\n",
      "[1, 2, 0, 3, 5, 4, 6, 7]\n",
      "[1, 2, 0, 3, 5, 4, 7, 6]\n",
      "[1, 2, 0, 3, 5, 7, 4, 6]\n",
      "[1, 2, 0, 3, 4, 6, 7, 5]\n",
      "[1, 2, 0, 3, 4, 6, 5, 7]\n",
      "[1, 2, 0, 3, 4, 7, 5, 6]\n",
      "[1, 2, 0, 3, 4, 7, 6, 5]\n",
      "[1, 2, 0, 3, 4, 5, 6, 7]\n",
      "[1, 2, 0, 3, 4, 5, 7, 6]\n",
      "[1, 2, 0, 4, 3, 7, 6, 5]\n",
      "[1, 2, 0, 4, 3, 7, 5, 6]\n",
      "[1, 2, 0, 4, 3, 6, 5, 7]\n",
      "[1, 2, 0, 4, 3, 6, 7, 5]\n",
      "[1, 2, 0, 4, 3, 5, 7, 6]\n",
      "[1, 2, 0, 4, 3, 5, 6, 7]\n",
      "[0, 2, 1, 4, 3, 7, 6, 5]\n",
      "[0, 2, 1, 4, 3, 7, 5, 6]\n",
      "[0, 2, 1, 4, 3, 6, 5, 7]\n",
      "[0, 2, 1, 4, 3, 6, 7, 5]\n",
      "[0, 2, 1, 4, 3, 5, 7, 6]\n",
      "[0, 2, 1, 4, 3, 5, 6, 7]\n",
      "[0, 2, 1, 3, 7, 5, 4, 6]\n",
      "[0, 2, 1, 3, 7, 4, 6, 5]\n",
      "[0, 2, 1, 3, 7, 4, 5, 6]\n",
      "[0, 2, 1, 3, 5, 4, 6, 7]\n",
      "[0, 2, 1, 3, 5, 4, 7, 6]\n",
      "[0, 2, 1, 3, 5, 7, 4, 6]\n",
      "[0, 2, 1, 3, 4, 6, 7, 5]\n",
      "[0, 2, 1, 3, 4, 6, 5, 7]\n",
      "[0, 2, 1, 3, 4, 7, 5, 6]\n",
      "[0, 2, 1, 3, 4, 7, 6, 5]\n",
      "[0, 2, 1, 3, 4, 5, 6, 7]\n",
      "[0, 2, 1, 3, 4, 5, 7, 6]\n",
      "[0, 1, 3, 5, 2, 7, 4, 6]\n",
      "[0, 1, 3, 5, 2, 4, 6, 7]\n",
      "[0, 1, 3, 5, 2, 4, 7, 6]\n",
      "[0, 1, 3, 2, 7, 4, 6, 5]\n",
      "[0, 1, 3, 2, 7, 4, 5, 6]\n",
      "[0, 1, 3, 2, 7, 5, 4, 6]\n",
      "[0, 1, 3, 2, 4, 6, 5, 7]\n",
      "[0, 1, 3, 2, 4, 6, 7, 5]\n",
      "[0, 1, 3, 2, 4, 5, 7, 6]\n",
      "[0, 1, 3, 2, 4, 5, 6, 7]\n",
      "[0, 1, 3, 2, 4, 7, 6, 5]\n",
      "[0, 1, 3, 2, 4, 7, 5, 6]\n",
      "[0, 1, 3, 2, 5, 7, 4, 6]\n",
      "[0, 1, 3, 2, 5, 4, 6, 7]\n",
      "[0, 1, 3, 2, 5, 4, 7, 6]\n",
      "[0, 1, 2, 4, 3, 7, 6, 5]\n",
      "[0, 1, 2, 4, 3, 7, 5, 6]\n",
      "[0, 1, 2, 4, 3, 6, 5, 7]\n",
      "[0, 1, 2, 4, 3, 6, 7, 5]\n",
      "[0, 1, 2, 4, 3, 5, 7, 6]\n",
      "[0, 1, 2, 4, 3, 5, 6, 7]\n",
      "[0, 1, 2, 3, 7, 5, 4, 6]\n",
      "[0, 1, 2, 3, 7, 4, 6, 5]\n",
      "[0, 1, 2, 3, 7, 4, 5, 6]\n",
      "[0, 1, 2, 3, 5, 4, 6, 7]\n",
      "[0, 1, 2, 3, 5, 4, 7, 6]\n",
      "[0, 1, 2, 3, 5, 7, 4, 6]\n",
      "[0, 1, 2, 3, 4, 6, 7, 5]\n",
      "[0, 1, 2, 3, 4, 6, 5, 7]\n",
      "[0, 1, 2, 3, 4, 7, 5, 6]\n",
      "[0, 1, 2, 3, 4, 7, 6, 5]\n",
      "[0, 1, 2, 3, 4, 5, 6, 7]\n",
      "[0, 1, 2, 3, 4, 5, 7, 6]\n",
      "150\n"
     ]
    }
   ],
   "source": [
    "contador = 0\n",
    "for orden_topologico in nx.all_topological_sorts(g):\n",
    "    print(orden_topologico)\n",
    "    contador += 1\n",
    "print(contador)"
   ]
  },
  {
   "cell_type": "markdown",
   "id": "a882f973",
   "metadata": {},
   "source": [
    "Vemos primeramente que nuestros algoritmos se basa en la lista inicial de vertices con la que empiza nuestro algoritmos, la idea es ir cambiando esta lista para poder ir cambiando el orden por el cual analiza el primer nodo, por lo tanto primero buscaremos las combinaciones posibles"
   ]
  },
  {
   "cell_type": "code",
   "execution_count": 4,
   "id": "cdbacd49",
   "metadata": {},
   "outputs": [],
   "source": [
    "def find_all_topogical_orders(graph, path, discovered, N):\n",
    "    g = graph.copy()\n",
    "    for v in g.nodes:\n",
    "\n",
    "        if graph.in_degree(v) == 0 and not discovered[v]:\n",
    "\n",
    "            neighbors = list(g.neighbors(v))\n",
    "            for u in neighbors:\n",
    "                g.remove_edge(v, u)\n",
    "\n",
    "            path.append(v)\n",
    "            discovered[v] = True\n",
    "            find_all_topogical_orders(g, path, discovered, N)\n",
    "\n",
    "            neighbors = list(graph.neighbors(v))\n",
    "            for u in neighbors:\n",
    "                g.add_edge(v, u)\n",
    "\n",
    "            path.pop()\n",
    "            discovered[v] = False\n",
    "    \n",
    "    if len(path) == N:\n",
    "        print(path)\n",
    "        \n",
    "def printAllTopologicalOrders(graph):\n",
    " \n",
    "    N = len(graph.nodes)\n",
    " \n",
    "    # lista para rastrear los vertices descubiertos\n",
    "    discovered = [False] * N\n",
    " \n",
    "    # Almacena los ordenes topologicos encontrados\n",
    "    path = []\n",
    "\n",
    "    find_all_topogical_orders(graph, path, discovered, N)"
   ]
  },
  {
   "cell_type": "code",
   "execution_count": 5,
   "id": "d776d886",
   "metadata": {},
   "outputs": [
    {
     "name": "stdout",
     "output_type": "stream",
     "text": [
      "[0, 1, 2, 3, 4, 5, 6, 7]\n",
      "[0, 1, 2, 3, 4, 5, 7, 6]\n",
      "[0, 1, 2, 3, 4, 6, 5, 7]\n",
      "[0, 1, 2, 3, 4, 6, 7, 5]\n",
      "[0, 1, 2, 3, 4, 7, 5, 6]\n",
      "[0, 1, 2, 3, 4, 7, 6, 5]\n",
      "[0, 1, 2, 3, 5, 4, 6, 7]\n",
      "[0, 1, 2, 3, 5, 4, 7, 6]\n",
      "[0, 1, 2, 3, 5, 7, 4, 6]\n",
      "[0, 1, 2, 3, 7, 4, 5, 6]\n",
      "[0, 1, 2, 3, 7, 4, 6, 5]\n",
      "[0, 1, 2, 3, 7, 5, 4, 6]\n",
      "[0, 1, 2, 4, 3, 5, 6, 7]\n",
      "[0, 1, 2, 4, 3, 5, 7, 6]\n",
      "[0, 1, 2, 4, 3, 6, 5, 7]\n",
      "[0, 1, 2, 4, 3, 6, 7, 5]\n",
      "[0, 1, 2, 4, 3, 7, 5, 6]\n",
      "[0, 1, 2, 4, 3, 7, 6, 5]\n",
      "[0, 1, 3, 2, 4, 5, 6, 7]\n",
      "[0, 1, 3, 2, 4, 5, 7, 6]\n",
      "[0, 1, 3, 2, 4, 6, 5, 7]\n",
      "[0, 1, 3, 2, 4, 6, 7, 5]\n",
      "[0, 1, 3, 2, 4, 7, 5, 6]\n",
      "[0, 1, 3, 2, 4, 7, 6, 5]\n",
      "[0, 1, 3, 2, 5, 4, 6, 7]\n",
      "[0, 1, 3, 2, 5, 4, 7, 6]\n",
      "[0, 1, 3, 2, 5, 7, 4, 6]\n",
      "[0, 1, 3, 2, 7, 4, 5, 6]\n",
      "[0, 1, 3, 2, 7, 4, 6, 5]\n",
      "[0, 1, 3, 2, 7, 5, 4, 6]\n",
      "[0, 1, 3, 5, 2, 4, 6, 7]\n",
      "[0, 1, 3, 5, 2, 4, 7, 6]\n",
      "[0, 1, 3, 5, 2, 7, 4, 6]\n",
      "[0, 2, 1, 3, 4, 5, 6, 7]\n",
      "[0, 2, 1, 3, 4, 5, 7, 6]\n",
      "[0, 2, 1, 3, 4, 6, 5, 7]\n",
      "[0, 2, 1, 3, 4, 6, 7, 5]\n",
      "[0, 2, 1, 3, 4, 7, 5, 6]\n",
      "[0, 2, 1, 3, 4, 7, 6, 5]\n",
      "[0, 2, 1, 3, 5, 4, 6, 7]\n",
      "[0, 2, 1, 3, 5, 4, 7, 6]\n",
      "[0, 2, 1, 3, 5, 7, 4, 6]\n",
      "[0, 2, 1, 3, 7, 4, 5, 6]\n",
      "[0, 2, 1, 3, 7, 4, 6, 5]\n",
      "[0, 2, 1, 3, 7, 5, 4, 6]\n",
      "[0, 2, 1, 4, 3, 5, 6, 7]\n",
      "[0, 2, 1, 4, 3, 5, 7, 6]\n",
      "[0, 2, 1, 4, 3, 6, 5, 7]\n",
      "[0, 2, 1, 4, 3, 6, 7, 5]\n",
      "[0, 2, 1, 4, 3, 7, 5, 6]\n",
      "[0, 2, 1, 4, 3, 7, 6, 5]\n",
      "[1, 0, 2, 3, 4, 5, 6, 7]\n",
      "[1, 0, 2, 3, 4, 5, 7, 6]\n",
      "[1, 0, 2, 3, 4, 6, 5, 7]\n",
      "[1, 0, 2, 3, 4, 6, 7, 5]\n",
      "[1, 0, 2, 3, 4, 7, 5, 6]\n",
      "[1, 0, 2, 3, 4, 7, 6, 5]\n",
      "[1, 0, 2, 3, 5, 4, 6, 7]\n",
      "[1, 0, 2, 3, 5, 4, 7, 6]\n",
      "[1, 0, 2, 3, 5, 7, 4, 6]\n",
      "[1, 0, 2, 3, 7, 4, 5, 6]\n",
      "[1, 0, 2, 3, 7, 4, 6, 5]\n",
      "[1, 0, 2, 3, 7, 5, 4, 6]\n",
      "[1, 0, 2, 4, 3, 5, 6, 7]\n",
      "[1, 0, 2, 4, 3, 5, 7, 6]\n",
      "[1, 0, 2, 4, 3, 6, 5, 7]\n",
      "[1, 0, 2, 4, 3, 6, 7, 5]\n",
      "[1, 0, 2, 4, 3, 7, 5, 6]\n",
      "[1, 0, 2, 4, 3, 7, 6, 5]\n",
      "[1, 0, 3, 2, 4, 5, 6, 7]\n",
      "[1, 0, 3, 2, 4, 5, 7, 6]\n",
      "[1, 0, 3, 2, 4, 6, 5, 7]\n",
      "[1, 0, 3, 2, 4, 6, 7, 5]\n",
      "[1, 0, 3, 2, 4, 7, 5, 6]\n",
      "[1, 0, 3, 2, 4, 7, 6, 5]\n",
      "[1, 0, 3, 2, 5, 4, 6, 7]\n",
      "[1, 0, 3, 2, 5, 4, 7, 6]\n",
      "[1, 0, 3, 2, 5, 7, 4, 6]\n",
      "[1, 0, 3, 2, 7, 4, 5, 6]\n",
      "[1, 0, 3, 2, 7, 4, 6, 5]\n",
      "[1, 0, 3, 2, 7, 5, 4, 6]\n",
      "[1, 0, 3, 5, 2, 4, 6, 7]\n",
      "[1, 0, 3, 5, 2, 4, 7, 6]\n",
      "[1, 0, 3, 5, 2, 7, 4, 6]\n",
      "[1, 2, 0, 3, 4, 5, 6, 7]\n",
      "[1, 2, 0, 3, 4, 5, 7, 6]\n",
      "[1, 2, 0, 3, 4, 6, 5, 7]\n",
      "[1, 2, 0, 3, 4, 6, 7, 5]\n",
      "[1, 2, 0, 3, 4, 7, 5, 6]\n",
      "[1, 2, 0, 3, 4, 7, 6, 5]\n",
      "[1, 2, 0, 3, 5, 4, 6, 7]\n",
      "[1, 2, 0, 3, 5, 4, 7, 6]\n",
      "[1, 2, 0, 3, 5, 7, 4, 6]\n",
      "[1, 2, 0, 3, 7, 4, 5, 6]\n",
      "[1, 2, 0, 3, 7, 4, 6, 5]\n",
      "[1, 2, 0, 3, 7, 5, 4, 6]\n",
      "[1, 2, 0, 4, 3, 5, 6, 7]\n",
      "[1, 2, 0, 4, 3, 5, 7, 6]\n",
      "[1, 2, 0, 4, 3, 6, 5, 7]\n",
      "[1, 2, 0, 4, 3, 6, 7, 5]\n",
      "[1, 2, 0, 4, 3, 7, 5, 6]\n",
      "[1, 2, 0, 4, 3, 7, 6, 5]\n",
      "[1, 2, 4, 0, 3, 5, 6, 7]\n",
      "[1, 2, 4, 0, 3, 5, 7, 6]\n",
      "[1, 2, 4, 0, 3, 6, 5, 7]\n",
      "[1, 2, 4, 0, 3, 6, 7, 5]\n",
      "[1, 2, 4, 0, 3, 7, 5, 6]\n",
      "[1, 2, 4, 0, 3, 7, 6, 5]\n",
      "[2, 0, 1, 3, 4, 5, 6, 7]\n",
      "[2, 0, 1, 3, 4, 5, 7, 6]\n",
      "[2, 0, 1, 3, 4, 6, 5, 7]\n",
      "[2, 0, 1, 3, 4, 6, 7, 5]\n",
      "[2, 0, 1, 3, 4, 7, 5, 6]\n",
      "[2, 0, 1, 3, 4, 7, 6, 5]\n",
      "[2, 0, 1, 3, 5, 4, 6, 7]\n",
      "[2, 0, 1, 3, 5, 4, 7, 6]\n",
      "[2, 0, 1, 3, 5, 7, 4, 6]\n",
      "[2, 0, 1, 3, 7, 4, 5, 6]\n",
      "[2, 0, 1, 3, 7, 4, 6, 5]\n",
      "[2, 0, 1, 3, 7, 5, 4, 6]\n",
      "[2, 0, 1, 4, 3, 5, 6, 7]\n",
      "[2, 0, 1, 4, 3, 5, 7, 6]\n",
      "[2, 0, 1, 4, 3, 6, 5, 7]\n",
      "[2, 0, 1, 4, 3, 6, 7, 5]\n",
      "[2, 0, 1, 4, 3, 7, 5, 6]\n",
      "[2, 0, 1, 4, 3, 7, 6, 5]\n",
      "[2, 1, 0, 3, 4, 5, 6, 7]\n",
      "[2, 1, 0, 3, 4, 5, 7, 6]\n",
      "[2, 1, 0, 3, 4, 6, 5, 7]\n",
      "[2, 1, 0, 3, 4, 6, 7, 5]\n",
      "[2, 1, 0, 3, 4, 7, 5, 6]\n",
      "[2, 1, 0, 3, 4, 7, 6, 5]\n",
      "[2, 1, 0, 3, 5, 4, 6, 7]\n",
      "[2, 1, 0, 3, 5, 4, 7, 6]\n",
      "[2, 1, 0, 3, 5, 7, 4, 6]\n",
      "[2, 1, 0, 3, 7, 4, 5, 6]\n",
      "[2, 1, 0, 3, 7, 4, 6, 5]\n",
      "[2, 1, 0, 3, 7, 5, 4, 6]\n",
      "[2, 1, 0, 4, 3, 5, 6, 7]\n",
      "[2, 1, 0, 4, 3, 5, 7, 6]\n",
      "[2, 1, 0, 4, 3, 6, 5, 7]\n",
      "[2, 1, 0, 4, 3, 6, 7, 5]\n",
      "[2, 1, 0, 4, 3, 7, 5, 6]\n",
      "[2, 1, 0, 4, 3, 7, 6, 5]\n",
      "[2, 1, 4, 0, 3, 5, 6, 7]\n",
      "[2, 1, 4, 0, 3, 5, 7, 6]\n",
      "[2, 1, 4, 0, 3, 6, 5, 7]\n",
      "[2, 1, 4, 0, 3, 6, 7, 5]\n",
      "[2, 1, 4, 0, 3, 7, 5, 6]\n",
      "[2, 1, 4, 0, 3, 7, 6, 5]\n"
     ]
    }
   ],
   "source": [
    "printAllTopologicalOrders(g)"
   ]
  },
  {
   "cell_type": "markdown",
   "id": "f7c101ae-2bf7-496f-ab2c-232465cd7ea9",
   "metadata": {},
   "source": [
    "## Ejercicio 2\n",
    "\n",
    "Encontraste una página del diccionario de una civilización perdida. Los habitantes utilizaban el alfabeto para escribir, pero no necesariamente en el mismo orden; por ejemplo, `b` podía venir antes de `a`. \n",
    "\n",
    "Basándote en el hecho de que las palabras del diccionario están ordenadas lexicográficamente, y asumiendo que solo utilizaban las letras provistas, determina el orden del alfabeto.\n",
    "\n",
    "Como ejemplo, tomamos la lista ordenada `L=[\"zxx\",\"xxx\",\"xxy\"]`. Vemos que la primera palabra empieza con `z`, mientras que las otras dos empiezan con `x`. Por lo tanto, la primera letra del alfabeto es `z`. Por otro lado, las últimas dos palabras empiezan con `xx`, pero la segunda tiene una `x`, y la tercera una `y`. Por lo tanto, `x` viene antes de `y` en el alfabeto.\n",
    "\n",
    "De esta manera, concluimos que el alfabeto es `zxy`.\n",
    "\n",
    "*Hint:* Si representas las letras como vértices de una gráfica, de modo que una arista entre `X` y `Y` indica que `X` viene antes que `Y`, lo único que tienes que hacer es encontrar un ordenamiento topológico. Piensa entonces cómo traducir las palabras que te dan a dicha gráfica."
   ]
  },
  {
   "cell_type": "markdown",
   "id": "00081550-aa9b-4d34-aa3c-caeb9960189b",
   "metadata": {},
   "source": [
    "**Descripción del algoritmo**\n",
    "\n",
    "Dado que la lista que nos mencionan son listas ordenadas según su abecedario, entonces nuestro algoritmo consistite en construir un grafo que tenga un orden topologico, es decir, la primera letra de la primera palabra debe ser el el primer nodo y debe ir antes que las demás dado que nuestra lista esta ordenada por su orden lexicográfico, a partir de este iremos iterando las demas palabras con su primera y verificar que para cada letra diferente unirla con una arista con dirección hacia la letra encontrada. Depues seguirnos con la se segunda letras de las palabras, sabiendo que la primera palabra es la más ordenada entonces la segunda letra de la primera palabra seguira conservando que es la menor de las demas, seguimos el mismo procedimiento hasta acabar todas las letras y el arbol generado nos dara la información suficiente de su abecedario."
   ]
  },
  {
   "cell_type": "code",
   "execution_count": null,
   "id": "77d54402",
   "metadata": {},
   "outputs": [],
   "source": [
    "\n",
    "g = nx.DiGraph()\n",
    "g.add_nodes_from([0,1,2,3,4,5,6,7])\n",
    "g.add_edges_from([(0,3), (1,3), (1,4), (2,4), (2,7), (3,5), (3,6), (3,7), (4,6)])\n",
    "pos = {i: (i%3, 3-i//3*3) for i in g.nodes}\n",
    "pos[5], pos[6], pos[7] = [0,-3], [1,-3], [2,-3]\n",
    "nx.draw(g, with_labels=True, pos=pos)"
   ]
  },
  {
   "cell_type": "code",
   "execution_count": 3,
   "id": "ad335271",
   "metadata": {},
   "outputs": [
    {
     "data": {
      "text/plain": [
       "'z'"
      ]
     },
     "execution_count": 3,
     "metadata": {},
     "output_type": "execute_result"
    }
   ],
   "source": [
    "L = [\"zxy\"]\n",
    "L[0][0]"
   ]
  },
  {
   "cell_type": "code",
   "execution_count": 10,
   "id": "41a3bf26",
   "metadata": {},
   "outputs": [],
   "source": [
    "def pos_order(order):\n",
    "    pos = {}\n",
    "    for i, p in enumerate(order):\n",
    "        pos[p] = (i,0)\n",
    "    return pos"
   ]
  },
  {
   "cell_type": "code",
   "execution_count": 66,
   "id": "ae74563e-86dd-46f1-b9c8-1d61dd670c83",
   "metadata": {},
   "outputs": [],
   "source": [
    "import networkx as nx\n",
    "from queue import deque\n",
    "\n",
    "\n",
    "def kahn_order(g):\n",
    "    g = g.copy()\n",
    "    S = deque()\n",
    "    L = []\n",
    "    for n in g.nodes:\n",
    "        if g.in_degree(n) == 0:\n",
    "            print('n', n)\n",
    "            S.append(n)\n",
    "            \n",
    "    while S:\n",
    "        n = S.pop()\n",
    "        print('pop', n)\n",
    "        L.append(n)\n",
    "        neighbors = list(g.neighbors(n)) \n",
    "        for m in neighbors:\n",
    "            g.remove_edge(n, m)\n",
    "            if g.in_degree(m) == 0:\n",
    "                S.append(m)\n",
    "    \n",
    "    assert len(g.edges) == 0, \"La gráfica tiene un ciclo.\"\n",
    "    \n",
    "    return L\n",
    "\n",
    "def dictionary_sort(L):\n",
    "    L = L.copy()\n",
    "    g = nx.DiGraph()\n",
    "    i = 0\n",
    "    while i < len(L[0]):\n",
    "        letter = L[0][i]\n",
    "        g.add_node(letter)\n",
    "        for word in L:\n",
    "            if i >= len(word):\n",
    "                continue\n",
    "            \n",
    "            if word[i] != letter and word[i] not in g.nodes:\n",
    "                g.add_edge(letter, word[i])\n",
    "        i += 1\n",
    "    nx.draw(g, with_labels=True)\n",
    "    print(g.nodes)\n",
    "    return (g, g.nodes)"
   ]
  },
  {
   "cell_type": "code",
   "execution_count": 67,
   "id": "2f8a53d7",
   "metadata": {},
   "outputs": [
    {
     "name": "stdout",
     "output_type": "stream",
     "text": [
      "['z', 'v', 'x', 'y', 'w']\n"
     ]
    },
    {
     "data": {
      "image/png": "[encoded data removed]",
      "text/plain": [
       "<Figure size 432x288 with 1 Axes>"
      ]
     },
     "metadata": {},
     "output_type": "display_data"
    }
   ],
   "source": [
    "L = [\"zxy\", \"zxw\",\"vx\",\"vyy\",\"xwyy\"]\n",
    "g, abc = dictionary_sort(L)"
   ]
  },
  {
   "cell_type": "code",
   "execution_count": 63,
   "id": "817e18c1",
   "metadata": {},
   "outputs": [
    {
     "data": {
      "text/plain": [
       "False"
      ]
     },
     "execution_count": 63,
     "metadata": {},
     "output_type": "execute_result"
    }
   ],
   "source": [
    "'q' in g.nodes"
   ]
  },
  {
   "cell_type": "code",
   "execution_count": 68,
   "id": "273d04c8",
   "metadata": {},
   "outputs": [
    {
     "data": {
      "image/png": "[encoded data removed]",
      "text/plain": [
       "<Figure size 432x288 with 1 Axes>"
      ]
     },
     "metadata": {},
     "output_type": "display_data"
    }
   ],
   "source": [
    "pos = pos_order(abc)\n",
    "nx.draw(g, pos=pos, connectionstyle=\"arc3,rad=-0.5\", with_labels=True, font_weight='bold')"
   ]
  },
  {
   "cell_type": "code",
   "execution_count": 69,
   "id": "ae297195",
   "metadata": {},
   "outputs": [
    {
     "name": "stdout",
     "output_type": "stream",
     "text": [
      "['x', 'y', 'z', 'w']\n"
     ]
    },
    {
     "data": {
      "image/png": "[encoded data removed]",
      "text/plain": [
       "<Figure size 432x288 with 1 Axes>"
      ]
     },
     "metadata": {},
     "output_type": "display_data"
    }
   ],
   "source": [
    "L = [\"xyy\",\"yxzw\",\"yxzy\",\"zyx\",\"zyw\"]\n",
    "g, abc = dictionary_sort(L)"
   ]
  },
  {
   "cell_type": "code",
   "execution_count": 70,
   "id": "c7d14a6c",
   "metadata": {},
   "outputs": [
    {
     "data": {
      "image/png": "[encoded data removed]",
      "text/plain": [
       "<Figure size 432x288 with 1 Axes>"
      ]
     },
     "metadata": {},
     "output_type": "display_data"
    }
   ],
   "source": [
    "pos = pos_order(abc)\n",
    "nx.draw(g, pos=pos, connectionstyle=\"arc3,rad=-0.5\", with_labels=True, font_weight='bold')"
   ]
  },
  {
   "cell_type": "markdown",
   "id": "69fcf6c8-33e1-456f-a54f-14d249baf0f1",
   "metadata": {},
   "source": [
    "Prueba tu código con la siguiente celda:"
   ]
  },
  {
   "cell_type": "code",
   "execution_count": 18,
   "id": "d20942a2-ac54-4f81-b030-b6e824caa666",
   "metadata": {},
   "outputs": [
    {
     "name": "stdout",
     "output_type": "stream",
     "text": [
      "Ordenamiento esperado: [z, v, x, y, w]. Obtenido: None\n",
      "Ordenamiento esperado: [x, w, y, z]. Obtenido: None\n"
     ]
    }
   ],
   "source": [
    "L = [\"zxy\", \"zxw\",\"vx\",\"vyy\",\"xwyy\"]\n",
    "res = dictionary_sort(L)\n",
    "print(f\"Ordenamiento esperado: [z, v, x, y, w]. Obtenido: {res}\")\n",
    "\n",
    "L = [\"xyy\",\"yxzw\",\"yxzy\",\"zyx\",\"zyw\"]\n",
    "res = dictionary_sort(L)\n",
    "print(f\"Ordenamiento esperado: [x, w, y, z]. Obtenido: {res}\")"
   ]
  },
  {
   "cell_type": "code",
   "execution_count": 104,
   "id": "914e42a9",
   "metadata": {},
   "outputs": [
    {
     "name": "stdout",
     "output_type": "stream",
     "text": [
      "Topological sort >>>  zywvx\n"
     ]
    }
   ],
   "source": [
    "#Question: Given a sorted dictionary (array of words) of an alien language, find order of characters in the language.\n",
    "\n",
    "'''\n",
    "REFERENCE:\n",
    "http://www.elvisyu.com/alien-language-find-order-of-characters/#more-884\n",
    "ALGORITHM:\n",
    "Do following for every pair of adjacent words in given sorted array.\n",
    "a) Let the current pair of words be word1 and word2. One by one compare characters of both words and find the first mismatching characters.\n",
    "b) Create an edge in g from mismatching character of word1 to that of word2.\n",
    "'''\n",
    "\n",
    "\n",
    "def BuildAdjacencyList(a):\n",
    "\tgraph = {}\n",
    "\t#create nodes\n",
    "\tfor word in a:\n",
    "\t\tfor c in word:\n",
    "\t\t\tif c not in graph.keys():\n",
    "\t\t\t\tgraph[c] = []\n",
    "\t#create edges\n",
    "\tsize = len(graph)\n",
    "\tfor i in range(0,size):\n",
    "\t\tw1 = a[i][0]\n",
    "\t\tif (i+1 < size):\n",
    "\t\t\tw2 = a[i+1][0]\n",
    "\t\telse:\n",
    "\t\t\tw2 = \"\"\n",
    "\t\tif (w1 != w2 and len(w2)> 0):\n",
    "\t\t\tgraph[w1].append(w2)\n",
    "\t#for key in graph:\n",
    "\t#\tprint(key,graph[key])\n",
    "\treturn graph\n",
    "\n",
    "\n",
    "#Kahn’s algorithm\n",
    "#https://algocoding.wordpress.com/2015/04/05/topological-sorting-python/\n",
    "def TopologicalSort(graph):\n",
    "    TopologicalSortedList = []  #result\n",
    "    ZeroInDegreeVertexList = [] #node with 0 in-degree/inbound neighbours\n",
    "    inDegree = { u : 0 for u in graph } #inDegree/inbound neighbours\n",
    "\n",
    "    #Step 1: Iterate graph and build in-degree for each node\n",
    "    for u in graph:\n",
    "        for v in graph[u]:\n",
    "            inDegree[v] += 1\n",
    "\n",
    "    #Step 2: Find node(s) with 0 in-degree\n",
    "    for k in inDegree:\n",
    "        #print(\"##########\", k,inDegree[k])\n",
    "        if (inDegree[k] == 0):\n",
    "            ZeroInDegreeVertexList.append(k)           \n",
    "\n",
    "    #Step 3: Process nodes with in-degree = 0\n",
    "    while ZeroInDegreeVertexList:\n",
    "        v = ZeroInDegreeVertexList.pop(0) #order in important!\n",
    "        TopologicalSortedList.append(v)\n",
    "        #Step 4: Update in-degree\n",
    "        for neighbour in graph[v]:\n",
    "            inDegree[neighbour] -= 1\n",
    "            if (inDegree[neighbour] == 0):\n",
    "                ZeroInDegreeVertexList.append(neighbour)\n",
    "\n",
    "    return TopologicalSortedList\n",
    "\n",
    "\n",
    "a = [\"zxy\", \"zxw\",\"vx\",\"vyy\",\"xwyy\"]\n",
    "graph = BuildAdjacencyList(a)\n",
    "result = TopologicalSort(graph)\n",
    "print(\"Topological sort >>> \", \"\".join(result))"
   ]
  },
  {
   "cell_type": "markdown",
   "id": "8bd575d4",
   "metadata": {},
   "source": [
    "https://github.com/harishvc/challenges/blob/master/graph-topological-sort-alien-dictionary.py"
   ]
  },
  {
   "cell_type": "code",
   "execution_count": null,
   "id": "ce465b57",
   "metadata": {},
   "outputs": [],
   "source": []
  }
 ],
 "metadata": {
  "kernelspec": {
   "display_name": "Python 3",
   "language": "python",
   "name": "python3"
  },
  "language_info": {
   "codemirror_mode": {
    "name": "ipython",
    "version": 3
   },
   "file_extension": ".py",
   "mimetype": "text/x-python",
   "name": "python",
   "nbconvert_exporter": "python",
   "pygments_lexer": "ipython3",
   "version": "3.8.8"
  }
 },
 "nbformat": 4,
 "nbformat_minor": 5
}
