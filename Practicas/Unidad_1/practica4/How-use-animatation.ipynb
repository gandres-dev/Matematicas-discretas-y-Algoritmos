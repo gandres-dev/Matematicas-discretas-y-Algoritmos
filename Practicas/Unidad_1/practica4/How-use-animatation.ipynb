{
 "cells": [
  {
   "cell_type": "code",
   "execution_count": 2,
   "id": "4b228d4a-1cb6-40af-9fd8-7024e1856eca",
   "metadata": {},
   "outputs": [
    {
     "name": "stdout",
     "output_type": "stream",
     "text": [
      "Using matplotlib backend: <object object at 0x7fe78c111eb0>\n"
     ]
    }
   ],
   "source": [
    "%matplotlib"
   ]
  },
  {
   "cell_type": "markdown",
   "id": "87f94728-bc09-49ed-927f-3bc7bb158c34",
   "metadata": {},
   "source": [
    "# Como hacer una animacion en matplotlib\n",
    "La clase base de animation de Matplotlib se ocupa de la parte de animación. Proporciona un marco alrededor del cual se construye la funcionalidad de animación. Hay dos interfaces principales para lograr eso usando:\n",
    "\n",
    "- FuncAnimation \n",
    "- ArtistAnimation\n",
    "\n",
    "Sin embargo, de los dos, FuncAnimation es el más conveniente para usar\n",
    "\n",
    "https://matplotlib.org/stable/api/animation_api.html\n",
    "\n",
    "\n",
    "~~~\n",
    "%matplotlib         :le indicas que la visualizacion la haga en una ventana a parte.\n",
    "%matplotlib inline (Viene por defecto en jupyter) : le indicas que la visualizacion sea debajo de la celda.\n",
    "\n",
    "~~~"
   ]
  },
  {
   "cell_type": "markdown",
   "id": "52e68fb8-8969-46e9-be6e-304a875bc432",
   "metadata": {},
   "source": [
    "## Ejmplos de como usar la animacion \n",
    "https://towardsdatascience.com/animations-with-matplotlib-d96375c5442c"
   ]
  },
  {
   "cell_type": "code",
   "execution_count": 3,
   "id": "db827239-69bb-458b-b75e-3c1ca292be5e",
   "metadata": {},
   "outputs": [],
   "source": [
    "import numpy as np\n",
    "from matplotlib import pyplot as plt\n",
    "from matplotlib.animation import FuncAnimation\n",
    "plt.style.use('seaborn-pastel')\n",
    "\n",
    "\n",
    "fig = plt.figure()\n",
    "ax = plt.axes(xlim=(0, 4), ylim=(-2, 2))\n",
    "line, = ax.plot([], [], lw=3)\n",
    "\n",
    "def init():\n",
    "    line.set_data([], [])\n",
    "    return line,\n",
    "def animate(i):\n",
    "    x = np.linspace(0, 4, 1000)\n",
    "    y = np.sin(2 * np.pi * (x - 0.01 * i))\n",
    "    line.set_data(x, y)\n",
    "    return line,\n",
    "\n",
    "anim = FuncAnimation(fig, animate, init_func=init,\n",
    "                               frames=200, interval=20, blit=True)\n",
    "\n",
    "\n",
    "anim.save('sine_wave.gif', writer='imagemagick')"
   ]
  },
  {
   "cell_type": "markdown",
   "id": "5ce5e423-6faa-4c50-99f7-cb26537e22ce",
   "metadata": {},
   "source": [
    "## Plot animation\n",
    "Ver el codigo y deducir como es que funciona"
   ]
  },
  {
   "cell_type": "code",
   "execution_count": null,
   "id": "7ce65b2b-1c87-41bd-8cf6-9e0c40eeef19",
   "metadata": {},
   "outputs": [],
   "source": [
    "import numpy as np\n",
    "import matplotlib.pyplot as plt\n",
    "from matplotlib.animation import FuncAnimation\n",
    "\n",
    "fig, ax = plt.subplots()\n",
    "xdata, ydata = [], []\n",
    "ln, = plt.plot([], [], 'ro')\n",
    "\n",
    "def init():\n",
    "    ax.set_xlim(0, 2*np.pi)\n",
    "    ax.set_ylim(-1, 1)\n",
    "    return ln,\n",
    "\n",
    "def update(frame):\n",
    "    xdata.append(frame)\n",
    "    ydata.append(np.sin(frame))\n",
    "    ln.set_data(xdata, ydata)\n",
    "    return ln,\n",
    "\n",
    "ani = FuncAnimation(fig, update, frames=np.linspace(0, 2*np.pi, 128),\n",
    "                    init_func=init, blit=True)\n",
    "plt.show()"
   ]
  },
  {
   "cell_type": "markdown",
   "id": "68ff81ee-ae7a-4776-a18f-11d49ba1fe99",
   "metadata": {},
   "source": [
    "## Scatter animation con plot"
   ]
  },
  {
   "cell_type": "code",
   "execution_count": null,
   "id": "99ba8d22-8a2b-43cf-acb1-1c0f63f33222",
   "metadata": {},
   "outputs": [],
   "source": [
    "import numpy as np\n",
    "import matplotlib.pyplot as plt\n",
    "from matplotlib.animation import FuncAnimation\n",
    "\n",
    "fig, ax = plt.subplots()\n",
    "xdata, ydata = [], []\n",
    "ln, = plt.plot([], [], 'ro')  # ro significa red circle para marker\n",
    "\n",
    "def init():\n",
    "    ax.set_xlim(0, 10)\n",
    "    ax.set_ylim(0, 20)\n",
    "    return ln,\n",
    "\n",
    "def update(frame):\n",
    "    print(frame)\n",
    "    xdata.append(frame)\n",
    "    ydata.append(frame ** 2)\n",
    "    ln.set_data(xdata, ydata)\n",
    "    return ln,\n",
    "\n",
    "ani = FuncAnimation(fig, update, frames=5,\n",
    "                    init_func=init, blit=True)\n",
    "ani.save('scatter2.gif', writer='pillow')  ## Para guardarlo en un gif\n",
    "plt.show()"
   ]
  },
  {
   "cell_type": "markdown",
   "id": "fcad8127-c812-4a8e-b7c7-f5e2e13fd974",
   "metadata": {},
   "source": [
    "## Scatter plot animation\n",
    "Los estilos que se puede ser modificados en scatter plots es median el valor devuelte de scatter y son:\n",
    "~~~~\n",
    "change the positions\n",
    "   scat.set_offsets(array)\n",
    "here array is a N x 2 shaped array of x and y coordinates\n",
    "\n",
    "change the sizes\n",
    "  scat.set_sizes(array)\n",
    "where array is a 1D array of sizes in points.\n",
    "\n",
    "change the color\n",
    "\n",
    "      scat.set_array(array)\n",
    "where array is a 1D array of values which will be colormapped.\n",
    "~~~\n",
    "\n",
    "- https://stackoverflow.com/questions/9401658/how-to-animate-a-scatter-plot\n",
    "- https://stackoverflow.com/questions/26892392/matplotlib-funcanimation-for-scatter-plot"
   ]
  },
  {
   "cell_type": "code",
   "execution_count": null,
   "id": "c7985b2e-dab8-49c2-afdf-cf34559ff8cd",
   "metadata": {},
   "outputs": [],
   "source": [
    "import matplotlib.pyplot as plt\n",
    "import numpy as np\n",
    "import matplotlib.animation as animation\n",
    "\n",
    "numframes = 5\n",
    "fig, ax = plt.subplots()\n",
    "scat = ax.scatter([], [])  # Definomos un plot vacio\n",
    "#scat = plt.scatter([], []) # Es lo mismo que arriba, funcionaria igual\n",
    "datos = []        # x data\n",
    "objetivos = []    # y data\n",
    "colores = np.random.random_sample(numframes)\n",
    "\n",
    "# Debe defirse este init para que funcione\n",
    "def init():\n",
    "    # AJustamos la escala del plot y regresamos una tupla\n",
    "    ax.set_xlim(0, 10)\n",
    "    ax.set_ylim(0, 20)\n",
    "    return scat,\n",
    "\n",
    "def update_plot(i, data, target, colors, scat):\n",
    "    data.append(i)\n",
    "    target.append(i ** 2)\n",
    "    print(data)\n",
    "    # Creamos una arreglo 2d x,y\n",
    "    x = np.array(data).reshape(-1, 1)  # Convertimos en vector columna\n",
    "    y = np.array(target).reshape(-1, 1)\n",
    "    new_plot = np.hstack( (x, y))\n",
    "    scat.set_offsets( new_plot)  # Actualizamos el scatter plot puntos\n",
    "    scat.set_array(colors[:i])   # Dibujamos colores hasta el numero de puntos avaible\n",
    "    return scat,\n",
    "\n",
    "# Los frames se iran repitiendo una y otra vez en un bucle infinito\n",
    "ani = animation.FuncAnimation(fig, update_plot, frames=5,init_func=init,\n",
    "                                  fargs=(datos, objetivos, colores, scat))\n",
    "\n",
    "ani.save('scatter.gif', writer='pillow')  ## Para guardarlo en un gif\n",
    "plt.show()\n",
    "        "
   ]
  },
  {
   "cell_type": "markdown",
   "id": "d4f3f5ed-bf00-4eee-861c-8d735c28eb85",
   "metadata": {},
   "source": [
    "# References\n",
    "- https://github.com/parulnith/Animations-with-Matplotlib\n",
    "- https://towardsdatascience.com/animations-with-matplotlib-d96375c5442c\n",
    "- https://matplotlib.org/stable/api/animation_api.html"
   ]
  }
 ],
 "metadata": {
  "kernelspec": {
   "display_name": "Python 3 (ipykernel)",
   "language": "python",
   "name": "python3"
  },
  "language_info": {
   "codemirror_mode": {
    "name": "ipython",
    "version": 3
   },
   "file_extension": ".py",
   "mimetype": "text/x-python",
   "name": "python",
   "nbconvert_exporter": "python",
   "pygments_lexer": "ipython3",
   "version": "3.10.0"
  }
 },
 "nbformat": 4,
 "nbformat_minor": 5
}
