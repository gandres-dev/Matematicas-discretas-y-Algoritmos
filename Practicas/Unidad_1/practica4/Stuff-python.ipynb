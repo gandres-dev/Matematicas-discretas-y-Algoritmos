{
 "cells": [
  {
   "cell_type": "markdown",
   "id": "0627b112-8149-4ff5-b5a9-baae5b5ca5f2",
   "metadata": {},
   "source": [
    "# Stuffs the python"
   ]
  },
  {
   "cell_type": "markdown",
   "id": "d4e101eb-028f-4f09-b199-8535ae492343",
   "metadata": {},
   "source": [
    "Dada un vector comvertirlo en un vector columna"
   ]
  },
  {
   "cell_type": "code",
   "execution_count": 2,
   "id": "c6acb610-a238-4404-8ae5-14fc9f98c6c2",
   "metadata": {},
   "outputs": [
    {
     "data": {
      "text/plain": [
       "array([0, 1, 2, 3, 4, 5, 6, 7, 8, 9])"
      ]
     },
     "execution_count": 2,
     "metadata": {},
     "output_type": "execute_result"
    }
   ],
   "source": [
    "import numpy as np\n",
    "\n",
    "# arr = np.array([i for i in range(10)])\n",
    "arr = np.arange(10)\n",
    "arr"
   ]
  },
  {
   "cell_type": "code",
   "execution_count": 3,
   "id": "8460573a-7557-4d18-af29-af1b0dd6c743",
   "metadata": {},
   "outputs": [
    {
     "data": {
      "text/plain": [
       "array([[0],\n",
       "       [1],\n",
       "       [2],\n",
       "       [3],\n",
       "       [4],\n",
       "       [5],\n",
       "       [6],\n",
       "       [7],\n",
       "       [8],\n",
       "       [9]])"
      ]
     },
     "execution_count": 3,
     "metadata": {},
     "output_type": "execute_result"
    }
   ],
   "source": [
    "vec_colum = arr.reshape(-1, 1)\n",
    "vec_colum"
   ]
  },
  {
   "cell_type": "code",
   "execution_count": 4,
   "id": "4ec642f9-ec00-47e6-aadd-1594c7325c15",
   "metadata": {},
   "outputs": [
    {
     "data": {
      "text/plain": [
       "array([[0, 1, 2, 3, 4, 5, 6, 7, 8, 9]])"
      ]
     },
     "execution_count": 4,
     "metadata": {},
     "output_type": "execute_result"
    }
   ],
   "source": [
    "arr.reshape(1, -1)"
   ]
  },
  {
   "cell_type": "markdown",
   "id": "c88ce544-730b-45c7-aab4-453469de7a7c",
   "metadata": {},
   "source": [
    "Concaterar dos vectores columas para convertirla aun array 2-d"
   ]
  },
  {
   "cell_type": "code",
   "execution_count": 8,
   "id": "8418bd4f-26ff-4a51-b451-18899595e8e1",
   "metadata": {},
   "outputs": [
    {
     "data": {
      "text/plain": [
       "array([[0, 0],\n",
       "       [1, 1],\n",
       "       [2, 2],\n",
       "       [3, 3],\n",
       "       [4, 4],\n",
       "       [5, 5],\n",
       "       [6, 6],\n",
       "       [7, 7],\n",
       "       [8, 8],\n",
       "       [9, 9]])"
      ]
     },
     "execution_count": 8,
     "metadata": {},
     "output_type": "execute_result"
    }
   ],
   "source": [
    "np.hstack( (vec_colum, vec_colum) )"
   ]
  },
  {
   "cell_type": "markdown",
   "id": "22f28971-f790-4e40-8347-c3b00e618b44",
   "metadata": {},
   "source": [
    "Concatenar hacia abajo:"
   ]
  },
  {
   "cell_type": "code",
   "execution_count": 9,
   "id": "60efe10a-3d9e-44c1-a818-f0e7056f6ec6",
   "metadata": {},
   "outputs": [
    {
     "data": {
      "text/plain": [
       "array([[0],\n",
       "       [1],\n",
       "       [2],\n",
       "       [3],\n",
       "       [4],\n",
       "       [5],\n",
       "       [6],\n",
       "       [7],\n",
       "       [8],\n",
       "       [9],\n",
       "       [0],\n",
       "       [1],\n",
       "       [2],\n",
       "       [3],\n",
       "       [4],\n",
       "       [5],\n",
       "       [6],\n",
       "       [7],\n",
       "       [8],\n",
       "       [9]])"
      ]
     },
     "execution_count": 9,
     "metadata": {},
     "output_type": "execute_result"
    }
   ],
   "source": [
    "np.vstack( (vec_colum, vec_colum) )"
   ]
  },
  {
   "cell_type": "markdown",
   "id": "6ab843ec-04ee-463b-803c-0179c367457e",
   "metadata": {},
   "source": [
    "Dada una matrix, convertirla en un vector:"
   ]
  },
  {
   "cell_type": "code",
   "execution_count": 5,
   "id": "c648f3d3-a8a4-4fa0-9c3d-f29b4901781d",
   "metadata": {},
   "outputs": [],
   "source": [
    "matrix = np.array([[1, 2, 3],\n",
    "                    [4, 5, 6],\n",
    "                    [7, 8, 9],\n",
    "                    [10, 11, 12]])"
   ]
  },
  {
   "cell_type": "code",
   "execution_count": 6,
   "id": "e5f681db-1c58-460c-903b-df12f1ea2beb",
   "metadata": {},
   "outputs": [
    {
     "data": {
      "text/plain": [
       "array([[ 1,  2,  3,  4,  5,  6,  7,  8,  9, 10, 11, 12]])"
      ]
     },
     "execution_count": 6,
     "metadata": {},
     "output_type": "execute_result"
    }
   ],
   "source": [
    "matrix.reshape(1, -1)"
   ]
  },
  {
   "cell_type": "code",
   "execution_count": null,
   "id": "e8e1285e-caec-4acf-bc55-32a65b85da14",
   "metadata": {},
   "outputs": [],
   "source": []
  }
 ],
 "metadata": {
  "kernelspec": {
   "display_name": "Python 3 (ipykernel)",
   "language": "python",
   "name": "python3"
  },
  "language_info": {
   "codemirror_mode": {
    "name": "ipython",
    "version": 3
   },
   "file_extension": ".py",
   "mimetype": "text/x-python",
   "name": "python",
   "nbconvert_exporter": "python",
   "pygments_lexer": "ipython3",
   "version": "3.10.0"
  }
 },
 "nbformat": 4,
 "nbformat_minor": 5
}
