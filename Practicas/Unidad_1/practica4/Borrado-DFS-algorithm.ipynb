{
 "cells": [
  {
   "cell_type": "code",
   "execution_count": 3,
   "id": "22ff1ebe-c109-4734-84f2-aabeb327054c",
   "metadata": {},
   "outputs": [],
   "source": [
    "import numpy as np\n",
    "import matplotlib.pyplot as plt\n",
    "import networkx as nx"
   ]
  },
  {
   "cell_type": "markdown",
   "id": "53be96be-fccc-4254-9b51-4b66223472f8",
   "metadata": {},
   "source": [
    "# Borrador para DFS \n",
    "\n",
    "## 1) Crear imagenes por cada paso"
   ]
  },
  {
   "cell_type": "code",
   "execution_count": 139,
   "id": "ff600d3b-7c46-41f7-9da5-98102a7e4bf3",
   "metadata": {},
   "outputs": [
    {
     "data": {
      "text/plain": [
       "['#5583ba',\n",
       " '#5583ba',\n",
       " '#5583ba',\n",
       " '#5583ba',\n",
       " '#5583ba',\n",
       " '#5583ba',\n",
       " '#5583ba',\n",
       " '#5583ba',\n",
       " '#5583ba',\n",
       " '#5583ba']"
      ]
     },
     "execution_count": 139,
     "metadata": {},
     "output_type": "execute_result"
    }
   ],
   "source": [
    "[\"#5583ba\"] * 10"
   ]
  },
  {
   "cell_type": "code",
   "execution_count": 142,
   "id": "b415789e-ef0f-4391-ae88-d00aeff5c8be",
   "metadata": {},
   "outputs": [
    {
     "data": {
      "text/plain": [
       "range(0, 9)"
      ]
     },
     "execution_count": 142,
     "metadata": {},
     "output_type": "execute_result"
    }
   ],
   "source": [
    "range(9)"
   ]
  },
  {
   "cell_type": "code",
   "execution_count": 143,
   "id": "745374f0-326a-4a0a-8519-c27b83e14d01",
   "metadata": {},
   "outputs": [
    {
     "data": {
      "text/plain": [
       "[0, 1, 2, 3, 4, 5, 6, 7, 8]"
      ]
     },
     "execution_count": 143,
     "metadata": {},
     "output_type": "execute_result"
    }
   ],
   "source": [
    "list(range(9)) # Cuando hacemos un casteo a list perdemos el ultimo"
   ]
  },
  {
   "cell_type": "code",
   "execution_count": 145,
   "id": "c29821df-3543-4f43-a45c-20b06569df96",
   "metadata": {},
   "outputs": [
    {
     "data": {
      "text/plain": [
       "NodeView((0, 1, 2, 3, 4, 5, 6, 7, 8, 9))"
      ]
     },
     "execution_count": 145,
     "metadata": {},
     "output_type": "execute_result"
    }
   ],
   "source": [
    "g.nodes"
   ]
  },
  {
   "cell_type": "code",
   "execution_count": 146,
   "id": "59ac9a48-2c9b-4e1a-bac4-5ead5ab8cfba",
   "metadata": {},
   "outputs": [
    {
     "data": {
      "text/plain": [
       "9"
      ]
     },
     "execution_count": 146,
     "metadata": {},
     "output_type": "execute_result"
    }
   ],
   "source": [
    "len(range(9))"
   ]
  },
  {
   "cell_type": "code",
   "execution_count": 144,
   "id": "056d35d1-e2ec-4d84-988c-70dd683e129e",
   "metadata": {},
   "outputs": [
    {
     "data": {
      "image/png": "[encoded data removed]",
      "text/plain": [
       "<Figure size 432x288 with 1 Axes>"
      ]
     },
     "metadata": {},
     "output_type": "display_data"
    }
   ],
   "source": [
    "nodes = range(9)\n",
    "edges = [(0,1), (0,2), (1,2), (1,3), (1,4), (3,5), (5,6), (5,7), (5,8), (7,8), (8, 9)]\n",
    "color_map=[\"#5583ba\"] * 10\n",
    "#color_map[9] = \"#84c05d\"\n",
    "g = nx.Graph()\n",
    "g.add_nodes_from(nodes)  # Cuando se pasa un range(9) si son los nuevo inclusive\n",
    "g.add_edges_from(edges)\n",
    "pos = nx.spring_layout(g)\n",
    "\n",
    "# nx.draw_networkx_nodes(g, pos, node_size=200, node_color='#00b4d9')   # Dibuja solo los nodos\n",
    "# nx.draw_networkx_edges(g, pos)                                        # Dibuja solo las aristas\n",
    "# nx.draw(g, with_labels=True, font_weight='bold',node_color='#00b4d9') # Dibuja nodos de un color en especifico y lines\n",
    "\n",
    "nx.draw(g, node_color=color_map, with_labels=True, font_weight='bold')\n",
    "#plt.savefig(\"img/dfs/test.png\") - Guarda la imagen de un grafo"
   ]
  },
  {
   "cell_type": "code",
   "execution_count": 67,
   "id": "b536f943-1b17-4ee6-b933-117893d99b0d",
   "metadata": {},
   "outputs": [],
   "source": [
    "i = 0  # Variable global para el nombre de las imagnes\n",
    "def bfs(g, initial, visited=None, color_map=None, pos=None):\n",
    "    \"\"\"Devuelme un camino de la trayectoria que siguio el algoritmo\"\"\"\n",
    "    global i\n",
    "    if visited is None:\n",
    "        visited = [False] * len(g)       \n",
    "    visited[initial] = True    \n",
    "    if color_map is not None:\n",
    "        color_map[initial] = \"#84c05d\"        \n",
    "        nx.draw(g, pos=pos, node_color=color_map, with_labels=True, font_weight='bold')\n",
    "        plt.savefig(\"img/dfs/process{0}.png\".format(i))\n",
    "        plt.close()\n",
    "    print(initial, end=\" \")\n",
    "    for node_adj in g.adj[initial]:\n",
    "        if not visited[node_adj]:            \n",
    "            i += 1\n",
    "            bfs(g, node_adj, visited, color_map, pos)\n",
    "    # print('i: {}'.format(i)) # Aqui podemos vernos el backtrack\n",
    "    return"
   ]
  },
  {
   "cell_type": "code",
   "execution_count": 68,
   "id": "79e420fd-5b62-426a-9d5e-2a1577ca9981",
   "metadata": {},
   "outputs": [
    {
     "name": "stdout",
     "output_type": "stream",
     "text": [
      "0 1 2 3 5 6 7 8 9 4 "
     ]
    }
   ],
   "source": [
    "nodes = range(9)\n",
    "edges = [(0,1), (0,2), (1,2), (1,3), (1,4), (3,5), (5,6), (5,7), (5,8), (7,8), (8, 9)]\n",
    "color_map=[\"#5583ba\" for i in range(10)]\n",
    "g = nx.Graph()\n",
    "g.add_nodes_from(nodes)\n",
    "g.add_edges_from(edges)\n",
    "pos = nx.spring_layout(g)\n",
    "bfs(g, 0, color_map=color_map, pos=pos)"
   ]
  },
  {
   "cell_type": "markdown",
   "id": "46797e52-2c41-4976-a0e6-751f6fbdc84d",
   "metadata": {},
   "source": [
    "Funciona correctamente, pero el problema que podemos encontrar es que estamos dibujando la grafica por lo que la posicion de los nodos cambia, y no es la mejor visualizacion.\n",
    "\n",
    "La mejor opcion es crear los nodos y aristas fijas e ir cambiando los colores, pero de los nodos fijos\n",
    "\n",
    "~~~\n",
    "   # draw graph\n",
    "    nodes = nx.draw_networkx_nodes(G, pos, *args, **kwargs)\n",
    "    edges = nx.draw_networkx_edges(G, pos, *args, **kwargs)\n",
    "~~~\n",
    "Solucion pasar una pos en la funcion."
   ]
  },
  {
   "cell_type": "markdown",
   "id": "05632276-e0e1-4a21-b796-e9d1ea9cc782",
   "metadata": {},
   "source": [
    "---\n",
    "\n",
    "## Generar una animacion\n",
    "\n",
    "Para realizar una animacion de nuestro algoritmo haremos un generador que nos traira el nodo visitado para dibuajarlo en el lienzo"
   ]
  },
  {
   "cell_type": "code",
   "execution_count": 107,
   "id": "b4caa992-a46e-4c17-87ea-7a02c188409e",
   "metadata": {},
   "outputs": [],
   "source": [
    "def bfs(g, initial, visited=None, path=None):\n",
    "    \"\"\"Devuelme un camino de la trayectoria que siguio el algoritmo\"\"\"    \n",
    "    if visited is None:\n",
    "        visited = [False] * len(g)\n",
    "        path = [] # Ira agregando los nodos conforme fueron descubiertos\n",
    "    visited[initial] = True    \n",
    "    #print(initial, end=\" \")\n",
    "    path.append(initial)\n",
    "    for node_adj in g.adj[initial]:\n",
    "        if not visited[node_adj]:                \n",
    "            bfs(g, node_adj, visited, path)\n",
    "    # print('i: {}'.format(i)) # Aqui podemos vernos el backtrack\n",
    "    return path"
   ]
  },
  {
   "cell_type": "code",
   "execution_count": 121,
   "id": "7daf0a76-8adc-4e98-b2c9-620d4ce1f971",
   "metadata": {},
   "outputs": [
    {
     "name": "stdout",
     "output_type": "stream",
     "text": [
      "0 1 2 3 5 6 7 8 9 4 "
     ]
    }
   ],
   "source": [
    "# Creando un generator comprehensions;\n",
    "gen = (x for x in bfs(g, 0))"
   ]
  },
  {
   "cell_type": "code",
   "execution_count": 125,
   "id": "e3f47091-a8c0-44e5-8b37-43760cfec78d",
   "metadata": {},
   "outputs": [
    {
     "data": {
      "text/plain": [
       "3"
      ]
     },
     "execution_count": 125,
     "metadata": {},
     "output_type": "execute_result"
    }
   ],
   "source": [
    "next(gen)"
   ]
  },
  {
   "cell_type": "code",
   "execution_count": 135,
   "id": "426e665f-13ec-4018-bb65-55796ae152de",
   "metadata": {},
   "outputs": [
    {
     "data": {
      "text/plain": [
       "[0, 1, 2, 3, 4, 5, 6, 7, 8]"
      ]
     },
     "execution_count": 135,
     "metadata": {},
     "output_type": "execute_result"
    }
   ],
   "source": [
    "list(range(9))"
   ]
  },
  {
   "cell_type": "code",
   "execution_count": null,
   "id": "15100769-5750-4887-bb60-98c93e09390e",
   "metadata": {},
   "outputs": [],
   "source": [
    "import numpy as np\n",
    "import matplotlib.pyplot as plt\n",
    "#plt.close('all')\n",
    "import networkx as nx\n",
    "import matplotlib.animation as animation\n",
    "\n",
    "# Create graph\n",
    "nodes = range(9)\n",
    "edges = [(0,1), (0,2), (1,2), (1,3), (1,4), (3,5), (5,6), (5,7), (5,8), (7,8), (8, 9)]\n",
    "num_nodes = len(range(9)) + 1 # Porque inicia en [0, 1, .... 9] con range(9)\n",
    "G = nx.Graph()\n",
    "G.add_nodes_from(nodes)\n",
    "G.add_edges_from(edges)\n",
    "\n",
    "#node_colors = [\"#5583ba\"] * 10 not working\n",
    "#node_colors = range(9)\n",
    "#node_colors = [i for i in range(9)]\n",
    "# num_nodes+1: porque inicia en 0 la cuenta, tendriamos en todad [0, 1, .... 9] con range(9)\n",
    "node_colors = [0] * (num_nodes)  # Inicializamos todos a un color\n",
    "velocidad = 700  # Entre mayor numero es mas lento la animacion\n",
    "\n",
    "# draw graph\n",
    "pos   = nx.spring_layout(G)\n",
    "nodes = nx.draw_networkx_nodes(G, pos)\n",
    "edges = nx.draw_networkx_edges(G, pos)\n",
    "nx.draw_networkx_labels(G,pos)\n",
    "\n",
    "plt.axis('off')  # Eliminamos los ejes\n",
    "fig = plt.gcf()  # Obtenemos la figure\n",
    "\n",
    "# Algoritmo\n",
    "# Creando un generator comprehensions\n",
    "path = bfs(G, 0)\n",
    "#print(f'Path: {path}')\n",
    "gen = (x for x in path)\n",
    "\n",
    "def update_plot(frames, nodes, node_colors):\n",
    "    #print(frames)\n",
    "    global gen\n",
    "    # Ajustamos el cambio del color\n",
    "    try:\n",
    "        next_node = next(gen)\n",
    "    except StopIteration:\n",
    "        # Creamos un numero generador e inicializamos la cuenta\n",
    "        gen = (x for x in path)\n",
    "        next_node = next(gen)\n",
    "    \n",
    "    node_colors[next_node] = 1  # Change color\n",
    "    #print(f'Next_node: {next_node}')\n",
    "    #print(node_colors)\n",
    "    # Cambiamos el color a todos con el arreglo\n",
    "    nodes.set_array(node_colors)\n",
    "    return nodes,\n",
    "\n",
    "# Los frames se iran repitiendo una y otra vez en un bucle infinito\n",
    "ani = animation.FuncAnimation(fig, update_plot, frames=num_nodes, interval=velocidad,\n",
    "                                  fargs=(nodes, node_colors))\n",
    "#ani.save('bfs.gif', writer='pillow')  ## Para guardarlo en un gif\n",
    "plt.show()\n"
   ]
  },
  {
   "cell_type": "code",
   "execution_count": 13,
   "id": "de30e291-a4e0-4736-90f5-40e5beec93c5",
   "metadata": {},
   "outputs": [
    {
     "data": {
      "text/plain": [
       "[0, 0, 0, 0, 0, 0, 0, 0, 0]"
      ]
     },
     "execution_count": 13,
     "metadata": {},
     "output_type": "execute_result"
    }
   ],
   "source": [
    "[0] * 9"
   ]
  },
  {
   "cell_type": "code",
   "execution_count": 12,
   "id": "7c6454c3-c9d3-4770-90f9-67eeb62ebaea",
   "metadata": {},
   "outputs": [
    {
     "data": {
      "text/plain": [
       "[0, 1, 2, 3, 4, 5, 6, 7, 8]"
      ]
     },
     "execution_count": 12,
     "metadata": {},
     "output_type": "execute_result"
    }
   ],
   "source": [
    "[i for i in range(9)"
   ]
  },
  {
   "cell_type": "code",
   "execution_count": null,
   "id": "ede174a5-6f91-4d50-9305-e3d57006bdbf",
   "metadata": {},
   "outputs": [],
   "source": [
    "import numpy as np\n",
    "import matplotlib.pyplot as plt; plt.close('all')\n",
    "import networkx as nx\n",
    "from matplotlib.animation import FuncAnimation\n",
    "\n",
    "def animate_nodes(G, node_colors, pos=None, *args, **kwargs):\n",
    "\n",
    "    # define graph layout if None given\n",
    "    if pos is None:\n",
    "        pos = nx.spring_layout(G)\n",
    "\n",
    "    # draw graph\n",
    "    nodes = nx.draw_networkx_nodes(G, pos, *args, **kwargs)\n",
    "    edges = nx.draw_networkx_edges(G, pos, *args, **kwargs)\n",
    "    plt.axis('off')\n",
    "\n",
    "    def update(ii):\n",
    "        # nodes are just markers returned by plt.scatter;\n",
    "        # node color can hence be changed in the same way like marker colors\n",
    "        print(ii)\n",
    "        print(node_colors[ii])\n",
    "        nodes.set_array(node_colors[ii])\n",
    "        return nodes,\n",
    "\n",
    "    fig = plt.gcf()\n",
    "    animation = FuncAnimation(fig, update, interval=50, frames=len(node_colors), blit=True)\n",
    "    return animation\n",
    "\n",
    "total_nodes = 10\n",
    "graph = nx.complete_graph(total_nodes)\n",
    "time_steps = 20\n",
    "node_colors = np.random.randint(0, 100, size=(time_steps, total_nodes))\n",
    "\n",
    "animation = animate_nodes(graph, node_colors)\n",
    "#animation.save('test.gif', writer='imagemagick', savefig_kwargs={'facecolor':'white'}, fps=0.5)\n",
    "plt.show()\n",
    "\n",
    "# https://stackoverflow.com/questions/50376066/what-tool-to-draw-an-animated-network-graph"
   ]
  },
  {
   "cell_type": "code",
   "execution_count": 4,
   "id": "0a915356-cb63-4b06-a659-4834937878a5",
   "metadata": {},
   "outputs": [
    {
     "data": {
      "text/plain": [
       "array([[36, 10, 14, 47, 61, 57, 40,  4, 21, 33],\n",
       "       [29, 43, 48,  4, 98, 98, 35, 83, 24, 53],\n",
       "       [56, 77, 71, 72,  6, 84, 62, 40, 14, 49],\n",
       "       [66, 90, 52, 32, 47, 90, 45, 98, 30, 12],\n",
       "       [77, 27, 68, 55,  1,  1, 38, 21, 96, 85],\n",
       "       [69, 68, 44, 48, 86, 95, 88, 33, 27, 21],\n",
       "       [81, 80, 33, 65,  3, 16, 51, 23, 33, 14],\n",
       "       [80, 25, 79,  5, 23, 99,  4, 96,  6, 85],\n",
       "       [39, 57, 43, 67,  2, 75, 83, 82, 84,  8],\n",
       "       [16,  8,  5, 44, 69, 78, 54, 48, 60, 72],\n",
       "       [78, 87, 57, 48, 38, 15, 70, 95, 52, 27],\n",
       "       [89,  5, 86, 63, 11, 71, 27, 24, 17,  9],\n",
       "       [66, 33, 17, 79, 51, 78, 89, 64, 94, 75],\n",
       "       [83, 48, 65, 69, 62,  1, 40, 48, 19, 80],\n",
       "       [84, 53, 79,  3, 33, 84, 87, 10, 45, 48],\n",
       "       [48, 29, 80, 45, 90, 66, 30, 14, 19, 64],\n",
       "       [11,  2, 39, 29, 33,  2, 41, 90, 98, 79],\n",
       "       [74, 34, 70, 35,  3, 42, 44, 32, 74, 57],\n",
       "       [63, 43, 73, 16, 48, 15,  4, 44, 83, 58],\n",
       "       [33, 95, 86, 42, 93, 28, 74, 80, 15, 21]])"
      ]
     },
     "execution_count": 4,
     "metadata": {},
     "output_type": "execute_result"
    }
   ],
   "source": [
    "total_nodes = 10\n",
    "time_steps = 20\n",
    "np.random.randint(0, 100, size=(time_steps, total_nodes))"
   ]
  },
  {
   "cell_type": "code",
   "execution_count": 70,
   "id": "2c19859c-5b4a-4976-919f-ba07cb17b092",
   "metadata": {},
   "outputs": [],
   "source": [
    "total_nodes = 10\n",
    "time_steps = 20\n",
    "node_colors = np.random.randint(0, 100, size=(time_steps, total_nodes))"
   ]
  },
  {
   "cell_type": "code",
   "execution_count": 74,
   "id": "dfdad2f1-6a66-402c-ac7b-b7d60140ead9",
   "metadata": {},
   "outputs": [
    {
     "data": {
      "text/plain": [
       "20"
      ]
     },
     "execution_count": 74,
     "metadata": {},
     "output_type": "execute_result"
    }
   ],
   "source": [
    "len(node_colors)"
   ]
  },
  {
   "cell_type": "code",
   "execution_count": null,
   "id": "44effdf2-2f92-4e3b-a75e-4db93167d7a9",
   "metadata": {},
   "outputs": [],
   "source": []
  },
  {
   "cell_type": "code",
   "execution_count": null,
   "id": "89bfb865-a15f-460b-bcfa-7b3cb908a88c",
   "metadata": {},
   "outputs": [],
   "source": []
  },
  {
   "cell_type": "code",
   "execution_count": null,
   "id": "7f1afc02-5c28-413b-a141-7d233af1ace6",
   "metadata": {},
   "outputs": [],
   "source": []
  },
  {
   "cell_type": "code",
   "execution_count": null,
   "id": "e8484d05-464d-4387-b6e7-60a42e65ae83",
   "metadata": {},
   "outputs": [],
   "source": []
  },
  {
   "cell_type": "code",
   "execution_count": null,
   "id": "cd61f7aa-5318-404c-a5b3-c2142894b81b",
   "metadata": {},
   "outputs": [],
   "source": [
    "import itertools\n",
    "\n",
    "import matplotlib.pyplot as plt\n",
    "import matplotlib.animation as animation\n",
    "import numpy as np\n",
    "\n",
    "# set parameters\n",
    "frames = 10\n",
    "points = 20\n",
    "np.random.seed(42)\n",
    "\n",
    "# create data\n",
    "datos = np.random.rand(points, 2)\n",
    "\n",
    "# set how the graph will change each frame\n",
    "sizes = itertools.cycle([10, 50, 150])\n",
    "colors = np.random.rand(frames, points)\n",
    "colormaps = itertools.cycle(['Purples', 'Blues', 'Greens', 'Oranges', 'Reds'])\n",
    "markers = itertools.cycle(['o', 'v', '^', 's', 'p'])\n",
    "\n",
    "# init the figure\n",
    "fig, ax = plt.subplots(figsize=(5,5))\n",
    "\n",
    "def update(i):\n",
    "    # clear the axis each frame\n",
    "    ax.clear()\n",
    "\n",
    "    # replot things\n",
    "    ax.scatter(datos[:, 0], datos[:, 1],\n",
    "               s=next(sizes),\n",
    "               c=colors[i, :],\n",
    "               cmap=next(colormaps),\n",
    "               marker=next(markers))\n",
    "\n",
    "    # reformat things\n",
    "    ax.set_xlabel('world')\n",
    "    ax.set_ylabel('hello')\n",
    "\n",
    "ani = animation.FuncAnimation(fig, update, frames=frames, interval=500)\n",
    "plt.show()\n",
    "#ani.save('scatter.gif', writer='pillow')\n",
    "# https://stackoverflow.com/questions/9401658/how-to-animate-a-scatter-plot"
   ]
  },
  {
   "cell_type": "code",
   "execution_count": null,
   "id": "9f77e03d-b124-4a90-924a-6b6fe4c37924",
   "metadata": {},
   "outputs": [],
   "source": []
  },
  {
   "cell_type": "code",
   "execution_count": null,
   "id": "1447d329-98b9-490d-bd72-0b260746c0f4",
   "metadata": {},
   "outputs": [],
   "source": []
  },
  {
   "cell_type": "code",
   "execution_count": null,
   "id": "ea25499a-6cde-4f6c-80fc-a8f638126f20",
   "metadata": {},
   "outputs": [],
   "source": []
  },
  {
   "cell_type": "code",
   "execution_count": 20,
   "id": "f216530d-f016-4026-a04a-075200f7fbc6",
   "metadata": {},
   "outputs": [
    {
     "data": {
      "image/png": "[encoded data removed]",
      "text/plain": [
       "<Figure size 432x288 with 1 Axes>"
      ]
     },
     "metadata": {},
     "output_type": "display_data"
    }
   ],
   "source": [
    "import matplotlib.pyplot as plt\n",
    "import networkx as nx\n",
    "\n",
    "n = 24\n",
    "G = nx.cycle_graph(n)\n",
    "pos = nx.circular_layout(G)\n",
    "nx.draw(G, pos, node_color=range(n), node_size=800)\n",
    "plt.show()"
   ]
  },
  {
   "cell_type": "code",
   "execution_count": 41,
   "id": "8e74a903-2940-4902-9ca6-6372eb07ca63",
   "metadata": {},
   "outputs": [
    {
     "data": {
      "image/png": "[encoded data removed]",
      "text/plain": [
       "<Figure size 432x288 with 1 Axes>"
      ]
     },
     "metadata": {},
     "output_type": "display_data"
    }
   ],
   "source": [
    "import matplotlib.pyplot as plt\n",
    "import networkx as nx\n",
    "\n",
    "n = 24\n",
    "G = nx.cycle_graph(n)\n",
    "pos = nx.circular_layout(G)\n",
    "nx.draw(G, pos, node_color=[0]*n, node_size=800)\n",
    "plt.show()"
   ]
  },
  {
   "cell_type": "code",
   "execution_count": 74,
   "id": "3fd8e28d-da61-4156-b542-d9cce638ffa0",
   "metadata": {},
   "outputs": [],
   "source": [
    "colors = [0,1,0,1,0,0,1,0,0]\n",
    "#colors = [2,2,2,2,2,2,2,2,2]"
   ]
  },
  {
   "cell_type": "code",
   "execution_count": 77,
   "id": "1bd3c974-60bf-4c7d-8baa-136280d750ac",
   "metadata": {},
   "outputs": [
    {
     "data": {
      "image/png": "[encoded data removed]",
      "text/plain": [
       "<Figure size 432x288 with 1 Axes>"
      ]
     },
     "metadata": {},
     "output_type": "display_data"
    }
   ],
   "source": [
    "import matplotlib.pyplot as plt\n",
    "import networkx as nx\n",
    "\n",
    "n = 9\n",
    "G = nx.cycle_graph(n)\n",
    "pos = nx.circular_layout(G)\n",
    "nx.draw(G, pos, node_color=colors, node_size=800)\n",
    "plt.show()"
   ]
  },
  {
   "cell_type": "markdown",
   "id": "5852d2fc-7967-4e25-849e-cb1ca76f8523",
   "metadata": {},
   "source": [
    "- https://stackoverflow.com/questions/17682216/scatter-plot-and-color-mapping-in-python\n",
    "- https://networkx.org/documentation/stable/auto_examples/drawing/plot_node_colormap.html?highlight=node_color\n",
    "- https://stackoverflow.com/questions/31085231/set-dynamic-node-shape-in-network-with-matplotlib/31195070"
   ]
  },
  {
   "cell_type": "markdown",
   "id": "f4259c23-cb24-4265-8ee1-d232b3a957f2",
   "metadata": {},
   "source": [
    "# References\n",
    "- https://stackoverflow.com/questions/50376066/what-tool-to-draw-an-animated-network-graph\n",
    "- https://stackoverflow.com/questions/43936560/how-can-i-do-networkx-animation-for-stored-frames\n",
    "- https://stellasia.github.io/blog/2020-03-07-page-rank-animation-with-networkx-numpy-and-matplotlib/\n",
    "- https://youtu.be/KEG-NBVLrSg\n",
    "- https://ankurankan.github.io/plotting-and-animating-networkx-graphs.html\n",
    "\n"
   ]
  },
  {
   "cell_type": "code",
   "execution_count": null,
   "id": "d0c8a495-0d17-42ad-bc1b-5d2f42f08717",
   "metadata": {},
   "outputs": [],
   "source": []
  }
 ],
 "metadata": {
  "kernelspec": {
   "display_name": "Python 3 (ipykernel)",
   "language": "python",
   "name": "python3"
  },
  "language_info": {
   "codemirror_mode": {
    "name": "ipython",
    "version": 3
   },
   "file_extension": ".py",
   "mimetype": "text/x-python",
   "name": "python",
   "nbconvert_exporter": "python",
   "pygments_lexer": "ipython3",
   "version": "3.10.0"
  }
 },
 "nbformat": 4,
 "nbformat_minor": 5
}
