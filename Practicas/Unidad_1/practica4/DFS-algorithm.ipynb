{
 "cells": [
  {
   "cell_type": "code",
   "execution_count": 4,
   "id": "de6f79ca-9adb-4ea1-a3dc-0ab4dba5d342",
   "metadata": {},
   "outputs": [],
   "source": [
    "import numpy as np\n",
    "import matplotlib.pyplot as plt\n",
    "import networkx as nx\n",
    "\n",
    "# %matplotlib         :le indicas que la visualizacion la haga en una ventana a parte\n",
    "# %matplotlib inline (Viene por defecto en jupyter) : le indicas que la visualizacion sea debajo de la celda"
   ]
  },
  {
   "cell_type": "markdown",
   "id": "439ccfc0-8cbc-4a6d-994b-3702d53e70fc",
   "metadata": {},
   "source": [
    "# DFS algoritm (Deep first search)\n",
    "Basicamente la idea del algortimo es ir explorando el grafo eligiendo el primer vertice que encuentre y repetir nuevamente hasta que haya visitado todos los nodos."
   ]
  },
  {
   "cell_type": "code",
   "execution_count": 5,
   "id": "c2b96cbd-70d6-476e-8098-ad2abbd7143e",
   "metadata": {},
   "outputs": [
    {
     "data": {
      "image/png": "[encoded data removed]",
      "text/plain": [
       "<Figure size 432x288 with 1 Axes>"
      ]
     },
     "metadata": {},
     "output_type": "display_data"
    }
   ],
   "source": [
    "nodes = range(9)\n",
    "edges = [(0,1), (0,2), (1,2), (1,3), (1,4), (3,5), (5,6), (5,7), (5,8), (7,8), (8, 9)]\n",
    "color_map=[\"#5583ba\"] * 10\n",
    "g = nx.Graph()\n",
    "g.add_nodes_from(nodes)\n",
    "g.add_edges_from(edges)\n",
    "pos = nx.spring_layout(g)\n",
    "\n",
    "nx.draw(g, node_color=color_map, with_labels=True, font_weight='bold')\n",
    "#plt.savefig(\"img/dfs/test.png\")"
   ]
  },
  {
   "cell_type": "code",
   "execution_count": 6,
   "id": "0d072fdb-5f26-4017-a323-c153f30aa3ee",
   "metadata": {
    "tags": []
   },
   "outputs": [],
   "source": [
    "def bfs(g, initial, visited=None, path=None):\n",
    "    \"\"\"Devuelme un camino de la trayectoria que siguio el algoritmo\"\"\"    \n",
    "    if visited is None:\n",
    "        visited = [False] * len(g)\n",
    "        path = [] # Ira agregando los nodos conforme fueron descubiertos\n",
    "    visited[initial] = True    \n",
    "    #print(initial, end=\" \")\n",
    "    path.append(initial)\n",
    "    for node_adj in g.adj[initial]:\n",
    "        if not visited[node_adj]:                \n",
    "            bfs(g, node_adj, visited, path)\n",
    "    # print('i: {}'.format(i)) # Aqui podemos vernos el backtrack\n",
    "    return path"
   ]
  },
  {
   "cell_type": "code",
   "execution_count": 7,
   "id": "cdd1bc24-b0ee-4817-9bd9-f4415b3c7d1f",
   "metadata": {
    "scrolled": true,
    "tags": []
   },
   "outputs": [
    {
     "data": {
      "text/plain": [
       "[0, 1, 2, 3, 5, 6, 7, 8, 9, 4]"
      ]
     },
     "execution_count": 7,
     "metadata": {},
     "output_type": "execute_result"
    }
   ],
   "source": [
    "bfs(g, 0)"
   ]
  },
  {
   "cell_type": "markdown",
   "id": "b1b4a770-a142-48a2-9306-f8eb50f7da72",
   "metadata": {},
   "source": [
    "## Animacion del algoritmo"
   ]
  },
  {
   "cell_type": "code",
   "execution_count": 12,
   "id": "60b21281-ad23-4583-8add-12d9cfe9c26a",
   "metadata": {},
   "outputs": [
    {
     "name": "stdout",
     "output_type": "stream",
     "text": [
      "Using matplotlib backend: TkAgg\n"
     ]
    }
   ],
   "source": [
    "%matplotlib\n",
    "import numpy as np\n",
    "import matplotlib.pyplot as plt\n",
    "#plt.close('all')\n",
    "import networkx as nx\n",
    "import matplotlib.animation as animation\n",
    "\n",
    "# Create graph\n",
    "nodes = range(9)\n",
    "edges = [(0,1), (0,2), (1,2), (1,3), (1,4), (3,5), (5,6), (5,7), (5,8), (7,8), (8, 9)]\n",
    "num_nodes = len(range(9)) + 1 # Porque inicia en [0, 1, .... 9] con range(9)\n",
    "G = nx.Graph()\n",
    "G.add_nodes_from(nodes)\n",
    "G.add_edges_from(edges)\n",
    "\n",
    "node_colors = [0] * (num_nodes)  # Inicializamos todos a un color\n",
    "velocidad = 700  # Entre mayor numero es mas lento la animacion\n",
    "\n",
    "# draw graph\n",
    "pos   = nx.spring_layout(G)\n",
    "nodes = nx.draw_networkx_nodes(G, pos)\n",
    "edges = nx.draw_networkx_edges(G, pos)\n",
    "nx.draw_networkx_labels(G,pos)\n",
    "\n",
    "plt.axis('off')  # Eliminamos los ejes\n",
    "fig = plt.gcf()  # Obtenemos la figure\n",
    "\n",
    "# Algoritmo\n",
    "path = bfs(G, 0) # Creando un generator comprehensions\n",
    "#print(f'Path: {path}')\n",
    "gen = (x for x in path)\n",
    "\n",
    "def update_plot(frames, nodes, node_colors):\n",
    "    global gen\n",
    "    # Ajustamos el cambio del color\n",
    "    try:\n",
    "        next_node = next(gen)\n",
    "    except StopIteration:\n",
    "        # Creamos un numero generador e inicializamos la cuenta\n",
    "        gen = (x for x in path)\n",
    "        next_node = next(gen)\n",
    "    \n",
    "    node_colors[next_node] = 1  # Change color\n",
    "    #print(f'Next_node: {next_node}')\n",
    "    #print(node_colors)\n",
    "    # Cambiamos el color a todos con el arreglo\n",
    "    nodes.set_array(node_colors)\n",
    "    return nodes,\n",
    "\n",
    "# Los frames se iran repitiendo una y otra vez en un bucle infinito\n",
    "ani = animation.FuncAnimation(fig, update_plot, frames=num_nodes, interval=velocidad,\n",
    "                                  fargs=(nodes, node_colors))\n",
    "#ani.save('./bfs.gif', writer='pillow')  ## Para guardarlo en un gif\n",
    "plt.show()"
   ]
  },
  {
   "cell_type": "markdown",
   "id": "0f603cd1-9bf1-4c19-8b3c-1a6ee470c794",
   "metadata": {},
   "source": [
    "## Aplicaciones\n",
    "\n",
    "## Cycle detection"
   ]
  },
  {
   "cell_type": "markdown",
   "id": "49be9300-1546-4c4f-8a6e-bf40143ab8ef",
   "metadata": {},
   "source": [
    "## Fiding connected components"
   ]
  },
  {
   "cell_type": "markdown",
   "id": "73eb978d-a5d2-4bf0-be61-54a437634ad7",
   "metadata": {},
   "source": [
    "## Topologia sort"
   ]
  },
  {
   "cell_type": "markdown",
   "id": "e62f1364-3e53-4bf8-8fa4-4f28f2ee0b10",
   "metadata": {},
   "source": [
    "## Maze generated\n",
    "\n",
    "- https://makeschool.org/mediabook/oa/tutorials/trees-and-mazes/generating-a-maze-with-dfs/\n"
   ]
  },
  {
   "cell_type": "code",
   "execution_count": null,
   "id": "b63a753d-1212-436b-ba25-a0ed938df3a5",
   "metadata": {},
   "outputs": [],
   "source": []
  },
  {
   "cell_type": "code",
   "execution_count": null,
   "id": "7ab786fa-5a53-4884-b84f-8f4f60273ed2",
   "metadata": {},
   "outputs": [],
   "source": []
  },
  {
   "cell_type": "code",
   "execution_count": null,
   "id": "0e94c865-429c-4508-afb1-60c47e813629",
   "metadata": {},
   "outputs": [],
   "source": []
  },
  {
   "cell_type": "markdown",
   "id": "ea71025a-57ad-41f2-b01b-8886d45174ad",
   "metadata": {},
   "source": [
    "## Referencias\n",
    "https://www.youtube.com/watch?v=PMMc4VsIacU&list=WL&index=9&t=6s&ab_channel=Reducible"
   ]
  },
  {
   "cell_type": "markdown",
   "id": "2e415297-07c8-421d-813d-5deb00e6c72a",
   "metadata": {},
   "source": [
    "## Shortcut\n",
    "https://gist.github.com/discdiver/9e00618756d120a8c9fa344ac1c375ac\n",
    "\n",
    "Para teclado de latinoamatica cambia un poco sera cuestion probar,\n",
    "eg.\n",
    "C-/ : toggle comments <=> C-} toggle comment for teclados latam qwerty"
   ]
  }
 ],
 "metadata": {
  "kernelspec": {
   "display_name": "Python 3 (ipykernel)",
   "language": "python",
   "name": "python3"
  },
  "language_info": {
   "codemirror_mode": {
    "name": "ipython",
    "version": 3
   },
   "file_extension": ".py",
   "mimetype": "text/x-python",
   "name": "python",
   "nbconvert_exporter": "python",
   "pygments_lexer": "ipython3",
   "version": "3.10.0"
  }
 },
 "nbformat": 4,
 "nbformat_minor": 5
}
