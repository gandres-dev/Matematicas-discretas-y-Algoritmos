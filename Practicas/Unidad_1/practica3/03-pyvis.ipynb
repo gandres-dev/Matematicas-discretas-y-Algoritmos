{
 "cells": [
  {
   "cell_type": "markdown",
   "id": "5bb4da98-28e3-49dc-811a-692cd81bf580",
   "metadata": {},
   "source": [
    "# pyvis\n",
    "Si bien networkx es muy bueno para crear y manipular gráficas, sus capacidades de graficación son un tanto deficientes. Una librería que busca resolver esto es pyvis\n",
    "\n",
    "pyvis maneja las gráficas de manera diferente que networkx, así que tendríamos que leer la documentación si queremos crear una desde cero. Por suerte, pivis provee funciones para convertir gráficas de networkx a su formato."
   ]
  },
  {
   "cell_type": "markdown",
   "id": "574b947b-49a3-4bb9-b439-f969cb23602f",
   "metadata": {},
   "source": [
    "## Creando una grafica"
   ]
  },
  {
   "cell_type": "code",
   "execution_count": 3,
   "id": "d0e1b5dc-1e8d-4b96-bdd9-0d413293b6ac",
   "metadata": {},
   "outputs": [],
   "source": [
    "from pyvis.network import Network\n",
    "\n",
    "net = Network()"
   ]
  },
  {
   "cell_type": "code",
   "execution_count": null,
   "id": "26bae6c5-fa2e-42c2-8f30-d8a06546ef63",
   "metadata": {},
   "outputs": [],
   "source": []
  }
 ],
 "metadata": {
  "kernelspec": {
   "display_name": "Python 3 (ipykernel)",
   "language": "python",
   "name": "python3"
  },
  "language_info": {
   "codemirror_mode": {
    "name": "ipython",
    "version": 3
   },
   "file_extension": ".py",
   "mimetype": "text/x-python",
   "name": "python",
   "nbconvert_exporter": "python",
   "pygments_lexer": "ipython3",
   "version": "3.10.0"
  }
 },
 "nbformat": 4,
 "nbformat_minor": 5
}
