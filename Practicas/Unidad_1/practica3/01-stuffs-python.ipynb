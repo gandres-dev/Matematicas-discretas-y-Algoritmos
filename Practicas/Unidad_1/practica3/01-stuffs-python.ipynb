{
 "cells": [
  {
   "cell_type": "markdown",
   "id": "e68ac79a-0259-4e0a-a140-d4c2667b2063",
   "metadata": {},
   "source": [
    "# Stuffs python"
   ]
  },
  {
   "cell_type": "markdown",
   "id": "b210c97a-2867-40f0-9602-2a078878e20d",
   "metadata": {},
   "source": [
    "Este ejemplo al crear una lista de diccionarios con * , todos apuntan al mismo objeto:"
   ]
  },
  {
   "cell_type": "code",
   "execution_count": 1,
   "id": "5471f1b7-6ea4-4893-bb99-db6eeb414b1b",
   "metadata": {},
   "outputs": [
    {
     "data": {
      "text/plain": [
       "[(0, {'color': 'green'}),\n",
       " (1, {'color': 'green'}),\n",
       " (2, {'color': 'green'}),\n",
       " (3, {'color': 'green'}),\n",
       " (4, {'color': 'green'}),\n",
       " (5, {'color': 'green'}),\n",
       " (6, {'color': 'green'}),\n",
       " (7, {'color': 'green'}),\n",
       " (8, {'color': 'green'}),\n",
       " (9, {'color': 'green'})]"
      ]
     },
     "execution_count": 1,
     "metadata": {},
     "output_type": "execute_result"
    }
   ],
   "source": [
    "data = range(10)\n",
    "color = dict(color='green')\n",
    "nodes = zip(data, [color] * 10)\n",
    "aux = list(nodes)\n",
    "aux"
   ]
  },
  {
   "cell_type": "code",
   "execution_count": 2,
   "id": "4ddc540d-a838-46c4-8e9e-ca27e919cc57",
   "metadata": {},
   "outputs": [
    {
     "data": {
      "text/plain": [
       "[(0, {'color': 'red'}),\n",
       " (1, {'color': 'red'}),\n",
       " (2, {'color': 'red'}),\n",
       " (3, {'color': 'red'}),\n",
       " (4, {'color': 'red'}),\n",
       " (5, {'color': 'red'}),\n",
       " (6, {'color': 'red'}),\n",
       " (7, {'color': 'red'}),\n",
       " (8, {'color': 'red'}),\n",
       " (9, {'color': 'red'})]"
      ]
     },
     "execution_count": 2,
     "metadata": {},
     "output_type": "execute_result"
    }
   ],
   "source": [
    "aux[0][1]['color'] = 'red'\n",
    "aux"
   ]
  },
  {
   "cell_type": "markdown",
   "id": "4ca03d55-9b6d-4880-b38a-046a5a271553",
   "metadata": {},
   "source": [
    "---\n",
    "Esto trabaja de la misma manero, si pensamos lo que estamos haciendo desde un principio, realmente no estamos creando un objetol, estamos agregando el mismo objeto 10 veces (append)\n"
   ]
  },
  {
   "cell_type": "code",
   "execution_count": 3,
   "id": "19b2166e-d6e9-4b5e-ae8a-fbb7ae0445df",
   "metadata": {},
   "outputs": [
    {
     "data": {
      "text/plain": [
       "[(0, {'color': 'green'}),\n",
       " (1, {'color': 'green'}),\n",
       " (2, {'color': 'green'}),\n",
       " (3, {'color': 'green'}),\n",
       " (4, {'color': 'green'}),\n",
       " (5, {'color': 'green'}),\n",
       " (6, {'color': 'green'}),\n",
       " (7, {'color': 'green'}),\n",
       " (8, {'color': 'green'}),\n",
       " (9, {'color': 'green'})]"
      ]
     },
     "execution_count": 3,
     "metadata": {},
     "output_type": "execute_result"
    }
   ],
   "source": [
    "data = range(10)\n",
    "color = dict(color='green')\n",
    "nodes = zip(data, [color for _ in range(10)])\n",
    "aux = list(nodes)\n",
    "aux"
   ]
  },
  {
   "cell_type": "code",
   "execution_count": 4,
   "id": "673f7c0f-13c5-41ea-b5e7-b7481d797b6d",
   "metadata": {},
   "outputs": [
    {
     "data": {
      "text/plain": [
       "[(0, {'color': 'red'}),\n",
       " (1, {'color': 'red'}),\n",
       " (2, {'color': 'red'}),\n",
       " (3, {'color': 'red'}),\n",
       " (4, {'color': 'red'}),\n",
       " (5, {'color': 'red'}),\n",
       " (6, {'color': 'red'}),\n",
       " (7, {'color': 'red'}),\n",
       " (8, {'color': 'red'}),\n",
       " (9, {'color': 'red'})]"
      ]
     },
     "execution_count": 4,
     "metadata": {},
     "output_type": "execute_result"
    }
   ],
   "source": [
    "aux[0][1]['color'] = 'red'\n",
    "aux"
   ]
  },
  {
   "cell_type": "markdown",
   "id": "4bc378f6-33bc-4b16-8ad9-983142c6f9b6",
   "metadata": {},
   "source": [
    "---\n",
    "Lo correcto seria de esta manera, si deseamos que cada elemento sea una referencia diferente es:"
   ]
  },
  {
   "cell_type": "code",
   "execution_count": 5,
   "id": "d66548f2-bde7-4379-8f33-07343148e5f1",
   "metadata": {},
   "outputs": [
    {
     "data": {
      "text/plain": [
       "[(0, {'color': 'green'}),\n",
       " (1, {'color': 'green'}),\n",
       " (2, {'color': 'green'}),\n",
       " (3, {'color': 'green'}),\n",
       " (4, {'color': 'green'}),\n",
       " (5, {'color': 'green'}),\n",
       " (6, {'color': 'green'}),\n",
       " (7, {'color': 'green'}),\n",
       " (8, {'color': 'green'}),\n",
       " (9, {'color': 'green'})]"
      ]
     },
     "execution_count": 5,
     "metadata": {},
     "output_type": "execute_result"
    }
   ],
   "source": [
    "data = range(10)\n",
    "nodes = zip(data, [dict(color='green') for _ in range(10)])\n",
    "aux = list(nodes)\n",
    "aux"
   ]
  },
  {
   "cell_type": "code",
   "execution_count": 6,
   "id": "d461d529-251f-4805-a989-e7834329ee97",
   "metadata": {},
   "outputs": [
    {
     "data": {
      "text/plain": [
       "[(0, {'color': 'red'}),\n",
       " (1, {'color': 'green'}),\n",
       " (2, {'color': 'green'}),\n",
       " (3, {'color': 'green'}),\n",
       " (4, {'color': 'green'}),\n",
       " (5, {'color': 'green'}),\n",
       " (6, {'color': 'green'}),\n",
       " (7, {'color': 'green'}),\n",
       " (8, {'color': 'green'}),\n",
       " (9, {'color': 'green'})]"
      ]
     },
     "execution_count": 6,
     "metadata": {},
     "output_type": "execute_result"
    }
   ],
   "source": [
    "aux[0][1]['color'] = 'red'\n",
    "aux"
   ]
  },
  {
   "cell_type": "markdown",
   "id": "e548e167-4044-43e6-b784-413c09054858",
   "metadata": {},
   "source": [
    "---\n",
    "Ahora veamos si de la otra manera funciona, veremos que no es asi, entonces en su interior podemos ver que esta creando solo una referencia una vez y lo multiplica 10 veces esa misma referencia:"
   ]
  },
  {
   "cell_type": "code",
   "execution_count": 7,
   "id": "197503c8-b789-49e5-8346-aa3872599d49",
   "metadata": {},
   "outputs": [
    {
     "data": {
      "text/plain": [
       "[(0, {'color': 'green'}),\n",
       " (1, {'color': 'green'}),\n",
       " (2, {'color': 'green'}),\n",
       " (3, {'color': 'green'}),\n",
       " (4, {'color': 'green'}),\n",
       " (5, {'color': 'green'}),\n",
       " (6, {'color': 'green'}),\n",
       " (7, {'color': 'green'}),\n",
       " (8, {'color': 'green'}),\n",
       " (9, {'color': 'green'})]"
      ]
     },
     "execution_count": 7,
     "metadata": {},
     "output_type": "execute_result"
    }
   ],
   "source": [
    "data = range(10)\n",
    "nodes = zip(data, [dict(color='green')] * 10)\n",
    "aux = list(nodes)\n",
    "aux"
   ]
  },
  {
   "cell_type": "code",
   "execution_count": 8,
   "id": "920be266-bfd1-4b74-bd77-e0db8ac1ff02",
   "metadata": {},
   "outputs": [
    {
     "data": {
      "text/plain": [
       "[(0, {'color': 'red'}),\n",
       " (1, {'color': 'red'}),\n",
       " (2, {'color': 'red'}),\n",
       " (3, {'color': 'red'}),\n",
       " (4, {'color': 'red'}),\n",
       " (5, {'color': 'red'}),\n",
       " (6, {'color': 'red'}),\n",
       " (7, {'color': 'red'}),\n",
       " (8, {'color': 'red'}),\n",
       " (9, {'color': 'red'})]"
      ]
     },
     "execution_count": 8,
     "metadata": {},
     "output_type": "execute_result"
    }
   ],
   "source": [
    "aux[0][1]['color'] = 'red'\n",
    "aux"
   ]
  },
  {
   "cell_type": "markdown",
   "id": "de063c71-cf61-4272-859a-e9fdb25846f2",
   "metadata": {},
   "source": [
    "## Listas\n",
    "Esto mismo sucede con listas de esta manera para crear listas vacias:"
   ]
  },
  {
   "cell_type": "code",
   "execution_count": 9,
   "id": "b8b6387a-1da8-4da8-bb58-c88748a3a92b",
   "metadata": {},
   "outputs": [
    {
     "data": {
      "text/plain": [
       "[[], [], [], [], [], [], [], [], [], []]"
      ]
     },
     "execution_count": 9,
     "metadata": {},
     "output_type": "execute_result"
    }
   ],
   "source": [
    "my_list = [[]] * 10\n",
    "my_list"
   ]
  },
  {
   "cell_type": "code",
   "execution_count": 10,
   "id": "dad07d4f-534b-48d3-9422-d3ba9901f1ca",
   "metadata": {},
   "outputs": [
    {
     "data": {
      "text/plain": [
       "[[99], [99], [99], [99], [99], [99], [99], [99], [99], [99]]"
      ]
     },
     "execution_count": 10,
     "metadata": {},
     "output_type": "execute_result"
    }
   ],
   "source": [
    "my_list[0].append(99)\n",
    "my_list"
   ]
  },
  {
   "cell_type": "markdown",
   "id": "515653bd-6cf7-4d60-8483-203f29481f22",
   "metadata": {},
   "source": [
    "---\n",
    "Ahora veamos la forma para que tenga diferentes referencias:"
   ]
  },
  {
   "cell_type": "code",
   "execution_count": 16,
   "id": "ca364559-0dd6-46cb-a006-6f21e898c3c5",
   "metadata": {},
   "outputs": [
    {
     "data": {
      "text/plain": [
       "[[], [], [], [], [], [], [], [], [], []]"
      ]
     },
     "execution_count": 16,
     "metadata": {},
     "output_type": "execute_result"
    }
   ],
   "source": [
    "my_list = [[] for _ in range(10)]\n",
    "my_list"
   ]
  },
  {
   "cell_type": "code",
   "execution_count": 17,
   "id": "1f9f48ad-b8ad-4779-a625-ef585fd5c669",
   "metadata": {},
   "outputs": [
    {
     "data": {
      "text/plain": [
       "[[99], [], [], [], [], [], [], [], [], []]"
      ]
     },
     "execution_count": 17,
     "metadata": {},
     "output_type": "execute_result"
    }
   ],
   "source": [
    "my_list[0].append(99)\n",
    "my_list"
   ]
  },
  {
   "cell_type": "markdown",
   "id": "ca6bb9ed-224f-4c6d-8438-2c147f4994ef",
   "metadata": {},
   "source": [
    "Eso sucede por la misma explicación anterior."
   ]
  }
 ],
 "metadata": {
  "kernelspec": {
   "display_name": "Python 3 (ipykernel)",
   "language": "python",
   "name": "python3"
  },
  "language_info": {
   "codemirror_mode": {
    "name": "ipython",
    "version": 3
   },
   "file_extension": ".py",
   "mimetype": "text/x-python",
   "name": "python",
   "nbconvert_exporter": "python",
   "pygments_lexer": "ipython3",
   "version": "3.10.0"
  }
 },
 "nbformat": 4,
 "nbformat_minor": 5
}
