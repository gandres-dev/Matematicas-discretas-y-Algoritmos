{
 "cells": [
  {
   "cell_type": "markdown",
   "metadata": {
    "colab_type": "text",
    "id": "view-in-github"
   },
   "source": [
    "<a href=\"https://colab.research.google.com/github/RodolfoFigueroa/madi2022-1/blob/main/Unidad_1/1_Induccion.ipynb\" target=\"_parent\"><img src=\"https://colab.research.google.com/assets/colab-badge.svg\" alt=\"Open In Colab\"/></a>"
   ]
  },
  {
   "cell_type": "markdown",
   "metadata": {
    "id": "gzAnyHqHfmMd"
   },
   "source": [
    "Antes de iniciar siempre es importante agregar al inicio las librerías que vamos a usar, y compilar la celda correspondiente."
   ]
  },
  {
   "cell_type": "code",
   "execution_count": 2,
   "metadata": {
    "id": "XwzBSV5ocrC6"
   },
   "outputs": [],
   "source": [
    "import numpy as np"
   ]
  },
  {
   "cell_type": "markdown",
   "metadata": {
    "id": "Ms-tPctFY7hR"
   },
   "source": [
    "En esta sesión veremos algunos ejemplos de inducción y cómo este principio nos puede ayudar a ser más eficientes al resolver un problema."
   ]
  },
  {
   "cell_type": "markdown",
   "metadata": {
    "id": "p_EAt0wkZKdc"
   },
   "source": [
    "# Ejemplos\n",
    "\n",
    "## Ejemplo 1\n",
    "\n",
    "Encuentra el valor de $$\\Big\\lfloor \\frac{1}{2}\\Big \\rfloor + \\Big\\lfloor \\frac{2}{2}\\Big \\rfloor + \\cdots + \\Big\\lfloor \\frac{10^9}{2}\\Big \\rfloor$$"
   ]
  },
  {
   "cell_type": "markdown",
   "metadata": {
    "id": "i2B1VILJbzlE"
   },
   "source": [
    "**1.** Hagamos algunos casos pequeños para encontrar algún patrón."
   ]
  },
  {
   "cell_type": "code",
   "execution_count": 35,
   "metadata": {
    "colab": {
     "base_uri": "https://localhost:8080/",
     "height": 168
    },
    "id": "NGPXUKFjcA64",
    "outputId": "f1f2e600-b6ba-4ab1-f34b-ec45282b5db8"
   },
   "outputs": [
    {
     "name": "stdout",
     "output_type": "stream",
     "text": [
      "n = 1; Suma = 0.0\n",
      "n = 2; Suma = 1.0\n",
      "n = 3; Suma = 2.0\n",
      "n = 4; Suma = 4.0\n",
      "n = 5; Suma = 6.0\n",
      "n = 6; Suma = 9.0\n",
      "n = 7; Suma = 12.0\n",
      "n = 8; Suma = 16.0\n",
      "n = 9; Suma = 20.0\n"
     ]
    }
   ],
   "source": [
    "s = 0\n",
    "for n in range (1, 10):\n",
    "    s += np.floor(n/2)\n",
    "    print(f\"n = {n}; Suma = {s}\")"
   ]
  },
  {
   "cell_type": "markdown",
   "metadata": {
    "id": "KgTR3qgEdJC4"
   },
   "source": [
    "**2.** ¿Alguna conjetura? Probaremos por inducción que \n",
    "\n",
    "$$\\Big\\lfloor \\frac{1}{2}\\Big \\rfloor + \\Big\\lfloor \\frac{2}{2}\\Big \\rfloor + \\cdots + \\Big\\lfloor \\frac{n}{2}\\Big \\rfloor = \\Big \\lfloor \\frac{n}{2} \\Big \\rfloor \\Big \\lfloor \\frac{n+1}{2}\\Big \\rfloor$$\n",
    "\n",
    " - Caso base: Con los casos que hemos checado anteriormente es más que suficiente.\n",
    " - Hipótesis de inducción. La fórmula que queremos probar.\n",
    " - $n+1$: Supongamos que nuestra fórmula es cierta para $k$. Para $k+1$, sumamos $\\lfloor(k+1)/2\\rfloor$ de ambos lados.\n",
    " \n",
    "$$\\Big\\lfloor \\frac{1}{2}\\Big \\rfloor + \\Big\\lfloor \\frac{2}{2}\\Big \\rfloor + \\cdots + \\Big\\lfloor \\frac{k}{2}\\Big \\rfloor + \\Big\\lfloor \\frac{k+1}{2}\\Big \\rfloor = \\Big \\lfloor \\frac{k}{2} \\Big \\rfloor \\Big \\lfloor \\frac{k+1}{2}\\Big \\rfloor + \\Big\\lfloor \\frac{k+1}{2}\\Big \\rfloor$$\n",
    "\n",
    " \n",
    "$$= \\Big \\lfloor \\frac{k+1}{2}\\Big \\rfloor (\\Big \\lfloor \\frac{k}{2}\\Big \\rfloor + 1) $$\n",
    "\n",
    "$$ = \\Big \\lfloor \\frac{k+1}{2} \\Big \\rfloor \\Big \\lfloor \\frac{k}{2}+1\\Big \\rfloor $$\n",
    "\n",
    "$$ = \\Big \\lfloor \\frac{k+1}{2} \\Big \\rfloor \\Big \\lfloor \\frac{k+2}{2}\\Big \\rfloor $$\n",
    "\n"
   ]
  },
  {
   "cell_type": "markdown",
   "metadata": {
    "id": "wev-gYiLeuPI"
   },
   "source": [
    "**3.** Concluimos calculando el valor que se nos ha pedido."
   ]
  },
  {
   "cell_type": "code",
   "execution_count": 3,
   "metadata": {},
   "outputs": [
    {
     "data": {
      "text/plain": [
       "2.5e+17"
      ]
     },
     "execution_count": 3,
     "metadata": {},
     "output_type": "execute_result"
    }
   ],
   "source": [
    "np.floor(1e9/2)*np.floor((1e9+1)/2)"
   ]
  },
  {
   "cell_type": "markdown",
   "metadata": {},
   "source": [
    "Adicionalmente, medimos cuánto tiempo tarda:"
   ]
  },
  {
   "cell_type": "code",
   "execution_count": 4,
   "metadata": {
    "colab": {
     "base_uri": "https://localhost:8080/",
     "height": 50
    },
    "id": "HkbX0EyOe1EZ",
    "outputId": "9590992d-03bd-46cf-af57-02dac6914e0f"
   },
   "outputs": [
    {
     "name": "stdout",
     "output_type": "stream",
     "text": [
      "2.26 µs ± 300 ns per loop (mean ± std. dev. of 7 runs, 100000 loops each)\n"
     ]
    }
   ],
   "source": [
    "%%timeit\n",
    "np.floor(1e9/2)*np.floor((1e9+1)/2)"
   ]
  },
  {
   "cell_type": "markdown",
   "metadata": {
    "id": "PLeEsKXsJRw7"
   },
   "source": [
    "Comparemos el tiempo de ejecución con el tiempo que toma hacer la operación de forma directa. (Haremos la suma hasta $10^6$, pues tarda mucho para $10^9$)."
   ]
  },
  {
   "cell_type": "code",
   "execution_count": 14,
   "metadata": {
    "colab": {
     "base_uri": "https://localhost:8080/",
     "height": 50
    },
    "id": "RFqdB3evJQeG",
    "outputId": "a65633c1-997e-4af9-fb5f-f797d30bad9a"
   },
   "outputs": [
    {
     "name": "stdout",
     "output_type": "stream",
     "text": [
      "664 ms ± 5.36 ms per loop (mean ± std. dev. of 7 runs, 1 loop each)\n"
     ]
    }
   ],
   "source": [
    "%%timeit\n",
    "\n",
    "s = 0\n",
    "for i in range (1, 1000001):\n",
    "    s += np.floor(i/2)"
   ]
  },
  {
   "cell_type": "markdown",
   "metadata": {
    "id": "d9hNIOlkKOgx"
   },
   "source": [
    "Esto nos muestra que fue de gran ayuda encontrar una fórmula cerrada, para reducir bastante el tiempo de ejecución."
   ]
  },
  {
   "cell_type": "markdown",
   "metadata": {
    "id": "5C3irAq-5fK5"
   },
   "source": [
    "## Ejemplo 2\n",
    "\n",
    "Sea $f : \\mathbb{N} \\rightarrow \\mathbb{R}$ una función tal que:\n",
    "\n",
    "$$f(1) = 1001, \\qquad f(1) + f(2) + \\cdots + f(n) = n^2 f(n)$$ \n",
    "\n",
    "para todo entero $n > 1$. Encuentra el valor de $f(10007)$."
   ]
  },
  {
   "cell_type": "markdown",
   "metadata": {
    "id": "UWpRY7Ot6SW_"
   },
   "source": [
    "**1.** Por simplicidad, definimos:\n",
    "\n",
    "$$g(n) \\equiv \\frac{f(n)}{1001}$$\n",
    "\n",
    "Con lo cual tenemos:\n",
    "\n",
    "$$g(1) = 1, \\qquad g(1) + \\cdots + g(n) = n^2 g(n)$$\n",
    "\n",
    "Agrupando los $g(n)$ y factorizando:\n",
    "\n",
    "$$(n^2 -1)g(n) = g(1) + g(2) + \\cdots g(n-1)$$\n",
    "\n",
    "Y como $((n-1)^2 - 1)g(n-1) = g(1) + g(2) + \\cdots g(n-2)$, sustituyendo tenemos:\n",
    "\n",
    "$$(n^2 -1)g(n) = ((n-1)^2 - 1)g(n-1) + g(n-1) = (n-1)^2g(n-1)$$\n",
    "\n",
    "De esto obtenemos que: \n",
    "\n",
    "$$g(n) = \\frac{n-1}{n + 1}g(n-1)$$ \n",
    "\n",
    "Ahora, hagamos los primeros casos:"
   ]
  },
  {
   "cell_type": "code",
   "execution_count": 32,
   "metadata": {
    "colab": {
     "base_uri": "https://localhost:8080/",
     "height": 151
    },
    "id": "-GAnkTkQ71Es",
    "outputId": "6f68eed9-5a25-4ad5-e0cb-74d4eae03768"
   },
   "outputs": [
    {
     "name": "stdout",
     "output_type": "stream",
     "text": [
      "n = 2 ; g(n) = 0.3333333333333333\n",
      "n = 3 ; g(n) = 0.16666666666666666\n",
      "n = 4 ; g(n) = 0.1\n",
      "n = 5 ; g(n) = 0.06666666666666667\n",
      "n = 6 ; g(n) = 0.047619047619047616\n",
      "n = 7 ; g(n) = 0.03571428571428571\n",
      "n = 8 ; g(n) = 0.027777777777777776\n",
      "n = 9 ; g(n) = 0.02222222222222222\n",
      "n = 10 ; g(n) = 0.01818181818181818\n"
     ]
    }
   ],
   "source": [
    "g = 1\n",
    "for n in range (2, 11):\n",
    "    g = g*(n-1)/(n+1)\n",
    "    print(f\"n = {n} ; g(n) = {g}\")"
   ]
  },
  {
   "cell_type": "markdown",
   "metadata": {
    "id": "HZgKg8pL82hw"
   },
   "source": [
    "**2.** Si recordamos la representación decimal de algunas fracciones, podemos ver que esto sigue un patrón. Para hacernos la vida más fácil, definimos: \n",
    "\n",
    "$$ h(n) = \\frac{1}{g(n)}$$\n",
    "\n",
    "$$= \\frac{n+1}{n-1}h(n-1)$$"
   ]
  },
  {
   "cell_type": "code",
   "execution_count": 34,
   "metadata": {
    "colab": {
     "base_uri": "https://localhost:8080/",
     "height": 151
    },
    "id": "wjIT1BIY9Gj6",
    "outputId": "b78699cc-11bb-4d09-a50e-5d515b57b311"
   },
   "outputs": [
    {
     "name": "stdout",
     "output_type": "stream",
     "text": [
      "n = 2 ; h(n) = 3.0\n",
      "n = 3 ; h(n) = 6.0\n",
      "n = 4 ; h(n) = 10.0\n",
      "n = 5 ; h(n) = 15.0\n",
      "n = 6 ; h(n) = 21.0\n",
      "n = 7 ; h(n) = 28.0\n",
      "n = 8 ; h(n) = 36.0\n",
      "n = 9 ; h(n) = 45.0\n",
      "n = 10 ; h(n) = 55.0\n"
     ]
    }
   ],
   "source": [
    "h = 1\n",
    "for n in range (2, 11):\n",
    "    h = h*(n+1)/(n-1)\n",
    "    print(f\"n = {n} ; h(n) = {h}\")"
   ]
  },
  {
   "cell_type": "markdown",
   "metadata": {
    "id": "2bNUz1Sw9eGe"
   },
   "source": [
    "**3.** Podemos conjeturar que \n",
    "\n",
    "$$h(n) = \\frac{n(n+1)}{2}$$\n",
    "\n",
    "Probando por inducción:\n",
    "\n",
    "* Caso base: \n",
    "\n",
    "$$h(2) = \\frac{3}{1}\\ h(1) = 3 $$\n",
    "\n",
    "$$ \\frac{2\\cdot 3}{2} = 3$$\n",
    "\n",
    "* H.I.: $h(n) = \\frac{n(n+1)}{2}$\n",
    "\n",
    "* Paso inductivo: Por definición:\n",
    "\n",
    "$$h(n+1) = \\frac{n+2}{n}h(n)$$\n",
    "\n",
    "Por H.I.:\n",
    "\n",
    "\\begin{align}\n",
    "&= \\frac{n+2}{n}\\frac{n(n+1)}{2}\\\\\n",
    "&= \\frac{(n+1)(n+2)}{2}\n",
    "\\end{align}\n",
    "\n",
    "Finalmente, recordando que buscamos $f(10007)$, calculamos usando la fórmula que encontramos:"
   ]
  },
  {
   "cell_type": "code",
   "execution_count": null,
   "metadata": {
    "colab": {
     "base_uri": "https://localhost:8080/",
     "height": 34
    },
    "id": "ZOXgFhcj-Uja",
    "outputId": "2e98aa4f-03ca-460a-e3ba-39de2ee63954"
   },
   "outputs": [
    {
     "name": "stdout",
     "output_type": "stream",
     "text": [
      "1.9950083682449443e-11\n"
     ]
    }
   ],
   "source": [
    "print(2/(10007*10008*1001))"
   ]
  },
  {
   "cell_type": "markdown",
   "metadata": {
    "id": "e47bW0j-ZyY-"
   },
   "source": [
    "## Ejemplo 3\n",
    "\n",
    "Definimos $F_n = 2^{2^n} + 1$, el $n$ -ésimo número de Fermat, para $n = 0, 1, \\dots$. \n",
    "\n",
    "**Muestra que cualesquiera dos números de Fermat son primos relativos ($a$ y $b$ son primos relativos si su máximo común divisor es $1$).**"
   ]
  },
  {
   "cell_type": "markdown",
   "metadata": {
    "id": "R1Uvf6kmaZ_G"
   },
   "source": [
    "**1.** Casos pequeños. No podemos hacer muchos casos porque $2^{2^n}$ es muy grande, veamos qué pasa con los primeros $6$ números de Fermat:"
   ]
  },
  {
   "cell_type": "code",
   "execution_count": 38,
   "metadata": {
    "colab": {
     "base_uri": "https://localhost:8080/",
     "height": 134
    },
    "id": "DyMJtAF2asV0",
    "outputId": "2f44f275-9455-418c-a077-c08e5d41e5b5"
   },
   "outputs": [
    {
     "name": "stdout",
     "output_type": "stream",
     "text": [
      "3\n",
      "5\n",
      "17\n",
      "257\n",
      "65537\n",
      "4294967297\n"
     ]
    }
   ],
   "source": [
    "F = []\n",
    "for i in range(6):\n",
    "    F.append(2**(2**i) + 1)\n",
    "    print(F[i])"
   ]
  },
  {
   "cell_type": "markdown",
   "metadata": {
    "id": "6TmYLPxmblwd"
   },
   "source": [
    "*Paso 2.* A primera vista no hay mucho de dónde agarrarnos. Intentando buscar un patrón notamos que:\n",
    "\n",
    "* $3 = 5 -2$\n",
    "\n",
    "* $3 \\times 5 = 17 - 2$ \n",
    "\n",
    "* $3 \\times 5 \\times 17 = 255 = 257 - 2$\n",
    "\n",
    "Entonces, podemos conjeturar que:\n",
    "\n",
    "$$F_n - 2 = F_0\\cdot F_1\\cdot F_2 \\cdots F_{n-1}$$\n",
    "\n",
    "Para ver por qué nos sirve esto, consideremos $F_m$ y $F_n$, con $m>n$. Entonces, tenemos:\n",
    "\n",
    "$$F_m - 2 = F_0\\cdot F_1\\cdot F_2 \\cdots F_n\\cdots F_{m-1}$$\n",
    "\n",
    "Es decir:\n",
    "\n",
    "$$2 = F_m - F_0\\cdot F_1\\cdot F_2 \\cdots F_n\\cdots F_{m-1}$$\n",
    "\n",
    "Ahora, suponiendo que $d$ divide a $F_m$ y $F_n$, $d$ también debe de poder dividir la resta anterior; por lo tanto $d=1$ ó $d=2$. Sin embargo, es fácil ver que todos los números de Fermat son impares (ya que son una potencia de 2 mas 1), por lo tanto concluimos que $d=1$, y por lo tanto $F_m$ y $F_n$ son primos relativos.\n",
    "\n",
    "---\n",
    "\n",
    "Nuestra demostración anterior depende de la conjetura que hicimos:\n",
    "\n",
    "$$F_n - 2 = F_0\\cdot F_1\\cdot F_2 \\cdots F_{n-1}$$\n",
    "\n",
    "Comprobemos que se vale para los primeros casos:"
   ]
  },
  {
   "cell_type": "code",
   "execution_count": 39,
   "metadata": {
    "colab": {
     "base_uri": "https://localhost:8080/",
     "height": 101
    },
    "id": "qyMwY2uucaBo",
    "outputId": "020547e6-5287-4265-acc5-b7610c07b2b7"
   },
   "outputs": [
    {
     "name": "stdout",
     "output_type": "stream",
     "text": [
      "Se cumple\n",
      "Se cumple\n",
      "Se cumple\n",
      "Se cumple\n",
      "Se cumple\n"
     ]
    }
   ],
   "source": [
    "P = F[0]\n",
    "for i in range (5):\n",
    "    if (F[i+1] - P == 2):\n",
    "        print(\"Se cumple\")\n",
    "    else:\n",
    "        print(\"No se cumple :c\")\n",
    "  \n",
    "    if i+1 < 5:\n",
    "        P *= F[i+1]"
   ]
  },
  {
   "cell_type": "markdown",
   "metadata": {
    "id": "ptuUWrxndD6c"
   },
   "source": [
    "*Paso 3*. Nuestros casos parecen soportarla. Entonces, probamos por inducción:\n",
    "\n",
    "* Caso base: Los casos que ya vimos anteriormente.\n",
    "* H.I.: $F_1 \\cdot F_2 \\cdot \\dots \\cdot F_k = F_{k+1}-2$. \n",
    "* Paso inductivo: Multiplicando ambos lados de la H.I. por $F_{k+1}$, tenemos:\n",
    "\n",
    "$$F_1 \\cdot F_2 \\cdots F_{k} \\cdot F_{k+1} = (F_{k+1} - 2)F_{k+1}$$\n",
    "\n",
    "Recordando que $F_{n} = 2^{2^n}+1$, tenemos que:\n",
    "\n",
    "\\begin{align}\n",
    "(F_{k+1} - 2)F_{k+1} &= (2^{2^{k+1}} - 1)(2^{2^{k+1}} + 1) \\\\\n",
    "&= 2^{2^{k+2}} - 1 \\\\\n",
    "&= F_{k+2} - 2\n",
    "\\end{align}\n",
    "\n",
    "De donde concluimos el paso inductivo, y por lo tanto que se cumple $F_1 \\cdot F_2 \\cdots F_n = F_{n+1}-2$ para todo entero positivo $n$, lo cual a su vez prueba que todo par de números de Fermat son primos relativos\n",
    "\n",
    "---\n",
    "\n",
    "**Bonus:** Existe un número infinito de primos\n",
    "\n",
    "**Demostración:** Hay un número infinito de números de Fermat, cada uno de los cuales es primo relativo en relación a todos los demás. Por lo tanto, cada $F_n$ tiene factores primos diferentes, lo cual prueba que hay un número infinito de primos."
   ]
  },
  {
   "cell_type": "markdown",
   "metadata": {
    "id": "Kd2-ZlEvgmsn"
   },
   "source": [
    "## Ejemplo 4\n",
    "\n",
    "Considera el conjunto $[k] = \\{1, 2, \\dots, k \\}$. Definimos $S_k$ como el conjunto de todos los subconjuntos **no vacíos** de $[k]$ tales que no contienen parejas de enteros consecutivos, por ejemplo $\\{1, 4\\} \\in S_k$, pero $\\{2, 3, 7\\} \\notin S_k$. Adicionalmente, para un conjunto no vacío $B$, definimos $f$ como:\n",
    "\n",
    "$$f(B) = \\left(\\prod_{x\\in B}x\\right)^2$$\n",
    "\n",
    "Es decir, el cuadrado del producto de todos los elementos de $B$.\n",
    "\n",
    "Finalmente, definimos $F_k$ como:\n",
    "\n",
    "$$F_k = \\sum_{B \\in S_k}f(B)$$\n",
    "\n",
    "$$ = \\sum_{B \\in S_k} \\left(\\prod_{x\\in B}x\\right)^2$$\n",
    "\n",
    "Por ejemplo, suponiendo que tenemos $k=4$, el conjunto $S_4$ es:\n",
    "\n",
    "$$S_4 = \\left\\{\\{1,3\\}, \\{1,4\\}, \\{2,4\\}, \\{1\\}, \\{2\\}, \\{3\\}, \\{4\\}\\right\\}$$\n",
    "\n",
    "Entonces:\n",
    "\n",
    "$$F_4 = (1\\cdot 3)^2 + (1\\cdot 4)^2 + (2\\cdot 4)^2 + 1^2 + 2^2 + 3^2 + 4^4$$\n",
    "\n",
    "$$ = 9 + 16 + 64 + 1 + 4 + 9 + 16$$\n",
    "\n",
    "$$ = 119$$"
   ]
  },
  {
   "cell_type": "markdown",
   "metadata": {
    "id": "X2daC_JHlhRF"
   },
   "source": [
    "**1.** En principio, podemos usar esta definición para escribir un programa para calcular los primeros valores, y así intentar encontrar un patrón. Sin embargo, esto es una tarea un tanto tediosa, ya que hay que calcular los subconjuntos que no contengan números consecutivos.\n",
    "\n",
    "En vez de esto, reescribimos $F_k$ de la siguiente forma:\n",
    "\n",
    "$$F_k = F_{k-1} + k^2\\ F_{k-2} + k^2$$\n",
    "\n",
    "Esto sale de considerar los conjuntos en $S_k$ que no contienen a $k$ (de lo que obtenemos el término $F_{k-1}$) seguido de los que sí lo hacen ($k^2 + k^2F_{k-2}$).\n",
    "\n",
    "Usando esta fórmula, y dado que $F_0=0,\\ F_1=1$, calculamos los primeros valores:"
   ]
  },
  {
   "cell_type": "code",
   "execution_count": 52,
   "metadata": {},
   "outputs": [
    {
     "name": "stdout",
     "output_type": "stream",
     "text": [
      "n = 2 ; Fn = 5\n",
      "n = 3 ; Fn = 23\n",
      "n = 4 ; Fn = 119\n",
      "n = 5 ; Fn = 719\n",
      "n = 6 ; Fn = 5039\n"
     ]
    }
   ],
   "source": [
    "F = [0, 1]\n",
    "for i in range(2, 7):\n",
    "    F.append(F[i-1] + i**2 * F[i-2] + i**2)\n",
    "    print(f\"n = {i} ; Fn = {F[i]}\")"
   ]
  },
  {
   "cell_type": "markdown",
   "metadata": {
    "id": "xcWp5n6TmlnO"
   },
   "source": [
    "**2.** Notemos que al sumar $1$ a cada valor obtenemos un factorial, es decir:\n",
    "\n",
    "$$F_k = (k+1)! - 1$$ \n",
    "\n",
    "Probemos por inducción que en efecto esto sucede:\n",
    "\n",
    "* Caso base: Los casos que ya vimos.\n",
    "\n",
    "* H.I.: $F_k = (k+1)! - 1$ para todo entero positivo $k \\leq n$.\n",
    "\n",
    "* Paso inductivo: Usando la ecuación derivada anteriormente:\n",
    "\n",
    "$$F_{n+1} = F_n + (n+1)^2 F_{n-1} + (n+1)^2$$\n",
    "\n",
    "Por H.I.:\n",
    "\n",
    "\\begin{align}\n",
    "F_{n+1} &= [(n+1)! - 1] + [(n+1)^2\\ (n! - 1)] + (n+1)^2 \\\\\n",
    "&= (n+1)! + n!\\ (n+1)^2 - 1 \\\\\n",
    "&= (n+1)!\\ (1 + n+1) - 1 \\\\\n",
    "&= (n+2)! - 1\n",
    "\\end{align}\n",
    "\n",
    "Con lo que concluimos que $F_{n+1} = (n+2)! - 1$.\n",
    "\n",
    "Entonces la respuesta a nuestro problema inicial es $1001! - 1$, que es muy muy grande."
   ]
  },
  {
   "cell_type": "markdown",
   "metadata": {
    "id": "E6Go_fx5fWyC"
   },
   "source": [
    "# Ejercicios\n",
    "\n",
    "Aquí va una pequeña lista de ejercicios para que practiquen su uso de la técnica de inducción matemática."
   ]
  },
  {
   "cell_type": "markdown",
   "metadata": {
    "id": "D3OiuIpPPfcw"
   },
   "source": [
    "## Ejercicio 1\n",
    "\n",
    "Encuentra el valor de $1^3 + 3^3 + 5^3 + \\cdots + 100005^3$. \n",
    "\n",
    "- Intenta encontrar primero una fórmula para $1^3 + 2^3 + \\cdots + n^3$, crea un código para checar casos pequeños en la siguiente celda."
   ]
  },
  {
   "cell_type": "code",
   "execution_count": null,
   "metadata": {
    "id": "ZUe6PJvYP6O3"
   },
   "outputs": [],
   "source": []
  },
  {
   "cell_type": "markdown",
   "metadata": {
    "id": "bwej7r24P6tL"
   },
   "source": [
    "- ¿Alguna conjetura? Pruébala usando inducción. ¿Cómo pasar de esta suma a sumar únicamente los cubos de los impares? Quizás sea conveniente calcular la respectiva suma para los números pares, es decir, $2^3 + 4^3 + \\cdots + (2k)^3$.\n",
    "- Una vez que tengas una fórmula para la suma buscada, escribe un código que imprima el valor buscado y agrega tu demostración de la fórmula."
   ]
  },
  {
   "cell_type": "markdown",
   "metadata": {
    "id": "VFtlciSjDS1j"
   },
   "source": [
    "*(Aquí va la demostración)*"
   ]
  },
  {
   "cell_type": "code",
   "execution_count": 2,
   "metadata": {
    "colab": {
     "base_uri": "https://localhost:8080/",
     "height": 34
    },
    "id": "fqnv_mD8QhEs",
    "outputId": "21f8dd41-a9a9-4c3b-bb57-1a89fe167b94"
   },
   "outputs": [],
   "source": [
    "# Aquí va el código"
   ]
  },
  {
   "cell_type": "markdown",
   "metadata": {
    "id": "qyn7WQtaQoLS"
   },
   "source": [
    "## Ejercicio 2\n",
    "\n",
    "Encuentra el número de subconjuntos posibles para un conjunto de $n$ elementos."
   ]
  },
  {
   "cell_type": "markdown",
   "metadata": {},
   "source": [
    "*(Aquí va la demostración)*"
   ]
  },
  {
   "cell_type": "code",
   "execution_count": 3,
   "metadata": {
    "id": "-QEdLv0JQ2hC"
   },
   "outputs": [],
   "source": [
    "# Aquí va el código"
   ]
  },
  {
   "cell_type": "markdown",
   "metadata": {
    "id": "56kou6f1DhSz"
   },
   "source": [
    "## Ejercicio 3\n",
    "\n",
    "**(Reto, no obligatorio)** \n",
    "\n",
    "Considera el conjunto $\\textit{F}$ de todas las funciones inyectivas $f : \\mathbb{Z}^{+} \\rightarrow \\mathbb{Z}^{+}$ que satisfacen $f(2x) + f(x)f(y) = f(xy) + 2f(x)$ para cualesquiera $x, y \\in \\mathbb{N}$. Determina el valor de $min_{f \\in \\textit{F}} \\{f(2012)\\}$."
   ]
  },
  {
   "cell_type": "code",
   "execution_count": null,
   "metadata": {},
   "outputs": [],
   "source": []
  }
 ],
 "metadata": {
  "colab": {
   "collapsed_sections": [],
   "include_colab_link": true,
   "name": "Inducción.ipynb",
   "provenance": []
  },
  "kernelspec": {
   "display_name": "Python 3 (ipykernel)",
   "language": "python",
   "name": "python3"
  },
  "language_info": {
   "codemirror_mode": {
    "name": "ipython",
    "version": 3
   },
   "file_extension": ".py",
   "mimetype": "text/x-python",
   "name": "python",
   "nbconvert_exporter": "python",
   "pygments_lexer": "ipython3",
   "version": "3.8.8"
  }
 },
 "nbformat": 4,
 "nbformat_minor": 4
}
