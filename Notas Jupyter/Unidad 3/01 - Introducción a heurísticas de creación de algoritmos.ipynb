{
 "cells": [
  {
   "cell_type": "markdown",
   "metadata": {},
   "source": [
    "## Introducción"
   ]
  },
  {
   "cell_type": "markdown",
   "metadata": {},
   "source": [
    "Una **heurística** es una herramienta que nos ayuda pensar cómo resolver un problema. Muchas veces comenzamos con un problema del cual tenemos poco contexto y queremos saber cómo comenzar a atacarlo. Las heurísticas guían esta resolución.\n",
    "\n",
    "Muchos de los problemas algorítmicos que nos interesan son de alguno de los siguientes estilos:\n",
    "\n",
    "- **Optimización.** Se tratan de encontrar un mínimo o un máximo (en general, un **valor óptimo**) para un cierto problema, en donde los objetos pueden ser parte de un cierto universo o **espacio de estados**.\n",
    "- **Decisión.** Se tratan de decidir si dadas unas cuantas propiedades, existe algún objeto en nuestro universo o espacio de estados que cumpla dichas propiedades.\n",
    "\n",
    "Hay algunos problemas algorítmicos que no necesariamente entran en algunos de estos rubros. Por ejemplo, en el problema de ordenar no necesariamente estamos encontrando un valor óptimo o decidiendo si existe cierto objeto. Otro ejemplo es el problema de insertar una nueva llave en un diccionario."
   ]
  },
  {
   "cell_type": "markdown",
   "metadata": {},
   "source": [
    "## Ejemplos de problemas de decisión y optimización\n",
    "\n",
    "Veamos algunos ejemplos de problemas que sí son de optimización o de decisión.\n",
    "\n",
    "- **Resolver un Sudoku.** Dado un tablero de Sudoku en donde ya se han llenado algunas de las entradas, ¿será cierto que se puede completar para obtener una solución? - Este es un problema de decisión.\n",
    "- **Brazo robótico que une circuitos.** Dados puntos el plano, queremos un camino hamiltoniano (es decir que pase una y sóla una vez por cada uno de ellos) de longitud mínima que los recorra. - Este es un problema de optimización.\n",
    "- **Problema de la 2-SUMA.** Tenemos una lista de números y un número dado $M$. Queremos ver si hay $2$ números de la lista cuya suma sea $M$. - Este es un problema de decisión.\n",
    "- **Problema de la 2-SUMA máxima.** Tenemos una lista de números y queremos encontrar cuáles son los dos ellos cuya suma es mayor. - Este sería un problema de optimización.\n",
    "- **Problema de gráfica bipartita.** Dada una gráfica, decir si es bipartita o no. - Este es un problema de decisión.\n",
    "- **Problema del número cromático.** Dada una gráfica, encontrar su número cromático. - Este es un problema de optimización.\n",
    "\n"
   ]
  },
  {
   "cell_type": "markdown",
   "metadata": {},
   "source": [
    "## Espacio de estados\n",
    "\n",
    "En un problema de decisión queremos ver si hay un objeto que cumpla ciertas propiedades. En uno de optimización queremos maximizar o minimizar una función sobre un objeto. Es muy importante saber cuáles son los posibles valores de ese objeto. Al conjunto de donde puede salir dicho objeto le llamamos el **espacio de estados** del problema.\n",
    "\n",
    "En el contexto abstracto, los espacios de estados de que utilizan más frecuentemente son los siguientes:\n",
    "\n",
    "- Todas las posibles permutaciones de $k$ elementos.\n",
    "- Para cierta $k$, todos los subconjuntos de tamaño $k$ de $n$ elementos.\n",
    "- Todos los posibles subconjuntos de un conjunto.\n",
    "- Todas las configuraciones de $n$ puntos en el plano.\n",
    "- Todos los números del $1$ al $n$.\n",
    "- Todos los vectores de $m$ elementos tomados de un conjunto de $n$ elementos.\n",
    "\n",
    "**Ejemplo.** Tenemos una lista de $n$ números. Queremos responder lo siguiente:\n",
    "\n",
    "- ¿Habrá tres de ellos cuya suma sea $2021$ y que no se repitan?\n",
    "- ¿Cuáles de ellos tienen la suma más pequeña posible?\n",
    "\n",
    "El primer problema es de decisión pues nos está preguntando por la existencia de algo. El segundo problema es de optimización, pues se quiere minimizar una expresión (la suma).\n",
    "\n",
    "Para el primer problema el espacio de estados que tiene son todas posibles ternas de los $n$ elementos. Es decir, si los elementos son $a_1, a_2, a_3, \\ldots, a_n$, entonces su espacio de estados sería:\n",
    "\n",
    "$$E=\\{\\{a_1,a_2,a_3\\},\\{a_1,a_2,a_4\\},\\ldots,\\{a_{n-2},a_{n-1},a_n\\}\\}$$\n",
    "\n",
    "Este es un espacio de estados con $\\binom{n}{3}$ elementos y tenemos $$\\binom{n}{3}=\\frac{n(n-1)(n-2)}{6}=\\Theta(n^3).$$\n",
    "\n",
    "Otra forma de plantear un espacio de estados para este mismo problema es en vez de pensar en subconjuntos de tamaño $3$, pensar en vectores de tamaño $3$. Así, tendríamos el siguiente espacio de estados:\n",
    "\n",
    "$$E=\\{(a_1,a_2,a_3),(a_1,a_3,a_2),\\ldots,(a_{n-2},a_{n-1},a_n)\\}$$\n",
    "\n",
    "Si planteamos este espacio de estados, ahora su tamaño sería diferente, pues tendríamos $n(n-1)(n-2)$ posibles vectores y además:\n",
    "\n",
    "$$n(n-1)(n-2)=\\Theta(n^3).$$\n",
    "\n",
    "¿Cómo es mejor pensar el pensar el espacio de estados? El primer espacio de estados es más pequeño pero también da la respuesta correcta. El segundo espacio de estados es 6 veces más grande, pero quizás pueda ser más fácil de describir o de programar. Decidir uno sobre otro depende del contexto y de los recursos que tenemos disponibles.\n",
    "\n",
    "Pasemos al segundo problema. Queremos ver cuáles de los números dados tienen la menor suma posible. No nos están diciendo cuántos números podemos tomar, así que, de entrada, el espacio de estados de nuestro problema son todos los posibles subconjuntos de los $n$ elementos que tenemos, es decir:\n",
    "\n",
    "\\begin{align*}\n",
    "E=&\\{\\emptyset,\\\\\n",
    "  &\\{a_1\\},\\ldots,\\{a_n\\},\\\\\n",
    "  &\\{a_1,a_2\\},\\ldots,\\{a_{n-1},a_n\\},\\\\\n",
    "  & \\vdots,\\\\\n",
    "  & \\{a_1,a_2,\\ldots,a_n\\}\\}\n",
    "\\end{align*}\n",
    "\n",
    "Este espacio de estados tiene tamaño $2^n$, que en notación asintótica justo es de tamaño $\\Theta(2^n)$.\n",
    "\n",
    "(poner cuadradito)"
   ]
  },
  {
   "cell_type": "markdown",
   "metadata": {},
   "source": [
    "Este ejemplo tuvo espacios de estados muy \"conocidos\" o \"simples\" en el sentido de que son objetos matemáticos que se estudian muy seguido. Pero esto no necesariamente es así en todos los problemas. Hay problemas con espacios de estados más complicados o más particulares.\n",
    "\n",
    "**Ejemplo.** \n",
    "\n",
    "- Para resolver el problema del Sudoku, el espacio de estados se parece a rellenar entradas de una matriz, pero hay restricciones dadas por las reglas del Sudoku que son difíciles de poner en términos matemáticos muy estándar.\n",
    "- Para resolver el problema de si se pueden colocar 3 torres de ajedrez, 3 caballos y 4 alfiles sin que se ataquen, también debemos de considerar un espacio de estados muy raro dado por las reglas de ataque de las piezas.\n",
    "- Para resolver problemas de empaquetamiento de objetos, es posible que podamos plantear una gran parte del espacio de estados en términos matemáticos, sin embargo, hay muchas restricciones de la vida real que en la práctica se tienen que incluir como que los objetos cerca de los bordes de la caja no deban ser filosos (para no romper la caja), o que los objetos frágiles no queden cerca de objetos muy duros, etc."
   ]
  },
  {
   "cell_type": "code",
   "execution_count": null,
   "metadata": {},
   "outputs": [],
   "source": []
  },
  {
   "cell_type": "code",
   "execution_count": null,
   "metadata": {},
   "outputs": [],
   "source": []
  },
  {
   "cell_type": "code",
   "execution_count": null,
   "metadata": {},
   "outputs": [],
   "source": []
  },
  {
   "cell_type": "code",
   "execution_count": null,
   "metadata": {},
   "outputs": [],
   "source": []
  }
 ],
 "metadata": {
  "kernelspec": {
   "display_name": "Python 3",
   "language": "python",
   "name": "python3"
  },
  "language_info": {
   "codemirror_mode": {
    "name": "ipython",
    "version": 3
   },
   "file_extension": ".py",
   "mimetype": "text/x-python",
   "name": "python",
   "nbconvert_exporter": "python",
   "pygments_lexer": "ipython3",
   "version": "3.8.8"
  },
  "latex_envs": {
   "LaTeX_envs_menu_present": true,
   "autoclose": false,
   "autocomplete": false,
   "bibliofile": "biblio.bib",
   "cite_by": "apalike",
   "current_citInitial": 1,
   "eqLabelWithNumbers": false,
   "eqNumInitial": 1,
   "hotkeys": {
    "equation": "Ctrl-E",
    "itemize": "Ctrl-I"
   },
   "labels_anchors": false,
   "latex_user_defs": false,
   "report_style_numbering": false,
   "user_envs_cfg": false
  }
 },
 "nbformat": 4,
 "nbformat_minor": 4
}
