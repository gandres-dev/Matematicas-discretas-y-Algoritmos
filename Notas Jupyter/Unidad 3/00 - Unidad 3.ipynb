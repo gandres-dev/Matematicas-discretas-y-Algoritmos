{
 "cells": [
  {
   "cell_type": "markdown",
   "metadata": {},
   "source": [
    "# Unidad 3: Heurísticas para la creación de algoritmos\n",
    "\n",
    "## Introducción\n",
    "\n",
    "En esta tercera unidad estudiaremos varias heurísticas para el diseño de algoritmos. Una heurística es una estrategia con la que se cuenta para resolver un problema. En algunas ocasiones una heurística es suficiente para resolver un problema, mientras que en otras nos dará un buen avance parcial hacia la solución."
   ]
  },
  {
   "cell_type": "markdown",
   "metadata": {},
   "source": [
    "## Temario\n",
    "\n"
   ]
  },
  {
   "cell_type": "markdown",
   "metadata": {},
   "source": [
    "- Introducción a heurísticas de creación de algoritmos.\n",
    "- Problemas de decisión y de optimización\n",
    "- Espacio de estados\n",
    "- Exploración exhaustiva\n",
    "- Recortes al espacio de estados\n",
    "- Algoritmos voraces\n",
    "- Divide y conquista\n",
    "- Recursión y teorema maestro\n",
    "- Backtrack en búsquedas combinatorias\n",
    "- Más ejemplos de backtrack\n",
    "- Programación dinámica\n",
    "- Métodos probabilistas"
   ]
  }
 ],
 "metadata": {
  "kernelspec": {
   "display_name": "Python 3",
   "language": "python",
   "name": "python3"
  },
  "language_info": {
   "codemirror_mode": {
    "name": "ipython",
    "version": 3
   },
   "file_extension": ".py",
   "mimetype": "text/x-python",
   "name": "python",
   "nbconvert_exporter": "python",
   "pygments_lexer": "ipython3",
   "version": "3.8.8"
  },
  "latex_envs": {
   "LaTeX_envs_menu_present": true,
   "autoclose": false,
   "autocomplete": false,
   "bibliofile": "biblio.bib",
   "cite_by": "apalike",
   "current_citInitial": 1,
   "eqLabelWithNumbers": false,
   "eqNumInitial": 1,
   "hotkeys": {
    "equation": "Ctrl-E",
    "itemize": "Ctrl-I"
   },
   "labels_anchors": false,
   "latex_user_defs": false,
   "report_style_numbering": false,
   "user_envs_cfg": false
  }
 },
 "nbformat": 4,
 "nbformat_minor": 4
}
