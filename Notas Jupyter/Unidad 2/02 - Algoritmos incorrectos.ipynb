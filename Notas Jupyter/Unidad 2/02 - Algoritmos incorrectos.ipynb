{
 "cells": [
  {
   "cell_type": "markdown",
   "metadata": {},
   "source": [
    "# Algoritmos incorrectos\n",
    "\n",
    "**Matemáticas Discretas para Ciencias de Datos**\n",
    "\n",
    "Prof. Leonardo Ignacio Martínez Sandoval"
   ]
  },
  {
   "cell_type": "markdown",
   "metadata": {},
   "source": [
    "## Introducción\n",
    "\n",
    "Lo más importante de un algoritmo es que sea correcto, es decir, que en todas las instancias que nos interesan nos de la respuesta correcta, y en el formato que se indica. Hablaremos un poco más de esto y veremos ejemplos de algoritmos que a simple vista parecen funcionar, pero fallan."
   ]
  },
  {
   "cell_type": "markdown",
   "metadata": {},
   "source": [
    "## Correctitud de algoritmos\n",
    "\n",
    "Es muy importante que los algoritmos que desarrollemos en verdad resuelvan el problema que estamos planteando. Esto es parecido a cuando en argumentos matemáticos queremos demostraciones que verdaderamente y de manera formal demuestren lo que se pide demostrar.\n",
    "\n",
    "Así, cuando damos un algoritmo, este tiene que venir acompañado de una **descripción** clara de qué hace el algoritmo en cada momento. Y también debe venir acompañado de una **demostración de correctitud** que justifique por qué los pasos hechos en verdad dan la respuesta.\n",
    "\n",
    "En la siguiente entrada hablaremos de cómo podemos dar demostraciones de que nuestros algoritmos son correctos. Por ahora nos enfocaremos en ver algoritmos que son incorrectos. Para que un algoritmo sea incorrecto basta con que falle en *una* de las instancias que debemos atender."
   ]
  },
  {
   "cell_type": "markdown",
   "metadata": {},
   "source": [
    "## Fallos en el algoritmo: ¿Siempre primos?"
   ]
  },
  {
   "cell_type": "markdown",
   "metadata": {},
   "source": [
    "Consideremos el siguiente problema algorítmico.\n",
    "\n",
    "**Problema.** Determinar si cierta expresión es un número primo.\n",
    "\n",
    "**Entrada.** Un entero positivo $n$.\n",
    "\n",
    "**Salida.** Decir si la expresión $n^2-n+41$ es un número primo o no.\n",
    "\n",
    "Si probamos manualmente los valores para $n=1,2,3,4$ obtenemos a los números $41,43,47,53$, que son todos ellos primos. Así, una propuesta de algoritmo podría ser la siguiente: responder siempre que sí.\n",
    "\n",
    "En pseudocódigo:\n",
    "```\n",
    "definir expresion_prima(n):\n",
    "    responder que sí\n",
    "```\n",
    "\n",
    "En código:"
   ]
  },
  {
   "cell_type": "code",
   "execution_count": 12,
   "metadata": {
    "ExecuteTime": {
     "end_time": "2021-09-20T16:37:48.496054Z",
     "start_time": "2021-09-20T16:37:48.487108Z"
    }
   },
   "outputs": [],
   "source": [
    "def expresion(n):\n",
    "    print(\"El número {} sí es primo\".format(n**2-n+41))"
   ]
  },
  {
   "cell_type": "markdown",
   "metadata": {},
   "source": [
    "Hasta ahora parece que nuestro algoritmo marcha bien: da la respuesta correcta en los casos $1,2,3,4$, pues en todos ellos detecta correctamente que la expresión es un número primo. De hecho, el algoritmo sigue dando la respuesta correcta desde $1$ hasta $10$, como puedes verificar manualmente o con una tabla de primos."
   ]
  },
  {
   "cell_type": "code",
   "execution_count": 13,
   "metadata": {
    "ExecuteTime": {
     "end_time": "2021-09-20T16:39:23.948282Z",
     "start_time": "2021-09-20T16:39:23.926341Z"
    }
   },
   "outputs": [
    {
     "name": "stdout",
     "output_type": "stream",
     "text": [
      "El número 41 sí es primo\n",
      "El número 43 sí es primo\n",
      "El número 47 sí es primo\n",
      "El número 53 sí es primo\n",
      "El número 61 sí es primo\n",
      "El número 71 sí es primo\n",
      "El número 83 sí es primo\n",
      "El número 97 sí es primo\n",
      "El número 113 sí es primo\n",
      "El número 131 sí es primo\n"
     ]
    }
   ],
   "source": [
    "for j in range(1,11):\n",
    "    expresion(j)"
   ]
  },
  {
   "cell_type": "markdown",
   "metadata": {},
   "source": [
    "¿Esto quiere decir que el algoritmo es correcto? Todavía no. De hecho, el algoritmo es incorrecto, pues falla para la instancia $n=41$. En efecto, por un lado el algoritmo dice lo siguiente."
   ]
  },
  {
   "cell_type": "code",
   "execution_count": 14,
   "metadata": {
    "ExecuteTime": {
     "end_time": "2021-09-20T16:40:10.992139Z",
     "start_time": "2021-09-20T16:40:10.977182Z"
    }
   },
   "outputs": [
    {
     "name": "stdout",
     "output_type": "stream",
     "text": [
      "El número 1681 sí es primo\n"
     ]
    }
   ],
   "source": [
    "expresion(41)"
   ]
  },
  {
   "cell_type": "markdown",
   "metadata": {},
   "source": [
    "Sin embargo, manualmente podemos verificar muy fácilmente que esto es falso. La expresión correspondiente es $41^2-41+41=41^2$, que claramente no es un número primo pues tiene a $41$ como divisor propio.\n",
    "\n",
    "<div style=\"text-align:right\">$\\square$</div>"
   ]
  },
  {
   "cell_type": "markdown",
   "metadata": {},
   "source": [
    "## Fallos en el algoritmo: ¿El camino más corto?"
   ]
  },
  {
   "cell_type": "markdown",
   "metadata": {},
   "source": [
    "En el ejemplo anterior falló una de las instancias, y por lo tanto el algoritmo es incorrecto. Veamos otro ejemplo de un algoritmo incorrecto.\n",
    "\n",
    "Imagina que una empresa de circuitos eléctricos te contacta pues quieren que les ayudes a resolver el siguiente problema. Compraron un robot que debe elaborar un circuito eléctrico. Para ello, el robot debe conectar todos los puntos puestos sobre una placa, pero debe hacer esto de la manera más eficiente posible.\n",
    "\n",
    "![title](img/robot.jpg)\n",
    "\n",
    "Un problema de este estilo todavía es algo informal. Para poder aplicarle herramientas matemáticas, es necesario construir un **modelo** que simplifique los detalles, pero que aún guarde los aspectos de lo que queremos resolver. Hablaremos más adelante de posibles formas de modelar, pero de momento podemos pensar que el problema queda en forma matemática como sigue:\n",
    "\n",
    "**Problema.** Camino hamiltoniano euclideano mínimo.\n",
    "\n",
    "**Entrada.** Un conjunto de puntos $p_1,p_2,\\ldots,p_n$ en el plano.\n",
    "\n",
    "**Salida.** Una orden de recorrer todos ellos de modo que la distancia total recorrida sea mínima.\n",
    "\n",
    "Por ejemplo, en la siguiente instancia tenemos cuatro puntos por recorrer:\n",
    "\n",
    "![title](img/Ejemplo-ETSP.svg)\n",
    "\n",
    "Una forma de recorrerlos es la siguiente:\n",
    "\n",
    "![title](img/ETSP-malo.svg)\n",
    "\n",
    "Pero una mejor forma de recorrerlos es la siguiente, pues en total se recorre menos distancia:\n",
    "\n",
    "![title](img/ETSP-bueno.svg)\n",
    "\n",
    "¿Podremos dar un algoritmo que resuelva de manera correcta todas las instancias? Una posible idea para resolver el problema puede ser la siguiente: comenzar en cualquier punto y de ahí ir siempre al punto más cercano que nos falte por visitar. Suena sensato: vamos optimizando en cada momento lo que se tiene que hacer, así que tal vez esto nos de la solución óptima.\n",
    "\n",
    "Sin embargo, este algoritmo es incorrecto. Para ello, basta que encontremos una instancia en donde esta idea falle. Cuando buscamos contraejemplos para nuestras propuestas de algoritmo, es más fácil encontrarlas en instancias pequeñas. Con esto en mente, damos el siguiente ejemplo con tres puntos:\n",
    "\n",
    "![title](img/ETSP-2.svg)\n",
    "\n",
    "Si comenzamos con el punto de abajo, la idea de siempre ir al más cercano nos lleva a la derecha y luego a la izquierda como sigue:\n",
    "\n",
    "![title](img/ETSP-2-malo.svg)\n",
    "\n",
    "Sin embargo, hay un mejor camino, como se muestra a continuación:\n",
    "\n",
    "![title](img/ETSP-2-bueno.svg)\n",
    "\n",
    "Así, nuestra propuesta de algoritmo falla en una instancia, y por lo tanto es un algoritmo incorrecto.\n",
    "\n",
    "<div style=\"text-align:right\">$\\square$</div>\n",
    "\n"
   ]
  },
  {
   "cell_type": "markdown",
   "metadata": {},
   "source": [
    "## Fallos en el código"
   ]
  },
  {
   "cell_type": "markdown",
   "metadata": {},
   "source": [
    "Aunque hayamos pensado muy bien nuestro algoritmo, es posible que cometamos algún error cuando lo implementemos, es decir, cuando lo pasemos a código en la computadora. Hay que ser particularmente cuidadosos con esto y hacer varios casos de prueba para ver que no estemos haciendo alguna cosa mal.\n",
    "\n",
    "*Ejemplo.* Consideremos el siguiente problema:\n",
    "\n",
    "**Problema:** Encuentra la posición donde está el valor máximo de una lista no vacía de enteros distintos.\n",
    "\n",
    "**Entrada:** Una lista $a_0,a_1,a_2,\\ldots a_n$ de números.\n",
    "\n",
    "**Salida:** El índice $j$ tal que $a_j$ es máximo.\n",
    "\n",
    "Podemos resolver el problema como sigue. Tomamos la lista y la vamos leyendo de izquierda a derecha. Al inicio, declaramos $a_0$ como el potencial máximo y entonces a $0$ como el potencial índice que nos interesa regresar. De aquí, cada que llegamos a un nuevo elemento lo comparamos con el que hasta ahora sea el máximo. Si el nuevo elemento es mayor, entonces ahora lo declaramos como máximo y a su índice como el índice del máximo. Al llegar al final tendremos el índice que nos interesa.\n",
    "\n",
    "Un intento de implementación de esto en código de Python es la siguiente:"
   ]
  },
  {
   "cell_type": "code",
   "execution_count": 11,
   "metadata": {
    "ExecuteTime": {
     "end_time": "2021-09-20T16:30:48.909246Z",
     "start_time": "2021-09-20T16:30:48.897278Z"
    }
   },
   "outputs": [
    {
     "name": "stdout",
     "output_type": "stream",
     "text": [
      "El lugar donde está el máximo de L es el 5\n",
      "El lugar donde está el máximo de L es el 3\n",
      "El lugar donde está el máximo de L es el 3\n",
      "El lugar donde está el máximo de L es el 6\n"
     ]
    }
   ],
   "source": [
    "def indice_max(L):\n",
    "    maximo=L[0]\n",
    "    ind_max=0\n",
    "    for j in range(1,len(L)):\n",
    "        if L[j]>maximo:\n",
    "            maximo=L[j]\n",
    "            ind_max=0\n",
    "    print(\"El lugar donde está el máximo de L es el {}\".format(maximo))\n",
    "    \n",
    "indice_max([1,-3,2,4,3,5])\n",
    "indice_max([0,1,2,3,-1])\n",
    "indice_max([-5,0,-1,3])\n",
    "indice_max([0,6,-1,3,2,1,4])"
   ]
  },
  {
   "cell_type": "markdown",
   "metadata": {},
   "source": [
    "En las primeras tres ejecuciones parece ser que `indice_max` está funcionando bien: está dando la posición en donde se encuentra el elemento más grande. En la primer lista el elemento más grande es el $5$, que está en la posición $5$ (recuerda que la primera es la posición $0$).\n",
    "\n",
    "Sin embargo, el algoritmo se equivoca en la última lista, ¡el máximo es $6$ y no está en la posición $6$! Nos gustaría que el algoritmo dijera que el máximo está en la posición $1$. ¿Qué está fallando?\n",
    "\n",
    "Lo que pasa es un error de código. Aunque diseñamos bien nuestro algoritmo, al final estamos pidiendo que el algoritmo imprima `maximo` en vez de `ind_max` que es lo que nos interesa. Al hacer este cambio se obtiene un algorimo correcto.\n",
    "\n",
    "<div style=\"text-align:right\">$\\square$</div>"
   ]
  },
  {
   "cell_type": "markdown",
   "metadata": {},
   "source": [
    "## Tarea moral\n",
    "\n",
    "Los siguientes problemas te ayudarán a practicar lo visto en esta entrada. Para resolverlos, necesitarás usar herramientas matemáticas, computacionales o ambas.\n",
    "\n",
    "1. Una forma de que el algoritmo del que pusimos arriba no falle en la instancia $41$ es pedir que diga que sí es primo cuando $n$ no es múltiplo de $41$ y que diga que no es primo cuando $n$ sí es múltiplo de $41$. ¿Esto da un algoritmo correcto?\n",
    "2. Corrige el problema que tiene el código del último ejemplo. Resuelve el problema análogo de encontrar el índice en donde está el mínimo. Da una descripción en palabras, pseudocódigo y código.\n",
    "3. En el problema anterior, ¿cómo darías una justificación de que tu algoritmo en efecto siempre será correcto?\n",
    "4. Resuelve a mano el problema del camino hamiltoniano euclideano mínimo para la instancia que consiste de los vértices de un pentágono regular de lado $1$.\n",
    "5. Encuentra contraejemplos para los siguientes algoritmos para resolver el problema del camino hamiltoniano euclideano mínimo:\n",
    "  - Recorremos los puntos de izquierda a derecha.\n",
    "  - Comenzamos con el de más a la izquierda, y siempre vamos hacia el más cercano\n",
    "  - Conectamos los dos más cercanos, luego el más cercano a esos dos, luego el más cercano a esos tres y así sucesivamente.\n"
   ]
  }
 ],
 "metadata": {
  "kernelspec": {
   "display_name": "Python 3",
   "language": "python",
   "name": "python3"
  },
  "language_info": {
   "codemirror_mode": {
    "name": "ipython",
    "version": 3
   },
   "file_extension": ".py",
   "mimetype": "text/x-python",
   "name": "python",
   "nbconvert_exporter": "python",
   "pygments_lexer": "ipython3",
   "version": "3.8.8"
  },
  "latex_envs": {
   "LaTeX_envs_menu_present": true,
   "autoclose": false,
   "autocomplete": false,
   "bibliofile": "biblio.bib",
   "cite_by": "apalike",
   "current_citInitial": 1,
   "eqLabelWithNumbers": false,
   "eqNumInitial": 1,
   "hotkeys": {
    "equation": "Ctrl-E",
    "itemize": "Ctrl-I"
   },
   "labels_anchors": false,
   "latex_user_defs": false,
   "report_style_numbering": false,
   "user_envs_cfg": false
  }
 },
 "nbformat": 4,
 "nbformat_minor": 4
}
