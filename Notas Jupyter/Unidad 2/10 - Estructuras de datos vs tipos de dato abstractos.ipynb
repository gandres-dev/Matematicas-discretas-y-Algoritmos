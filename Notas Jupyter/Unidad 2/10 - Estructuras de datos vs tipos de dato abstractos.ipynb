{
 "cells": [
  {
   "cell_type": "markdown",
   "metadata": {},
   "source": [
    "# Estructuras de datos vs. tipos de dato abstractos\n",
    "\n",
    "**Matemáticas Discretas para Ciencias de Datos**\n",
    "\n",
    "Prof. Leonardo Ignacio Martínez Sandoval"
   ]
  },
  {
   "cell_type": "markdown",
   "metadata": {},
   "source": [
    "## Introducción\n",
    "\n",
    "En entradas anteriores discutimos acerca de algoritmos para ordenar. Vimos varias formas de ordenar objetos en tiempo cuadrático: `SelectionSort`, `InsertionSort` y `BubbleSort`. Se puede ordenar en tiempo más rápido, pero antes de ver cómo, es importante revisar otros conceptos.\n",
    "\n",
    "En esta entrada hablaremos de tipos de dato abstractos y de estructuras a datos. A grandes rasgos, un tipo de dato abstracto es un objeto abstracto que guarda cierta información y que tiene ciertos métodos. Una estructura de datos es la manera en la cuál usamos los recursos de una computadora para implementar un tipo de dato abstracto. Dependiendo de qué estructura de datos usemos, es posible que distintos métodos tengan distintas complejidades."
   ]
  },
  {
   "cell_type": "markdown",
   "metadata": {},
   "source": [
    "## Tipos de dato abstractos\n",
    "\n",
    "A grandes rasgos, un **tipo de dato abstracto** es un objeto que guarda cierta información y que tiene ciertas **operaciones** que nos permiten hacer cosas con esa información. Es posible formalizar esto mucho más mediante teoría de ciencias de la computación, pero por ahora nos quedaremos con esta idea intuitiva y pensaremos en algunos ejemplos.\n",
    "\n",
    "Un ejemplo de un tipo de dato abstracto es una `Lista`, que consiste de una colección de objetos de cierto universo en donde nos importa en qué orden están colocados, y en donde se permite tener objetos repetidos. Así, queremos que el tipo de dato `Lista` permita tener colecciones como las siguientes:\n",
    "\n",
    "```\n",
    "['Casa', 'Computadora', 'Perro']\n",
    "[5,5,5,5,5,5]\n",
    "[3,4,6,9,20]\n",
    "[4,6,9,20,3]\n",
    "[Cierto, Cierto, Falso]\n",
    "[5]\n",
    "```\n",
    "\n",
    "La tercera y cuarta `Listas` son distintas pues si bien coinciden en los elementos que tienen, su orden es diferente. La segunda y quinta `Listas` son diferentes pues aunque tienen los mismos elementos, no los tienen en la misma cantidad.\n",
    "\n",
    "Algunas operaciones que queremos poder ejecutar en una `Lista` son las siguientes:\n",
    "\n",
    "- Una operación que nos diga si una `Lista` está vacía.\n",
    "- Una operación que nos permita agregar un elemento al final una `Lista`.\n",
    "- Una operación que nos permita agregar un elemento en alguna posición arbitraria de una `Lista`.\n",
    "- Una operación que nos permita eliminar un elemento de una `Lista`.\n",
    "- Una operación que nos permita leer el elemento en la posición $k$ de una `Lista`.\n",
    "- Etcétera.\n",
    "\n",
    "Cada una de estas operaciones se traduce en problemas algorítmicos que queremos resolver. \n",
    "\n",
    "*Ejemplo.* La operación de leer un elemento de la `Lista` se puede plantear como un problema algorítmico como sigue:\n",
    "\n",
    "**Problema.** Leer elementos.\n",
    "\n",
    "**Entrada.** Una `Lista` $L$ y una posición $k$.\n",
    "\n",
    "**Salida.** El elemento en la posición $k$ de la lista (si existe) o bien un error de que excedimos el tamaño de la lista.\n",
    "\n",
    "Si como entrada tenemos a la lista `L=['Queso', 'pan', 'vino']`, al entero $k=2$, y estamos suponiendo que las posiciones empiezan en $0$,  entonces como respuesta deberíamos obtener `'vino'`.\n",
    "\n",
    "<div style=\"text-align:right\">$\\square$</div>"
   ]
  },
  {
   "cell_type": "markdown",
   "metadata": {},
   "source": [
    "## Estructuras de datos\n",
    "\n",
    "Una `Lista` es algo meramente abstracto. Podríamos implementar `Listas` con hojas de papel. No sería necesaria una computadora para ello. La forma concreta en la cual se implementa un tipo de dato abstracto se conoce como **estructura de datos**. Aunque esto podría quedarse también a un nivel de discusión puramente teórico, al pensar en estructuras de datos ahora sí estamos pensando en la manera en la que la computadora almacenará la información que queremos.\n",
    "\n",
    "Vale la pena recordar un poco de la manera en la cual la computadora almacena la información. Muy a grandes rasgos, cuando usamos memoria (ya sea disco duro, o RAM), lo que sucede es que los objetos se almacenan con ciertas \"direcciones\" o en ciertas \"casas\". Puedes pensar que un bloque de memoria se ve algo así:\n",
    "\n",
    "```\n",
    "...\n",
    "111432 - \"perro\"\n",
    "111433 - \"casa\"\n",
    "111434 - 524560\n",
    "111435 - 25681\n",
    "111436 - \"mamífero\"\n",
    "111437 - 8341\n",
    "111438 - True\n",
    "111439 - 83442\n",
    "...\n",
    "```\n",
    "\n",
    "Aquí en cada una de estas \"casas\" estamos almacenando un objeto, aunque en la realidad esto es algo impreciso. De cualquier forma, nos ayudará para darnos una buena idea de lo que está sucediendo.\n",
    "\n",
    "Cuando queremos leer objetos en memoria, típicamente lo que hacemos es consultar una tabla que nos diga en qué lugar de la memoria los podemos encontrar. Quizás una variable `mascota` tiene valor \"perro\" y para ello se debe llevar el registro de que el valor de esta variable está disponible en la dirección $111432$ de la memoria.\n",
    "\n",
    "\n"
   ]
  },
  {
   "cell_type": "markdown",
   "metadata": {},
   "source": [
    "## Estructuras de datos para `Listas`"
   ]
  },
  {
   "cell_type": "markdown",
   "metadata": {},
   "source": [
    "Teniendo en mente cómo funciona la memoria de la computadora, hay más de una forma de representar a las `Listas` usando estos recursos.\n",
    "\n",
    "Una primer forma es utilizando la estructura de datos de **arreglos**. Para hacer esto, lo que se hace es decirle desde un inicio a la computadora que reserve espacio consecutivo en la memoria para almacenar toda la `Lista`. Así, si ya sabemos que la `Lista` tiene, por ejemplo, longitud 7, entonces la computadora haría más o menos algo del siguiente estilo:\n",
    "\n",
    "```\n",
    "...\n",
    "123432 - 43115\n",
    "123433 - reservado para la lista\n",
    "123434 - reservado para la lista\n",
    "123435 - reservado para la lista\n",
    "123436 - reservado para la lista\n",
    "123437 - reservado para la lista\n",
    "123438 - reservado para la lista\n",
    "123439 - reservado para la lista\n",
    "123440 - \"ojo\"\n",
    "123441 - 5692\n",
    "...\n",
    "```\n",
    "\n",
    "Si quisiéramos guardar los objetos de la `Lista`, podemos guardarlos uno por uno y si nuestro algoritmo hace las cosas bien, dejaría la `Lista` bien puesta, de la siguiente manera:\n",
    "\n",
    "```\n",
    "...\n",
    "123432 - 43115\n",
    "123433 - a_1\n",
    "123434 - a_2\n",
    "123435 - a_3\n",
    "123436 - a_4\n",
    "123437 - a_5\n",
    "123438 - a_6\n",
    "123439 - a_7\n",
    "123440 - \"ojo\"\n",
    "123441 - 5692\n",
    "...\n",
    "```\n",
    "\n",
    "Si recordamos que la `Lista` comienza en $ 123433$, entonces es muy fácil leer el resto de los elementos. Por ejemplo, el a_4 está en la \"casa\" $123433+3=123436$. Esto nos da una forma de implementar la operación de leer elementos en tiempo $O(1)$. Pero tiene la desventaja de que nuestra lista debe tener longitud fija.\n",
    "\n",
    "Una segunda forma de implementar una `Lista` es mediante la estructura de datos de **listas enlazadas**. La idea de cómo funcionan es la siguiente. En vez de reservar espacio consecutivo en la memoria para almacenar la `Lista`, lo que se hace es almacenar el primer elemento en alguna posición de la memoria, no importa cuál. Y luego, se utiliza el siguiente de la memoria para o bien indicar que la lista terminó (digamos, con un indicador de `False`), o bien para decir dónde está la ubicación de la memoria del siguiente elemento. Así, tras algunas operaciones una lista podría quedar en memoria así:\n",
    "\n",
    "```\n",
    "...\n",
    "282930 - a_2\n",
    "282931 - False\n",
    "...\n",
    "323455 - a_0\n",
    "323456 - 725113\n",
    "...\n",
    "725113 - a_1\n",
    "725114 - 282930\n",
    "```\n",
    "\n",
    "Si nos acordamos que la lista comienza en $323455$, entonces podemos recuperar todos los elementos: el primero es $a_0$. Luego, tenemos que leer la posición $323455$ para saber que el siguiente elemento lo encontraremos en la \"casa\" $725113$. Lo vamos a buscar ahí y nos damos cuenta que es $a_1$. Luego en $725114$ nos damos cuenta que el siguiente está en $282930$. Nos vamos ahí y nos damos cuenta que es $a_2$. Finalmente, vamos a la posición de memoria $282931$ que nos dice `False`, lo cual indica que ya terminó la lista. Así, recuperamos todos los elementos de la lista.\n",
    "\n",
    "Aquí no hay límites con respecto a la longitud de la lista, más allá de los establecidos por la cantidad de memoria disponible. Si queremos agregar un nuevo elemento a la lista, basta leer la lista para saber dónde está el último elemento. Nos damos cuenta que es en $282930$. Si quisiéramos agregar ahora un elemento $a_3$, buscamos algún lugar disponible en la memoria, digamos el $112233$ y ahí ponemos $a_3$. Cambiamos el valor en $282931$ de `False` a $112233$ y ponemos `False` en $112234$.\n",
    "\n",
    "En contrapeso, nuestras lecturas ya no las podemos hacer en tiempo $O(1)$ como en los arreglos. Si nos pidieran encontrar el $n$-ésimo elemento de una lista con $n$ elementos, ahora tomaríamos tiempo $O(n)$."
   ]
  },
  {
   "cell_type": "markdown",
   "metadata": {},
   "source": [
    "## Arreglos dinámicos vs. listas enlazadas\n",
    "\n",
    "Mediante algunos trucos en los cuales no profundizaremos, es posible crear una estructura de datos que se llama **arreglo dinámico**, el cual tiene la ventaja de los arreglos de tener tiempo de lectura $O(1)$ y la ventaja de las listas enlazadas de poder alargarse. Incluso teniendo estas ventajas, siguen existiendo diferencias importantes de las complejidades de las operaciones en arreglos dinámicos vs. listas enlazadas.\n",
    "\n",
    "¿Qué tal para encontrar el mínimo de la `Lista`? De entrada podría parecer que necesitamos tiempo $O(n)$ para encontrarlo en cualquiera de los casos. Sin embargo, podemos ser más astutos que esto. En cualquiera de las estructuras de datos podemos reservar un espacio de memoria adicional para indicar cuál es el número mínimo y cuántas veces aparece. Al ir agregando elementos a la lista (o al quitarlos) podemos actualizar estas cantidades. Esto nos permitiría trabajar con `Listas` en donde encontrar el mínimo toma tiempo constante.\n",
    "\n",
    "Entonces, ¿qué es mejor? ¿una lista enlazada o un arreglo dinámico? Depende mucho de la aplicación que se necesite. Si se agregarán elementos constantemente al inicio de la `Lista`, entonces probablemente sea mejor usar una lista enlazada. Si la mayoría de las operaciones serán de lectura, quizás sea mejor usar un arreglo. Si estás trabajando en un lenguaje de programación específico, es posible que ya tenga una estructura de datos muy flexible y con lo mejor de ambos mundos, como las listas de Python."
   ]
  },
  {
   "cell_type": "markdown",
   "metadata": {},
   "source": [
    "## Una simulación de listas enlazadas vs. arreglos"
   ]
  },
  {
   "cell_type": "markdown",
   "metadata": {},
   "source": [
    "A continuación mostramos una implementación de listas enlazadas y una de arreglos con dos operaciones muy sencillas: agregarles objetos y leer el objeto en cierta posición $k$. Para simplificar las cosas, supondremos que únicamente recibirán enteros no negativos. Se usa programación orientada a objetos en Python."
   ]
  },
  {
   "cell_type": "code",
   "execution_count": 51,
   "metadata": {
    "ExecuteTime": {
     "end_time": "2021-09-27T23:01:01.119585Z",
     "start_time": "2021-09-27T23:01:01.099638Z"
    }
   },
   "outputs": [],
   "source": [
    "class Node():\n",
    "    def __init__(self,value):\n",
    "        self.next=None\n",
    "        self.value=value\n",
    "\n",
    "class LinkedList():\n",
    "    def __init__(self):\n",
    "        self.empty=True\n",
    "        self.first=None\n",
    "        self.last=None\n",
    "        \n",
    "    def append(self,value):\n",
    "        new_node=Node(value)\n",
    "        if self.empty==True:\n",
    "            self.first=new_node\n",
    "            self.last=new_node\n",
    "            self.empty=False\n",
    "        else:\n",
    "            self.last.next=new_node\n",
    "            self.last=new_node\n",
    "        \n",
    "    def peek(self,k):\n",
    "        if k<0 or type(k)!=int:\n",
    "            return(\"Error de índice\")\n",
    "        node=self.first\n",
    "        for j in range(k):\n",
    "            node=node.next\n",
    "        try:\n",
    "            return(node.value)\n",
    "        except:\n",
    "            return(\"Error de índice\")\n",
    "        \n",
    "class Array():\n",
    "    def __init__(self,long):\n",
    "        self.long=long\n",
    "        self.items=long*[-1]\n",
    "        \n",
    "    def set_value(self,index,value):\n",
    "        if index<0 or index>self.long or type(index)!=int:\n",
    "            return(\"Error de índice\")\n",
    "        else:\n",
    "            self.items[index]=value\n",
    "        \n",
    "    def peek(self,index):\n",
    "        if index<0 or index>self.long or type(index)!=int:\n",
    "            return(\"Error de índice\")\n",
    "        else:\n",
    "            return self.items[index]"
   ]
  },
  {
   "cell_type": "markdown",
   "metadata": {},
   "source": [
    "Hagamos una simulación para ver qué tan rápido corren las operaciones de escritura y lectura de una `Lista` en cada una de estas estructuras de datos. Supongamos que para ciertos $k$ de $1$ a $5000$ queremos construir una `Lista` con los enteros de $1$ a $k$, y luego leer la entrada en la posición $\\lfloor k/2\\rfloor$.\n",
    "\n",
    "Haremos esto con la estructura de datos `LinkedList` y con la estructura de datos `Array` por separado. Tomaremos el tiempo que requiere esto para cada $k$ y luego lo graficaremos. Como el tiempo varía mucho debido a ciertos procesos numéricos, más bien calcularemos un moving average de ventana 200."
   ]
  },
  {
   "cell_type": "code",
   "execution_count": 97,
   "metadata": {
    "ExecuteTime": {
     "end_time": "2021-09-28T16:07:24.733275Z",
     "start_time": "2021-09-28T16:07:21.298914Z"
    }
   },
   "outputs": [],
   "source": [
    "from datetime import datetime\n",
    "import matplotlib.pyplot as plt\n",
    "import numpy as np\n",
    "\n",
    "list_tiempos_w=[]\n",
    "list_tiempos_r=[]\n",
    "array_tiempos_w=[]\n",
    "array_tiempos_r=[]\n",
    "\n",
    "# Crear las listas con listas enlazadas y leer el elemento de enmedio\n",
    "for k in range(1,5000,10):\n",
    "    a=datetime.now()\n",
    "    list_ej=LinkedList()\n",
    "    for j in range(k):\n",
    "        list_ej.append(k+1)\n",
    "    b=datetime.now()\n",
    "    list_tiempos_w.append((b-a).total_seconds())\n",
    "    a=datetime.now()\n",
    "    list_ej.peek(int(k/2))\n",
    "    b=datetime.now()\n",
    "    list_tiempos_r.append((b-a).total_seconds())\n",
    "\n",
    "# Crear las listas con arreglos y leer el elemento de enmedio\n",
    "for k in range(1,5000,10):\n",
    "    a=datetime.now()\n",
    "    array_ej=Array(k) #Array necesita que le demos el tamaño\n",
    "    for j in range(k):\n",
    "        array_ej.set_value(j,j+1)\n",
    "    b=datetime.now()\n",
    "    array_tiempos_w.append((b-a).total_seconds())\n",
    "    a=datetime.now()\n",
    "    array_ej.peek(int(k/2))\n",
    "    b=datetime.now()\n",
    "    array_tiempos_r.append((b-a).total_seconds())"
   ]
  },
  {
   "cell_type": "code",
   "execution_count": 98,
   "metadata": {
    "ExecuteTime": {
     "end_time": "2021-09-28T16:07:36.038672Z",
     "start_time": "2021-09-28T16:07:35.832705Z"
    },
    "scrolled": true
   },
   "outputs": [
    {
     "data": {
      "text/plain": [
       "Text(0, 0.5, 'Tiempo de escritura (seg.)')"
      ]
     },
     "execution_count": 98,
     "metadata": {},
     "output_type": "execute_result"
    },
    {
     "data": {
      "image/png": "[encoded data removed]",
      "text/plain": [
       "<Figure size 432x288 with 1 Axes>"
      ]
     },
     "metadata": {
      "needs_background": "light"
     },
     "output_type": "display_data"
    }
   ],
   "source": [
    "# Hacemos moving averages para que se vea un poco más estable.\n",
    "array_tiempos_w_mav=(np.cumsum(array_tiempos_w)[100:]-np.cumsum(array_tiempos_w)[:-100])/100\n",
    "list_tiempos_w_mav=(np.cumsum(list_tiempos_w)[100:]-np.cumsum(list_tiempos_w)[:-100])/100\n",
    "\n",
    "plt.plot(array_tiempos_w_mav, label='Con Array')\n",
    "plt.plot(list_tiempos_w_mav, label= 'Con LinkedList')\n",
    "plt.legend()\n",
    "plt.xlabel(\"Tamaño de entrada\")\n",
    "plt.ylabel(\"Tiempo de escritura (seg.)\")"
   ]
  },
  {
   "cell_type": "markdown",
   "metadata": {},
   "source": [
    "En ambos casos el tiempo de escritura parece estar corriendo en tiempo lineal. Esto tiene sentido: hay que escribir $O(n)$ números y en ambas estructuras de datos esto puede hacerse en tiempo lineal. Sin embargo, parece ser que la constante para `LinkedLists` es peor."
   ]
  },
  {
   "cell_type": "code",
   "execution_count": 99,
   "metadata": {
    "ExecuteTime": {
     "end_time": "2021-09-28T16:07:47.701837Z",
     "start_time": "2021-09-28T16:07:47.506658Z"
    }
   },
   "outputs": [
    {
     "data": {
      "text/plain": [
       "Text(0, 0.5, 'Tiempo de lectura (seg.)')"
      ]
     },
     "execution_count": 99,
     "metadata": {},
     "output_type": "execute_result"
    },
    {
     "data": {
      "image/png": "[encoded data removed]",
      "text/plain": [
       "<Figure size 432x288 with 1 Axes>"
      ]
     },
     "metadata": {
      "needs_background": "light"
     },
     "output_type": "display_data"
    }
   ],
   "source": [
    "array_tiempos_r_mav=(np.cumsum(array_tiempos_r)[100:]-np.cumsum(array_tiempos_r)[:-100])/100\n",
    "list_tiempos_r_mav=(np.cumsum(list_tiempos_r)[100:]-np.cumsum(list_tiempos_r)[:-100])/100\n",
    "\n",
    "plt.plot(array_tiempos_r_mav, label='Con Array')\n",
    "plt.plot(list_tiempos_r_mav, label= 'Con LinkedList')\n",
    "plt.legend()\n",
    "plt.xlabel(\"Tamaño de entrada\")\n",
    "plt.ylabel(\"Tiempo de lectura (seg.)\")"
   ]
  },
  {
   "cell_type": "markdown",
   "metadata": {},
   "source": [
    "Aquí es donde las estructuras de datos difieren por mucho. En el caso de `Array`, el tiempo de lectura es $O(1)$, que en efecto se traduce a prácticamente un tiempo de lectura instantáneo. Por otro lado, para leer elementos en `LinkedList` necesitamos hacer $O(n)$ operaciones."
   ]
  },
  {
   "cell_type": "markdown",
   "metadata": {},
   "source": [
    "## Tarea moral\n",
    "\n",
    "Los siguientes problemas te ayudarán a practicar lo visto en esta entrada. Para resolverlos, necesitarás usar herramientas matemáticas, computacionales o ambas.\n",
    " \n",
    "1. Simula manualmente qué es lo que sucede cuando creas la `Lista` con los elementos `[4,1,7,8]` y lees el elemento en la posición $3$. Tu respuesta dependerá de si estas implementando la `Lista` como lista enlazada o como arreglo.\n",
    "2. Explica cómo resolverías el problema algorítmico de agregar un elemento $x$ entre la posición $k$ y $k+1$ de una lista enlazada $L$. ¿En qué tiempo de ejecución puedes hacerlo? Y en el caso de arreglos dinámicos, ¿cómo lo harías y en qué tiempo de ejecución podrías hacerlo?\n",
    "3.Investiga acerca de los tipos de dato abstractos `Stack` y `Queue`. ¿Qué información guardan y qué operaciones queremos realizar usualmente en ellos? Explica cómo se diferencías entre ellos y por qué las estructuras de datos de listas enlazadas y de arreglos permiten implementarlas. ¿Qué ventaja tiene una implementación o la otra?\n",
    "4. Explica cómo encontrar el mínimo de una lista enlazada o de un arreglo en tiempo $O(n)$. Luego, explica cómo implementarías una operación de mínimo que tome tiempo $O(1)$, suponiendo que nunca se eliminaran elementos. Para ello, deberás almacenar el mínimo en una variable.\n",
    "5. Extiende las clases `LinkedList` y `Array` que dimos para que tengan operaciones de agregar elementos al inicio y de eliminar el elemento del inicio. Realiza simulaciones para comparar ambas implementaciones."
   ]
  }
 ],
 "metadata": {
  "kernelspec": {
   "display_name": "Python 3",
   "language": "python",
   "name": "python3"
  },
  "language_info": {
   "codemirror_mode": {
    "name": "ipython",
    "version": 3
   },
   "file_extension": ".py",
   "mimetype": "text/x-python",
   "name": "python",
   "nbconvert_exporter": "python",
   "pygments_lexer": "ipython3",
   "version": "3.8.8"
  },
  "latex_envs": {
   "LaTeX_envs_menu_present": true,
   "autoclose": false,
   "autocomplete": false,
   "bibliofile": "biblio.bib",
   "cite_by": "apalike",
   "current_citInitial": 1,
   "eqLabelWithNumbers": false,
   "eqNumInitial": 1,
   "hotkeys": {
    "equation": "Ctrl-E",
    "itemize": "Ctrl-I"
   },
   "labels_anchors": false,
   "latex_user_defs": false,
   "report_style_numbering": false,
   "user_envs_cfg": false
  }
 },
 "nbformat": 4,
 "nbformat_minor": 4
}
