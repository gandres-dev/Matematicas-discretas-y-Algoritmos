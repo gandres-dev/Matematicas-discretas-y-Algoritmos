{
 "cells": [
  {
   "cell_type": "markdown",
   "metadata": {},
   "source": [
    "# Ordenar cuadráticamente\n",
    "\n",
    "**Matemáticas Discretas para Ciencias de Datos**\n",
    "\n",
    "Prof. Leonardo Ignacio Martínez Sandoval"
   ]
  },
  {
   "cell_type": "markdown",
   "metadata": {},
   "source": [
    "## Introducción\n",
    "\n",
    "Ya platicamos acerca de la importancia del problema de ordenar y nos pusimos de acuerdo en ciertas sutilezas. También discutimos propiedades deseables que pueden tener los algoritmos de ordenación.\n",
    "\n",
    "En esta entrada veremos varios posibles algoritmos mediante los cuales podemos ordenar una lista de números. Todos estos algoritmos se ejecutan en tiempo cuadrático en el tamaño de la entrada. Sin embargo, las ideas que usan y los detalles de qué sucede en cada uno van variando.\n",
    "\n",
    "Para simplificar la discusión, daremos principalmente ideas para ordenar números en orden creciente. Pero las mismas ideas funcionan para otros órdenes parciales."
   ]
  },
  {
   "cell_type": "markdown",
   "metadata": {},
   "source": [
    "## SelectionSort\n",
    "\n",
    "El algoritmo `SelectionSort` tiene una idea intuitiva muy simple. Si comenzamos con una lista de objetos $L=[a_1,a_2,\\ldots,a_n]$ y los queremos ordenar, entonces simplemente identificamos en la lista al menor elemento, lo quitamos de $L$ y lo ponemos al final de una lista $M$. Repetimos esto hasta agotar todos los elementos de $L$. El algoritmo es correcto pues se agotan todos los elementos de $L$ y se van poniendo en orden en $M$. Una demostración más formal podría hacerse por inducción: en el paso inductivo entra un nuevo elemento a $M$ y es mayor que todos los anteriores pues lo elegimos después que todos los anteriores.\n",
    "\n",
    "Una manera de hacer esta implementación es la siguiente. Primero, necesitamos una subrutina que identifique al menor elemento de una lista."
   ]
  },
  {
   "cell_type": "code",
   "execution_count": 3,
   "metadata": {
    "ExecuteTime": {
     "end_time": "2021-09-27T17:51:02.799983Z",
     "start_time": "2021-09-27T17:51:02.777185Z"
    },
    "scrolled": true
   },
   "outputs": [
    {
     "name": "stdout",
     "output_type": "stream",
     "text": [
      "2\n",
      "-3\n",
      "0\n"
     ]
    }
   ],
   "source": [
    "def encontrar_minimo(L):\n",
    "# Recibe una lista no vacía L y regresa su mínimo\n",
    "    minimo=L[0]\n",
    "    for j in L:\n",
    "        if j<minimo:\n",
    "            minimo=j\n",
    "    return minimo\n",
    "\n",
    "print(encontrar_minimo([2,6,4,7]))\n",
    "print(encontrar_minimo([2,-3,8]))\n",
    "print(encontrar_minimo([9,11,0,6,4,7]))"
   ]
  },
  {
   "cell_type": "markdown",
   "metadata": {},
   "source": [
    "Esta subrutina para encontrar el mínimo toma tiempo $O(n)$ (aquí $n$ es la cantidad de elementos de la lista) pues el ciclo recorre todos los elementos de $L$. Usamos `encontrar_minimo` para implementar `SelectionSort` a continuación."
   ]
  },
  {
   "cell_type": "code",
   "execution_count": 8,
   "metadata": {
    "ExecuteTime": {
     "end_time": "2021-09-27T17:55:03.347540Z",
     "start_time": "2021-09-27T17:55:03.328621Z"
    },
    "scrolled": true
   },
   "outputs": [
    {
     "name": "stdout",
     "output_type": "stream",
     "text": [
      "[2, 4, 6, 7]\n",
      "[-3, 2, 2, 8]\n",
      "[0, 4, 4, 6, 7, 9, 11]\n"
     ]
    }
   ],
   "source": [
    "def selection_sort(L):\n",
    "# Recibe una lista no vacía L y la regresa ordenada.\n",
    "    M=[] #La lista que iremos llenando en orden\n",
    "    while L!=[]:\n",
    "        minimo=encontrar_minimo(L)\n",
    "        L.remove(minimo)\n",
    "        M.append(minimo)\n",
    "    return(M)\n",
    "\n",
    "print(selection_sort([2,6,4,7]))\n",
    "print(selection_sort([2,-3,8,2]))\n",
    "print(selection_sort([9,11,0,6,4,7,4]))"
   ]
  },
  {
   "cell_type": "markdown",
   "metadata": {},
   "source": [
    "Aquí el bucle `while` toma $n$ iteraciones, una por cada elemento de $M$. Dentro de dicho bucle estamos llamando la función `encontrar_minimo` que es de tiempo $O(n)$. También estamos eliminando al elemento mínimo de $L$, (que como mucho tomaría tiempo $O(n)$) y agregándolo a $M$, (que como mucho tomaría tiempo $O(n)$). Así, la cantidad de tiempo total es $$O(n)(O(n)+O(n)+O(n))$$ que se simplifica a $O(n^2)$.\n",
    "\n",
    "Aquí estamos creando una nueva lista $M$ que tendrá $O(n)$ elementos. Dependiendo de exactamente cómo vayamos pasando los elementos de $L$ a $M$, es posible que  necesitemos de $O(n)$ espacio adicional (si preservamos $L$) o no (si vamos liberando de memoria sus elementos)."
   ]
  },
  {
   "cell_type": "markdown",
   "metadata": {},
   "source": [
    "A continuación hay una \"implementación didáctica\" de `SelectionSort` con un código un poco más largo, pero que puede ayudar a entender qué es lo que va sucediendo cada vez que se hace el bucle. Como salida, el algoritmo va diciendo las decisiones que se van tomando y por qué se pasa cierto elemento de $L$ a $M$. Observa que aunque estemos haciendo más cosas, de todas formas corre en tiempo $O(n^2)$, pues los reportes que va haciendo toman tiempo constante."
   ]
  },
  {
   "cell_type": "code",
   "execution_count": 16,
   "metadata": {
    "ExecuteTime": {
     "end_time": "2021-09-27T18:07:41.610185Z",
     "start_time": "2021-09-27T18:07:41.591265Z"
    }
   },
   "outputs": [
    {
     "name": "stdout",
     "output_type": "stream",
     "text": [
      "Comenzamos con la lista L como sigue: [9, 0, 6, 4, 7, 4]\n",
      " ----\n",
      "Paso 1\n",
      " ----\n",
      "Ahora la lista L es [9, 0, 6, 4, 7, 4], que tiene mínimo 0\n",
      "La lista M es []\n",
      "Así, tenemos que pasar el número 0 de L a M\n",
      "\n",
      "Paso 2\n",
      " ----\n",
      "Ahora la lista L es [9, 6, 4, 7, 4], que tiene mínimo 4\n",
      "La lista M es [0]\n",
      "Así, tenemos que pasar el número 4 de L a M\n",
      "\n",
      "Paso 3\n",
      " ----\n",
      "Ahora la lista L es [9, 6, 7, 4], que tiene mínimo 4\n",
      "La lista M es [0, 4]\n",
      "Así, tenemos que pasar el número 4 de L a M\n",
      "\n",
      "Paso 4\n",
      " ----\n",
      "Ahora la lista L es [9, 6, 7], que tiene mínimo 6\n",
      "La lista M es [0, 4, 4]\n",
      "Así, tenemos que pasar el número 6 de L a M\n",
      "\n",
      "Paso 5\n",
      " ----\n",
      "Ahora la lista L es [9, 7], que tiene mínimo 7\n",
      "La lista M es [0, 4, 4, 6]\n",
      "Así, tenemos que pasar el número 7 de L a M\n",
      "\n",
      "Paso 6\n",
      " ----\n",
      "Ahora la lista L es [9], que tiene mínimo 9\n",
      "La lista M es [0, 4, 4, 6, 7]\n",
      "Así, tenemos que pasar el número 9 de L a M\n",
      "\n",
      "Esto ya dejó a L vacía. De esta manera, la lista ya en orden es M=[0, 4, 4, 6, 7, 9]\n"
     ]
    }
   ],
   "source": [
    "def selection_sort_amigable(L):\n",
    "# Recibe una lista no vacía L y la regresa ordenada.\n",
    "    M=[] #La lista que iremos llenando en orden\n",
    "    paso=1\n",
    "    print(\"Comenzamos con la lista L como sigue: {}\\n ----\".format(L))\n",
    "    while L!=[]:\n",
    "        minimo=encontrar_minimo(L)\n",
    "        print(\"Paso {}\\n ----\".format(paso))\n",
    "        print(\"Ahora la lista L es {}, que tiene mínimo {}\".format(L,minimo))\n",
    "        print(\"La lista M es {}\".format(M))\n",
    "        print(\"Así, tenemos que pasar el número {} de L a M\".format(minimo))\n",
    "        print(\"\")\n",
    "        L.remove(minimo)\n",
    "        M.append(minimo)\n",
    "        paso+=1\n",
    "    print(\"Esto ya dejó a L vacía. De esta manera, la lista ya en orden es M={}\".format(M))\n",
    "\n",
    "selection_sort_amigable([9,0,6,4,7,4])"
   ]
  },
  {
   "cell_type": "markdown",
   "metadata": {},
   "source": [
    "## InsertionSort\n",
    "\n",
    "La idea de `InsertionSort` también es muy sencilla. De nuevo tenemos como entrada una lista $L$ y usaremos una lista auxiliar $M$. Lo que haremos es tomar un elemento de $L$ y colocarlo \"en el lugar correcto\" de $M$. Para ello, iremos preguntándonos de izquierda a derecha si el elemento que tenemos puede entrar en cierta posición de $M$, o le toca una más a la derecha.\n",
    "\n",
    "Veamos esto en acción con la lista inicial $$L=[2,8,3,2,9].$$\n",
    "\n",
    "El primer elemento de $L$, de izquierda a derecha es $2$. Así, este será el primer elemento que ponemos en $M$: $$M=[2].$$\n",
    "\n",
    "El segundo elemento de $L$ es $8$. ¿Va en la primer posición de $M$? No, pues el $2$ es menor o igual. ¿Quedan más elementos para compararlo? No. Entonces va hasta el final. Esto deja $$M=[2,8].$$\n",
    "\n",
    "El tercer elemento de $L$ es $3$. ¿Va en la primer posición de $M$? No, pues el $2$ es menor o igual. ¿Va en la segunda? Sí, pues el $3$ es más grande. Entonces hasta ahora $$M=[2,3,8].$$\n",
    "\n",
    "El cuarto elemento de $L$ es $2$. ¿Va en la primer posición de $M$? No, pues el $2$ es menor o igual. ¿Va en la segunda? Sí, pues el $3$ es más grande. En este punto $$M=[2,2,3,8].$$\n",
    "\n",
    "Finalmente, el último elemento de $L$ es $9$. ¿Va en la primer posición de $M$? No, pues el $2$ es menor o igual. ¿En la segunda? No, pues el $2$ es menor o igual. ¿En la tercera? No, pues el $3$ es menor o igual. ¿En la cuarta? No, pues el $8$ es menor o igual. ¿Quedan más elementos? No, entonces va hasta el final. Así, llegamos a la respuesta final $$M=[2,2,3,8,9].$$\n",
    "\n",
    "El algoritmo es correcto pues se toman todos los elementos de $L$ en algún momento. Además, al ponerlos en $M$ estamos garantizando que todos a la izquierda sean menores y todos a la derecha mayores por la transitividad de la desigualdad.\n",
    "\n",
    "En términos de eficiencia, recorremos $O(n)$ elementos de $L$. Puede que tengamos suerte y cada elemento lo coloquemos tan pronto como sea posible (en $1$ paso), pero en ocasiones tendrán que irse hasta la derecha y entonces usaremos $O(n)$ pasos. Así, el algoritmo corre en tiempo $O(n^2)$. Una vez más, podemos ir liberando de memoria los elementos de $L$ para sólo usar $O(1)$ espacio extra, o bien preservarlo y necesitaríamos $O(n)$ espacio extra.\n",
    "\n"
   ]
  },
  {
   "cell_type": "markdown",
   "metadata": {},
   "source": [
    "## BubbleSort\n",
    "\n",
    "Un último algoritmo cuadrático que discutiremos es `BubbleSort`. Ahora la idea está expresada mediante el siguiente pseudocódigo:\n",
    "\n",
    "```\n",
    "definimos BubbleSort(L):\n",
    "    recorremos L de izquierda a derecha, checando pares adyacentes\n",
    "       si todos los pares adyacentes están bien:\n",
    "          la lista L ya está ordenada\n",
    "       si algún par adyacente está mal:\n",
    "          intercambiamos a los elementos del par\n",
    "    repetimos y repetimos hasta que ya quede ordenada\n",
    "```\n",
    "\n",
    "Es posible que necesitemos recorrer la lista más de una vez para que quede ordenada. Por ejemplo consideremos la lista $$[4,3,1,2].$$\n",
    "\n",
    "El primer par es $4,3$, que está mal, así que lo intercambiamos para obtener $$[3,4,1,2].$$ El segundo par es $4,1$ que está mal, así que lo cambiamos para obtener $$[3,1,4,2].$$ El tercer par es $4,2$ y está mal, así que lo cambiamos para obtener $$[3,1,2,4].$$ Aquí llegamos al final de la lista y aún no se ordena. Entonces, volvemos a empezar: el primer par es $3,1$ que está mal e intercambiamos para obtener $$[1,3,2,4].$$ El segundo par es $3,2$ que está mal e intercambiamos para obtener $$[1,2,3,4].$$ El tercer par es $3,4$ y ya está bien. Al dar una última pasada a la lista, vemos que ya no hay que cambiar pares y por lo tanto la lista ya queda bien.\n",
    "\n",
    "Aquí no es totalmente claro que el algoritmo debería terminar. ¿Qué es lo que nos garantiza que no estaremos revolviendo los elementos una y otra vez?\n",
    "\n",
    "Una forma de mostrar la correctitud es observando que tras el primer recorrido completo el elemento más grande se \"arrastra\" o \"burbujea\" de izquierda a derecha (por eso `BubbleSort`). Tras el segundo recorrido, el penúlimo se \"arrastra\" a la penúltima posición. Y así sucesivamente. Una prueba formal podría hacerse mostrando inductivamente para cada $k$ de $1$ a $n$ que tras $k$ recorridos completos por la lista, los últimos $k$ elementos quedarán en orden.\n",
    "\n",
    "Esto último nos dice que quizás tengamos que hacer $O(n)$ recorridos completos, cada uno de los cuales toma $O(n)$ pasos. De modo que `BubbleSort` también corre en tiempo cuadrático. ¿Cómo es en espacio?\n",
    "\n",
    "Observa la siguiente implementación didáctica para entender el algoritmo todavía más:"
   ]
  },
  {
   "cell_type": "code",
   "execution_count": 1,
   "metadata": {
    "ExecuteTime": {
     "end_time": "2021-10-23T00:37:38.545338Z",
     "start_time": "2021-10-23T00:37:38.532075Z"
    }
   },
   "outputs": [
    {
     "name": "stdout",
     "output_type": "stream",
     "text": [
      "Comienza el recorrido completo 1.\n",
      "----\n",
      "La lista ahora es [9, 0, 6, 4, -1] y estamos checando la pareja 9, 0.\n",
      "Como está mal, la intercambiamos para obtener L=[0, 9, 6, 4, -1].\n",
      "La lista ahora es [0, 9, 6, 4, -1] y estamos checando la pareja 9, 6.\n",
      "Como está mal, la intercambiamos para obtener L=[0, 6, 9, 4, -1].\n",
      "La lista ahora es [0, 6, 9, 4, -1] y estamos checando la pareja 9, 4.\n",
      "Como está mal, la intercambiamos para obtener L=[0, 6, 4, 9, -1].\n",
      "La lista ahora es [0, 6, 4, 9, -1] y estamos checando la pareja 9, -1.\n",
      "Como está mal, la intercambiamos para obtener L=[0, 6, 4, -1, 9].\n",
      "----\n",
      "\n",
      "Comienza el recorrido completo 2.\n",
      "----\n",
      "La lista ahora es [0, 6, 4, -1, 9] y estamos checando la pareja 0, 6.\n",
      "Como está bien, no hacemos nada.\n",
      "La lista ahora es [0, 6, 4, -1, 9] y estamos checando la pareja 6, 4.\n",
      "Como está mal, la intercambiamos para obtener L=[0, 4, 6, -1, 9].\n",
      "La lista ahora es [0, 4, 6, -1, 9] y estamos checando la pareja 6, -1.\n",
      "Como está mal, la intercambiamos para obtener L=[0, 4, -1, 6, 9].\n",
      "La lista ahora es [0, 4, -1, 6, 9] y estamos checando la pareja 6, 9.\n",
      "Como está bien, no hacemos nada.\n",
      "----\n",
      "\n",
      "Comienza el recorrido completo 3.\n",
      "----\n",
      "La lista ahora es [0, 4, -1, 6, 9] y estamos checando la pareja 0, 4.\n",
      "Como está bien, no hacemos nada.\n",
      "La lista ahora es [0, 4, -1, 6, 9] y estamos checando la pareja 4, -1.\n",
      "Como está mal, la intercambiamos para obtener L=[0, -1, 4, 6, 9].\n",
      "La lista ahora es [0, -1, 4, 6, 9] y estamos checando la pareja 4, 6.\n",
      "Como está bien, no hacemos nada.\n",
      "La lista ahora es [0, -1, 4, 6, 9] y estamos checando la pareja 6, 9.\n",
      "Como está bien, no hacemos nada.\n",
      "----\n",
      "\n",
      "Comienza el recorrido completo 4.\n",
      "----\n",
      "La lista ahora es [0, -1, 4, 6, 9] y estamos checando la pareja 0, -1.\n",
      "Como está mal, la intercambiamos para obtener L=[-1, 0, 4, 6, 9].\n",
      "La lista ahora es [-1, 0, 4, 6, 9] y estamos checando la pareja 0, 4.\n",
      "Como está bien, no hacemos nada.\n",
      "La lista ahora es [-1, 0, 4, 6, 9] y estamos checando la pareja 4, 6.\n",
      "Como está bien, no hacemos nada.\n",
      "La lista ahora es [-1, 0, 4, 6, 9] y estamos checando la pareja 6, 9.\n",
      "Como está bien, no hacemos nada.\n",
      "----\n",
      "\n",
      "Comienza el recorrido completo 5.\n",
      "----\n",
      "La lista ahora es [-1, 0, 4, 6, 9] y estamos checando la pareja -1, 0.\n",
      "Como está bien, no hacemos nada.\n",
      "La lista ahora es [-1, 0, 4, 6, 9] y estamos checando la pareja 0, 4.\n",
      "Como está bien, no hacemos nada.\n",
      "La lista ahora es [-1, 0, 4, 6, 9] y estamos checando la pareja 4, 6.\n",
      "Como está bien, no hacemos nada.\n",
      "La lista ahora es [-1, 0, 4, 6, 9] y estamos checando la pareja 6, 9.\n",
      "Como está bien, no hacemos nada.\n",
      "----\n",
      "\n",
      "La lista ordenada es L=[-1, 0, 4, 6, 9]\n"
     ]
    }
   ],
   "source": [
    "def bubble_sort_amigable(L):\n",
    "# Recibe una lista no vacía L y la ordena\n",
    "    n=len(L)\n",
    "    for j in range(n):\n",
    "        print(\"Comienza el recorrido completo {}.\\n----\".format(j+1))\n",
    "        for j in range(n-1):\n",
    "            print(\"La lista ahora es {} y estamos checando la pareja {}, {}.\".format(L,L[j],L[j+1]))\n",
    "            if L[j]>L[j+1]:\n",
    "                L[j],L[j+1]=L[j+1],L[j]\n",
    "                print(\"Como está mal, la intercambiamos para obtener L={}.\".format(L))\n",
    "            else:\n",
    "                print(\"Como está bien, no hacemos nada.\")\n",
    "        print(\"----\\n\")\n",
    "    print(\"La lista ordenada es L={}\".format(L))\n",
    "\n",
    "bubble_sort_amigable([9,0,6,4,-1])"
   ]
  },
  {
   "cell_type": "markdown",
   "metadata": {},
   "source": [
    "## Tarea moral\n",
    "\n",
    "Los siguientes problemas te ayudarán a practicar lo visto en esta entrada. Para resolverlos, necesitarás usar herramientas matemáticas, computacionales o ambas.\n",
    "\n",
    "1. Aplica manualmente `SelectionSort`, `InsertionSort` y `BubbleSort` a la siguiente lista $$31,45,46,51,32,17,54,36,21,22,31,36.$$\n",
    "\n",
    " Para esta lista, ¿cuál de los algoritmos te parece \"mejor\"? Explica tus criterios para decidir.\n",
    "\n",
    "2. Explora el siguiente interactivo de VisuAlgo para ver más ejemplos de cómo funcionan `SelectionSort`, `InsertionSort` y `BubbleSort`:\n",
    "<div style=\"text-align:center;\">\n",
    "<a  href=https://visualgo.net/en/sorting> VisuAlgo: Sorting </a></div>\n",
    " En la parte superior puedes elegir el algoritmo a visualizar.\n",
    "3. Demuestra formalmente que el peor caso de `InsertionSort` ocurre cuando la lista de entrada ya está ordenada y todos los elementos son distintos entre sí.\n",
    "4. Haz una \"implementación didáctica\" de `InsertionSort`.\n",
    "5. Encuentra de manera explícita los mejores y peores casos de tiempo de ejecución para el algoritmo `BubbleSort`.\n",
    "6. Implementa un algoritmo de tipo `BubbleSort` en Python que te permita ordenar las siguientes parejas de números de acuerdo a su segunda coordenada:\n",
    "\n",
    "$$(4,1),(5,21),(3,12),(23,12),(11,14),(12,17),(21,18),(5,7),(7,5),(9,41),(11,2),(2,4)$$"
   ]
  }
 ],
 "metadata": {
  "kernelspec": {
   "display_name": "Python 3",
   "language": "python",
   "name": "python3"
  },
  "language_info": {
   "codemirror_mode": {
    "name": "ipython",
    "version": 3
   },
   "file_extension": ".py",
   "mimetype": "text/x-python",
   "name": "python",
   "nbconvert_exporter": "python",
   "pygments_lexer": "ipython3",
   "version": "3.8.8"
  },
  "latex_envs": {
   "LaTeX_envs_menu_present": true,
   "autoclose": false,
   "autocomplete": false,
   "bibliofile": "biblio.bib",
   "cite_by": "apalike",
   "current_citInitial": 1,
   "eqLabelWithNumbers": false,
   "eqNumInitial": 1,
   "hotkeys": {
    "equation": "Ctrl-E",
    "itemize": "Ctrl-I"
   },
   "labels_anchors": false,
   "latex_user_defs": false,
   "report_style_numbering": false,
   "user_envs_cfg": false
  }
 },
 "nbformat": 4,
 "nbformat_minor": 4
}
