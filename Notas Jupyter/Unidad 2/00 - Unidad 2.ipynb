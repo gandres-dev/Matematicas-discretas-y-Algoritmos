{
 "cells": [
  {
   "cell_type": "markdown",
   "metadata": {},
   "source": [
    "# Unidad 2: Fundamentos algorítmicos\n",
    "\n",
    "## Introducción\n",
    "\n",
    "En esta segunda unidad estudiaremos los fundamentos algorítmicos necesarios para las matemáticas discretas para la ciencia de datos. Platicaremos de qué es un problema algorítmico, qué es un algoritmo que lo resuelve y cómo evaluar estos algoritmos en correctitud y eficiencia. Después, introduciremos algunos conceptos de estructuras de datos y veremos varias formas de ordenar elementos."
   ]
  },
  {
   "cell_type": "markdown",
   "metadata": {},
   "source": [
    "## Temario\n",
    "\n",
    "- Problemas y algoritmos\n",
    "- Algoritmos incorrectos\n",
    "- Algoritmos correctos\n",
    "- Modelo RAM y pensamiento asintótico\n",
    "- Notación O grande y similares\n",
    "- Propiedades de la notación O grande\n",
    "- Ejemplos de análisis de eficiencia\n",
    "- El problema de ordenar\n",
    "- Ordenar cuadráticamente\n",
    "- Estructuras de datos vs tipos de datos abstractos\n",
    "- Diccionarios y árboles de búsqueda balanceados\n",
    "- Ordenar eficientemente\n",
    "- Aplicaciones de ordenar"
   ]
  }
 ],
 "metadata": {
  "kernelspec": {
   "display_name": "Python 3",
   "language": "python",
   "name": "python3"
  },
  "language_info": {
   "codemirror_mode": {
    "name": "ipython",
    "version": 3
   },
   "file_extension": ".py",
   "mimetype": "text/x-python",
   "name": "python",
   "nbconvert_exporter": "python",
   "pygments_lexer": "ipython3",
   "version": "3.8.8"
  },
  "latex_envs": {
   "LaTeX_envs_menu_present": true,
   "autoclose": false,
   "autocomplete": false,
   "bibliofile": "biblio.bib",
   "cite_by": "apalike",
   "current_citInitial": 1,
   "eqLabelWithNumbers": false,
   "eqNumInitial": 1,
   "hotkeys": {
    "equation": "Ctrl-E",
    "itemize": "Ctrl-I"
   },
   "labels_anchors": false,
   "latex_user_defs": false,
   "report_style_numbering": false,
   "user_envs_cfg": false
  }
 },
 "nbformat": 4,
 "nbformat_minor": 4
}
