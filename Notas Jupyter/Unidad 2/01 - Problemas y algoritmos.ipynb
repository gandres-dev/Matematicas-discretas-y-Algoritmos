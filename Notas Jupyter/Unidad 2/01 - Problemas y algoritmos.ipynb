{
 "cells": [
  {
   "cell_type": "markdown",
   "metadata": {},
   "source": [
    "# Problemas y algoritmos\n",
    "\n",
    "**Matemáticas Discretas para Ciencias de Datos**\n",
    "\n",
    "Prof. Leonardo Ignacio Martínez Sandoval"
   ]
  },
  {
   "cell_type": "markdown",
   "metadata": {},
   "source": [
    "## Introducción\n",
    "\n",
    "De manera intuitiva, un algoritmo es una serie de pasos que toma una entrada y da una salida. Comenzaremos platicando qué tipo de problemas nos interesa resolver y luego qué tipo de soluciones nos interesa dar."
   ]
  },
  {
   "cell_type": "markdown",
   "metadata": {},
   "source": [
    "## Problemas algorítmicos\n",
    "\n",
    "Cuando estamos hablando de resolver problemas algorítmicos, usualmente no nos van a importar problemas muy particulares, en donde sólo damos una solución \"para un caso\". Típicamente, lo que queremos es resolver problemas generales, en donde las posibilidades a las que nos enfrentaremos son varias, complejas e inesperadas.\n",
    "\n",
    "*Ejemplo.* El siguiente no es un problema general:\n",
    "\n",
    "\"Ordena los números  $5,7,3,10,12,1$\".\n",
    "\n",
    "Si bien es un problema que se puede resolver con la computadora, consiste únicamente de una instancia, con unos pocos números.\n",
    "\n",
    "<div style=\"text-align:right\">$\\square$</div>\n",
    "\n",
    "A un caso pequeño como estos se le conoce como una **instancia**. De esta forma, cuando estamos planteando un problema de los que nos interesa, una cosa que tenemos que hacer es definir todas las instancias que nuestro algoritmo debe resolver.\n",
    "\n",
    "**Definición.** Un **problema algorítmico** consiste de:\n",
    "- Un **problema** a resolver.\n",
    "- Una **entrada**, que nos dice cuáles o cómo son las instancias que esperamos resolver.\n",
    "- Una **salida** que nos dice qué es lo que esperamos obtener y con qué características.\n",
    "\n",
    "*Ejemplo.* Un problema algorítmico puede ser el siguiente.\n",
    "\n",
    "**Problema:** Ordenar una lista finita de números enteros.\n",
    "\n",
    "**Entrada:** Una lista finita de números enteros: $a_1,a_2,\\ldots,a_n$.\n",
    "\n",
    "**Salida:** Una lista con esos mismos números, pero ordenada, es decir, una lista $b_1,b_2,\\ldots,b_n$ tal que $b_i\\leq b_j$ si $i\\leq j$ y tal que ambas listas tengan los mismos elementos.\n",
    "\n",
    "La descripción de las entradas que podemos recibir y las salidas que esperamos dar usualmente están en términos matemáticos, o en términos de estructuras de datos, de las cuales hablaremos después."
   ]
  },
  {
   "cell_type": "markdown",
   "metadata": {},
   "source": [
    "## Algoritmos\n",
    "\n",
    "Un **algoritmo** es una serie de pasos que resuelve un problema algorítmico. Esta serie de pasos debe resolver todas las posibles instancias, sin importar cual sea. Mediante un cierto proceso, debemos explicar poco a poco cómo podemos tomar la entrada, procesarla y dar una salida que resuelva el problema con las condiciones establecidas.\n",
    "\n",
    "Un algoritmo puede ser descrito de varias formas:\n",
    "\n",
    "- Con palabras\n",
    "- Con pseudocódigo\n",
    "- Con código de algún lenguaje de programación (Python, C++, PERL, PHP, Javascript, etc)\n",
    "\n",
    "Hacia arriba es más entendible para humanos y más flexible, pero más difícil de que lo ejecute una computadora. Hacia abajo es menos entendible y requiere más formalidad. Hacia abajo tiene la ventaja de que una computadora lo puede ejecutar.\n",
    "\n",
    "Comúnmente se dice que hacia arriba en la lista es una descripción de **nivel más alto** y hacia abajo es una descripción de **nivel más bajo**. Aquí la palabra **nivel** no quiere decir \"dificultad\" sino más bien qué tantos \"factores\" están involucrados. Hasta arriba, el lenguaje humano es muy complejo: tiene sutilezas, depende mucho del contexto, es más expresivo. Hasta abajo, el lenguaje es muy objetivo pues se basa en pocas reglas que se deben cumplir."
   ]
  },
  {
   "cell_type": "markdown",
   "metadata": {},
   "source": [
    "*Ejemplo.* Supongamos que queremos resolver el siguiente problema algorítmico:\n",
    "\n",
    "**Problema.** Contar números pares.\n",
    "\n",
    "**Entrada.** Un entero positivo $n$ y una lista de enteros $a_1,a_2,\\ldots,a_n$.\n",
    "\n",
    "**Salida.** La cantidad de enteros en la lista que sean números pares.\n",
    "\n",
    "Para resolver este problema, podemos dar un algoritmo en palabras como sigue:\n",
    "\n",
    "Llevaremos una cuenta de cuántos números pares van. Lo que haremos es recorrer la lista de izquierda a derecha. Intentamos dividir el número entre 2. Si el residuo que queda es 0, entonces aumentamos la cuenta de pares. Seguimos así hasta terminar. Al final nuestra cuenta dará la cantidad de pares que hay.\n",
    "\n",
    "También podemos explicar el algoritmo en pseudocódigo:\n",
    "\n",
    "```\n",
    "funcion contar_pares(lista):\n",
    "    un contador empieza en 0\n",
    "    para cada número en la lista:\n",
    "        si el residuo del número entre 2 es cero:\n",
    "            aumentamos el contador en 1\n",
    "    reportamos el contador\n",
    "```\n",
    "\n",
    "Observa que el pseudocódigo es muy casual. No es necesario mantener una sintaxis estricta y podemos todavía explicar con algunas palabras.\n",
    "\n",
    "Finalmente, podríamos dar el código exacto en algún lenguaje de programación para resolver el problema. A continuación se muestra un código en Python para ello:\n",
    "\n",
    "```python\n",
    "def contar_pares(L):\n",
    "    cont=0\n",
    "    for k in L:\n",
    "        if k%2==0:\n",
    "            cont+=1\n",
    "    print(cont)\n",
    "```\n",
    "\n",
    "Ponemos esto en una celda de código a continuación y vemos que esté funcionando"
   ]
  },
  {
   "cell_type": "code",
   "execution_count": 2,
   "metadata": {
    "ExecuteTime": {
     "end_time": "2021-09-24T21:16:31.486966Z",
     "start_time": "2021-09-24T21:16:31.475997Z"
    }
   },
   "outputs": [
    {
     "name": "stdout",
     "output_type": "stream",
     "text": [
      "3\n",
      "2\n",
      "5\n"
     ]
    }
   ],
   "source": [
    "def contar_pares(L):\n",
    "    cont=0\n",
    "    for k in L:\n",
    "        if k%2==0:\n",
    "            cont+=1\n",
    "    print(cont)\n",
    "\n",
    "contar_pares([4,3,67,1,6,23,16])\n",
    "contar_pares([5,1,7,12,65,12])\n",
    "contar_pares([-21,0,5,-2,4,9,3,8,10])"
   ]
  },
  {
   "cell_type": "markdown",
   "metadata": {},
   "source": [
    "Parece ser que nuestro algoritmo funciona en las instancias que dimos. ¿Será que siempre funciona?\n",
    "\n",
    "<div style=\"text-align:right;\"> $\\square$ </div>"
   ]
  },
  {
   "cell_type": "markdown",
   "metadata": {},
   "source": [
    "## Propiedades de los algoritmos\n",
    "\n",
    "Lo que más nos interesa de los algoritmos son las siguientes tres cosas:\n",
    "\n",
    "- Que sean **correctos**, es decir, que resuelvan *todas* las instancias que nos interesan del problema correctamente.\n",
    "- Que sean **eficientes**, es decir, que no tomen ni mucho tiempo ni mucho espacio para ser ejecutados en términos del tamaño de la entrada.\n",
    "- Que sean **fáciles de implementar**, decir, que se puedan escribir en código de manera sencilla.\n",
    "\n",
    "La primera es una propiedad fundamental. El algoritmo puede resolver bien algunas instancias, pero si no resuelve bien todas ellas, entonces podemos estar en problemas al momento de aplicarlo.\n",
    "\n",
    "La segunda y tercera propiedades son más bien cosas deseables, aunque a veces hay que comprometer alguna de ellas para lograr la otra. Por ejemplo, en ocasiones un algoritmo muy bueno en tiempo, será malo en cantidad de memoria usada. O bien un algoritmo muy fácil de implementar puede que ocupe mucho espacio. Aunque a veces todo puede salir bien, tenemos que acostumbrarnos a que usualmente hay más de un algoritmo que resuelva de manera correcta un problema. Y en ocasiones tenemos que hacer un intercambio entre su eficiencia en tiempo, en espacio y en su facilidad de implementación.\n",
    "\n",
    "En las siguientes entradas hablaremos de cómo evaluar un algoritmo en términos de correctitud y eficiencia."
   ]
  },
  {
   "cell_type": "markdown",
   "metadata": {},
   "source": [
    "## Tarea moral\n",
    "\n",
    "Los siguientes problemas te ayudarán a practicar lo visto en esta entrada. Para resolverlos, necesitarás usar herramientas matemáticas, computacionales o ambas.\n",
    "\n",
    "1. Hacer chiles en nogada, ¿es un problema algoritmico de los que nos interesa resolver? ¿Por qué?\n",
    "2. Dadas $n$ ciudades, saber cómo viajar entre ellas para recorrer todas en la menor cantidad posible de tiempo, ¿es un problema algorítmico de los que nos interesa resolver? ¿Por qué?\n",
    "3. A continuación se muestra un algoritmo en Python que encuentra el máximo de una lista no vacía $L$ de enteros positivos. Estudia qué está sucediendo y pasa el algoritmo de código a una descripción en palabras."
   ]
  },
  {
   "cell_type": "code",
   "execution_count": 1,
   "metadata": {
    "ExecuteTime": {
     "end_time": "2021-09-17T15:49:55.666165Z",
     "start_time": "2021-09-17T15:49:55.652232Z"
    }
   },
   "outputs": [],
   "source": [
    "def dar_max(L):\n",
    "    M=-1\n",
    "    for j in L:\n",
    "        if j>M:\n",
    "            M=j\n",
    "    print(M)"
   ]
  },
  {
   "cell_type": "markdown",
   "metadata": {},
   "source": [
    "4. La siguiente descripción en palabras explica cómo sumar todos los elementos de una lista no vacía de enteros. Conviértela a código en Python.\n",
    "\n",
    " \"Dada una lista no vacía de enteros, podemos sumar todos ellos como sigue. Tomamos el primer elemento. Luego, le sumamos el segundo elemento. Luego, a esa suma le sumamos el tercer elemento. Luego el cuarto elemento. Y así sucesivamente, hasta que terminemos de sumar todos los elementos. El resultado final es la suma de todos los números de la lista\"."
   ]
  },
  {
   "cell_type": "code",
   "execution_count": null,
   "metadata": {},
   "outputs": [],
   "source": [
    "# Escribe tu código aquí."
   ]
  },
  {
   "cell_type": "markdown",
   "metadata": {},
   "source": [
    "5. El siguiente es un problema algorítmico de los que queremos resolver:\n",
    "\n",
    " **Problema:** Pareja de distancia mínima.\n",
    "\n",
    " **Entrada:** Puntos $p_1,p_2,p_3,\\ldots,p_n$ en el plano.\n",
    "\n",
    " **Salida:** Dos valores distintos $i$ y $j$ en $\\{1,2,\\ldots,n\\}$ tales que $p_i$ y $p_j$ sean los dos puntos más cercanos de todos los puntos dados.\n",
    "\n",
    " ¿Cómo mejorarías todavía más esta descripción del problema? ¿Se te ocurre un algoritmo que ayude a resolver este problema? Da descripciones en palabras, pseudocódigo y código para este algoritmo.\n"
   ]
  }
 ],
 "metadata": {
  "kernelspec": {
   "display_name": "Python 3",
   "language": "python",
   "name": "python3"
  },
  "language_info": {
   "codemirror_mode": {
    "name": "ipython",
    "version": 3
   },
   "file_extension": ".py",
   "mimetype": "text/x-python",
   "name": "python",
   "nbconvert_exporter": "python",
   "pygments_lexer": "ipython3",
   "version": "3.8.8"
  },
  "latex_envs": {
   "LaTeX_envs_menu_present": true,
   "autoclose": false,
   "autocomplete": false,
   "bibliofile": "biblio.bib",
   "cite_by": "apalike",
   "current_citInitial": 1,
   "eqLabelWithNumbers": false,
   "eqNumInitial": 1,
   "hotkeys": {
    "equation": "Ctrl-E",
    "itemize": "Ctrl-I"
   },
   "labels_anchors": false,
   "latex_user_defs": false,
   "report_style_numbering": false,
   "user_envs_cfg": false
  }
 },
 "nbformat": 4,
 "nbformat_minor": 4
}
