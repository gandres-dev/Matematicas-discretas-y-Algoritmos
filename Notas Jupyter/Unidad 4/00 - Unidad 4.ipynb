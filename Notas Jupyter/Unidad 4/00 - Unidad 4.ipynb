{
 "cells": [
  {
   "cell_type": "markdown",
   "metadata": {},
   "source": [
    "# Unidad 4: Algoritmos fundamentales en teoría de gráficas\n",
    "\n",
    "## Introducción\n",
    "\n",
    "En la cuarta unidad estudiaremos los algorimos más usados en teoría de gráficas."
   ]
  },
  {
   "cell_type": "markdown",
   "metadata": {},
   "source": [
    "## Temario\n",
    "\n",
    "- Implementaciones de gráficas y variantes\n",
    "- Búsqueda en profundidad\n",
    "- Aplicaciones de búsqueda en profundidad\n",
    "- Búsqueda en anchura\n",
    "- Aplicaciones de búsqueda en anchura\n",
    "- Ordenamientos topológicos\n",
    "- Árboles de peso mínimo: algoritmos de Prim y Kruskal\n",
    "- Caminos de peso mínimo: algoritmos de Dijkstra y Floyd-Warshall\n",
    "- Introducción a redes y flujos\n",
    "- Teorema del flujo máximo y corte mínimo\n",
    "- Algoritmo de Ford-Fulkerson y variantes\n",
    "- Reducciones algorítmicas y clases P, NP y NP-completo\n",
    "- Problemas de gráficas NP-completos\n"
   ]
  }
 ],
 "metadata": {
  "kernelspec": {
   "display_name": "Python 3",
   "language": "python",
   "name": "python3"
  },
  "language_info": {
   "codemirror_mode": {
    "name": "ipython",
    "version": 3
   },
   "file_extension": ".py",
   "mimetype": "text/x-python",
   "name": "python",
   "nbconvert_exporter": "python",
   "pygments_lexer": "ipython3",
   "version": "3.8.8"
  },
  "latex_envs": {
   "LaTeX_envs_menu_present": true,
   "autoclose": false,
   "autocomplete": false,
   "bibliofile": "biblio.bib",
   "cite_by": "apalike",
   "current_citInitial": 1,
   "eqLabelWithNumbers": false,
   "eqNumInitial": 1,
   "hotkeys": {
    "equation": "Ctrl-E",
    "itemize": "Ctrl-I"
   },
   "labels_anchors": false,
   "latex_user_defs": false,
   "report_style_numbering": false,
   "user_envs_cfg": false
  }
 },
 "nbformat": 4,
 "nbformat_minor": 4
}
