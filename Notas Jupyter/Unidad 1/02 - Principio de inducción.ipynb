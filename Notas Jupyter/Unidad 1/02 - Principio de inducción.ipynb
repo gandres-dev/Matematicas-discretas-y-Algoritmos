{
 "cells": [
  {
   "cell_type": "markdown",
   "metadata": {},
   "source": [
    "# Principio de inducción\n",
    "\n",
    "**Matemáticas Discretas para Ciencias de Datos**\n",
    "\n",
    "Prof. Leonardo Ignacio Martínez Sandoval"
   ]
  },
  {
   "cell_type": "markdown",
   "metadata": {},
   "source": [
    "## Introducción"
   ]
  },
  {
   "cell_type": "markdown",
   "metadata": {},
   "source": [
    "En esta entrada supondremos que tienes un conocimiento inicial del principio de inducción. En caso de no ser así, te recomendamos revisar la siguiente entrada de blog: <a href=\"https://blog.nekomath.com/seminario-de-resolucion-de-problemas-principio-de-induccion/\"> Introducción a principio de inducción</a>.\n",
    "\n",
    "Como quizás recuerdes, el principio de inducción permite hacer demostraciones matemáticas para una cantidad infinita de números, probando simplemente una cantidad finita de afirmaciones, usualmente dos. En su versión más básica dice lo siguiente:\n",
    "\n",
    "**Principio de inducción.** Para mostrar que una afirmación $P(n)$ es cierta para todo entero positivo $n$ basta con:\n",
    "\n",
    "- Mostrar que $P(1)$ es cierta.\n",
    "- Mostrar que para $n\\geq 1$, se tiene que $P(n)$ implica $P(n+1)$.\n",
    " \n",
    "En esta entrada recordaremos cómo usar el principio de inducción en su versión básica y luego discutiremos variantes del principio de inducción que cumplen con el mismo objetivo, pero son más versátiles."
   ]
  },
  {
   "cell_type": "markdown",
   "metadata": {},
   "source": [
    "## Recordatorio de pruebas por inducción"
   ]
  },
  {
   "cell_type": "markdown",
   "metadata": {},
   "source": [
    "## Inducción fuerte"
   ]
  },
  {
   "cell_type": "markdown",
   "metadata": {},
   "source": [
    "**Principio de inducción fuerte.** Para mostrar que una afirmación $P(n)$ es cierta para todo entero positivo $n$ basta con:\n",
    "\n",
    "- Mostrar que $P(1)$ es cierta.\n",
    "- Mostrar que para $n\\geq 2$, **todas** las afirmaciones $P(k)$ para $k<n$ implican en conjunto $P(n)$."
   ]
  },
  {
   "cell_type": "code",
   "execution_count": null,
   "metadata": {},
   "outputs": [],
   "source": []
  },
  {
   "cell_type": "markdown",
   "metadata": {},
   "source": [
    "## Inducción con base más grande"
   ]
  },
  {
   "cell_type": "markdown",
   "metadata": {},
   "source": [
    "Cuando en la demostración del paso inductivo usamos más de un elemento anterior, es importante que en los casos base revisemos tantos casos como la demostración de la hipótesis inductiva requiera.\n",
    "\n",
    "Para ver un ejemplo de esto, retomemos un ejemplo que dejamos pendiente acerca de cómo son los residuos al dividir entre $3$ de los números de Fibonacci.\n",
    "\n",
    "**Problema.** Los residuos de la sucesión de Fibonacci al dividir entre $3$ se ciclan, con un ciclo de periodo $8$ que es $0,1,1,2,0,2,2,1$.\n",
    "\n",
    "*Demostración.* Hacemos el caso base de manera computacional, calculando los primeros $8$ números de la sucesión de Fibonacci y verificando que en efecto se cumple lo que decimos:"
   ]
  },
  {
   "cell_type": "code",
   "execution_count": 1,
   "metadata": {
    "ExecuteTime": {
     "end_time": "2021-08-31T21:16:30.064739Z",
     "start_time": "2021-08-31T21:16:30.048781Z"
    }
   },
   "outputs": [
    {
     "name": "stdout",
     "output_type": "stream",
     "text": [
      "Para 0 el Fibonacci es 0 y deja residuo 0 al dividirse entre 3\n",
      "Para 1 el Fibonacci es 1 y deja residuo 1 al dividirse entre 3\n",
      "Para 2 el Fibonacci es 1 y deja residuo 1 al dividirse entre 3\n",
      "Para 3 el Fibonacci es 2 y deja residuo 2 al dividirse entre 3\n",
      "Para 4 el Fibonacci es 3 y deja residuo 0 al dividirse entre 3\n",
      "Para 5 el Fibonacci es 5 y deja residuo 2 al dividirse entre 3\n",
      "Para 6 el Fibonacci es 8 y deja residuo 2 al dividirse entre 3\n",
      "Para 7 el Fibonacci es 13 y deja residuo 1 al dividirse entre 3\n"
     ]
    }
   ],
   "source": [
    "a=0\n",
    "b=1\n",
    "for j in range(8):\n",
    "    print(\"Para {} el Fibonacci es {} y deja residuo {} al dividirse entre 3\".format(j,a,a%3))\n",
    "    a,b=b,a+b"
   ]
  },
  {
   "cell_type": "markdown",
   "metadata": {},
   "source": [
    "Ahora demostraremos el resultado \"en bloques de $8$\". Así, para cierta $n\\geq 1$, supongamos que el resultado es cierto para los primeros $8n$ números de Fibonacci (hasta $F_{8n-1}$). Lo que haremos en el paso inductivo es ver que para los siguientes $8$ números de Fibonacci también es cierto.\n",
    "\n",
    "Comencemos viendo que esto sucede para $F_{8n}$, donde tenemos que ver que el residuo es $0$.Usamos que que:\n",
    "\n",
    "$$F_{8n}=F_{8n-1}+F_{8n-2}$$\n",
    "\n",
    "Como por hipótesis inductiva tenemos que $F_{8n-1}$ deja residuo $1$ al dividirse entre $3$ y $F_{8n-2}$ deja residuo $2$ al dividirse entre $3$, tenemos que $F_{8n}$ es múltiplo de $3$, como queríamos. En notación de congruencias, podemos escribir esto así:\n",
    "\n",
    "$$F_{8n}=F_{8n-1}+F_{8n-2}\\equiv 1 + 2 \\equiv 0 \\pmod{3}.$$\n",
    "\n",
    "De manera similar,\n",
    "\n",
    "\\begin{align*}\n",
    "F_{8n+1}&=F_{8n}+F_{8n-1}\\equiv 0 + 1 \\equiv 1 \\pmod{3}\\\\\n",
    "F_{8n+2}&=F_{8n+1}+F_{8n}\\equiv 1 + 0 \\equiv 1 \\pmod{3}\\\\\n",
    "F_{8n+3}&=F_{8n+2}+F_{8n+1}\\equiv 1 + 1 \\equiv 2 \\pmod{3}\\\\\n",
    "F_{8n+4}&=F_{8n+3}+F_{8n+2}\\equiv 2 + 1 \\equiv 0 \\pmod{3}\\\\\n",
    "F_{8n+5}&=F_{8n+4}+F_{8n+3}\\equiv 0 + 2 \\equiv 2 \\pmod{3}\\\\\n",
    "F_{8n+6}&=F_{8n+5}+F_{8n+4}\\equiv 2 + 0 \\equiv 2 \\pmod{3}\\\\\n",
    "F_{8n+7}&=F_{8n+6}+F_{8n+5}\\equiv 2 + 2 \\equiv 1 \\pmod{3}\\\\\n",
    "\\end{align*}\n",
    "\n",
    "Esto termina la prueba del paso inductivo y por lo tanto la demostración.\n",
    "\n",
    "<div style=\"text-align: right\"> $\\square$ </div>"
   ]
  },
  {
   "cell_type": "markdown",
   "metadata": {},
   "source": [
    "## Inducción de Cauchy\n",
    "\n",
    "**Principio de inducción de Cauchy.** Para mostrar que una afirmación $P(n)$ es cierta para todo entero positivo $n$ basta con:\n",
    "\n",
    "- Mostrar que $P(1)$ es cierta.\n",
    "- Mostrar que para todo $n\\geq 1$, se tiene que  $P(n)$ implica $P(2n)$.\n",
    "- Mostrar que para todo $n\\geq 2$, se tiene que $P(n)$ implica $P(n-1)$.\n",
    "\n"
   ]
  },
  {
   "cell_type": "markdown",
   "metadata": {},
   "source": [
    "## Tarea moral"
   ]
  },
  {
   "cell_type": "markdown",
   "metadata": {},
   "source": [
    "Los siguientes problemas te ayudarán a practicar lo visto en esta entrada. Para resolverlos, necesitarás usar herramientas matemáticas, computacionales o ambas."
   ]
  },
  {
   "cell_type": "markdown",
   "metadata": {},
   "source": [
    "1. Problema\n",
    "2. Problema\n",
    "3. Problema\n",
    "4. Problema\n",
    "5. Problema"
   ]
  },
  {
   "cell_type": "code",
   "execution_count": null,
   "metadata": {},
   "outputs": [],
   "source": []
  }
 ],
 "metadata": {
  "kernelspec": {
   "display_name": "Python 3",
   "language": "python",
   "name": "python3"
  },
  "language_info": {
   "codemirror_mode": {
    "name": "ipython",
    "version": 3
   },
   "file_extension": ".py",
   "mimetype": "text/x-python",
   "name": "python",
   "nbconvert_exporter": "python",
   "pygments_lexer": "ipython3",
   "version": "3.8.5"
  },
  "latex_envs": {
   "LaTeX_envs_menu_present": true,
   "autoclose": false,
   "autocomplete": false,
   "bibliofile": "biblio.bib",
   "cite_by": "apalike",
   "current_citInitial": 1,
   "eqLabelWithNumbers": true,
   "eqNumInitial": 1,
   "hotkeys": {
    "equation": "Ctrl-E",
    "itemize": "Ctrl-I"
   },
   "labels_anchors": false,
   "latex_user_defs": false,
   "report_style_numbering": false,
   "user_envs_cfg": false
  }
 },
 "nbformat": 4,
 "nbformat_minor": 4
}
