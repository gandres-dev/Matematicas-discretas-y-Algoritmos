{
 "cells": [
  {
   "cell_type": "markdown",
   "metadata": {},
   "source": [
    "# Tipos de sucesiones\n",
    "\n",
    "**Matemáticas Discretas para Ciencias de Datos**\n",
    "\n",
    "Prof. Leonardo Ignacio Martínez Sandoval"
   ]
  },
  {
   "cell_type": "markdown",
   "metadata": {},
   "source": [
    "## Introducción"
   ]
  },
  {
   "cell_type": "markdown",
   "metadata": {},
   "source": [
    "## Sección 1"
   ]
  },
  {
   "cell_type": "markdown",
   "metadata": {},
   "source": [
    "## Sección 2"
   ]
  },
  {
   "cell_type": "markdown",
   "metadata": {},
   "source": [
    "## Sección 3"
   ]
  },
  {
   "cell_type": "markdown",
   "metadata": {},
   "source": [
    "## Tarea moral\n",
    "\n",
    "Los siguientes problemas te ayudarán a practicar lo visto en esta entrada. Para resolverlos, necesitarás usar herramientas matemáticas, computacionales o ambas.\n",
    "\n",
    "1. Problema\n",
    "2. Problema\n",
    "3. Problema\n",
    "4. Problema\n",
    "5. Problema"
   ]
  },
  {
   "cell_type": "markdown",
   "metadata": {},
   "source": [
    "# Sucesiones"
   ]
  },
  {
   "cell_type": "markdown",
   "metadata": {},
   "source": [
    "**Problema.** Sea $a,b$ reales positivos. Definimos $a_0=a$, $b_0=b$ y para $n\\geq 0$ definimos $a_{n+1}=\\frac{a_n+b_n}{2}$ y $b_{n+1}=\\sqrt{a_nb_n}$. ¿Existen los límites de estas sucesiones? ¿Cuáles son?"
   ]
  },
  {
   "cell_type": "code",
   "execution_count": 16,
   "metadata": {},
   "outputs": [
    {
     "name": "stdout",
     "output_type": "stream",
     "text": [
      "5100.00000 ----- 1414.21356\n",
      "3257.10678 ----- 2685.60778\n",
      "2971.35728 ----- 2957.58539\n",
      "2964.47133 ----- 2964.46334\n",
      "2964.46734 ----- 2964.46734\n",
      "2964.46734 ----- 2964.46734\n",
      "2964.46734 ----- 2964.46734\n",
      "2964.46734 ----- 2964.46734\n",
      "2964.46734 ----- 2964.46734\n",
      "2964.46734 ----- 2964.46734\n",
      "La media armónica es 2964.467336236644\n"
     ]
    }
   ],
   "source": [
    "a=200\n",
    "b=10000\n",
    "\n",
    "for j in range(10):\n",
    "    a,b=(a+b)/2,(a*b)**(1/2)\n",
    "    print(\"{:.5f} ----- {:.5f}\".format(a,b))\n",
    "    \n",
    "print(\"La media armónica es {}\".format(2/((1/a)+(1/b))))"
   ]
  },
  {
   "cell_type": "markdown",
   "metadata": {},
   "source": [
    "**Preguntas**\n",
    "- ¿Cómo es la sucesión de los $a_i$? ¿Creciente? ¿Decreciente? ¿Periódica? ¿Acotada?\n",
    "- ¿Cómo es la sucesión de los $b_i$? ¿Creciente? ¿Decreciente? ¿Periódica? ¿Acotada?\n",
    "- ¿Cómo es el término $a_n$ contra el $b_n$ para una $n$ fija?\n",
    "- Parece que convergen.\n",
    "\n",
    "**Observaciones**\n",
    "- Parece que convergen. Y de hecho muy rápido.\n",
    "- Los $a_i$ es una sucesión decreciente.\n",
    "- Los $b_i$ es una sucesión creciente.\n",
    "- Parece que a los 6 pasos comienza a estabilizarse.\n",
    "- $a_n$ es más grande que $b_n$ para cada $n$ fija.\n",
    "- Parece ser que converge a la media armónica de $a$ y $b$."
   ]
  },
  {
   "cell_type": "markdown",
   "metadata": {},
   "source": [
    "**Problema.** Considera la siguiente matriz:\n",
    "\n",
    "$$A=\\begin{pmatrix}\n",
    "0 &1\\\\\n",
    "1 &1\n",
    "\\end{pmatrix}$$\n",
    "\n",
    "Conjetura y demuestra una una fórmula para $A^n$."
   ]
  },
  {
   "cell_type": "markdown",
   "metadata": {},
   "source": [
    "$$\\begin{pmatrix}\n",
    "a &b\\\\\n",
    "c &d\n",
    "\\end{pmatrix}\\begin{pmatrix}\n",
    "w &x\\\\\n",
    "y &z\n",
    "\\end{pmatrix}=\\begin{pmatrix}\n",
    "aw+by &ax+bz\\\\\n",
    "cw+dy &cx+dz\n",
    "\\end{pmatrix}$$"
   ]
  },
  {
   "cell_type": "code",
   "execution_count": 6,
   "metadata": {
    "scrolled": true
   },
   "outputs": [
    {
     "name": "stdout",
     "output_type": "stream",
     "text": [
      "[[0, 1], [1, 1]]\n",
      "[[1, 1], [1, 2]]\n",
      "[[1, 2], [2, 3]]\n",
      "[[2, 3], [3, 5]]\n",
      "[[3, 5], [5, 8]]\n",
      "[[5, 8], [8, 13]]\n",
      "[[8, 13], [13, 21]]\n",
      "[[13, 21], [21, 34]]\n",
      "[[21, 34], [34, 55]]\n"
     ]
    }
   ],
   "source": [
    "A=[[0,1],[1,1]]\n",
    "\n",
    "def matmul(A,B):\n",
    "    a=A[0][0]\n",
    "    b=A[0][1]\n",
    "    c=A[1][0]\n",
    "    d=A[1][1]\n",
    "    w=B[0][0]\n",
    "    x=B[0][1]\n",
    "    y=B[1][0]\n",
    "    z=B[1][1]\n",
    "    return([[a*w+b*y,a*x+b*z],[c*w+d*y,c*x+d*z]])\n",
    "\n",
    "def pot(A,n):\n",
    "    if n==1:\n",
    "        return(A)\n",
    "    else:\n",
    "        return(matmul(A,pot(A,n-1)))\n",
    "    \n",
    "for j in range(1,10):\n",
    "    print(pot(A,j))"
   ]
  },
  {
   "cell_type": "markdown",
   "metadata": {},
   "source": [
    "**Conjetura.** $$A^n=\\begin{pmatrix} F_{n-1} & F_n \\\\ F_n & F_{n+1}\\end{pmatrix}$$\n",
    "\n",
    "*Tarea moral.* Demostrar por inducción."
   ]
  }
 ],
 "metadata": {
  "kernelspec": {
   "display_name": "Python 3",
   "language": "python",
   "name": "python3"
  },
  "language_info": {
   "codemirror_mode": {
    "name": "ipython",
    "version": 3
   },
   "file_extension": ".py",
   "mimetype": "text/x-python",
   "name": "python",
   "nbconvert_exporter": "python",
   "pygments_lexer": "ipython3",
   "version": "3.8.5"
  },
  "latex_envs": {
   "LaTeX_envs_menu_present": true,
   "autoclose": false,
   "autocomplete": false,
   "bibliofile": "biblio.bib",
   "cite_by": "apalike",
   "current_citInitial": 1,
   "eqLabelWithNumbers": true,
   "eqNumInitial": 1,
   "hotkeys": {
    "equation": "Ctrl-E",
    "itemize": "Ctrl-I"
   },
   "labels_anchors": false,
   "latex_user_defs": false,
   "report_style_numbering": false,
   "user_envs_cfg": false
  }
 },
 "nbformat": 4,
 "nbformat_minor": 4
}
