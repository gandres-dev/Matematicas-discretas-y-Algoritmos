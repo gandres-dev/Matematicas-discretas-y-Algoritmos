{
 "cells": [
  {
   "cell_type": "markdown",
   "metadata": {},
   "source": [
    "# Buscar un patrón\n",
    "\n",
    "**Matemáticas Discretas para Ciencia de Datos**\n",
    "\n",
    "Prof. Leonardo Ignacio Martínez Sandoval"
   ]
  },
  {
   "cell_type": "markdown",
   "metadata": {},
   "source": [
    "## Introducción"
   ]
  },
  {
   "cell_type": "markdown",
   "metadata": {},
   "source": [
    "La heurística de buscar un patrón consiste en tomar un problema, resolver casos pequeños o iniciales, y descubrir algo que esté pasando. Esta es una idea muy general y puede querer decir varias cosas:\n",
    "\n",
    "- Que tras hacer algunos casos veamos una fórmula.\n",
    "- Que después de jugar un poco con el problema, veamos que hay un ciclo que aparece.\n",
    "- Que tras algunas iteraciones de un problema, veamos que ciertos números siempre son crecientes.\n",
    "- Etcétera.\n",
    "\n",
    "El encontrar un patrón puede a veces dar de manera inmediata la solución que estamos buscando. Sin embargo, en la mayoría de los casos es simplemente un paso intermedio dentro de una solución más compleja.\n",
    "\n",
    "La exploración del problema puede ser hecha a mano o de manera computacional. En las siguientes secciones veremos algunos ejemplos de esto en acción."
   ]
  },
  {
   "cell_type": "markdown",
   "metadata": {},
   "source": [
    "## Fibonaccis y residuos que dejan"
   ]
  },
  {
   "cell_type": "markdown",
   "metadata": {},
   "source": [
    "Consideremos el siguiente problema."
   ]
  },
  {
   "cell_type": "markdown",
   "metadata": {},
   "source": [
    "**Problema.** La sucesión de Fibonacci está definida como sigue. Se tiene que $F_0=0$, $F_1=1$ y para $n\\geq 0$ se tiene que $F_{n+2}=F_n+F_{n+1}$. Así, los primeros números de la sucesión de Fibonacci son: $$0,1,1,2,3,5,8,13,21,\\ldots$$\n",
    "\n",
    "- Encuentra para cuántos enteros $n$ en $\\{0,1,2,\\ldots,100\\}$ se cumple que $F_n$ es un múltiplo de $3$.\n",
    "- Encuentra para cuántos enteros $n$ en $\\{0,1,2,\\ldots,1000\\}$ se cumple que $F_n$ es un múltiplo de $5$."
   ]
  },
  {
   "cell_type": "markdown",
   "metadata": {},
   "source": [
    "*Solución.* Comencemos con el primer inciso. Lo que podríamos hacer es comenzar a escribir a mano algunos números de Fibonacci y ver si encontramos algún patrón evidente.\n",
    "\n",
    "Hasta aquí, parece ser que los números de Fibonacci que son múltiplos de $3$ son $F_0$ y $F_4$. Esto es muy poca evidencia para hacer una conjetura decente. Hagamos más casos.\n",
    "\n",
    "En vez de realizar esta labor a mano, podemos pedirle a Python que haga muchos casos más. El siguiente código muestra los primeros 15 números de Fibonacci y nos dice cuál es su residuo al dividirse entre $3$."
   ]
  },
  {
   "cell_type": "code",
   "execution_count": 8,
   "metadata": {
    "ExecuteTime": {
     "end_time": "2021-08-31T21:08:23.610029Z",
     "start_time": "2021-08-31T21:08:23.598062Z"
    }
   },
   "outputs": [
    {
     "name": "stdout",
     "output_type": "stream",
     "text": [
      "Para 0 el Fibonacci es 0 y deja residuo 0 al dividirse entre 3\n",
      "Para 1 el Fibonacci es 1 y deja residuo 1 al dividirse entre 3\n",
      "Para 2 el Fibonacci es 1 y deja residuo 1 al dividirse entre 3\n",
      "Para 3 el Fibonacci es 2 y deja residuo 2 al dividirse entre 3\n",
      "Para 4 el Fibonacci es 3 y deja residuo 0 al dividirse entre 3\n",
      "Para 5 el Fibonacci es 5 y deja residuo 2 al dividirse entre 3\n",
      "Para 6 el Fibonacci es 8 y deja residuo 2 al dividirse entre 3\n",
      "Para 7 el Fibonacci es 13 y deja residuo 1 al dividirse entre 3\n",
      "Para 8 el Fibonacci es 21 y deja residuo 0 al dividirse entre 3\n",
      "Para 9 el Fibonacci es 34 y deja residuo 1 al dividirse entre 3\n",
      "Para 10 el Fibonacci es 55 y deja residuo 1 al dividirse entre 3\n",
      "Para 11 el Fibonacci es 89 y deja residuo 2 al dividirse entre 3\n",
      "Para 12 el Fibonacci es 144 y deja residuo 0 al dividirse entre 3\n",
      "Para 13 el Fibonacci es 233 y deja residuo 2 al dividirse entre 3\n",
      "Para 14 el Fibonacci es 377 y deja residuo 2 al dividirse entre 3\n"
     ]
    }
   ],
   "source": [
    "a=0\n",
    "b=1\n",
    "for j in range(15):\n",
    "    print(\"Para {} el Fibonacci es {} y deja residuo {} al dividirse entre 3\".format(j,a,a%3))\n",
    "    a,b=b,a+b"
   ]
  },
  {
   "cell_type": "markdown",
   "metadata": {},
   "source": [
    "Aquí parece ser mucho más claro cuándo un número de Fibonacci es múltiplo de $3$. De acuerdo a lo anterior, los números de Fibonacci que son múltiplos de $3$ son $F_0$, $F_4$, $F_8$ y $F_{12}$, de donde ahora tenemos más evidencia para conjeturar lo siguiente.\n",
    "\n",
    "**Conjetura.** El Fibonacci $F_n$ es múltiplo de $3$ si y sólo si $n$ es múltiplo de $4$.\n",
    "\n",
    "De hecho, la exploración nos permite hacer una conjetura mucho más fuerte que nos dice qué residuos van dejando los números de Fibonacci al dividirse entre $3$.\n",
    "\n",
    "**Conjetura.** Los residuos de la sucesión de Fibonacci al dividir entre $3$ se ciclan, con un ciclo de periodo $8$ que es $0,1,1,2,0,2,2,1$.\n",
    "\n",
    "Podemos usar esta conjetura para sospechar cuál es la respuesta al problema: hay $26$ enteros $n$ en el conjunto $\\{0,1,2,\\ldots,100\\}$ tales que $F_n$ es múltiplo de $4$, a saber, cada uno de los múltiplos de $4$ en ese conjunto.\n",
    "\n",
    "Por supuesto, para estar totalmente seguros de esta respuesta tendríamos que verificar que en efecto el patrón se cumple. Más adelante, cuando repasemos el principio de inducción, retomaremos este problema y daremos una demostración formal de que los residuos se ciclan así.\n",
    "\n",
    "La segunda parte del problema queda para que tú realices una conjetura.\n",
    "\n",
    "<div style=\"text-align: right\"> $\\square$ </div>"
   ]
  },
  {
   "cell_type": "markdown",
   "metadata": {},
   "source": [
    "## Suma por renglones en el triángulo de Pascal\n",
    "\n",
    "A continuación se muestran los primeros renglones del triángulo de Pascal.\n",
    "\n",
    "|   |   |   |   |    |   |    |   |   |   |   |   |\n",
    "|---|---|---|---|----|---|----|---|---|---|---|---|\n",
    "|   |   |   |   |    | 1 |    |   |   |   |   |   |\n",
    "|   |   |   |   | 1  |   | 1  |   |   |   |   |   |\n",
    "|   |   |   | 1 |    | 2 |    | 1 |   |   |   |   |\n",
    "|   |   | 1 |   | 3  |   | 3  |   | 1 |   |   |   |\n",
    "|   | 1 |   | 4 |    | 6 |    | 4 |   | 1 |   |   |\n",
    "| 1 |   | 5 |   | 10 |   | 10 |   | 5 |   | 1 |   |\n",
    "\n",
    "El triángulo de Pascal está construido como sigue. Al inicio, se coloca un uno hasta arriba. Luego, se van agregando renglones, cada vez con un número más que el renglón anterior, con las siguientes reglas:\n",
    "\n",
    "- Si la posición está en los extremos, el número que se agrega es $1$.\n",
    "- Si la posición es intermedia, entonces es la suma de los dos números que tenga arriba.\n",
    "\n",
    "Así, por ejemplo, nota que $10$ es la suma de los dos números que tiene arriba, es decir $10=4+6$. A partir de estas nociones básicas, podemos hacernos una pregunta con respecto a la suma de los elementos de cada renglón.\n",
    "\n",
    "**Pregunta.** ¿Cuál es el primer renglón del triángulo de Pascal en el cual la suma de todos sus elementos es mayor o igual a un millón?\n",
    "\n",
    "*Solución.* El problema nos invita a explorar cómo es la suma de los elementos en cada uno de los renglones del triángulo de Pascal. Coloquemos dicha suma hasta la derecha de cada renglón. Por ejemplo, como en el cuarto renglón la suma de los elementos es $1+3+3+1=8$, en la siguiente figura hemos puesto a $8$ hasta la derecha, en negritas.\n",
    "\n",
    "|   |   |   |   |    |   |    |   |   |   |   |        |\n",
    "|---|---|---|---|----|---|----|---|---|---|---|--------|\n",
    "|   |   |   |   |    | 1 |    |   |   |   |   | **1**  |\n",
    "|   |   |   |   | 1  |   | 1  |   |   |   |   | **2**  |\n",
    "|   |   |   | 1 |    | 2 |    | 1 |   |   |   | **4**  |\n",
    "|   |   | 1 |   | 3  |   | 3  |   | 1 |   |   | **8**  |\n",
    "|   | 1 |   | 4 |    | 6 |    | 4 |   | 1 |   | **16** |\n",
    "| 1 |   | 5 |   | 10 |   | 10 |   | 5 |   | 1 | **32** |\n",
    "\n",
    "Aquí hay un patrón evidente (¿cuál?). Si quisiéremos obtener más evidencia de que este patrón sigue, podríamos pedirle a Python que hiciera más renglones del triángulo de Pascal, por ejemplo, que haga los primeros $11$ renglones.\n"
   ]
  },
  {
   "cell_type": "code",
   "execution_count": 16,
   "metadata": {
    "ExecuteTime": {
     "end_time": "2021-08-31T22:18:01.820667Z",
     "start_time": "2021-08-31T22:18:01.798020Z"
    },
    "scrolled": true
   },
   "outputs": [
    {
     "name": "stdout",
     "output_type": "stream",
     "text": [
      "[1]\n",
      "[1, 1]\n",
      "El renglón [1, 2, 1] tiene suma 4\n",
      "El renglón [1, 3, 3, 1] tiene suma 8\n",
      "El renglón [1, 4, 6, 4, 1] tiene suma 16\n",
      "El renglón [1, 5, 10, 10, 5, 1] tiene suma 32\n",
      "El renglón [1, 6, 15, 20, 15, 6, 1] tiene suma 64\n",
      "El renglón [1, 7, 21, 35, 35, 21, 7, 1] tiene suma 128\n",
      "El renglón [1, 8, 28, 56, 70, 56, 28, 8, 1] tiene suma 256\n",
      "El renglón [1, 9, 36, 84, 126, 126, 84, 36, 9, 1] tiene suma 512\n",
      "El renglón [1, 10, 45, 120, 210, 252, 210, 120, 45, 10, 1] tiene suma 1024\n",
      "El renglón [1, 11, 55, 165, 330, 462, 462, 330, 165, 55, 11, 1] tiene suma 2048\n"
     ]
    }
   ],
   "source": [
    "print([1])\n",
    "renglon=[1,1]\n",
    "print(renglon)\n",
    "for j in range(10):\n",
    "    new_renglon=[1]\n",
    "    for j in range(len(renglon)-1):\n",
    "        new_renglon.append(renglon[j]+renglon[j+1])\n",
    "    new_renglon.append(1)\n",
    "    renglon=new_renglon\n",
    "    print(\"El renglón {} tiene suma {}\".format(renglon,sum(renglon)))"
   ]
  },
  {
   "cell_type": "markdown",
   "metadata": {},
   "source": [
    "Con esto podemos realizar una conjetura. Para que nuestra conjetura quede un poco más simple, pensemos en que el renglón de hasta arriba es el renglón $0$, el siguiente es el renglón $1$ y así sucesivamente.\n",
    "\n",
    "**Conjetura.** La suma de los números en el renglón $n$ del triángulo de Pascal es $2^n$.\n",
    "\n",
    "Más adelante, cuando hablemos de doble conteo, tendremos más herramientas para demostrar esto. Sin embargo, de momento tomémoslo como hecho y usémoslo para responder el problema. Si queremos que los números de un renglón excedan un millón,  entonces necesitamos que $2^n\\geq 1000000$. Aprovechemos que podemos usar Python aquí para saber cuándo sucede esto."
   ]
  },
  {
   "cell_type": "code",
   "execution_count": 17,
   "metadata": {
    "ExecuteTime": {
     "end_time": "2021-08-31T22:22:33.637118Z",
     "start_time": "2021-08-31T22:22:33.620191Z"
    }
   },
   "outputs": [
    {
     "name": "stdout",
     "output_type": "stream",
     "text": [
      "20\n"
     ]
    }
   ],
   "source": [
    "n=0\n",
    "while 2**n<1000000:\n",
    "    n+=1\n",
    "print(n)"
   ]
  },
  {
   "cell_type": "markdown",
   "metadata": {},
   "source": [
    "Así, la primera vez que $2^n$ excede un millón (y por lo tanto la respuesta a nuestro problema) es con $n=20$.\n",
    "<div style=\"text-align: right\"> $\\square$ </div>\n",
    "\n",
    "Hasta el final de la solución pudimos haber simplemente copiado el código anterior para que Python hiciera la suma. Esto no sería ningún problema, y lo haría muy rápido. Sin embargo, de manera intuitiva deberías de convencerte de que con el código anterior se estarían haciendo muchas más operaciones. La ventaja de haber hecho una conjetura es que ahora podemos poner a Python a hacer muchas menos operaciones.\n"
   ]
  },
  {
   "cell_type": "markdown",
   "metadata": {},
   "source": [
    "## Triángulo de Pascal con saltos de tres en tres"
   ]
  },
  {
   "cell_type": "markdown",
   "metadata": {},
   "source": [
    "En los problemas anteriores el patrón que debemos encontrar sale muy rápido. Esto no necesariamente será el caso cuando tengamos problemas más complicados. Veamos un problema en el que la exploración y los patrones que debemos encontrar son mucho más elaborados.\n",
    "\n",
    "**Problema.** ¿Cuánto suman los elementos del renglón $100$ del triángulo de Pascal si los sumamos comenzando con el primero y saltando de tres en tres?\n",
    "\n",
    "El problema sugiere ver en cada renglón cuánto suman los elementos si saltamos de tres en tres. Es decir, para los primeros renglones del triángulo de Pascal la siguiente figura muestra en negritas los números que tendríamos que sumar en cada renglón.\n",
    "\n",
    "|   |   |   |   |    |   |    |   |   |   |   |   |\n",
    "|---|---|---|---|----|---|----|---|---|---|---|---|\n",
    "|   |   |   |   |    | **1** |    |   |   |   |   |   |\n",
    "|   |   |   |   | **1**  |   | 1  |   |   |   |   |   |\n",
    "|   |   |   | **1** |    | 2 |    | 1 |   |   |   |   |\n",
    "|   |   | **1** |   | 3  |   | 3  |   | **1** |   |   |   |\n",
    "|   | **1** |   | 4 |    | 6 |    | **4** |   | 1 |   |   |\n",
    "| **1** |   | 5 |   | 10 |   | **10** |   | 5 |   | 1 |   |\n",
    "\n",
    "Específicamente, queremos ver qué sucede en el renglón $100$.\n",
    "\n",
    "*Solución.* Si comenzamos a explorar el problema de manera directa, es muy probable que no encontremos un patrón de manera inmediata para la suma de los elementos que nos interesan. Llamando $A_n$ a la suma de los elementos del renglón $n$ saltando de $3$ en $3$ número que nos interesa, hasta el momento tenemos la siguiente tabla:\n",
    "\n",
    "| Valor de $n$ | Valor de $A_n$ |\n",
    "|-----|-------|\n",
    "| 0   | 1     |\n",
    "| 1   | 1     |\n",
    "| 2   | 1     |\n",
    "| 3   | 2     |\n",
    "| 4   | 5     |\n",
    "| 5   | 11    |\n",
    "\n",
    "Aquí no hay nada obvio sucediendo. ¿Qué sucede si le pedimos a Python que obtenga más valores?"
   ]
  },
  {
   "cell_type": "code",
   "execution_count": 24,
   "metadata": {
    "ExecuteTime": {
     "end_time": "2021-08-31T22:33:32.022629Z",
     "start_time": "2021-08-31T22:33:32.012685Z"
    }
   },
   "outputs": [
    {
     "name": "stdout",
     "output_type": "stream",
     "text": [
      "[1]\n",
      "[1, 1]\n",
      "En el renglón 1 la suma que nos interesa es 1\n",
      "En el renglón 2 la suma que nos interesa es 2\n",
      "En el renglón 3 la suma que nos interesa es 5\n",
      "En el renglón 4 la suma que nos interesa es 11\n",
      "En el renglón 5 la suma que nos interesa es 22\n",
      "En el renglón 6 la suma que nos interesa es 43\n",
      "En el renglón 7 la suma que nos interesa es 85\n",
      "En el renglón 8 la suma que nos interesa es 170\n",
      "En el renglón 9 la suma que nos interesa es 341\n",
      "En el renglón 10 la suma que nos interesa es 683\n",
      "En el renglón 11 la suma que nos interesa es 1366\n",
      "En el renglón 12 la suma que nos interesa es 2731\n",
      "En el renglón 13 la suma que nos interesa es 5461\n",
      "En el renglón 14 la suma que nos interesa es 10922\n",
      "En el renglón 15 la suma que nos interesa es 21845\n"
     ]
    }
   ],
   "source": [
    "print([1])\n",
    "renglon=[1,1]\n",
    "print(renglon)\n",
    "for j in range(15):\n",
    "    new_renglon=[1]\n",
    "    for j in range(len(renglon)-1):\n",
    "        new_renglon.append(renglon[j]+renglon[j+1])\n",
    "    new_renglon.append(1)\n",
    "    renglon=new_renglon\n",
    "    mult_3=renglon[0::3]\n",
    "    print(\"En el renglón {} la suma que nos interesa es {}\".format(j+1,sum(mult_3)))"
   ]
  },
  {
   "cell_type": "markdown",
   "metadata": {},
   "source": [
    "Tampoco hay nada muy obvio sucediendo. En ocasiones algunos problemas son así. No basta con explorar lo que nos están pidiendo, sino que además debemos explorar otros elementos del problema que estén relacionados con la pregunta que nos están haciendo. Para este problema la clave es ver qué sucede no sólo con las sumas que nos interesan, sino también con aquellas cuando empezamos desfasados en $1$ o en $2$ elementos.\n",
    "\n",
    "Así, tomemos $B_n$ como la suma de los elementos del renglón $n$ saltando de $3$ en $3$, pero comenzando en $1$. La siguiente figura muestra qué números estamos sumando.\n",
    "\n",
    "|   |   |   |   |    |   |    |   |   |   |   |   |\n",
    "|---|---|---|---|----|---|----|---|---|---|---|---|\n",
    "|   |   |   |   |    | 1 |    |   |   |   |   |   |\n",
    "|   |   |   |   | 1  |   | **1**  |   |   |   |   |   |\n",
    "|   |   |   | 1 |    | **2** |    | 1 |   |   |   |   |\n",
    "|   |   | 1 |   | **3**  |   | 3  |   | 1 |   |   |   |\n",
    "|   | 1 |   | **4** |    | 6 |    | 4 |   | **1** |   |   |\n",
    "| 1 |   | **5** |   | 10 |   | 10 |   | **5** |   | 1 |   |\n",
    "\n",
    "Y tomemos $C_n$ como la suma de los elementos del renglón $n$ saltando de $3$ en $3$, pero comenzando en $2$. La siguiente figura muestra qué números estamos sumando.\n",
    "\n",
    "|   |   |   |   |    |   |    |   |   |   |   |   |\n",
    "|---|---|---|---|----|---|----|---|---|---|---|---|\n",
    "|   |   |   |   |    | 1 |    |   |   |   |   |   |\n",
    "|   |   |   |   | 1  |   | 1  |   |   |   |   |   |\n",
    "|   |   |   | 1 |    | 2 |    | **1** |   |   |   |   |\n",
    "|   |   | 1 |   | 3  |   | **3**  |   | 1 |   |   |   |\n",
    "|   | 1 |   | 4 |    | **6** |    | 4 |   | 1 |   |   |\n",
    "| 1 |   | 5 |   | **10** |   | 10 |   | 5 |   | **1** |   |\n",
    "\n",
    "Ahora sí, exploremos conjuntamente a los valores de $A_n$, $B_n$ y $C_n$. En la siguiente tabla puedes ver los valores para $n$, $A_n$, $B_n$ y $C_n$.\n",
    "\n",
    "| Valor de $n$ | Valor de $A_n$ | Valor de $B_n$ | Valor de $C_n$ |\n",
    "|--------------|----------------|----------------|----------------|\n",
    "| 0            | 1              | 0              | 0              |\n",
    "| 1            | 1              | 1              | 0              |\n",
    "| 2            | 1              | 2              | 1              |\n",
    "| 3            | 2              | 3              | 3              |\n",
    "| 4            | 5              | 5              | 6              |\n",
    "| 5            | 11             | 10             | 10             |\n",
    "\n",
    "¡Aquí hay cosas mucho más interesantes sucediendo! De entrada, podemos conjeturar todo lo siguiente:\n",
    "\n",
    "- Para cada $n$, dos de los valores $A_n$, $B_n$ y $C_n$ son iguales y el tercero es distinto sólo en una unidad. Alternadamente, el distinto es mayor y menor.\n",
    "- Ciclicamente el disinto es $A_n$, luego $C_n$, luego $B_n$.\n",
    "- La suma de $A_n$ con $B_n$ es $B_{n+1}$.\n",
    "- La suma de $B_n$ con $C_n$ es $C_{n+1}$.\n",
    "- La suma de $C_n$ con $A_n$ es $A_{n+1}$.\n",
    "\n",
    "Una vez más, dejaremos pendiente la demostración de estas conjeturas (todas ellas ciertas) y las usaremos sin demostración. Lo que sugieren es que para cuando $n=100$, se tiene que el número distinto a los otros dos es $C_{100}$ y que es una unidad más grande que $A_{100}$ y $B_{100}$. Pero además por el problema anterior sabemos algo crucial de $A_{100}$, $B_{100}$ y $C_{100}$: su suma es $2^{100}$. De esta manera, si $A_{100}=x$, entonces $B_{100}=x$ y $C_{100}=x+1$ y por lo tanto\n",
    "\n",
    "$$3x+1=2^{100},$$\n",
    "\n",
    "de donde obtenemos el valor $A_{100}=x=\\frac{2^{100}-1}{3}$ que buscábamos.\n",
    "\n",
    "<div style=\"text-align: right\"> $\\square$ </div>"
   ]
  },
  {
   "cell_type": "markdown",
   "metadata": {},
   "source": [
    "## Tarea moral"
   ]
  },
  {
   "cell_type": "markdown",
   "metadata": {},
   "source": [
    "Los siguientes problemas te ayudarán a practicar lo visto en esta entrada. Para resolverlos, necesitarás usar herramientas matemáticas, computacionales o ambas."
   ]
  },
  {
   "cell_type": "markdown",
   "metadata": {},
   "source": [
    "1. Si se dibuja una recta en el plano, entonces queda dividido en dos regiones. Si se dibujan dos rectas (no paralelas), queda dividido en cuatro. Si de dibujan tres rectas (sin paralelas ni tripes intersecciones), queda dividido en siete. ¿Qué sucede con cuatro rectas? ¿Cuántas regiones nuevas se hacen? ¿Y si son en total $10$ rectas? ¿Si son $10000$?\n",
    "2. Considera la sucesión $a_n$ definida como sigue. El valor de $a_0$ es $0$, el de $a_1$ es $1$, el de $a_2$ es $2$ y para $n\\geq 0$ se cumple que $a_{n+3}=a_{n+2}-a_{n+1}+a_n$. ¿Sucederá en algún momento que $a_n$ exceda $100$? ¿Qué sucede si cambiamos los números iniciales a $a_0=3$, $a_1=5$ y $a_2=9$?\n",
    "3. Hay otra cosa interesante que sucede con el triángulo de Pascal. En vez de sumar por renglones, podemos sumar por *diagonales*. Una diagonal del triángulo de Pascal consiste en comenzar con el primer número de un renglón, luego el segundo del renglón de arriba, luego el tercero del renglón de arriba y así sucesivamente hasta que ya no podamos sumar más.\n",
    "\n",
    " Un ejemplo de diagonal es el siguiente:\n",
    "\n",
    "|   |   |   |   |    |   |    |   |   |   |   |   |\n",
    "|---|---|---|---|----|---|----|---|---|---|---|---|\n",
    "|   |   |   |   |    | 1 |    |   |   |   |   |   |\n",
    "|   |   |   |   | 1  |   | **1**  |   |   |   |   |   |\n",
    "|   |   |   | **1** |    | 2 |    | 1 |   |   |   |   |\n",
    "|   |   | 1 |   | 3  |   | 3  |   | 1 |   |   |   |\n",
    "|   | 1 |   | 4 |    | 6 |    | 4 |   | 1 |   |   |\n",
    "| 1 |   | 5 |   | 10 |   | 10 |   | 5 |   | 1 |   |\n",
    "\n",
    " Si sumamos en esta diagonal, da $2$.\n",
    "\n",
    " Aquí hay otro ejemplo de una diagonal:\n",
    "\n",
    "|   |   |   |   |    |   |    |   |   |   |   |   |\n",
    "|---|---|---|---|----|---|----|---|---|---|---|---|\n",
    "|   |   |   |   |    | 1 |    |   |   |   |   |   |\n",
    "|   |   |   |   | 1  |   | 1  |   |   |   |   |   |\n",
    "|   |   |   | 1 |    | 2 |    | 1 |   |   |   |   |\n",
    "|   |   | 1 |   | 3  |   | **3**  |   | 1 |   |   |   |\n",
    "|   | 1 |   | **4** |    | 6 |    | 4 |   | 1 |   |   |\n",
    "| **1** |   | 5 |   | 10 |   | 10 |   | 5 |   | 1 |   |\n",
    "\n",
    " Si sumamos en esta diagonal, da $8$.\n",
    "\n",
    " ¿Cuánto suman las entradas de la diagonal que comienza en el renglón $n$?\n",
    "\n",
    "4. En el último problema de la entrada pudimos simplemente haberle pedido a Python de manera computacional que encontrara el valor buscado. Haz esto y verifica que coincide con la fórmula que encontramos. ¿Qué ventaja tiene entonces haber encontrado una fórmula?\n",
    "5. ¿Será cierto que para cualquier entero $k$ la sucesión de Fibonacci tiene una infinidad de múltiplos de $k$?"
   ]
  }
 ],
 "metadata": {
  "kernelspec": {
   "display_name": "Python 3",
   "language": "python",
   "name": "python3"
  },
  "language_info": {
   "codemirror_mode": {
    "name": "ipython",
    "version": 3
   },
   "file_extension": ".py",
   "mimetype": "text/x-python",
   "name": "python",
   "nbconvert_exporter": "python",
   "pygments_lexer": "ipython3",
   "version": "3.8.5"
  },
  "latex_envs": {
   "LaTeX_envs_menu_present": true,
   "autoclose": false,
   "autocomplete": false,
   "bibliofile": "biblio.bib",
   "cite_by": "apalike",
   "current_citInitial": 1,
   "eqLabelWithNumbers": true,
   "eqNumInitial": 1,
   "hotkeys": {
    "equation": "Ctrl-E",
    "itemize": "Ctrl-I"
   },
   "labels_anchors": false,
   "latex_user_defs": false,
   "report_style_numbering": false,
   "user_envs_cfg": false
  }
 },
 "nbformat": 4,
 "nbformat_minor": 4
}
