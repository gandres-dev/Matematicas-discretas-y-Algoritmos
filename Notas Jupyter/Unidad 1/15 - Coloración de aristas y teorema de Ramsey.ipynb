{
 "cells": [
  {
   "cell_type": "markdown",
   "metadata": {},
   "source": [
    "# Coloración de aristas y teorema de Ramsey"
   ]
  },
  {
   "cell_type": "markdown",
   "metadata": {},
   "source": [
    "## Introducción "
   ]
  },
  {
   "cell_type": "markdown",
   "metadata": {},
   "source": [
    "## Coloraciones de aristas"
   ]
  },
  {
   "cell_type": "markdown",
   "metadata": {},
   "source": [
    "**Definición.** Una **coloración con $k$ colores** de las aristas de una gráfica con conjunto de aristas $E$ es una función $f:E\\to \\{1,2,\\ldots,k\\}$.\n",
    "\n",
    "Usualmente, cuando estamos trabajando de manera informal, en vez de usar los números de $1$ a $k$ hacemos dibujos con colores. A una coloración con $k$ colores también se le conoce como una $k$-coloración.\n",
    "\n",
    "**Ejemplo.** En la siguiente gráfica se muestra una $4$-coloración de las aristas.\n",
    "\n",
    "![title](img/col-aristas.svg)\n",
    "\n",
    "<div style='text-align:right;'>$\\square$</div>\n",
    "\n",
    "**Definición.** Una coloración de las aristas de una gráfica es **propia** si no hay dos aristas del mismo color que lleguen al mismo vértice.\n",
    "\n",
    "**Ejemplo.** Notemos que la coloración del ejemplo anterior no es propia pues en el vértice superior izquierdo llegan dos aristas rojas.\n",
    "\n",
    "La siguiente coloración sí es propia pues se puede verificar que a todos los vértices llegan aristas de color distinto.\n",
    "\n",
    "![title](img/col-ar-propia.svg)\n",
    "\n",
    "<div style='text-align:right;'>$\\square$</div>"
   ]
  },
  {
   "cell_type": "markdown",
   "metadata": {},
   "source": [
    "Si tenemos muchos muchos colores a nuestra disposición, entonces parece ser fácil dar una coloración propia. Lo difícil es encontrar coloraciones propias con poquitos colores. Esto motiva la siguiente definición.\n",
    "\n",
    "**Definición.** El **índice cromático** de una gráfica $G$ es el menor entero $k$ tal que $G$ tiene una $k$-coloración propia. Usualmente lo denotamos por $\\chi'(G)$.\n",
    "\n",
    "**Ejemplo.** Una forma de colorear de manera propia la gráfica de los ejemplos anteriores es la siguiente:\n",
    "\n",
    "![title](img/col-ar-propia-muchos.svg)\n",
    "\n",
    "Sin embargo, esta forma de colorear requiere de muchos colores. Una forma con menos colores es la que ya habíamos visto.\n",
    "\n",
    "![title](img/col-ar-propia.svg)\n",
    "\n",
    "Esta coloración con $4$ colores nos dice que el índice cromático es menor o igual a $4$. Necesitaríamos un argumento para ver que no se puede con menos colores para concluir que el índice cromático es $4$. El argumento es el siguiente. Al vértice marcado con rojo en la siguiente figura llegan $4$ aristas, que tienen que ser todas de colores diferentes y por lo tanto se necesitan al menos $4$ colores.\n",
    "\n",
    "![title](img/col-ar-cota-min.svg)\n",
    "\n",
    "<div style='text-align:right;'>$\\square$</div>\n",
    "\n",
    "\n",
    "\n",
    "El ejemplo anterior nos da una idea para una cota inferior general para el índice cromático.\n",
    "\n",
    "**Proposición.** Para toda gráfica $G$, se tiene que $$\\chi'(G)\\geq \\Delta(G).$$\n",
    "\n",
    "Un resultado sorprendente de Vizing es el siguiente\n",
    "\n",
    "**Teorema (de Vizing).** El índice cromático de una gráfica $G$ es o bien $\\Delta(G)$ o bien $\\Delta(G)+1$."
   ]
  },
  {
   "cell_type": "markdown",
   "metadata": {},
   "source": [
    "## Ramsey (3,3)\n",
    "\n",
    "**Proposición.** Cualquier $2$-coloración de las aristas de una gráfica completa de $6$ vértices siempre tiene un triángulo monocromático.\n",
    "\n",
    "Es decir, siempre aparece un triángulo hecho por vértices de la gráfica en donde todas sus aristas son del mismo color, por ejemplo, en la siguiente forma de colorear se hace un triángulo azul.\n",
    "\n",
    "![title](img/ram-3-3.svg)\n",
    "\n",
    "*Demostración.* Pensemos que estamos coloreando las aristas con rojo y azul. Tomemos un vértice $v$ de la gráfica cualquiera. Por principio de las casillas, al menos tres de las cinco aristas que salen de $v$ son del mismo color, sin perder generalidad, digamos rojo.\n",
    "\n",
    "Llamemos $x,y,z$ a los vértices a donde llegan tres aristas rojas desde $v$. Si alguna de las aristas $xy,yz,zx$ son rojas, entonces se hace ya sea el triángulo rojo $xyv$, el $yzv$ o el $zxv$ respectivamente. Si las tres son azules, se hace el triángulo azul $xyz$. Así, en cualquier caso tenemos un triángulo monocromático.\n",
    "\n",
    "<div style='text-align:right;'>$\\square$</div>\n",
    "\n",
    "¿Será este resultado óptimo en términos del número de vértices? Es decir, ¿con menos vértices podremos garantizar siempre la existencia de un triángulo? No siempre. Por ejemplo, con cuatro vértices hay coloraciones que no tienen triángulos como la siguiente:\n",
    "\n",
    "![title](img/ej-ramsey-4.svg)\n",
    "\n",
    "Así,\n",
    "- **Toda** coloración de la gráfica completa en $6$ vértices tiene un triángulo monocromático.\n",
    "- Existe al menos una coloración de la gráfica completa en $5$ vértices sin triángulo monocromático.\n",
    "\n",
    "¿Y qué pasa con $5$ vértices?\n",
    "\n",
    "\n",
    "\n"
   ]
  },
  {
   "cell_type": "markdown",
   "metadata": {},
   "source": [
    "## Ramsey (m,n)\n",
    "\n",
    "**Teorema (de Ramsey para dos colores).** Para cualesquiera dos enteros $m$ y $n$ existe un número $R:=R(m,n)$ tal si coloreamos las aristas de una gráfica completa con $R$ vértices siempre podemos encontrar:\n",
    "- O bien $m$ vértices tales que todas sus aristas son del primer color.\n",
    "- O bien $n$ vértices tales que todas sus aristas son del segundo color.\n",
    "\n",
    "¿Quién sería $R(4,3)$?"
   ]
  }
 ],
 "metadata": {
  "kernelspec": {
   "display_name": "Python 3",
   "language": "python",
   "name": "python3"
  },
  "language_info": {
   "codemirror_mode": {
    "name": "ipython",
    "version": 3
   },
   "file_extension": ".py",
   "mimetype": "text/x-python",
   "name": "python",
   "nbconvert_exporter": "python",
   "pygments_lexer": "ipython3",
   "version": "3.8.5"
  },
  "latex_envs": {
   "LaTeX_envs_menu_present": true,
   "autoclose": false,
   "autocomplete": false,
   "bibliofile": "biblio.bib",
   "cite_by": "apalike",
   "current_citInitial": 1,
   "eqLabelWithNumbers": true,
   "eqNumInitial": 1,
   "hotkeys": {
    "equation": "Ctrl-E",
    "itemize": "Ctrl-I"
   },
   "labels_anchors": false,
   "latex_user_defs": false,
   "report_style_numbering": false,
   "user_envs_cfg": false
  }
 },
 "nbformat": 4,
 "nbformat_minor": 4
}
