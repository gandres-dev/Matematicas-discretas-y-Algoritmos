{
 "cells": [
  {
   "cell_type": "markdown",
   "metadata": {},
   "source": [
    "# Conjuntos independientes y coloraciones de vértices\n",
    "\n",
    "**Matemáticas Discretas para Ciencias de Datos**\n",
    "\n",
    "Prof. Leonardo Ignacio Martínez Sandoval"
   ]
  },
  {
   "cell_type": "markdown",
   "metadata": {},
   "source": [
    "## Introducción"
   ]
  },
  {
   "cell_type": "markdown",
   "metadata": {},
   "source": [
    "## Conjuntos independientes"
   ]
  },
  {
   "cell_type": "markdown",
   "metadata": {},
   "source": [
    "**Definición.** Un conjunto de vértices de una gráfica $G$ es **independiente** si no hay aristas entre ellos.\n",
    "\n",
    "Uno de los problemas importantes a resolver para una gráfica es determinar cuál es el conjunto independiente con la mayor cantidad de vértices.\n",
    "\n",
    "**Definición.** El **número de independencia** de una gráfica $G$ es el tamaño de un conjunto independiente máximo.\n",
    "\n",
    "**Ejemplo.** (ver Xournal)\n",
    "\n",
    "**Problema.** ¿Cuál es el número de independencia de los ciclos con $n$ vértices?\n",
    "\n",
    "*Respuesta.* $\\left\\lfloor \\frac{n}{2} \\right \\rfloor$."
   ]
  },
  {
   "cell_type": "markdown",
   "metadata": {},
   "source": [
    "## Coloraciones"
   ]
  },
  {
   "cell_type": "markdown",
   "metadata": {},
   "source": [
    "**Definición.** Sea $G$ una gráfica y $V$ su conjunto de vértices. Una **coloración con $k$-colores** es una función $f:V\\to \\{1,2,3,\\ldots,k\\}$.\n",
    "\n",
    "Por ejemplo, la siguiente es una 3-coloración:\n",
    "\n",
    "![title](img/coloracion.svg)\n",
    "\n",
    "**Definición.** Una coloración de una gráfica es **propia** si no hay aristas entre vértices del mismo color.\n",
    "\n",
    "La coloración de la imagen anterior no es propia pues hay aristas entre vértices del mismo color. Sin embargo, a continuación se muestra una $3$-coloración propia de esa misma gráfica:\n",
    "\n",
    "![title](img/3-col-propia.svg)\n",
    "\n",
    "**Definición.** El **número cromático** de una gráfica $G$ es el menor $k$ tal que $G$ tiene una coloración propia. Se denota $\\chi(G)$.\n",
    "\n",
    "Por ejemplo, la gráfica de arriba tiene número cromático a lo más $3$ por la coloración que exhibimos, y no puede ser menor o igual a $2$ pues no es bipartita.\n",
    "\n",
    "**Obs.** \n",
    "\n",
    "- Una gráfica es bipartita si y sólo si su número cromático es menor o igual a $2$ y tiene al menos $2$ vértices.\n",
    "- Los vértices de un mismo color en una coloración propia forman un conjunto independiente.\n",
    "\n",
    "**Proposición.** Si $D$ es el grado máximo de una gráfica $G$, entonces $\\chi(G)\\leq D+1$.\n",
    "\n",
    "*Demostración.* Procedemos por inducción en el número de vértices de la gráfica. Si $G$ tiene un vértice, entonces el grado máximo de $G$ es $0$ y el número cromático es $1$ y entonces el resultado se cumple.\n",
    "\n",
    "Supongamos que el resultado se vale para cualquier gráfica con $n$ vértices y tomemos una gráfica con $n+1$ vértices y grado máximo $D$. Tomamos un vértice $v$ cualquiera con el grado máximo, y lo quitamos. La gráfica resultante tiene un vértice menos y su grado máximo es menor o igual a $D$. Por hipótesis inductiva, esta gráfica tiene una coloración propia con $D+1$ colores.\n",
    "\n",
    "Al regresar el vértice $v$ lo que tenemos que hacer es colorearlo. Pero el vértice $v$ tiene grado $D$. De este modo, de entre sus vecinos se utilizan como mucho $D$ colores. Así, como tenemos $D+1$ colores disponibles, hay uno que podemos usar sin crear aristas monocromáticas.\n",
    "\n",
    "<div style=\"text-align:right\">$\\square$</div>\n"
   ]
  },
  {
   "cell_type": "markdown",
   "metadata": {},
   "source": [
    "## Algunos comentarios adicionales"
   ]
  },
  {
   "cell_type": "markdown",
   "metadata": {},
   "source": [
    "- Ejemplos de dónde se pueden aplicar los conceptos anteriores.\n",
    "- Ambos problemas son muy difíciles en un sentido muy formal que veremos más adelante."
   ]
  }
 ],
 "metadata": {
  "kernelspec": {
   "display_name": "Python 3",
   "language": "python",
   "name": "python3"
  },
  "language_info": {
   "codemirror_mode": {
    "name": "ipython",
    "version": 3
   },
   "file_extension": ".py",
   "mimetype": "text/x-python",
   "name": "python",
   "nbconvert_exporter": "python",
   "pygments_lexer": "ipython3",
   "version": "3.8.5"
  },
  "latex_envs": {
   "LaTeX_envs_menu_present": true,
   "autoclose": false,
   "autocomplete": false,
   "bibliofile": "biblio.bib",
   "cite_by": "apalike",
   "current_citInitial": 1,
   "eqLabelWithNumbers": true,
   "eqNumInitial": 1,
   "hotkeys": {
    "equation": "Ctrl-E",
    "itemize": "Ctrl-I"
   },
   "labels_anchors": false,
   "latex_user_defs": false,
   "report_style_numbering": false,
   "user_envs_cfg": false
  }
 },
 "nbformat": 4,
 "nbformat_minor": 4
}
