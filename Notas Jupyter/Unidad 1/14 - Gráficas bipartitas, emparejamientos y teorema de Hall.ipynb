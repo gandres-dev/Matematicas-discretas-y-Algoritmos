{
 "cells": [
  {
   "cell_type": "markdown",
   "metadata": {},
   "source": [
    "# Gráficas bipartitas, emparejamientos y teorema de Hall\n",
    "\n",
    "**Matemáticas Discretas para Ciencias de Datos**\n",
    "\n",
    "Prof. Leonardo Ignacio Martínez Sandoval"
   ]
  },
  {
   "cell_type": "markdown",
   "metadata": {},
   "source": [
    "## Introducción"
   ]
  },
  {
   "cell_type": "markdown",
   "metadata": {},
   "source": [
    "## Gráficas bipartitas"
   ]
  },
  {
   "cell_type": "markdown",
   "metadata": {},
   "source": [
    "**Definición.** Una gráfica $G$ es **bipartita** si se puede dar una partición de su conjunto de vértices $V$ en dos conjuntos $A$ y $B$ tales que las aristas de $G$ únicamente conectan vértices de $A$ con vértices de $B$. En otras palabras, no existen aristas entre elementos de $A$, ni entre elementos de $B$.\n",
    "\n",
    "**Ejemplo.** Consideremos la siguiente gráfica.\n",
    "\n",
    "![title](img/ej-bipartita.svg)\n",
    "\n",
    "Esta es una gráfica bipartita. Demos una partición de sus vértices para mostrar esto. Para ello, pintaremos algunos de rojo y otros de azul. Lo que tenemos que lograr es que no haya aristas entre dos vértices rojos, ni aristas entre dos vértices azules. Una forma de hacer esto es la siguiente:\n",
    "\n",
    "![title](img/ej-bipartita-2.svg)\n",
    "\n",
    "<div style=\"text-align:right;\">$\\square$</div>\n",
    "\n",
    "**Ejemplo.** La siguiente gráfica es parecida a la anterior, sin embargo no es bipartita.\n",
    "\n",
    "![title](img/no-bipartita.svg)\n",
    "\n",
    "Para convencernos de que no lo es, podemos comenzar pintando algún vértice de rojo (por ejemplo, el de la esquina superior izquierda). Sus vecinos deben de ser azules. Los vecinos de sus vecinos rojos, y así sucesivamente. Sin importar dónde empecemos, siempre los colores están forzados y llegaremos a un problema, como en la siguiente figura, en donde el vértice gris ya no puede ser ni rojo ni azul.\n",
    "\n",
    "![title](img/no-bipartita-2.svg)\n",
    "\n",
    "<div style=\"text-align:right\">$\\square$</div>\n",
    "\n",
    "\n"
   ]
  },
  {
   "cell_type": "markdown",
   "metadata": {},
   "source": [
    "En el ejemplo anterior hay una forma sencilla de convencernos de que no será posible dar una partición de los vértices que muestre que la gráfica es bipartita. Consideremos los vértices marcados en negro en la siguiente figura:\n",
    "\n",
    "![title](img/ciclo-impar.svg)\n",
    "\n",
    "Estos vértices forman un ciclo de tamaño $7$. Si la gráfica fuera bipartita, podríamos colorear estos vértices de rojo y azul sin tener aristas entre vértices del mismo color. Pero esto es imposible: sobre el ciclo se tienen que alternar los colores y el ciclo tiene una cantidad impar de vértices, así que al final hay un conflicto.\n",
    "\n",
    "Este es el único tipo de problemas que pueden aparecer cuando estamos intentando ver si una gráfica es bipartita o no. Formalizamos esto mediante el siguiente resultado."
   ]
  },
  {
   "cell_type": "markdown",
   "metadata": {},
   "source": [
    "**Proposición.** Sea $G$ una gráfica con $n\\geq 2$ vértices. La gráfica $G$ es bipartita si y sólo si no hay dentro de ella ciclos de longitud impar.\n",
    "\n",
    "*Demostración.* Si $G$ tiene un ciclo de longitud impar, digamos $v_1,v_2,\\ldots,v_{2k+1}$, entonces es imposible que sea bipartita pues de serlo los vértices de dicho ciclo deberían estar en conjuntos diferentes de la partición de manera alternada. Pero entonces $v_1$ y $v_{2k+1}$ quedarían en el mismo conjunto y la arista $v_1v_{2k+1}$ nos daría una contradicción.\n",
    "\n",
    "Supongamos ahora que $G$ no tiene ciclos de longitud impar. Veremos que la gráfica es bipartita. Primero nos enfocaremos en cada una de las compontentes conexas de $G$.\n",
    "\n",
    "Tomemos una componente conexa $H$ de $G$. Esta componente tampoco tiene ciclos de longitud impar. Tomemos un vértice $v$ de $H$ y consideremos los siguientes conjuntos:\n",
    "\n",
    "\\begin{align*}\n",
    "A_H&=\\text{vértices a distancia par de $v$}\\\\\n",
    "B_H&=\\text{vértices a distancia impar de $v$}.\n",
    "\\end{align*}\n",
    "\n",
    "Como $H$ es compontente conexa, la distancia de cada vértice de $H$ a $v$ está bien definida y siempre es o par, o impar (pero no ambas). De esta manera, $A_H$ y $B_H$ tienen en conjunto a todos los vértices de $H$ y además $$A\\cap B = \\emptyset.$$ Afirmamos que además no hay aristas entre los vértices de $A_H$, ni entre los vértices de $B_H$.\n",
    "\n",
    "Si hubiera, por ejemplo, una arista entre vértices $w$ y $z$ de $A_H$, tendríamos un camino $C_1$ de longiud par de $v$ a $w$, luego la arista $wz$ y luego un camino $C_2$ de longitud par de $z$ a $v$. Al concatenar estos caminos, tendríamos un camino cerrado de longitud impar de $v$ a sí mismo. \n",
    "\n",
    "Se puede mostrar **(tarea moral)** que la existencia de un camino cerrado de longitud impar implica la existencia de un ciclo de longitud impar y esto daría una contradicción. De manera análoga, se ve que no hay aristas entre vértices de $B_H$.\n",
    "\n",
    "Consideremos ahora todos los conjuntos $A_H$ y $B_H$ (variando la componente conexa $H$) para construir los siguientes conjuntos:\n",
    "\n",
    "\\begin{align*}\n",
    "A&=\\bigcup_{\\text{$H$ c.c. de $G$}} A_H\\\\\n",
    "B&=\\bigcup_{\\text{$H$ c.c. de $G$}} B_H.\n",
    "\\end{align*}\n",
    "\n",
    "Todos los vértices de $G$ están en alguna compontente conexa (y sólo una) y por lo tanto en algún $A_H$ ó $B_H$ (y sólo uno). De este modo, $A\\cup B$ tiene todos los vértices de $G$ y $A\\cap B=\\emptyset$.\n",
    "\n",
    "Lo único que nos falta para ver que $A$ y $B$ son una partición es verificar que no son vacíos. Claramente $A$ no es vacío pues $G$ tiene al menos una componente conexa.\n",
    "\n",
    "Si alguna componente conexa tiene al menos dos vértices, entonces algún $B_H$ es no vacío y por lo tanto $B$ también sería no vacío.\n",
    "\n",
    "Así, la única forma en la que todos los $B_H$ sean vacíos es si todas las componentes conexas de $G$ son vértices aislados. En ese caso, como tenemos por lo menos dos vértices $u$ y $v$, hacemos una excepción y declaramos que uno de ellos esté en $A$, el otro en $B$ y los demás en cualquiera de los queramos.\n",
    "\n",
    "<div style=\"text-align:right\">$\\square$</div>"
   ]
  },
  {
   "cell_type": "markdown",
   "metadata": {},
   "source": [
    "Si una gráfica es bipartita, usualmente la representamos en dos columnas, una por cada conjunto de su partición de vértices. Así, queda algo como en el siguiente dibujo:\n",
    "\n",
    "![title](img/bip-columnas.svg)\n",
    "\n",
    "Tenemos una versión particular del \"lema de los saludos de Euler\" para el caso en el que una gráfica sea bipartita. \n",
    "\n",
    "**Proposición.** Sea $G$ una gráfica bipartita con $m$ aristas y partición de vértices $A$ y $B$. Se tiene que:\n",
    "\n",
    "$$\\sum_{v\\in A} \\text{deg}(v)=m=\\sum_{v\\in B} \\text{deg}(v).$$\n",
    "\n",
    "Por ejemplo, en la gráfica de arriba los grados de $A$ son $3, 3, 3, 2, 2$ y los de $B$ son $2, 4,3,1,2$ y en ambos casos su suma es $13$.\n",
    "\n",
    "*Demostración.* La clave es la igualdad con el número de aristas. Cada arista usa exactamente un vértice de $A$. Así, $\\sum_{v\\in A} \\text{deg}(v)$ debe ser $m$. Análogamente $\\sum_{v\\in B}\\text{deg}(v)$ también debe ser $m$.\n",
    "\n",
    "<div style=\"text-align:right\">$\\square$</div>\n",
    "\n",
    "\n",
    "\n"
   ]
  },
  {
   "cell_type": "markdown",
   "metadata": {},
   "source": [
    "## Emparejamientos"
   ]
  },
  {
   "cell_type": "markdown",
   "metadata": {},
   "source": [
    "**Definición.** Un emparejamiento en una gráfica $G$ es un subconjunto de sus aristas de modo que no haya dos de ellas que compartan vértices.\n",
    "\n",
    "**Ejemplo.** Las aristas marcadas en azul en la siguiente figura conforman un emparejamiento de la gráfica, pues estas aristas no comparten vértices.\n",
    "\n",
    "![title](img/emparejamiento.svg)\n",
    "\n",
    "<div style=\"text-align:right\">$\\square$</div>\n",
    "\n",
    "**Definición.** Un emparejamiento de una gráfica es **maximal** si no hay ninguna forma de extenderlo de modo que siga siendo emparejamiento. Es decir, es un emparejamiento que no es subconjunto propio de otro emparejamiento.\n",
    "\n",
    "**Definición.** Un emparejamiento de una gráfica es **máximo** si tiene la mayor cantidad de aristas de entre todos los emparejamientos posibles en la gráfica.\n",
    "\n",
    "Si un emparejamiento es máximo, en particular no puede ser subconjunto propio de otro emparejamiento. De este modo, los emparejamientos máximos son maximales. Pero el converso no es cierto.\n",
    "\n",
    "**Ejemplo.** El emparejamiento del ejemplo de arriba no es maximal pues comenzando con él todavía podemos añadir aristas. Una forma de hacerlo es la siguiente:\n",
    "\n",
    "![title](img/emp-maximal.svg)\n",
    "\n",
    "Este emparejamiento es maximal. Puedes verificar que es imposible agregar cualquier otra arista de modo que sigamos teniendo aristas que no compartan vértice. Sin embargo, este emparejamiento no es máximo, pues hay emparejamientos con más aristas, por ejemplo, el siguiente:\n",
    "\n",
    "![title](img/emp-maximo.svg)\n",
    "\n",
    "Aquí tenemos $5$ aristas. Una vez más, este emparejamiento es maximal, pues es imposible agregar más aristas. ¿Será un emparejamiento máximo? Necesitamos un argumento contundente para asegurar que ninguna otra forma de elegir aristas disjuntas nos da $6$ aristas o más.\n",
    "\n",
    "Un argumento que funciona en este ejemplo particular es el siguiente: si tuviéramos $6$ aristas disjuntas, necesitaríamos al menos $12$ vértices. Pero la gráfica sólo tiene $11$ vértices. Así, no hay emparejamientos con $6$ o más aristas.\n",
    "\n",
    "Este argumento muestra que el emparejamiento de arriba, además de ser máximo, también es maximal.\n",
    "\n",
    "<div style=\"text-align:right\">$\\square$</div>"
   ]
  },
  {
   "cell_type": "markdown",
   "metadata": {},
   "source": [
    "Las nociones de arriba nos ayudan a saber cuáles son los emparejamientos \"grandes\" en distintos sentidos. Otra forma de caracterizar a los emparejamientos es mediante los vértices a los que llegan.\n",
    "\n",
    "**Definición.** Sea $G$ una gráfica y $X$ un subconjunto de sus vértices. Un emparejamiento **cubre a $X$** o **satura a $X$** si sus aristas pasan por todos los vértices de $X$.\n",
    "\n",
    "**Ejemplo.** En la siguiente figura el emparejamiento de aristas azules cubre al subconjunto de vértices azules.\n",
    "\n",
    "![title](img/emp-cubre.svg)\n",
    "\n",
    "<div style=\"text-align:right\">$\\square$</div>\n",
    "\n",
    "Lo \"mejor\" que nos puede pasar en términos de emparejamientos es que pasen por todos los vértices de la gráfica. Por esta razón, le damos un nombre especial a éstos.\n",
    "\n",
    "**Definición.** Sea $G$ una gráfica. Un **emparejamiento perfecto** de $G$ es un emparejamiento que cubre a todos sus vértices.\n",
    "\n",
    "**Ejemplo.** El emparejamiento de arriba no es perfecto, pues hay vértices que no son cubiertos por él. De hecho, es imposible que haya un emparejamiento perfecto en esta gráfica pues tiene una cantidad impar de vértices.\n",
    "\n",
    "Sin embargo, a continuación mostramos una gráfica que sí tiene un emparejamiento perfecto.\n",
    "\n",
    "![title](img/emp-perfecto.svg)"
   ]
  },
  {
   "cell_type": "markdown",
   "metadata": {},
   "source": [
    "## Paréntesis de aplicaciones"
   ]
  },
  {
   "cell_type": "markdown",
   "metadata": {},
   "source": [
    "Una pregunta teórica que lleva a muchas aplicaciones es la siguiente: ¿cuándo hay un emparejamiento en una gráfica bipartita? Para entender un poco el tipo de aplicaciones, consideremos la siguiente gráfica:\n",
    "\n",
    "![title](img/bip-columnas.svg)\n",
    "\n",
    "De manera abstracta, aquí sólo tenemos vértices y aristas. Sin embargo, podría ser que esta gráfica venga de un contexto particular. Por ejemplo, del lado izquierdo podemos tener los miembros de un equipo de trabajo en ciencia de datos. Del lado derecho podemos tener una lista de actividades que pueden realizar. Y puede que una arista de una persona a una tarea signifique que \"sabe hacerla muy bien\".\n",
    "\n",
    "![title](img/bip-aplicacion.svg)\n",
    "\n",
    "Así, Abi sabe trabajar muy bien con bases de datos, construir variables y escribir código, Bob sabe trabajar muy bien con bases de datos, construir variables y hacer estadística, etc.\n",
    "\n",
    "Al encontrar un emparejamiento, podemos asignar a cada uno de ellos una tarea que sepan hacer muy bien de modo que no le toque más de una tarea a cada quien y de modo que ninguna tarea esté hecha por más de una persona.\n",
    "\n",
    "![title](img/emp-aplicacion.svg)\n",
    "\n",
    "Este emparejamiento es bastante bueno pues quedan 4 personas trabajando en 4 tareas. De hecho es un emparejamiento maximal. Sin embargo, sería ideal encontrar un emparejamiento con $5$ aristas. Este sería un emparejamiento perfecto y haría que todas las tareas y todas las personas quedaran cubiertas.\n",
    "\n",
    "Así como esta aplicación hay muchas más. El lado izquierdo pueden ser personas, el derecho potenciales empresas a donde pueden aplicar y una arista la intención de aplicar ahí. El lado izquierdo pueden ser perros por adoptar, el derecho personas y una arista que hay compatibilidad de adopción."
   ]
  },
  {
   "cell_type": "markdown",
   "metadata": {},
   "source": [
    "## Teorema de Hall"
   ]
  },
  {
   "cell_type": "markdown",
   "metadata": {},
   "source": [
    "Con esto en mente, ¿cuándo podemos encontrar buenos emparejamientos en gráficas bipartitas? El resultado clave es el teorema de Hall.\n",
    "\n",
    "Como preámbulo, tenemos el siguiente resultado, que nos da una condición necesaria \"obvia\" para que pueda existir un emparejamiento que cubra a todos los vértices de un lado de una gráfica bipartita.\n",
    "\n",
    "**Proposición.** Si una gráfica bipartita con partición de vértices en $A$ y $B$ tiene un emparejamiento que cubre a $A$, entonces para cualquier $X\\subseteq A$ se tiene que $$|X|\\leq |N(X)|.$$\n",
    "\n",
    "Recuerda que $N(X)$ es el conjunto de vértices que son vecinos de por lo menos un vértice en $X$. La demostración de esta proposición queda de tarea moral.\n",
    "\n",
    "Resulta que esta condición necesaria \"obvia\" también es una condición suficiente. Este es un resultado demostrado por Philip Hall, en 1935. A continuación presentamos una versión moderna.\n",
    "\n",
    "**Teorema (de Hall).** Sea $G$ una gráfica bipartita con partición de vértices en $A$ y $B$. Si para cualquier $X\\subseteq A$ se tiene que $$|X|\\leq |N(X)|,$$\n",
    "entonces $G$ tiene un emparejamiento que cubre a $A$.\n",
    "\n",
    "Hay varias formas de demostrar este resultado. A continuación damos una que combina ideas de contradicción y principio extremo.\n",
    "\n",
    "*Demostración.* Para buscar una contradicción, supongamos que bajo las hipótesis dadas la gráfica $G$ no tiene un emparejamiento que cubra a $A$. Tomemos un emparejamiento $M$ de $G$ que cubra a la mayor cantidad de vértices posibles de $A$. Hay por lo menos un vértice $v$ de $A$ que $M$ no cubre.\n",
    "\n",
    "Diremos que una trayectoria es **alternante** si comienza en $v$ y de manera alternante usa aristas fuera y dentro de $M$.\n",
    "\n",
    "Definimos los siguientes dos conjuntos:\n",
    "\n",
    "\\begin{align*}\n",
    "X&=\\{x \\in A:\\text{hay $vx$-trayectoria alternante\\}}, \\\\\n",
    "Y&=\\{y \\in B:\\text{hay $vy$-trayectoria alternante\\}}.\n",
    "\\end{align*}\n",
    "\n",
    "Notemos que $v\\in X$. Probaremos las siguientes dos afirmaciones:\n",
    "\n",
    "- El emparejamiento $M$ da una biyección $\\varphi: X\\setminus\\{v\\} \\to Y$ dada por $\\varphi(x)$ es el vértice de $Y$ conectado con $x$ en $M$.\n",
    "- Se tiene que $N(X)\\subseteq Y$.\n",
    "\n",
    "Para la primer afirmación:\n",
    "\n",
    "- La función $\\varphi$ está bien definida pues para llegar a un vértice de $X\\setminus \\{v\\}$ tiene que ser en una arista de la trayectoria \"de $B$ a $A$\" que corresponde a las aristas de $M$. Así, cada vértice en $X\\setminus \\{v\\}$ está conectado mediante $M$ con un elemento de $Y$.\n",
    "- La función $\\varphi$ es inyectiva pues $M$ es emparejamiento.\n",
    "- La función $\\varphi$ es suprayectiva pues de no serlo, tendríamos una trayectoria alternante a un vértice $y$ en $Y$ que no se puede continuar (no hay arista de $M$ en $y$). Pero en este caso el emparejamiento $M$ podría agrandarse quitando las aristas de esta trayectoria en $M$ y poniendo las que no estén en $M$. Esto sería una contradicción a la maximalidad de $M$.\n",
    "\n",
    "Para la segunda afirmación, tomemos un vecino $y$ de un vértice $x$ en $X$. Si $x=v$, claramente $y$ está en $Y$ pues $vy$ es una trayectoria alternante (de una arista). Si $x\\neq v$, tenemos dos casos. Si la arista $xy$ no está en $M$, entonces podemos tomar una trayectoria alternante hasta $x$ y alargarla con la arista $xy$ para llegar a $y$, obteniendo $y\\in Y$. Si la arista $xy$ está en $M$, entonces la trayectoria alternante que llega a $x$ pasa por $y$ y entonces $y\\in Y$.\n",
    "\n",
    "Usemos ambas afirmaciones para encontrar nuestra contradicción final. Tenemos la siguiente cadena de igualdades/desigualdades:\n",
    "\n",
    "$$|N(X)|\\leq |Y| = |X\\setminus \\{v\\}| < |X|.$$\n",
    "\n",
    "La primer desigualdad es por la segunda afirmación. La primer igualdad es por la biyección de la primer afirmación. La segunda desigualdad es por que $X$ tiene a $v$ y el otro conjunto no. Así, tenemos $|N(X)|<|X|$ y esto contradice las hipótesis del teorema.\n",
    "\n",
    "De esta manera, debe existir un emparejamiento que cubre a $A$.\n",
    "\n",
    "<div style=\"text-align:right\">$\\square$</div>\n",
    "\n",
    "\n",
    "\n",
    "\n",
    "\n",
    "\n",
    "\n",
    "**Corolario.** Sea $G$ una gráfica bipartita. Si para cualquier subconjunto de vértices $X$ se tiene que $$|X|\\leq |N(X)|,$$\n",
    "entonces $G$ tiene un emparejamiento perfecto."
   ]
  },
  {
   "cell_type": "markdown",
   "metadata": {},
   "source": [
    "## Tarea moral\n",
    "\n",
    "Los siguientes problemas te ayudarán a practicar lo visto en esta entrada. Para resolverlos, necesitarás usar herramientas matemáticas, computacionales o ambas.\n",
    "\n",
    "1. Encuentra todos los emparejamientos con cuatro aristas de la gráfica de la sección \"Emparejamientos\".\n",
    "2. Encuentra un emparejamiento perfecto en la gráfica de la sección \"Paréntesis de aplicaciones\"\n",
    "3. Muestra la proposición \"obvia\" de la sección \"Teorema de Hall\".\n",
    "4. Demuestra el corolario de la sección \"Teorema de Hall\".\n",
    "5. Sea $G$ una gráfica bipartita en donde los grados de todos los vértices son iguales a un mismo entero $r\\geq 1$.\n",
    "  - Demuestra que ambos lados de la partición en vértices tendrán la misma cantidad de vértices.\n",
    "  - Demuestra que la gráfica tiene un emparejamiento perfecto."
   ]
  },
  {
   "cell_type": "code",
   "execution_count": null,
   "metadata": {},
   "outputs": [],
   "source": []
  }
 ],
 "metadata": {
  "kernelspec": {
   "display_name": "Python 3",
   "language": "python",
   "name": "python3"
  },
  "language_info": {
   "codemirror_mode": {
    "name": "ipython",
    "version": 3
   },
   "file_extension": ".py",
   "mimetype": "text/x-python",
   "name": "python",
   "nbconvert_exporter": "python",
   "pygments_lexer": "ipython3",
   "version": "3.8.5"
  },
  "latex_envs": {
   "LaTeX_envs_menu_present": true,
   "autoclose": false,
   "autocomplete": false,
   "bibliofile": "biblio.bib",
   "cite_by": "apalike",
   "current_citInitial": 1,
   "eqLabelWithNumbers": true,
   "eqNumInitial": 1,
   "hotkeys": {
    "equation": "Ctrl-E",
    "itemize": "Ctrl-I"
   },
   "labels_anchors": false,
   "latex_user_defs": false,
   "report_style_numbering": false,
   "user_envs_cfg": false
  }
 },
 "nbformat": 4,
 "nbformat_minor": 4
}
