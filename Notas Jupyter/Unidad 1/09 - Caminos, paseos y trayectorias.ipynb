{
 "cells": [
  {
   "cell_type": "markdown",
   "metadata": {},
   "source": [
    "# Caminos, paseos y trayectoria\n",
    "\n",
    "**Matemáticas Discretas para Ciencias de Datos**\n",
    "\n",
    "Prof. Leonardo Ignacio Martínez Sandoval"
   ]
  },
  {
   "cell_type": "markdown",
   "metadata": {},
   "source": [
    "## Introducción"
   ]
  },
  {
   "cell_type": "markdown",
   "metadata": {},
   "source": [
    "## Sección 1"
   ]
  },
  {
   "cell_type": "markdown",
   "metadata": {},
   "source": [
    "## Sección 2"
   ]
  },
  {
   "cell_type": "markdown",
   "metadata": {},
   "source": [
    "## Sección 3"
   ]
  },
  {
   "cell_type": "markdown",
   "metadata": {},
   "source": [
    "## Tarea moral\n",
    "\n",
    "Los siguientes problemas te ayudarán a practicar lo visto en esta entrada. Para resolverlos, necesitarás usar herramientas matemáticas, computacionales o ambas.\n",
    "\n",
    "1. Problema\n",
    "2. Problema\n",
    "3. Problema\n",
    "4. Problema\n",
    "5. Problema"
   ]
  },
  {
   "cell_type": "markdown",
   "metadata": {},
   "source": [
    "# Caminos, paseos y trayectorias #\n",
    "\n",
    "**Definición.** Sea $G$ una gráfica. Un **camino** es una sucesión $v_1,e_1,v_2,e_2,\\ldots,e_{n-1},v_n$ en donde cada $v_i$ es un vértice, cada $e_i$ es una arista y además se cumple que para cada $i=1,\\ldots,n-1$ al lado de $e_i$ están los extremos de $e_i$.\n",
    "\n",
    "*Observación.* En realidad, para definir un camino basta decir por qué vértices se pasa, y en qué orden, cuidando que pasemos de un vértice a uno adyacente.\n",
    "\n",
    "**Definición.** Sea $G$ una gráfica. Un **paseo** es un camino $v_1,e_1,v_2,e_2,\\ldots,e_{n-1},v_n$ en donde todos los $e_i$'s son distintos.\n",
    "\n",
    "**Definición.** Sea $G$ una gráfica. Una **trayectoria** es un camino $v_1,e_1,v_2,e_2,\\ldots,e_{n-1},v_n$ en donde todos los $v_i$'s son distintos.\n",
    "\n",
    "**Proposición.** Toda trayectoria también es paseo.\n",
    "\n",
    "De manera informal, los caminos, paseos y trayectorias nos ayudan a saber \"cuándo se puede llegar de un vértice a otro\", ya sea sin restricciones, o con algunas restricciones.\n",
    "\n",
    "**Proposición.** Si existe un camino que comienza en un vértice $v_1$ y termina en un vértice $v_n\\neq v_1$, entonces existe una trayectoria que comienza en $v_1$ y termina en $v_n$.\n",
    "\n",
    "*Demostración.* Como existe un camino que comienza en $v_1$ y termina en $v_n$, podemos tomarnos un camino $C'=w_1f_1w_2f_2\\ldots f_{m-1}w_m$ con la mínima cantidad posible de vértices. Afirmamos que $C'$ es una trayectoria. Si este no fuera el caso, sucedería que habría dos vértices de $C'$ que son iguales, es decir, existirían $i<j$ tales que $w_i=w_j$. Pero esto es un problema pues entonces $w_1f_1\\ldots w_i f_{j} w_{j+1} \\ldots f_{m-1}w_m$ sería un camino de $v_1$ a $v_n$ con menos vértices, lo cual contradice que $C'$ sea mínimo. Así, $C'$ es una trayectoria.\n",
    "$\\square$"
   ]
  },
  {
   "cell_type": "markdown",
   "metadata": {},
   "source": [
    "## ¿Cuándo podemos pasar por todos los vértices? ##\n",
    "\n",
    "- ¿Cuándo existe un camino que pase por todos los vértices?\n",
    "- ¿Cuándo existe un paseo que pase por todos los vértices?\n",
    "- ¿Cuándo existe una trayectoria que pase por todos los vértices?\n",
    "\n",
    "**Proposición.** Una trayectoria que pasa por $n$ vértices pasa exactamente por $n-1$ aristas.\n",
    "\n",
    "**Proposición.** Si $G$ es una gráfica para la cual existe un paseo que pasa por todas las aristas, entonces debe suceder que como mucho dos vértices tengan grado impar.\n",
    "\n",
    "*Demostración.* Tomemos un vértice que no sea ni el inicio, ni el final del paseo. Se debe entrar a este vértice la misma cantidad de veces que se sale.  Como el paseo pasa sólo una vez por cada arista, hay una biyección entre las aristas que entran y las que salen (cada que entro a un vértice, emparejo esa arista con la de inmediatamente después). En total, esto cubre a todas las aristas, pues el paseo pasa por todas. Así, las aristas de cada vértice, salvo quizás el inicio y el fin deben de ser una cantidad par, que demuestra lo que queríamos.\n",
    "\n",
    "**Proposición.** Si $G$ es un gráfica para la cual existe un paseo que pasa por todas las aristas, entonces debe existir un camino que pasa por todas las aristas.\n",
    "\n",
    "**Teorema.** Las dos condiciones de arriba son suficientes para la existencia de un paseo que pase por todas las aristas, es decir, una gráfica $G$ tiene un paseo que pasa por todas las aristas si y sólo si se cumplen las siguientes dos condiciones:\n",
    "\n",
    "- Hay un camino que pasa por todas las aristas.\n",
    "- A lo más hay dos vértices de grado impar.\n",
    "\n",
    "*Demostración.* Procederemos por inducción fuerte sobre el número de aristas. Supongamos que para cierta $n$ ya demostramos el resultado cierto cuando hay $n$ vértices y menos de $m$ aristas. Tomemos una gráfica con $n$ vértices y $m$ aristas.\n",
    "\n",
    "Comencemos con un vértice $v_1$ arbitrario en donde haya una arista $e_1$. Hagamos el paseo más largo que podamos que comience en $v_1$, digamos,\n",
    "\n",
    "$$v_1e_1v_2e_2\\ldots e_{k-1}v_k.$$\n",
    "\n",
    "La razón por la cual este fue el camino más largo es porque ya no podemos salir de $v_k$. Esto pasó por alguna de las siguientes dos cosas:\n",
    "\n",
    "- Sucedió que llegamos a un vértice en donde ya se agotaron las aristas."
   ]
  }
 ],
 "metadata": {
  "kernelspec": {
   "display_name": "Python 3",
   "language": "python",
   "name": "python3"
  },
  "language_info": {
   "codemirror_mode": {
    "name": "ipython",
    "version": 3
   },
   "file_extension": ".py",
   "mimetype": "text/x-python",
   "name": "python",
   "nbconvert_exporter": "python",
   "pygments_lexer": "ipython3",
   "version": "3.8.5"
  },
  "latex_envs": {
   "LaTeX_envs_menu_present": true,
   "autoclose": false,
   "autocomplete": false,
   "bibliofile": "biblio.bib",
   "cite_by": "apalike",
   "current_citInitial": 1,
   "eqLabelWithNumbers": true,
   "eqNumInitial": 1,
   "hotkeys": {
    "equation": "Ctrl-E",
    "itemize": "Ctrl-I"
   },
   "labels_anchors": false,
   "latex_user_defs": false,
   "report_style_numbering": false,
   "user_envs_cfg": false
  }
 },
 "nbformat": 4,
 "nbformat_minor": 4
}
