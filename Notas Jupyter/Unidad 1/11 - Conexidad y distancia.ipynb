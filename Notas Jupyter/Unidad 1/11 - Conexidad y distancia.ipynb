{
 "cells": [
  {
   "cell_type": "markdown",
   "metadata": {},
   "source": [
    "# Conexidad y distancia\n",
    "\n",
    "**Matemáticas Discretas para Ciencias de Datos**\n",
    "\n",
    "Prof. Leonardo Ignacio Martínez Sandoval"
   ]
  },
  {
   "cell_type": "markdown",
   "metadata": {},
   "source": [
    "## Introducción"
   ]
  },
  {
   "cell_type": "markdown",
   "metadata": {},
   "source": [
    "## Sección 1"
   ]
  },
  {
   "cell_type": "markdown",
   "metadata": {},
   "source": [
    "## Sección 2"
   ]
  },
  {
   "cell_type": "markdown",
   "metadata": {},
   "source": [
    "## Sección 3"
   ]
  },
  {
   "cell_type": "markdown",
   "metadata": {},
   "source": [
    "## Tarea moral\n",
    "\n",
    "Los siguientes problemas te ayudarán a practicar lo visto en esta entrada. Para resolverlos, necesitarás usar herramientas matemáticas, computacionales o ambas.\n",
    "\n",
    "1. Problema\n",
    "2. Problema\n",
    "3. Problema\n",
    "4. Problema\n",
    "5. Problema"
   ]
  },
  {
   "cell_type": "markdown",
   "metadata": {},
   "source": [
    "## Conexidad y distancia ##\n"
   ]
  },
  {
   "cell_type": "markdown",
   "metadata": {},
   "source": [
    "**Definición.** Sea $G$ una gráfica y $u,v$ vértices de la gráfica. Diremos que $u$ **está conectado a** $v$ si existe una trayectoria que comienza en $u$ y termina en $v$.\n",
    "\n",
    "**Proposición.** La relación \"está conectado a\" es una relación de equivalencia en los vértices de la gráfica.\n",
    "\n",
    "*Demostración.* Debemos ver que esta relación es reflexiva, simétrica y transitiva.\n",
    "\n",
    "- Reflexiva: Cada vértice $v$ está conectado a sí mismo mediante la trayectoria $v_1$ donde $v_1=v$.\n",
    "\n",
    "- Simétrica: Si $u$ está conectado a $v$, es porque existe una trayectoria de la forma $v_1e_1v_2\\ldots e_{n-1}v_n$ con $v_1=u$  y $v_n=v$. De esta manera, $v_ne_{n-1}v_{n-1}\\ldots v_2e_1v_1$ es una trayectoria de $v$ a $u$, y por lo tanto $v$ está conectado a $u$.\n",
    "\n",
    "- Transitiva: Tomemos $u$, $v$ y $w$ con $u$ conectado a $v$ y $v$ conectado a $w$. Esto significa que existen trayectorias $$v_1e_1v_2\\ldots v_{n-1}e_{n-1}v_n$$ y $$w_1f_1w_2\\ldots w_{m-1}w_n$$\n",
    "\n",
    "con $v_1=u$, $v_n=w_1=v$ y $w_m=w$.\n",
    "\n",
    "Al concatenar las trayectorias (1) y (2) obtenemos un camino de $u$ a $w$:\n",
    "\n",
    "$$v_1e_1v_2\\ldots v_{n-1}e_{n-1}v_nf_1w_2\\ldots w_{m-1}w_n,$$\n",
    "\n",
    "y por una proposición anterior, la existencia de un camino de $u$ a $w$ garantiza la existencia de una trayectoria de $u$ a $w$. $\\square$\n",
    "\n",
    "**Definición.** Una **componente conexa** de una gráfica es una clase de equivalencia de la relación \"está conectado a\".\n",
    "\n",
    "**Definición.** Diremos que una gráfica $G$ es **conexa** si tiene exactamente una componente conexa.\n",
    "\n",
    "Estas ideas dan, por lo menos de manera intuitiva un \"algoritmo\" para saber cuándo una gráfica es conexa o no:\n",
    "\n",
    "- Tomamos un vértice.\n",
    "- Sus vecinos están en la misma componente conexa que él.\n",
    "- Los vecinos de sus vecinos también.\n",
    "- Así sucesivamente.\n",
    "- Si al ir verificando vecinos pasamos por todos los vértices, entonces la gráfica es conexa y si no, no lo es.\n",
    "\n",
    "**Definición.** La **longitud** de una trayectoria es la cantidad de aristas por las que pasa.\n",
    "\n",
    "**Definición.** Sea $G$ una gráfica conexa. La **distancia** entre dos vértices $u$ y $v$ será la longitud de la trayectoria mínima que los conecta. En símbolos, la llamaremos $d(u,v)$.\n",
    "\n",
    "**Proposición.** La distancia en gráficas en efecto es una distancia, es decir:\n",
    "- Es un número real no negativo: $d(u,v)\\in \\mathbb{R}^+ \\cup\\{0\\}$.\n",
    "- La distancia entre dos vértices es cero si y sólo si son iguales: $d(u,v)=0 \\Leftrightarrow u=v$.\n",
    "- La distancia es simétrica: $d(u,v)=d(v,u)$.\n",
    "- Se cumple la desigualdad del triángulo. $d(u,w)\\leq d(u,v)+d(v,w)$."
   ]
  },
  {
   "cell_type": "markdown",
   "metadata": {},
   "source": [
    "## Árboles y bosques ##\n",
    "\n",
    "**Definición.** Un **bosque** es una gráfica sin ciclos.\n",
    "\n",
    "**Definición.** Un **árbol** es un bosque conexo. En otras palabras, es una gráfica conexa sin ciclos.\n",
    "\n",
    "**Observación.** Las compontentes conexas de un bosque son árboles.\n",
    "\n",
    "**Definición.** Dada una gráfica, una **hoja** es un vértice de grado 1.\n",
    "\n",
    "**Proposición.** Todo árbol con al menos dos vértices tiene por lo menos una hoja.\n",
    "\n",
    "*Demostración.* Comencemos con un vértice arbitrario del árbol y hagamos una trayectoria tan larga como se pueda. Afirmamos que el último vértice al que llegamos es una hoja.\n",
    "\n",
    "Como es el último vértice, hay dos opciones:\n",
    "- O bien es una hoja, en cuyo caso terminamos.\n",
    "- O bien, tiene grado al menos 2 y la razón por la cual no podemos extender la trayectoria es que el vértice al que se llega ya pasamos por él. Pero esto es imposible pues se formaría un ciclo y los árboles no tienen ciclos. $\\square$\n",
    "\n",
    "**Observación.** De hecho, la demostración anterior permite ver que siempre hay por los menos dos hojas alargando la trayectoria máxima hacia el otro lado.\n",
    "\n",
    "**Proposición.** Un árbol con $n$ vértices tiene $n-1$ aristas.\n",
    "\n",
    "*Demostración.* Procedemos por inducción en el número de vértices. Si hay $1$ vértice, tenemos $0$ aristas. Supongamos el resultado válido para árboles con $n-1$ vértices y tomemos un árbol $G$ con $n$ vértices. Tomemos una hoja $u$ de $G$. Al quitar a $u$ y su arista, obtenemos un árbol con $n-1$ vértices, que por lo tanto tiene $n-2$ aristas. Al regresar a $u$ y su arista, tenemos entonces $n$ vértices y $n-1$ aristas, como queríamos. $\\square$.\n",
    "\n",
    "**Proposición.** Un bosque con $k$ componentes conexas y $n$ vértices tiene $n-k$ aristas."
   ]
  }
 ],
 "metadata": {
  "kernelspec": {
   "display_name": "Python 3",
   "language": "python",
   "name": "python3"
  },
  "language_info": {
   "codemirror_mode": {
    "name": "ipython",
    "version": 3
   },
   "file_extension": ".py",
   "mimetype": "text/x-python",
   "name": "python",
   "nbconvert_exporter": "python",
   "pygments_lexer": "ipython3",
   "version": "3.8.5"
  },
  "latex_envs": {
   "LaTeX_envs_menu_present": true,
   "autoclose": false,
   "autocomplete": false,
   "bibliofile": "biblio.bib",
   "cite_by": "apalike",
   "current_citInitial": 1,
   "eqLabelWithNumbers": true,
   "eqNumInitial": 1,
   "hotkeys": {
    "equation": "Ctrl-E",
    "itemize": "Ctrl-I"
   },
   "labels_anchors": false,
   "latex_user_defs": false,
   "report_style_numbering": false,
   "user_envs_cfg": false
  }
 },
 "nbformat": 4,
 "nbformat_minor": 4
}
