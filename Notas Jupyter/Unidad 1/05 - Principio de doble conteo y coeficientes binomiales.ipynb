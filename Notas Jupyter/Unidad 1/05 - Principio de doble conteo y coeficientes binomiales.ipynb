{
 "cells": [
  {
   "cell_type": "markdown",
   "metadata": {},
   "source": [
    "# Principio de doble conteo y coeficientes binomiales\n",
    "\n",
    "**Matemáticas Discretas para Ciencias de Datos**\n",
    "\n",
    "Prof. Leonardo Ignacio Martínez Sandoval"
   ]
  },
  {
   "cell_type": "markdown",
   "metadata": {},
   "source": [
    "## Introducción"
   ]
  },
  {
   "cell_type": "markdown",
   "metadata": {},
   "source": [
    "## Principio de doble conteo"
   ]
  },
  {
   "cell_type": "markdown",
   "metadata": {},
   "source": [
    "## Coeficientes binomiales"
   ]
  },
  {
   "cell_type": "markdown",
   "metadata": {},
   "source": [
    "Quizás hayas encontrado con anterioridad a los coeficientes binomiales. Para un entero $n\\geq 0$ y un entero $k$ con $0\\leq k \\leq n$, se puede definir el símbolo $\\binom{n}{k}$ de varias maneras. Nosotros eligiremos definir al coeficiente binomial $\\binom{n}{k}$ a partir de su propiedad combinatoria fundamental.\n",
    "\n",
    "**Definición.** El coeficiente binomial $\\binom{n}{k}$ es la cantidad de subconjuntos de tamaño $k$ que tiene un conjunto de tamaño $n$.\n",
    "\n",
    "Así, estrictamente hablando, si quisiéramos calcular cuánto vale el coeficiente binomial $\\binom{4}{2}$, tendríamos que tomar un conjunto con cuatro elementos, por ejemplo $\\{A,B,C,D\\}$, enlistar todos sus subconjuntos con dos elementos:\n",
    "\n",
    "$$\\{A,B\\},\\{A,C\\},\\{A,D\\},\\{B,C\\},\\{B,D\\},\\{C,D\\},$$\n",
    "\n",
    "y contarlos. Como son $6$, entonces $\\binom{4}{2}=6$.\n",
    "\n",
    "Esto no es muy práctico para valores grandes de $n$ y $k$, de modo que es importante encontrar una mejor fórmula para $\\binom{n}{k}$. Lo hacemos como sigue:\n",
    "\n",
    "**Proposición.** Se tiene que $$\\binom{n}{k}=\\frac{n!}{k!(n-k)!}.$$\n",
    "\n",
    "*Demostración.* Tomemos pelotas numeradas del $1$ al $n$. ¿Cuántas formas hay de ordenarlas en una línea? Por un lado, hay $n!$ formas: $n$ opciones para el primer lugar, $n-1$ opciones para el segundo, etc. Estos números se multiplican y obtenemos el valor $n\\cdot (n-1) \\cdot (n-2)\\cdot \\ldots \\cdot 1 = n!$.\n",
    "\n",
    "Hay otra forma de saber de cuántas formas podemos ordenar las pelotas. Primero podemos decidir cuáles serán las primeras $k$ pelotas. Esto se puede hacer de $\\binom{n}{k}$ formas, pues es elegir un subconjunto $K$ de tamaño $k$. Luego, hay que elegir una forma de acomodar estas $k$ pelotas, que se puede hacer de $k!$ formas (por el arugmento de arriba). Finalmente, quedan $n-k$ pelotas que debemos decir cómo acomodar. Esto se puede hacer de $(n-k)!$ formas. Así, hay $\\binom{n}{k}k!(n-k)!$ formas de acomodar las pelotas.\n",
    "\n",
    "Como estamos contando exactamente lo mismo, debemos tener que \n",
    "\n",
    "$$n!=\\binom{n}{k}k!(n-k)!,$$\n",
    "\n",
    "de donde se obtiene la fórmula que buscamos despejando $\\binom{n}{k}$.\n",
    "\n",
    "<div style=\"text-align: right\"> $\\square$ </div>\n",
    "\n",
    "Los coeficientes binomiales con $k=0$ o $k=n$ son muy fáciles: simplemente son iguales a $1$. Para calcular el resto de los coeficientes binomiales podemos proceder \"poco a poco\". Cada uno de ellos es una suma de dos \"más pequeños\". Esto se formaliza mediante el siguiente resultado.\n",
    "\n",
    "**Proposición.** Para un entero $n\\geq 0$ y un entero $k$ con $0\\leq k \\leq n-1$ se tiene que \n",
    "\n",
    "$$\\binom{n+1}{k+1}=\\binom{n}{k}+\\binom{n}{k+1}.$$\n",
    "\n",
    "*Demostración.* Hay dos formas de demostrar este resultado. Una es *combinatoria* y la otra es *algebraica*.\n",
    "\n",
    "La demostración combinatoria es la siguiente. Podemos hacernos la siguiente pregunta: ¿cuántos subconjuntos de tamaño $k+1$ tiene el conjunto $\\{1,2,\\ldots,n+1\\}$? Por un lado, por la definición de coeficientes binomiales este número es $\\binom{n+1}{k+1}$. Por otro lado, podemos ver cuántos tienen a $n+1$ y cuántos no. Los que tienen a $n+1$ consisten de ese elemento y de otros $k$ elementos elegidos en $\\{1,2,\\ldots,n\\}$, así que son $\\binom{n}{k}$. Los que no tienen a $n+1$ consisten de elegir $k+1$ elementos en $\\{1,2\\ldots,n\\}$, de modo que son $\\binom{n}{k+1}$. Así, como estamos contando la misma cosa, tenemos que \n",
    "\n",
    "$$\\binom{n+1}{k+1}=\\binom{n}{k}+\\binom{n}{k+1}.$$\n",
    "\n",
    "Esto es una demostración perfectamente válida y podríamos concluir aquí. Pero demos ahora una demostración algebraica. Para ella, usamos la fórmula que ya conocemos.\n",
    "\n",
    "\\begin{align*}\n",
    "\\binom{n}{k}+\\binom{n}{k+1}&=\\frac{n!}{k!(n-k)!}+\\frac{n!}{(k+1)!(n-k-1)!}\\\\\n",
    "&=\\frac{n!}{k!(n-k-1)!}\\left(\\frac{1}{n-k}+\\frac{1}{k+1}\\right)\\\\\n",
    "&=\\frac{n!}{k!(n-k-1)!}\\cdot \\frac{n+1}{(n-k)(k+1)}\\\\\n",
    "&=\\frac{(n+1)!}{(k+1)!(n-k)!}\\\\\n",
    "&=\\binom{n+1}{k+1}.\n",
    "\\end{align*}\n",
    "\n",
    "En la segunda igualdad factorizamos lo más que podemos. Luego hacemos la operación con fracciones, reagrupamos y volvemos a usar la fórmula, pero ahora para $\\binom{n+1}{k+1}$."
   ]
  }
 ],
 "metadata": {
  "kernelspec": {
   "display_name": "Python 3",
   "language": "python",
   "name": "python3"
  },
  "language_info": {
   "codemirror_mode": {
    "name": "ipython",
    "version": 3
   },
   "file_extension": ".py",
   "mimetype": "text/x-python",
   "name": "python",
   "nbconvert_exporter": "python",
   "pygments_lexer": "ipython3",
   "version": "3.8.5"
  },
  "latex_envs": {
   "LaTeX_envs_menu_present": true,
   "autoclose": false,
   "autocomplete": false,
   "bibliofile": "biblio.bib",
   "cite_by": "apalike",
   "current_citInitial": 1,
   "eqLabelWithNumbers": false,
   "eqNumInitial": 1,
   "hotkeys": {
    "equation": "Ctrl-E",
    "itemize": "Ctrl-I"
   },
   "labels_anchors": false,
   "latex_user_defs": false,
   "report_style_numbering": false,
   "user_envs_cfg": false
  }
 },
 "nbformat": 4,
 "nbformat_minor": 4
}
