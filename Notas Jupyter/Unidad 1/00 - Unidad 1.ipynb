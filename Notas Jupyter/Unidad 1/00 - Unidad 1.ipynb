{
 "cells": [
  {
   "cell_type": "markdown",
   "metadata": {},
   "source": [
    "# Unidad 1: Fundamentos combinatorios y de teoría de gráficas"
   ]
  },
  {
   "cell_type": "markdown",
   "metadata": {},
   "source": [
    "## Introducción"
   ]
  },
  {
   "cell_type": "markdown",
   "metadata": {},
   "source": [
    "En esta primera unidad estudiaremos los fundamentos matemáticos necesarios para las matemáticas discretas para la ciencia de datos. Esto requiere dos compontentes. La primera es adquirir y practicar el uso de herramientas matemáticas como la inducción, el principio de las casillas y el principio extremo. La segunda es introducir el concepto de gráficas y su teoría fundamental."
   ]
  },
  {
   "cell_type": "markdown",
   "metadata": {},
   "source": [
    "## Temario"
   ]
  },
  {
   "cell_type": "markdown",
   "metadata": {},
   "source": [
    "**Fundamentos combinatorios**\n",
    "\n",
    "- Buscar un patrón\n",
    "- Principio de inducción\n",
    "- Principio de las casillas\n",
    "- Principio extremo\n",
    "- Principio de doble conteo\n",
    "- Coeficientes binomiales\n",
    "- Tipos de sucesiones\n",
    "- Sucesiones recursivas y recursiones lineales\n",
    "\n",
    "**Fundamentos de teoría de gráficas**\n",
    "- Gráficas, grados y lema de Euler\n",
    "- Caminos, paseos y trayectorias\n",
    "- Caminos cerrados, circuitos y ciclos\n",
    "- Paseos y circuitos Eulerianos\n",
    "- Conexidad y distancia\n",
    "- Árboles y bosques\n",
    "- Gráficas bipartitas\n",
    "- Emparejamientos y teorema de Hall\n",
    "- Conjuntos independientes y coloraciones\n",
    "- Coloración de aristas y teorema de Ramsey\n",
    "- Subgráficas completas y teorema de Turán\n",
    "- Gráficas planas y teorema de Kuratowski\n",
    "- Gráficas que vienen de contextos geometricos"
   ]
  }
 ],
 "metadata": {
  "kernelspec": {
   "display_name": "Python 3",
   "language": "python",
   "name": "python3"
  },
  "language_info": {
   "codemirror_mode": {
    "name": "ipython",
    "version": 3
   },
   "file_extension": ".py",
   "mimetype": "text/x-python",
   "name": "python",
   "nbconvert_exporter": "python",
   "pygments_lexer": "ipython3",
   "version": "3.8.8"
  },
  "latex_envs": {
   "LaTeX_envs_menu_present": true,
   "autoclose": false,
   "autocomplete": false,
   "bibliofile": "biblio.bib",
   "cite_by": "apalike",
   "current_citInitial": 1,
   "eqLabelWithNumbers": true,
   "eqNumInitial": 1,
   "hotkeys": {
    "equation": "Ctrl-E",
    "itemize": "Ctrl-I"
   },
   "labels_anchors": false,
   "latex_user_defs": false,
   "report_style_numbering": false,
   "user_envs_cfg": false
  }
 },
 "nbformat": 4,
 "nbformat_minor": 4
}
