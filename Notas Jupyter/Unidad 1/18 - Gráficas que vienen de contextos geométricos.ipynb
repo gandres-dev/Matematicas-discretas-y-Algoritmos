{
 "cells": [
  {
   "cell_type": "markdown",
   "metadata": {},
   "source": [
    "# Gráficas que vienen de contextos geométricos\n",
    "\n",
    "**Matemáticas Discretas para Ciencias de Datos**\n",
    "\n",
    "Prof. Leonardo Ignacio Martínez Sandoval"
   ]
  },
  {
   "cell_type": "markdown",
   "metadata": {},
   "source": [
    "## Introducción"
   ]
  },
  {
   "cell_type": "markdown",
   "metadata": {},
   "source": [
    "## Gráficas de intersección de intervalos\n",
    "\n",
    "**Definición.** Una **gráfica de intersección** consiste de tomar conjuntos $X_1, X_2,\\ldots, X_n$ y ponerlos como vértices de una gráfica, y luego poner aristas entre dos vértices cuando los conjuntos se intersectan.\n",
    "\n",
    "*Ejemplo.* (copiar de Xournal)\n",
    "\n",
    "**Definición.** Una **gráfica de intersección de intervalos** es una gráfica de intersección en donde los conjuntos son intervalos $I_1,I_2,\\ldots,I_n$ de $\\mathbb{R}$.\n",
    "\n",
    "*Ejemplo.* (copiar de Xournal)\n",
    "\n",
    "**Proposición.** El ciclo con $4$ vértices **no** se puede poner como gráfica de intersección de intervalos.\n",
    "\n",
    "¿Cuáles gráficas sí serán de intersección de intervalos? Dada una gráfica, ¿podremos decir algorítmicamente si es de intersección de intervalos?\n",
    "\n",
    "- Agregar interpretación con pelis\n",
    "- Agregar número de independencia\n",
    "- Agregar número cromático\n",
    "\n"
   ]
  },
  {
   "cell_type": "markdown",
   "metadata": {},
   "source": [
    "## Gráficas de intersección de discos\n",
    "\n",
    "Ejemplo con restaurante de pollos a la penca."
   ]
  },
  {
   "cell_type": "markdown",
   "metadata": {},
   "source": [
    "## Gráficas de proximidad"
   ]
  },
  {
   "cell_type": "markdown",
   "metadata": {},
   "source": [
    "## Gráficas de Gabriel"
   ]
  }
 ],
 "metadata": {
  "kernelspec": {
   "display_name": "Python 3",
   "language": "python",
   "name": "python3"
  },
  "language_info": {
   "codemirror_mode": {
    "name": "ipython",
    "version": 3
   },
   "file_extension": ".py",
   "mimetype": "text/x-python",
   "name": "python",
   "nbconvert_exporter": "python",
   "pygments_lexer": "ipython3",
   "version": "3.8.5"
  },
  "latex_envs": {
   "LaTeX_envs_menu_present": true,
   "autoclose": false,
   "autocomplete": false,
   "bibliofile": "biblio.bib",
   "cite_by": "apalike",
   "current_citInitial": 1,
   "eqLabelWithNumbers": true,
   "eqNumInitial": 1,
   "hotkeys": {
    "equation": "Ctrl-E",
    "itemize": "Ctrl-I"
   },
   "labels_anchors": false,
   "latex_user_defs": false,
   "report_style_numbering": false,
   "user_envs_cfg": false
  }
 },
 "nbformat": 4,
 "nbformat_minor": 4
}
