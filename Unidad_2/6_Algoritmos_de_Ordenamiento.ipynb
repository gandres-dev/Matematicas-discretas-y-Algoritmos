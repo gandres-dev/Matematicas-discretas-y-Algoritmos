{
 "cells": [
  {
   "cell_type": "markdown",
   "metadata": {
    "colab_type": "text",
    "id": "view-in-github"
   },
   "source": [
    "<a href=\"https://colab.research.google.com/github/RodolfoFigueroa/madi2022-1/blob/main/Unidad_2/6_Algoritmos_de_Ordenamiento.ipynb\" target=\"_parent\"><img src=\"https://colab.research.google.com/assets/colab-badge.svg\" alt=\"Open In Colab\"/></a>"
   ]
  },
  {
   "cell_type": "markdown",
   "metadata": {
    "id": "WBoB98uhCvF4"
   },
   "source": [
    "En esta sesión veremos algunos algoritmos de ordenamiento. Se irán presentando implementaciones de dichos algoritmos, el alumno deberá analizarlos y determinar cosas como correctitud, es decir, si el algoritmo en efecto ordena los elementos de una lista dada, complejidades en tiempo y en espacio, así como identificar si es algún algoritmo visto previamente en clase.\n",
    "\n",
    "A modo de nota, siempre supondremos que la lista de números que se nos está dando es no vacía."
   ]
  },
  {
   "cell_type": "code",
   "execution_count": 67,
   "metadata": {
    "colab": {
     "base_uri": "https://localhost:8080/"
    },
    "id": "imjoH3kOEfbF",
    "outputId": "28e5516b-b98d-4cf9-e7a0-31c813582b65"
   },
   "outputs": [
    {
     "name": "stdout",
     "output_type": "stream",
     "text": [
      "[7, 7, 3, 5, 8, 1, 5, 4, 7, 5]\n"
     ]
    }
   ],
   "source": [
    "import random \n",
    "\n",
    "Lista = [random.randint(1, 10) for i in range(10)] \n",
    "\n",
    "print(Lista)"
   ]
  },
  {
   "cell_type": "markdown",
   "metadata": {
    "id": "a1Obj3bFDwLU"
   },
   "source": [
    "# Counting sort"
   ]
  },
  {
   "cell_type": "code",
   "execution_count": 49,
   "metadata": {
    "colab": {
     "base_uri": "https://localhost:8080/"
    },
    "id": "HbJhHPEIEOkY",
    "outputId": "6a67d5b6-ce7e-43cd-ab9a-adf06714b829"
   },
   "outputs": [
    {
     "name": "stdout",
     "output_type": "stream",
     "text": [
      "1\n",
      "2\n",
      "2\n",
      "2\n",
      "4\n",
      "4\n",
      "5\n",
      "8\n",
      "8\n",
      "8\n"
     ]
    }
   ],
   "source": [
    "def counting_sort(L):\n",
    "    maxi = L[0]\n",
    "    mini = L[0]\n",
    "    for i in range (1, len(L)):\n",
    "        if maxi < L[i]: \n",
    "            maxi = L[i]\n",
    "        if mini > L[i]:\n",
    "            mini = L[i]\n",
    "            \n",
    "    arr = [0]*(maxi - mini + 1)\n",
    "    for i in range(0, len(L)):\n",
    "        arr[L[i] - mini] += 1\n",
    "        \n",
    "    for i in range(0, len(arr)):\n",
    "        for j in range(0, arr[i]):\n",
    "            print(i + mini)\n",
    "\n",
    "counting_sort(Lista)"
   ]
  },
  {
   "cell_type": "markdown",
   "metadata": {
    "id": "A2na1Dlj6MxI"
   },
   "source": [
    "El algoritmo anterior consiste en contar las ocurrencias de cada número, lo que nos permitirá saber el orden de los elementos de la lista, siempre y cuando los elementos de la lista sean enteros (o tengamos información suficiente sobre las diferencias de los elementos). ¿Cuáles son las complejidades de este algoritmo? Tanto en tiempo como en memoria se tiene que es $O(n+k)$, donde $k$ es la longitud del intervalo entre el mayor y el menor elemento de la lista. Dicha $k$ se puede reducir utilizando diccionarios y hashes, para evitar los números que no aparecen en la lista y están en el intervalo entre el menor y el mayor elemento de la lista."
   ]
  },
  {
   "cell_type": "markdown",
   "metadata": {
    "id": "fSP2qvFS8Kyd"
   },
   "source": [
    "# Bubble sort"
   ]
  },
  {
   "cell_type": "code",
   "execution_count": 50,
   "metadata": {
    "colab": {
     "base_uri": "https://localhost:8080/"
    },
    "id": "GEPW95a08N31",
    "outputId": "32cb703f-c6c8-4a02-fdb7-cdbdd6505e4b"
   },
   "outputs": [
    {
     "data": {
      "text/plain": [
       "[1, 2, 2, 2, 4, 4, 5, 8, 8, 8]"
      ]
     },
     "execution_count": 50,
     "metadata": {},
     "output_type": "execute_result"
    }
   ],
   "source": [
    "def bubble_sort(L):\n",
    "    L = L.copy()\n",
    "    for i in range (len(L), 0, -1):\n",
    "        for j in range(1, i):\n",
    "            if(L[j] < L[j-1]):\n",
    "                L[j-1], L[j] = L[j], L[j-1]\n",
    "    return L\n",
    "\n",
    "bubble_sort(Lista)"
   ]
  },
  {
   "cell_type": "markdown",
   "metadata": {
    "id": "F8Epd3Q8-d7W"
   },
   "source": [
    "Este es el algoritmo de ordenamiento llamado *Bubble sort*, que consiste en recorrer la lista suficientes veces, de modo que en cada recorrido de la lista, si entontramos dos números adyacentes tales que no estén ordenados, los invierte, es decir, los cambia de posición. ¿Cuáles son sus complejidades? En cuanto a memoria únicamente requerimos $O(1)$ de memoria auxiliar, mientras que en tiempo se toma $O(n^2)$, ya que podrían llegar a haber $i$ inversiones, para cada $i$ entre $1, n$."
   ]
  },
  {
   "cell_type": "markdown",
   "metadata": {
    "id": "8Vy7DgP9_aYO"
   },
   "source": [
    "# Merge sort"
   ]
  },
  {
   "cell_type": "code",
   "execution_count": 15,
   "metadata": {
    "colab": {
     "base_uri": "https://localhost:8080/"
    },
    "id": "56r27tWT_chp",
    "outputId": "678a2696-7f23-4567-8497-6fd057630ff2"
   },
   "outputs": [
    {
     "data": {
      "text/plain": [
       "[11, 13, 14, 14, 15, 16, 17, 18, 18, 19]"
      ]
     },
     "execution_count": 15,
     "metadata": {},
     "output_type": "execute_result"
    }
   ],
   "source": [
    "def merge_sort(L, copy=True):\n",
    "    if(len(L) == 1):\n",
    "        return\n",
    "    \n",
    "    if copy:\n",
    "        L = L.copy()\n",
    "    m = len(L)//2\n",
    "    left = L[:m]\n",
    "    right = L[m:]\n",
    "    merge_sort(left, copy=False)\n",
    "    merge_sort(right, copy=False)\n",
    "    \n",
    "    l = r = k = 0\n",
    "    while l < len(left) and r < len(right):\n",
    "        if left[l] < right[r]:\n",
    "            L[k] = left[l]\n",
    "            l += 1\n",
    "        else:\n",
    "            L[k] = right[r]\n",
    "            r += 1\n",
    "        k += 1\n",
    "    while l < len(left):\n",
    "        L[k] = left[l]\n",
    "        k += 1\n",
    "        l += 1\n",
    "    while(r < len(right)):\n",
    "        L[k] = right[r]\n",
    "        k += 1\n",
    "        r += 1\n",
    "    return L\n",
    "\n",
    "merge_sort(Lista)"
   ]
  },
  {
   "cell_type": "markdown",
   "metadata": {
    "id": "1cMDlVP1xjK3"
   },
   "source": [
    "Este algoritmo es *merge sort*, el cual actúa bajo el principio de divide y vencerás, es decir, divide la lista inicial en dos, ordena cada sección de lalista por separado, y una vez que están ordenados, los unifica en una nueva lista, que dará como resultado el ordenamiento de nuestra lista inicial. ¿Cuáles son las complejidades de este algoritmo? Es $O(n log n)$ en tiempo, mientras que en espacio auxiliar es $O(n)$, pues se puede acotar el espacio que utiliza por $3n$."
   ]
  },
  {
   "cell_type": "markdown",
   "metadata": {
    "id": "fUQvqiQcMexA"
   },
   "source": [
    "# Insertion sort"
   ]
  },
  {
   "cell_type": "code",
   "execution_count": 22,
   "metadata": {
    "colab": {
     "base_uri": "https://localhost:8080/"
    },
    "id": "Hy47nxF33Vge",
    "outputId": "856caa89-01a8-4e81-a8ff-f31207023d1b"
   },
   "outputs": [
    {
     "data": {
      "text/plain": [
       "[11, 13, 14, 14, 15, 16, 17, 18, 18, 19]"
      ]
     },
     "execution_count": 22,
     "metadata": {},
     "output_type": "execute_result"
    }
   ],
   "source": [
    "def insertion_sort(L):\n",
    "    L = L.copy()\n",
    "    for i, l in enumerate(L):\n",
    "        j = i - 1\n",
    "        while j >= 0 and L[j] > l:\n",
    "            L[j+1] = L[j]\n",
    "            j -= 1\n",
    "        L[j + 1] = l\n",
    "    return L\n",
    "\n",
    "insertion_sort(Lista)"
   ]
  },
  {
   "cell_type": "markdown",
   "metadata": {
    "id": "e2-C_izb4YJC"
   },
   "source": [
    "Este algoritmo de ordenamiento es llamado *insertion sort*, su nombre describe lo que se hace, en cada iteración del ciclo for lo que hacemos es crear una lista ordenada con los primeros $i$ elementos, insertando el nuevo elemento donde corresponda. ¿Cuáles son sus complejidades? Se tiene que su complejidad en tiempo es $O(n^2)$, pues iteramos sobre los $n$ elementos de la lista, y en cada una de estas iteraciones podríamos llegar a tener $i-1$ iteraciones dentro del `while`, lo que hace que sea cuadrático en tiempo. En espacio adicional únicamente almacenamos los iteradores y el valor del nuevo elemento de la lista, por lo que es $O(1)$."
   ]
  },
  {
   "cell_type": "markdown",
   "metadata": {
    "id": "WZFxkx-vMbJm"
   },
   "source": [
    "# Radix sort"
   ]
  },
  {
   "cell_type": "code",
   "execution_count": 39,
   "metadata": {
    "colab": {
     "base_uri": "https://localhost:8080/"
    },
    "id": "0Oo7dfQz3XAn",
    "outputId": "a62a7f92-c464-4dd4-fe9f-1225cdea1f45"
   },
   "outputs": [
    {
     "data": {
      "text/plain": [
       "[11, 13, 14, 14, 15, 16, 17, 18, 18, 19]"
      ]
     },
     "execution_count": 39,
     "metadata": {},
     "output_type": "execute_result"
    }
   ],
   "source": [
    "def _radix_aux(L, pos):\n",
    "    count = [0] * 10\n",
    "    for m in L:\n",
    "        aux = m//pos\n",
    "        count[(aux%10)] += 1\n",
    "        \n",
    "    for i in range(1, 10): # Recuperamos las posiciones que nos indica el counting sort\n",
    "        count[i] += count[i-1]\n",
    "        \n",
    "    ordered = [0] * len(L)\n",
    "    for m in reversed(L):\n",
    "        aux = m//pos\n",
    "        ordered[count[aux%10] - 1] = m\n",
    "        count[aux%10] -= 1\n",
    "        \n",
    "    for i in range(len(L)):\n",
    "        L[i] = ordered[i]\n",
    "\n",
    "def radix_sort(L):\n",
    "    L = L.copy()\n",
    "    pos = 1\n",
    "    while pos <= max(L):\n",
    "        _radix_aux(L, pos)\n",
    "        pos *= 10\n",
    "    return L\n",
    "    \n",
    "radix_sort(Lista)"
   ]
  },
  {
   "cell_type": "markdown",
   "metadata": {
    "id": "bkDf4W4qMl_A"
   },
   "source": [
    "Notemos que nuestro algoritmo funciona únicamente para listas que tienen puros enteros positivos. Este algoritmo se llama *radix sort*, el cual consiste en ir ordenando los números según sus dígitos, del dígito que representa menor valor (el de las unidades) hasta el que representa el mayor valor. Este algoritmo también se puede adaptar a problemas como ordenar una lista de strings alfabéticamente. "
   ]
  },
  {
   "cell_type": "markdown",
   "metadata": {
    "id": "TtpQgIZMRGjU"
   },
   "source": [
    "**Ejercicios.**\n",
    "\n",
    "1.   Implementa el algoritmo de ordenamiento *quicksort*.\n",
    "2.   Utilizando radix sort, implementa un algoritmo que permita ordenar alfabéticamente una lista de strings. Puedes suponer que las strings no tienen espacios y contienen únicamente caracteres que son letras minúsculas.\n",
    "Verifica tu algoritmo con las listas: `['aaaaa', 'zapatos', 'bien', 'zapatillas', 'datos', 'dddatos', 'das', 'ciencia', 'aaa', 'alas', 'problema', 'comando', 'oopera'], ['ddddescarga', 'usando', 'nuevo', 'nuevos', 'version', 'verifica', 'ooo', 'eeee', 'goool', 'golazooo', 'goolazo', 'compartir']`\n",
    "3.   Determina cuál es el mínimo número de comparaciones necsarias dada una lista $L$ de $n$ números para poder determinar si está ordenada o no. Describe un algoritmo con dicho mínimo y argumenta por qué con menos comparaciones no se puede.\n",
    "\n"
   ]
  }
 ],
 "metadata": {
  "colab": {
   "collapsed_sections": [],
   "include_colab_link": true,
   "name": "Algoritmos de Ordenamiento.ipynb",
   "provenance": []
  },
  "kernelspec": {
   "display_name": "Python 3 (ipykernel)",
   "language": "python",
   "name": "python3"
  },
  "language_info": {
   "codemirror_mode": {
    "name": "ipython",
    "version": 3
   },
   "file_extension": ".py",
   "mimetype": "text/x-python",
   "name": "python",
   "nbconvert_exporter": "python",
   "pygments_lexer": "ipython3",
   "version": "3.8.12"
  }
 },
 "nbformat": 4,
 "nbformat_minor": 4
}
