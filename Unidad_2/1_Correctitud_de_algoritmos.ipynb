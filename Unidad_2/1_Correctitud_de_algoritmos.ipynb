{
 "cells": [
  {
   "cell_type": "markdown",
   "id": "9addcbcc-6391-4881-a5c7-5167f5ec058c",
   "metadata": {},
   "source": [
    "<a href=\"https://colab.research.google.com/github/RodolfoFigueroa/madi2022-1/blob/main/Unidad_2/1_Correctitud_de_algoritmos.ipynb\" target=\"_parent\"><img src=\"https://colab.research.google.com/assets/colab-badge.svg\" alt=\"Open In Colab\"/></a>"
   ]
  },
  {
   "cell_type": "markdown",
   "id": "15f84aba-f798-4ed1-9937-35e611ef020f",
   "metadata": {},
   "source": [
    "En esta sesión, veremos ejemplos de algunos algoritmos o problemas clásicos, daremos posibles soluciones y formas de implementarlos, y veremos cuáles son correctos y cuáles no, en caso de no serlo es bueno que el estudiante medite si es posible arreglar el código o la idea de fondo para obtener un resultado positivo.\n",
    "\n",
    "# Correctitud\n",
    "\n",
    "Intuitivamente, un algoritmo es correcto si hace lo que queremos. Para establecer esto con más formalidad, definimos los siguientes conceptos:\n",
    "\n",
    "* *Precondición:* Suposiciones que hacemos acerca de la entrada del algoritmo, y el entorno en el cual será ejecutado.\n",
    "* *Postcondición:* Resultado esperado del algoritmo. \n",
    "\n",
    "Con esto, podemos decir que un algoritmo es **correcto** si se cumple la postcondición siempre que se cumple la precondición, i.e. \n",
    "\n",
    "$$\\text{precondición}\\Rightarrow \\text{postcondición}$$\n",
    "\n",
    "Adicionalmente, decimos que un algoritmo es **totalmente correcto** si siempre *termina*, es decir, si eventualmente regresa una respuesta para cualquier entrada.\n",
    "\n",
    "# Probando correctitud\n",
    "\n",
    "Las dos maneras más básicas de probar si un algoritmo es correcto son:\n",
    "\n",
    "* Demostración por inducción\n",
    "* Demostración por invariante de bucle\n",
    "\n",
    "(en el fondo, estas dos son la misma cosa).\n",
    "\n",
    "## Demostración por inducción\n",
    "\n",
    "En la mayoría de los casos, el problema de esta clase de demostraciones se reduce a encontrar un entero adecuado para hacer inducción.\n",
    "\n",
    "Veamos un ejemplo; el siguiente algoritmo ordena la lista `a`, de largo $n$:\n",
    "\n",
    "```python\n",
    "def insertion_sort(A1, A2, ..., An):\n",
    "    if n == 0:\n",
    "        return []\n",
    "    else:\n",
    "        insertion_sort(A1, A2, ..., An-1)\n",
    "        insert(An; A1, A2, ..., An-1)\n",
    "```\n",
    "\n",
    "La función `insert` está definida como:\n",
    "\n",
    "```python\n",
    "def insert(x; A1, A2, ..., An):\n",
    "    if n == 0:\n",
    "        A1 = x\n",
    "    elif x > An:\n",
    "        An+1 = x\n",
    "    else:\n",
    "        An+1 = An\n",
    "        insert(x; A1, A2, ..., An-1)\n",
    "```\n",
    "\n",
    "Probamos que es correcta por inducción sobre el largo de la lista $n$:\n",
    "\n",
    "* **Caso base:** Si $n=0$ entonces la lista está vacía, por lo cual está trivialmente ordenada.\n",
    "* **Hipótesis de inducción:** El algoritmo de arriba es correcto para una lista de tamaño $n$.\n",
    "* **Paso inductivo:** Notemos que el algoritmo hace `insertion_sort` de manera recursiva sobre la lista `A1, ..., An`, el cual por hipótesis de inducción es correcto; después, llama `insert`. Entonces, si probamos que `insert` es correcto, entonces habremos probado que `insertion_sort` también lo es.\n",
    "\n",
    "Lo hacemos por inducción:\n",
    "\n",
    "* **Caso base:** Si $n=0$, entonces `insert` regresa una lista de un elemento, que está trivialmente ordenada.\n",
    "* **Hipótesis de inducción:** `insert` es correcto para una lista de $n$ elementos.\n",
    "* **Paso inductivo:** Notemos que hay dos casos:\n",
    "\n",
    "* Caso 1: $x>A_{n+1}$. En este caso, $x$ es mayor que el último elemento de $A$, y por lo tanto es mayor que todos los elementos de $A$ (ya que $A$ está ordenado). Por lo tanto, $x$ es insertado de manera correcta al último.\n",
    "\n",
    "* Caso 2: $x\\leq A_{n+1}$. Como $x$ no es mayor que $A_{n+1}$, la función se llama de manera recursiva sobre la lista $A_1, \\ldots, A_n$. Por H.I., el resultado de esto estará ordenado. Finalmente, la función vuelve a insertar a $A_{n+1}$ al final de la lista, y como $A$ estaba ordenada, esto también estará ordenado.\n",
    "\n",
    "Por lo tanto, `insert` es correcto, por lo cual `insertion_sort` también lo es.\n",
    "\n",
    "## Demostración por invariantes de bucle\n",
    "\n",
    "Muchos algoritmos funcionan con base en bucles. Estos por lo general tienen la siguiente estructura:\n",
    "\n",
    "1. **Inicialización:** El algoritmo inicializa algunas variables con base en las entradas.\n",
    "2. **Bucle:** El algoritmo realiza iteraciones del bucle principal. Cada iteración cambia algunas variables de acuerdo a las instrucciones, lo cual se repite hasta que una cierta condición (conocida como *condición de guardia*) falla.\n",
    "2. **Salida:** Cuando la guardia falla, el bucle acaba, y el algoritmo produce algún resultado con base en los valores de las variables.\n",
    "\n",
    "Queremos saber muchas cosas de esta clase de algoritmos: ¿cómo depende la entrada de la salida?, o ¿el algoritmo siempre acaba?, o tal vez ¿cuántas iteraciones se lleva?\n",
    "\n",
    "Todas estas preguntas tienen que ver con el comportamiento *global* de la función; sin embargo, la descripción del algoritmo solo nos da su comportamiento *local*, i.e., lo que pasa en cada paso. Las invariantes de bucle nos ayudarán a conectar ambos.\n",
    "\n",
    "El proceso de demostración por invariantes de bucle es esencialmente inducción. Los pasos a seguir son:\n",
    "\n",
    "1. **Caso base:** Probar que la invariante es cierta *antes* de entrar al bucle, i.e., con 0 iteraciones.\n",
    "2. **Hipótesis de inducción:** Asumir que la invariante y la guardia son ciertas al finalizar una cierta iteración $n$.\n",
    "3. **Paso inductivo:** Demostrar que la H.I. implica que la invariante sigue siendo cierta para la iteración $n+1$.\n",
    "4. **Postcondición:** Finalmente, probar que la invariante y la **negación** de la guardia implican que la postcondición se cumple. \n",
    "\n",
    "Veamos un ejemplo: afirmamos el siguiente algoritmo calcula $\\lceil \\log_2 x\\rceil$:"
   ]
  },
  {
   "cell_type": "code",
   "execution_count": 94,
   "id": "556e2664-d1bc-4106-a7b5-24cbc795fe28",
   "metadata": {},
   "outputs": [],
   "source": [
    "def log_ceil(x):\n",
    "    i = 0\n",
    "    y = 1\n",
    "    if x <= 0:\n",
    "        return\n",
    "    \n",
    "    while y < x:\n",
    "        i = i+1\n",
    "        y = 2*y\n",
    "    return i"
   ]
  },
  {
   "cell_type": "markdown",
   "id": "6ae0456c-9838-4871-a6a0-e91c2dd311cc",
   "metadata": {},
   "source": [
    "Queremos probar que el resultado de esta función es $\\lceil \\log_2 x\\rceil$. Para hacerlo, notemos que cada vez que iteramos sobre el bucle, $i$ se incrementa por 1, y $y$ se duplica. Por lo tanto, $y$ siempre será una potencia de 2. Demostraremos que $y=2^i$ en todo momento, i.e., que es una invariante de bucle.\n",
    "\n",
    "* **Caso base:** Antes de entrar al bucle, $i=0$ y $y=1$. Claramente $1=2^0$, por lo cual se cumple.\n",
    "* **H.I.:** $y=2^i$ y la guardia se cumple, i.e. $y<x$.\n",
    "* **Paso inductivo:** Sean $i_n, y_n$ los valores de $i$ y $y$ al terminar la $n$-ésima iteración. Por H.I., $y_n=2^{i_n}$. Al terminar la iteración $n+1$, por la descripción del bucle sabemos que $i$ incrementa 1 y $y$ se duplica, es decir:\n",
    "\n",
    "$$ i_{n+1} = i_n + 1,\\qquad y_{n+1} = 2y_n$$\n",
    "\n",
    "Por H.I.:\n",
    "\n",
    "$$\\begin{align}\n",
    "y_{n+1} &= 2y_n\\\\\n",
    "&= 2\\cdot 2^{i_n}\\\\\n",
    "&= 2^{i_n+1}\\\\\n",
    "&= 2^{i_{n+1}}\n",
    "\\end{align}$$\n",
    "\n",
    "Por lo tanto, $y=2^i$ es una invariante de bucle.\n",
    "\n",
    "* **Postcondición:** Asumamos que después de la iteración $k$ la guardia es cierta, pero después de la $k+1$ es falsa. Es decir:\n",
    "\n",
    "$$y_k < x \\leq y_{k+1}$$\n",
    "\n",
    "Como $y_{k+1} = 2y_k$:\n",
    "\n",
    "$$y_k < x \\leq 2y_{k}$$\n",
    "\n",
    "Usando la invariante de bucle:\n",
    "\n",
    "$$2^{i_k} < x \\leq 2\\cdot 2^{i_k} = 2^{i_k+1} = 2^{i_{k+1}}$$\n",
    "\n",
    "Tomando el logaritmo:\n",
    "\n",
    "$$i_k\\log_2 2 < \\log_2 x \\leq i_{k+1} \\log_2 2$$\n",
    "\n",
    "Es decir:\n",
    "\n",
    "$$i_k < \\log_2 x \\leq i_{k+1}$$\n",
    "\n",
    "Por lo tanto, $i_{k+1}$ es el entero más cercano a $\\log_2 x$ (redondeado hacia arriba)."
   ]
  },
  {
   "cell_type": "markdown",
   "id": "2062ea30-a35f-4430-bfc6-50f01cdb9d8d",
   "metadata": {},
   "source": [
    "# Ejercicios"
   ]
  },
  {
   "cell_type": "markdown",
   "id": "d104c92d-e2ec-43a0-aaec-ccc074a7ba86",
   "metadata": {},
   "source": [
    "## Ejercicio 1\n",
    "\n",
    "Considera el siguiente algoritmo para calcular el producto punto entre los vectores $u$ y $v$:"
   ]
  },
  {
   "cell_type": "code",
   "execution_count": 10,
   "id": "93573afb-d2ce-4876-9cb1-66fec850d7f3",
   "metadata": {},
   "outputs": [],
   "source": [
    "def dot_product(u, v):\n",
    "    assert len(u) == len(v), \"Los vectores no tienen el mismo tamaño.\"\n",
    "    \n",
    "    if len(u) == 0:\n",
    "        return 0\n",
    "    else:\n",
    "        return dot_product(u[:-1], v[:-1]) + u[-1]*v[-1]"
   ]
  },
  {
   "cell_type": "markdown",
   "id": "f4c0b8be-915c-4682-b399-a8ea2b5c28ca",
   "metadata": {},
   "source": [
    "Prueba que es correcto usando inducción."
   ]
  },
  {
   "cell_type": "markdown",
   "id": "cd869cfe-886e-46de-800a-77576c7a3a44",
   "metadata": {},
   "source": [
    "*Aquí va tu demostración*"
   ]
  },
  {
   "cell_type": "markdown",
   "id": "aec3bd76-0b6a-485d-87d5-be226be8e92c",
   "metadata": {},
   "source": [
    "## Ejercicio 2\n",
    "\n",
    "Considera el siguiente algoritmo que revisa si un número es primo o no:"
   ]
  },
  {
   "cell_type": "code",
   "execution_count": 1,
   "id": "5cc64f71-531a-4664-9ebd-37d1bf1a9fe9",
   "metadata": {},
   "outputs": [],
   "source": [
    "def is_prime(n):\n",
    "    b = True\n",
    "    for i in range(2, n):\n",
    "        if n % k == 0:\n",
    "            return False\n",
    "    return True"
   ]
  },
  {
   "cell_type": "markdown",
   "id": "d710b125-daf2-4b9b-8274-4f617ce90a2d",
   "metadata": {},
   "source": [
    "Este algoritmo tiene complejidad $O(n)$. Mejórala y explica por qué tus cambios funcionan (*Hint:* solo tienes que cambiar los límites del bucle).\n",
    "\n",
    "Posteriormente, prueba que tu algoritmo modificado es correcto usando invariantes de bucle (*Hint:* tal vez sea conveniente que reescribas el código usando un `while`.)"
   ]
  },
  {
   "cell_type": "code",
   "execution_count": 5,
   "id": "2868fd05-b598-4764-ad61-06e7469e6c47",
   "metadata": {},
   "outputs": [],
   "source": [
    "# Aquí va tu algoritmo modificado"
   ]
  },
  {
   "cell_type": "markdown",
   "id": "a91855fd-571d-4d82-9d97-d275e0d748d8",
   "metadata": {},
   "source": [
    "*Aquí va tu demostración*"
   ]
  }
 ],
 "metadata": {
  "kernelspec": {
   "display_name": "Python 3 (ipykernel)",
   "language": "python",
   "name": "python3"
  },
  "language_info": {
   "codemirror_mode": {
    "name": "ipython",
    "version": 3
   },
   "file_extension": ".py",
   "mimetype": "text/x-python",
   "name": "python",
   "nbconvert_exporter": "python",
   "pygments_lexer": "ipython3",
   "version": "3.8.8"
  }
 },
 "nbformat": 4,
 "nbformat_minor": 5
}
