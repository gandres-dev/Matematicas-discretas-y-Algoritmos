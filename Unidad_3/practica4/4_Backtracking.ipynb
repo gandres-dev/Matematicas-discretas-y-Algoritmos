{
 "cells": [
  {
   "cell_type": "markdown",
   "metadata": {
    "colab_type": "text",
    "id": "view-in-github"
   },
   "source": [
    "<a href=\"https://colab.research.google.com/github/RodolfoFigueroa/madi2022-1/blob/main/Unidad_3/4_Backtracking.ipynb\" target=\"_parent\"><img src=\"https://colab.research.google.com/assets/colab-badge.svg\" alt=\"Open In Colab\"/></a>"
   ]
  },
  {
   "cell_type": "code",
   "execution_count": 90,
   "metadata": {},
   "outputs": [],
   "source": [
    "import numpy as np"
   ]
  },
  {
   "cell_type": "markdown",
   "metadata": {
    "id": "zxKs5VLdgNbv"
   },
   "source": [
    "En esta práctica veremos varios ejemplos de exploraciones exhaustivas, es decir, ir encontrando en el espacio de búsqueda elementos que cumplen ciertas características deseadas, una forma común de hacer esto es utilizando la técnica de backtracking (o vuelta hacia atrás), en donde se van buscando elementos con determinadas características en cada paso."
   ]
  },
  {
   "cell_type": "markdown",
   "metadata": {
    "id": "CkeUcRxK2RqK"
   },
   "source": [
    "# Ejemplos\n",
    "\n",
    "## Cambio\n",
    "Recordando un poco el ejemplo que vimos anteriormente sobre monedas y sus denominaciones, consideremos una lista $L$ de denominaciones posibles para nuestras monedas, y nuestro problema ahora será determinar de cuántas formas se puede formar el número $n$ utilizando dichas denominaciones (suponiendo que tenemos tantas monedas de cada denominación como sea necesario).\n",
    "\n",
    "Dada la lista $L$, podemos hacer backtracking del siguiente modo:\n",
    "\n",
    "* Iteramos sobre los elementos de la lista, y definimos una función `count(i,k)` que nos dice de cuántas formas podemos sumar a $k$ con denominaciones $L[i], L[i+1], \\dots$.\n",
    "* Podemos calcular el valor de `count(i,k)` de manera recursiva del siguiente modo:\n",
    "    * Si $L[i] > k$, esto nos dice que la moneda actual (`L[i]`) es más grande que el dinero que queremos partir (`k`), así que nos movemos a la siguiente, i.e. `count(i,k) = count(i+1, k)`.\n",
    "    * Si $L[i] \\leq k$, entonces podemos cambiar el dinero con la moneda actual. Entonces, consideramos dos casos: uno en el que sí lo cambiamos y nos quedamos en la misma moneda (`count(i, k-L[i])`) y otro en el que no lo hacemos y simplemente pasamos a la siguiente moneda (`count(i+1, k)`).\n",
    "\n",
    "Veamos una implementación de este algoritmo:"
   ]
  },
  {
   "cell_type": "code",
   "execution_count": 12,
   "metadata": {
    "colab": {
     "base_uri": "https://localhost:8080/"
    },
    "id": "JeIdMxC74fJb",
    "outputId": "38db70e0-5539-42e1-fdaf-b149dc5c28d5"
   },
   "outputs": [
    {
     "name": "stdout",
     "output_type": "stream",
     "text": [
      "6\n",
      "[[2, 2, 2, 2, 2], [2, 2, 2, 4], [2, 2, 6], [2, 8], [2, 4, 4], [4, 6]]\n"
     ]
    }
   ],
   "source": [
    "combs = []\n",
    "\n",
    "def count(L, k, i=0, out=None):\n",
    "    if out is None:\n",
    "        out = []\n",
    "    if i >= len(L):\n",
    "        return 0\n",
    "    if k == 0:\n",
    "        #print('entro', out)\n",
    "        combs.append(out)\n",
    "        return 1\n",
    "    if L[i] > k:\n",
    "        return count(L, k, i+1, out)\n",
    "    else:\n",
    "        temp = out.copy()\n",
    "        temp.append(L[i])\n",
    "        #print('temp', temp)\n",
    "        return count(L, k-L[i], i, temp) + count(L, k, i+1, out)\n",
    "\n",
    "L = [2, 8, 4, 6]\n",
    "print(count(L, 10))\n",
    "print(combs)"
   ]
  },
  {
   "cell_type": "markdown",
   "metadata": {
    "id": "kDx74yIJg9mm"
   },
   "source": [
    "## Reinas\n",
    "\n",
    "Un famoso problema algorítmico es que dado un tablero de ajedrez (de $8 \\times 8$), se determine cuántas formas hay de colocar $8$ reinas en el tablero de tal manera que no haya dos que se ataquen entre sí. Este es un ejemplo clásico de la técnica de backtracking, resolveremos el problema para un tablero de $n\\times n$ con $n$ reinas.\n",
    "\n",
    "Primero, representaremos el tablero como una lista $Q$ de tamaño $n$. La entrada $Q_i$ será un número $0\\leq j < n$ que nos dirá la columna en la cual se encuentra la reina de la $i$-ésima fila (de abajo hacia arriba). Por ejemplo, para el siguiente arreglo de reinas:\n",
    "\n",
    "![chess](chess.png)\n",
    "\n",
    "Su representación sería `[1, 3, 0, 2]`.\n",
    "\n",
    "Luego, definimos la siguiente función:"
   ]
  },
  {
   "cell_type": "code",
   "execution_count": 66,
   "metadata": {},
   "outputs": [],
   "source": [
    "def place_queens(n, row=0, Q=None, queens=None):\n",
    "    if Q is None:\n",
    "        Q = [None] * n\n",
    "    if queens is None:\n",
    "        queens = []\n",
    "        \n",
    "    if row == n:\n",
    "        queens.append(Q)\n",
    "        return\n",
    "    \n",
    "    for col in range(n):\n",
    "        legal = True\n",
    "        for j in range(row):\n",
    "            if Q[j] == col or Q[j] == col+row-j or Q[j] == col-row+j:\n",
    "                legal = False\n",
    "                break\n",
    "        if legal:\n",
    "            Q[row] = col\n",
    "            place_queens(n, row+1, Q.copy(), queens)\n",
    "    return queens"
   ]
  },
  {
   "cell_type": "markdown",
   "metadata": {},
   "source": [
    "Esta acepta cuatro argumentos:\n",
    "* `n`: Tamaño del tablero\n",
    "* `row`: Fila a partir de la cual se intenta insertar reinas, después de la cual se sube recursivamente hasta llegar a la última. Por defecto es cero (i.e., llenar el tablero completo)\n",
    "* `Q`: Lista de posiciones de las reinas, en el formato descrito previamente. Al principio está lleno de `None`.\n",
    "* `queens`: Lista de todas las soluciones posibles. Al principio es vacía.\n",
    "\n",
    "El algoritmo consiste en ir insertando reinas recursivamente, empezando de la fila de abajo. Se utiliza un bucle para intentar insertarla en cada columna de la fila actual, checando todas las filas anteriores para ver si la posición es válida. Si sí lo es, se inserta y se pasa a la siguiente."
   ]
  },
  {
   "cell_type": "markdown",
   "metadata": {},
   "source": [
    "Lo intentamos con un tablero de $4\\times 4$:"
   ]
  },
  {
   "cell_type": "code",
   "execution_count": 69,
   "metadata": {},
   "outputs": [
    {
     "data": {
      "text/plain": [
       "[[1, 3, 0, 2], [2, 0, 3, 1]]"
      ]
     },
     "execution_count": 69,
     "metadata": {},
     "output_type": "execute_result"
    }
   ],
   "source": [
    "queens = place_queens(4)\n",
    "queens"
   ]
  },
  {
   "cell_type": "markdown",
   "metadata": {},
   "source": [
    "## Suma de subconjuntos\n",
    "\n",
    "Dado un conjunto de números positivos $S$ y un número $x$, queremos determinar si existe un subconjunto $U\\subseteq S$ tal que la suma de los elementos de $U$ es $x$.\n",
    "\n",
    "Primero, notemos que hay dos casos base: si $x$ es cero, regresamos `verdadero` inmediatamente, ya que la suma del conjunto vacío lo cumple. Por otro lado, si $x<0$, o si $x\\neq 0$ pero $S$ es vacío, regresamos `falso`, ya que no existe solución.\n",
    "\n",
    "Por otro lado, para el caso general, consideremos un elemento $s\\in S$ arbitrario. Existe un subconjunto de $S$ que suma a $x$ si y solo si alguna de las dos proposiciones siguientes es verdadera:\n",
    "\n",
    "* Existe un subconjunto $U\\subseteq S$ que suma a $x$ y $s\\in U$.\n",
    "* Existe un subconjunto $U\\subseteq S$ que suma a $x$ y $s\\notin U$.\n",
    "\n",
    "El primer caso implica que debe de existir un subconjunto de $S$ que no incluya a $s$ y que sume a $x-s$. En el segundo caso, debe de existir un subconjunto de $S$ que no incluya a $s$, y que sume a $x$. Con esto, podemos reducir el problema a los siguientes dos subproblemas:\n",
    "\n",
    "* Subconjunto de $S\\setminus \\{s\\}$ que sume a $x-s$.\n",
    "* Subconjunto de $S\\setminus \\{s\\}$ que sume a $x$.\n",
    "\n",
    "Así, podemos definir el algoritmo recursivo:"
   ]
  },
  {
   "cell_type": "code",
   "execution_count": 3,
   "metadata": {},
   "outputs": [],
   "source": [
    "def subset_sum(S, x):\n",
    "    if x == 0:\n",
    "        return True\n",
    "    elif len(S) == 0 or x < 0:\n",
    "        return False\n",
    "    \n",
    "    S_minus = S.copy()\n",
    "    s = S_minus.pop()\n",
    "    b1 = subset_sum(S_minus, x-s)\n",
    "    b2 = subset_sum(S_minus, x)\n",
    "    \n",
    "    return b1 or b2"
   ]
  },
  {
   "cell_type": "markdown",
   "metadata": {},
   "source": [
    "Probándolo en un conjunto que sí sabemos que funciona:"
   ]
  },
  {
   "cell_type": "code",
   "execution_count": 5,
   "metadata": {},
   "outputs": [
    {
     "data": {
      "text/plain": [
       "True"
      ]
     },
     "execution_count": 5,
     "metadata": {},
     "output_type": "execute_result"
    }
   ],
   "source": [
    "S = [1,3,8,4]\n",
    "x = 15\n",
    "subset_sum(S, x)"
   ]
  },
  {
   "cell_type": "markdown",
   "metadata": {},
   "source": [
    "Y en uno que no funciona:"
   ]
  },
  {
   "cell_type": "code",
   "execution_count": 6,
   "metadata": {},
   "outputs": [
    {
     "data": {
      "text/plain": [
       "False"
      ]
     },
     "execution_count": 6,
     "metadata": {},
     "output_type": "execute_result"
    }
   ],
   "source": [
    "S = [1,3,8,4]\n",
    "x = 2\n",
    "subset_sum(S, x)"
   ]
  },
  {
   "cell_type": "markdown",
   "metadata": {},
   "source": [
    "Hacer copias de un arreglo es una operación costosa. Es más eficiente pasar el mismo arreglo cada vez, y simplemente cambiar los índices que consideramos:"
   ]
  },
  {
   "cell_type": "code",
   "execution_count": 83,
   "metadata": {},
   "outputs": [],
   "source": [
    "def subset_sum_index(S, x, r=None):\n",
    "    if r is None:\n",
    "        r = len(S)\n",
    "        \n",
    "    if x == 0:\n",
    "        return True\n",
    "    elif r == 0 or x < 0:\n",
    "        return False\n",
    "    \n",
    "    s = S[r-1]\n",
    "    b1 = subset_sum_index(S, x-s, r=r-1)\n",
    "    b2 = subset_sum_index(S, x, r=r-1)\n",
    "    \n",
    "    return b1 or b2"
   ]
  },
  {
   "cell_type": "code",
   "execution_count": 85,
   "metadata": {},
   "outputs": [
    {
     "data": {
      "text/plain": [
       "True"
      ]
     },
     "execution_count": 85,
     "metadata": {},
     "output_type": "execute_result"
    }
   ],
   "source": [
    "S = [1,3,8,4]\n",
    "x = 15\n",
    "subset_sum_index(S, x)"
   ]
  },
  {
   "cell_type": "markdown",
   "metadata": {},
   "source": [
    "Comparando los tiempos de ejcución para una lista de enteros grande:"
   ]
  },
  {
   "cell_type": "code",
   "execution_count": 102,
   "metadata": {},
   "outputs": [],
   "source": [
    "big_list = list(np.random.randint(0, 100, 300))"
   ]
  },
  {
   "cell_type": "code",
   "execution_count": 103,
   "metadata": {},
   "outputs": [
    {
     "name": "stdout",
     "output_type": "stream",
     "text": [
      "5.12 s ± 196 ms per loop (mean ± std. dev. of 7 runs, 1 loop each)\n"
     ]
    }
   ],
   "source": [
    "%%timeit\n",
    "subset_sum(big_list, x)"
   ]
  },
  {
   "cell_type": "code",
   "execution_count": 104,
   "metadata": {},
   "outputs": [
    {
     "name": "stdout",
     "output_type": "stream",
     "text": [
      "4.66 s ± 128 ms per loop (mean ± std. dev. of 7 runs, 1 loop each)\n"
     ]
    }
   ],
   "source": [
    "%%timeit\n",
    "subset_sum_index(big_list, x)"
   ]
  },
  {
   "cell_type": "markdown",
   "metadata": {
    "id": "6LT-dBXrMKSd"
   },
   "source": [
    "# Ejercicios\n",
    "\n",
    "## Ejercicio 1\n",
    "Dado un conjunto de palabras y un string, describe e implementa un algoritmo que permita contar cuántas oraciones diferentes puede formar la string en cuestión suponiendo que las únicas palabras que existen son las del conjunto inicial. Por ejemplo, si el conjunto de palabras es $\\{hola, ola, h\\}$, la string \"holah\" tiene dos posibles interpretaciones, una es \"hola h\", y la segunda \"h ola h\". Verifica tu algoritmo con: \n",
    "\n",
    "*   Conjunto de palabras `{a, as, tin, tinar, san, sana, atina, arce, ce, atinar}`, y la string \"atinarcesanas\".\n",
    "*   Conjunto de palabras `{i, like, ice, and, cream, icecream, man, go, mango}` y la string \"ilikeicecreamandmango\"."
   ]
  },
  {
   "cell_type": "markdown",
   "metadata": {
    "id": "XUxoUl52O785"
   },
   "source": [
    "**Descripción de tu algoritmo**\n",
    "\n",
    "Primero definiremos el algoritmo para encontar todas las segmentaciones posible de una palabra dada. Para eso utilizaré backtracking, primero veremos como estara formado nuestro árbol de recursion para visualizar en que momento haremos backtrack. \n",
    "Vemos que para encontrar las posibles maneras de segmentacion, tendremos que empezar el albol con las segmentacion de $1$ hasta $n$ en el primer nivel, por ejemplo:\n",
    "\n",
    "```\n",
    "string = 'holamundo'\n",
    "\n",
    "                   raiz\n",
    " /   /   /      /         \\     \\           \\       \n",
    " h ho hol hola holam holamun holamund holamundo\n",
    "/\\ ...                ...                   ...\n",
    "\n",
    "```\n",
    "Una vez encontrado el primer nivel, podemos ahora entender mejor el algortimo, el segundo nivel consistira nuevamente con las siguiente palabras con longitud que va variando en uno en uno. Es decir, tendremos como nodos las siguientes secuencia de caracteres tal que su longitud va a hacer siempre una incremento mas hasta llegar al ultimo caracter:\n",
    "\n",
    "```\n",
    "numero (n) sera igual a la longitud(particion)\n",
    "                   \n",
    "                    node\n",
    "   /    /    /      /     \\    \\      \\       \n",
    "   1    2    3   4         5     6   ... n \n",
    "\n",
    "```\n",
    "\n",
    "Con esto genera un arbol con las posibles segmentaciones y lo que tenemos que hacer es ir caminando sobre las ramas hasta llegar a lo hoja, que será cuando ya no sea posible encontrar más segmentaciones, en nuestro caso cuando la variable $i$ sea mayor a la longitud de la palabra, una vez llegado a este punto guardamos esa segmentación si solo si cumple la condición de que pertenezca al conjunto, en caso contrario, solo hacemo paso hacia atras para ir buscando nuevamente las posibles segmentaciones hasta llegar a la hoja de nuestro árbol."
   ]
  },
  {
   "cell_type": "code",
   "execution_count": 284,
   "metadata": {},
   "outputs": [],
   "source": [
    "\n",
    "def count_word(word, a=[],i=0, sols=0, conj=None):\n",
    "    \"\"\"\n",
    "    Cuenta cuántas oraciones diferentes puede formar la string en cuestión suponiendo\n",
    "    que las únicas palabras que existen son las del conjunto inicial\n",
    "    \"\"\"           \n",
    "    \n",
    "    if i >= len(word):\n",
    "        # La segmentacion esta completa       \n",
    "        flag = True\n",
    "        # Verificamos que este cada segmento en el conjunto\n",
    "        for seg in a:            \n",
    "            if seg not in conj:\n",
    "                flag = False\n",
    "                break\n",
    "                \n",
    "        if flag is True:                            \n",
    "            sols += 1\n",
    "            print('sol:', a)\n",
    "        return sols\n",
    "    \n",
    "    candidatos = [word[i:j] for j in range(i+1, len(word)+1)]\n",
    "    for k, c in enumerate(candidatos):             \n",
    "        a.append(c)\n",
    "        sols = count_word(word, a, i+(k+1), sols, conj)\n",
    "        a.remove(c)\n",
    "    return sols    "
   ]
  },
  {
   "cell_type": "markdown",
   "metadata": {},
   "source": [
    "## Tests"
   ]
  },
  {
   "cell_type": "code",
   "execution_count": 285,
   "metadata": {},
   "outputs": [
    {
     "name": "stdout",
     "output_type": "stream",
     "text": [
      "sol: ['h', 'ola', 'h']\n",
      "sol: ['hola', 'h']\n"
     ]
    },
    {
     "data": {
      "text/plain": [
       "2"
      ]
     },
     "execution_count": 285,
     "metadata": {},
     "output_type": "execute_result"
    }
   ],
   "source": [
    "c3 = ['hola', 'ola', 'h']\n",
    "string3 = 'holah'\n",
    "count_word(string3, conj=c3)"
   ]
  },
  {
   "cell_type": "code",
   "execution_count": 282,
   "metadata": {},
   "outputs": [
    {
     "name": "stdout",
     "output_type": "stream",
     "text": [
      "Numero de oraciones diferentes: 3\n"
     ]
    }
   ],
   "source": [
    "c1 = ['a', 'as', 'tin', 'tinar', 'san', 'sana', 'atina', 'arce', 'ce', 'atinar']\n",
    "string1 = 'atinarcesanas'\n",
    "print('Numero de oraciones diferentes:', count_word(string1, conj=c1))"
   ]
  },
  {
   "cell_type": "code",
   "execution_count": 283,
   "metadata": {},
   "outputs": [
    {
     "name": "stdout",
     "output_type": "stream",
     "text": [
      "Numero de oraciones diferentes: 4\n"
     ]
    }
   ],
   "source": [
    "c2 = ['i', 'like', 'ice', 'and', 'cream', 'icecream', 'man', 'go', 'mango']\n",
    "string2 = 'ilikeicecreamandmango'\n",
    "print('Numero de oraciones diferentes:', count_word(string2, conj=c2))"
   ]
  },
  {
   "cell_type": "markdown",
   "metadata": {},
   "source": [
    "## Ejercicio 2\n",
    "Supón que ahora en el ejemplo 1 no se tienen tantas monedas como se deseen. Es decir, se tiene una lista $L$ de denominaciones posibles, y un entero $k$ que nos indica que tenemos exactamente $k$ monedas de cada denominación posible. Describe e implementa un algoritmo que permita contar de cuántas formas se puede formar un entero $n$ con monedas de las denominaciones dadas, y usando a lo más $k$ monedas de cada denominación."
   ]
  },
  {
   "cell_type": "markdown",
   "metadata": {
    "id": "n4yGil8IPIo4"
   },
   "source": [
    "**Descripción de tu algoritmo**\n",
    "\n",
    "Para abordar primero el problema debemos pensar en como va ser la entrada y su estructura para después modelar nuestro algortimo. Ya que ahora será monedas finitas podemos pensar en una _lista_ que nos indique exactamente cuantas monedas tenemos y se indicará con la repeticion de la misma denominación, por ejemplo:\n",
    "\n",
    "$$L = [2, 2, 2, 4, 6, 4, 10]$$\n",
    "\n",
    "Nuestra lista nos dice que tenemos solamente tres $2$ para gastar dos $4$, un $6$ y por último un $10$. \n",
    "\n",
    "Una vez definida nuestra entrada, podemos proseguir con nuestro algoritmo que tomará esta entrada y nos devolvera la cantidad de formas para formar un entero $n$.\n",
    "\n",
    "Basicamente será backtracking, primero definimos nuestros casos base donde el algoritmo entrará para terminar la recursión. \n",
    "Nuestro algortimo empieza primero en verificar si el primer número de la lista es menor al valor buscado $n$, si es así tendremos dos casos, el primero va considerando que hemos deseado llevar la cuenta con la moneda que cumplio la condicion y generará una nueva lista quitando la moneda seleccionada, esto genera un camino donde llevaremos la cuenta hasta llegar a que $n=0$ que indicara que nuestras monedas que hemos encontrado son las suficientes para formar $n$ y terminará la recursión. Por último el segundo caso contempla seguir con la siguiente moneda y verificar si con ella podemos iniciar un posible camino que nos llevara a ver si podemos formar $n$ y esto se hará recursivamente hasta revisar las monedas."
   ]
  },
  {
   "cell_type": "code",
   "execution_count": 79,
   "metadata": {},
   "outputs": [],
   "source": [
    "def count(L, n, i=0, comb=None):    \n",
    "    \"\"\"Regresa la cantidad de formas de formar un entero n\"\"\"\n",
    "    if comb is None:\n",
    "        comb = []\n",
    "        \n",
    "    if n == 0:\n",
    "        print('comb',comb)\n",
    "        return 1\n",
    "        \n",
    "    if i >=  len(L):\n",
    "        return 0    \n",
    "    \n",
    "    if L[i] > n:        \n",
    "        return count(L, n, i+1, comb)\n",
    "    else:          \n",
    "        aux = comb.copy()\n",
    "        aux.append(L[i])\n",
    "        new_L = L.copy()\n",
    "        new_L.remove(L[i])\n",
    "        return count(new_L, n-L[i], i, aux) + count(L,n, i+1, comb)"
   ]
  },
  {
   "cell_type": "markdown",
   "metadata": {},
   "source": [
    "### Test 1\n",
    "\n",
    "Usamos la misma lista que el caso anterior de monedas infinitas, vemos que ahora soló nos da 2 debido a que nuestra monedas ahora estan contadas, solo podemos tomas un 2 y 6 para dar 10 y un 5 y 6 respectivamente."
   ]
  },
  {
   "cell_type": "code",
   "execution_count": 80,
   "metadata": {},
   "outputs": [
    {
     "name": "stdout",
     "output_type": "stream",
     "text": [
      "comb [2, 8]\n",
      "comb [4, 6]\n",
      "Cantidad de formas: 2\n"
     ]
    }
   ],
   "source": [
    "L = [2, 8, 4, 6]\n",
    "print('Cantidad de formas:', count(L, 10))"
   ]
  },
  {
   "cell_type": "markdown",
   "metadata": {},
   "source": [
    "### Test 2\n",
    "\n",
    "Podemos ver que la correctud el algoritmo, ya que nos muestra 8 formas para formar 12 unidades, vemos que nos apareces 4 veces el arreglo $[2,4,6]$ debido que le primer 2 es tomado de la primera modena y se toma el primer 4 y luego el 6, despues para la segunda se toma el primer 2, el segundo 4 y luego 6, despues se hace lo mismo, pero ahora con el segundo 2, primer 4 y luego 6.Y por último se toma el seguno 2, segundo 4 y luego 6."
   ]
  },
  {
   "cell_type": "code",
   "execution_count": 75,
   "metadata": {
    "scrolled": true
   },
   "outputs": [
    {
     "name": "stdout",
     "output_type": "stream",
     "text": [
      "comb [2, 2, 4, 4]\n",
      "comb [2, 2, 8]\n",
      "comb [2, 4, 6]\n",
      "comb [2, 4, 6]\n",
      "comb [2, 4, 6]\n",
      "comb [2, 4, 6]\n",
      "comb [4, 8]\n",
      "comb [8, 4]\n",
      "Cantidad de formas: 8\n"
     ]
    }
   ],
   "source": [
    "L = [2, 2, 4, 8, 4, 6]\n",
    "print('Cantidad de formas:', count(L, 12))"
   ]
  }
 ],
 "metadata": {
  "colab": {
   "collapsed_sections": [],
   "include_colab_link": true,
   "name": "Exploraciones exhaustivas.ipynb",
   "provenance": []
  },
  "kernelspec": {
   "display_name": "Python 3 (ipykernel)",
   "language": "python",
   "name": "python3"
  },
  "language_info": {
   "codemirror_mode": {
    "name": "ipython",
    "version": 3
   },
   "file_extension": ".py",
   "mimetype": "text/x-python",
   "name": "python",
   "nbconvert_exporter": "python",
   "pygments_lexer": "ipython3",
   "version": "3.9.7"
  }
 },
 "nbformat": 4,
 "nbformat_minor": 4
}
