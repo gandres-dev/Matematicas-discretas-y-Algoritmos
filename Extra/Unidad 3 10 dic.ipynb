{
 "cells": [
  {
   "cell_type": "markdown",
   "metadata": {},
   "source": [
    "# Heurísticas de creación de algoritmos\n",
    "\n",
    "En genral, tenemos dos tipos de problemas algorítmicos:\n",
    "\n",
    "- **Optimización.** Queremos encontrar un mínimo o un máximo para un problema en cierto **espacio de estados**.\n",
    "- **Decisión.** Queremos responder preguntas de sí/no también para un problema en cierto espacio de estados.\n",
    "\n",
    "No todos los problemas de algoritmos son así, pero una cantidad muy grande de los que son interesantes sí. Por ejemplo, insertar un elemento en una lista no está intentando optimizar ni decidir nada. Pero hay algunos problemas que ya hemos visto de este estilo. El problema de buscar un elemento en una diccionario es un problema de decisión: dado un diccionario $D$ y un elemento $x$, lo que queremos responder en el problema es si $x$ está en $D$.\n",
    "\n",
    "Veamos algunos ejemplos más:\n",
    "\n",
    "- **Resolver un Sudoku.** Dadas entradas en un tablero de Sudoku, decidir si hay una solución que lo complete o no. También, decidir si esta solución es única o no.\n",
    "- **Brazo robótico que une circuitos.** Dados puntos en plano, queremos encontrar un ciclo hamiltoniano de longitud mínima que los recorre.\n",
    "- **Decidir el número cromático de una gráfica.** Dada una gráfica $G$, queremos encontrar la mínima cantidad posible de colores necesarios para poder dar una buena coloración.\n",
    "- **Determinar el número de clique de una gráfica.** Dada una gráfica $G$, queremos encontrar la máxima cantidad posible de vértices que forman una gráfica completa.\n",
    "- **Determinar si una gráfica es bipartita o no.** Dada una gráfica $G$, ver si existe una partición de sus vértices en conjuntos $A$ y $B$ de modo que las únicas artistas vayan de $A$ a $B$.\n",
    "\n",
    "El primero y último son algorimos de decisión, mientras que el segundo, tercero y cuarto son algoritmos de optimización.\n",
    "\n",
    "## Espacio de estados\n",
    "\n",
    "En un problema de decisión o de optimización, es muy importante que quede claro el **espacio de estados**, es decir, todas las posibles configuraciones/entradas que debemos considerar para poder responder la pregunta. Para ello, en problemas de aplicación es muy importante decidir cómo estamos modelando el problema.\n",
    "\n",
    "Espacios de estados típicos en varios de estos problemas son:\n",
    "\n",
    "- Todas las permutaciones de $n$ elementos.\n",
    "- Todos los subconjunto de un conjunto de $n$ elementos.\n",
    "- Todas las configuraciones de $n$ puntos en el plano.\n",
    "- Todos los números del $1$ al $n$.\n",
    "- Para cierta $k$, todos subconjuntos de tamaño $k$ de $n$ elementos.\n",
    "- Todos los vectores de $m$ elementos tomados de un conjunto de $n$ elementos.\n",
    "\n",
    "**Ejemplo.** Dada una lista de $n$ números, queremos:\n",
    "- Decidir si hay dos de ellos cuya suma es $1000$.\n",
    "- Decidir cuáles dos ellos tienen la suma más pequeña.\n",
    "\n",
    "El primer problema es un problema de decisión. El segundo es un problema de optimización. Notemos que ambos problemas tienen como espacio de estados a los subconjuntos de $2$ elementos de un conjunto de $n$ elementos.\n",
    "\n",
    "Hay otros problemas que tiene espacios de estados más complicados, o más particulares al problema. Por ejemplo, consideremos los siguientes dos problemas.\n",
    "\n",
    "**Ejemplo.**\n",
    "\n",
    "- ¿Será posible colocar 15 caballos de ajedrez en un tablero de ajedrez sin que se ataquen entre sí?\n",
    "- ¿Cuál es el máximo número de caballos de ajedrez que se pueden poner en un tablero de ajedrez sin que se ataquen entre sí?\n",
    "- ¿Será posible colocar $3$ torres, $5$ caballos y $4$ alfiles sin que se ataquen entre sí?"
   ]
  },
  {
   "cell_type": "markdown",
   "metadata": {},
   "source": [
    "# Heurísticas algorítmicas\n",
    "\n",
    "Ya que tenemos un problema algorítmico de decisión o de optimización y entendemos bien cuál es espacio de estados que debemos estudiar, lo siguiente es saber dónde en ese espacio de estados se encuentra la solución óptima o bien la instancia que cumple lo que queremos.\n",
    "\n",
    "Hay muchas formas de resolver este tipo de problemas algorítmicos, pero en transcurso de la historia del análisis de algoritmos, estas formas se han agrupado en **heurísticas** generales que ayudan en muchas situaciones.\n",
    "\n",
    "A continuación ponemos algunas:\n",
    "\n",
    "- Explorar todo el espacio de estados (fuerza bruta): Consiste en estudiar todos los elementos del espacio de estados uno por uno para ver si son el óptimo/cumplen la propiedad que queremos.\n",
    "- Explorar el espacio de estados de manera inteligente: Consiste en estudiar parcialmente el espacio de estados, descartando con suficiente anticipación las exploraciones que ya no serán exitosas.\n",
    "- Reducir el espacio de estados con argumentos de simetría.\n",
    "- Explorar el espacio de estados de manera voraz (glotona, avariciosa).\n",
    "- Dividir el problema que queremos en problemas más pequeños que sean más sencillos de resolver.\n",
    "- Explotar una estructura recursiva de los objetos del problema para poner soluciones a instancias grandes en términos de soluciones de instancias más pequeñas.\n",
    "- Programación dinámica: Hacer lo anterior con mucho más cuidado, para no repetir múltiples veces el cómputo para casos pequeños."
   ]
  },
  {
   "cell_type": "markdown",
   "metadata": {},
   "source": [
    "## Exploración exhaustiva\n",
    "\n",
    "Consiste en explorar todo el espacio de estados para buscar el valor óptimo o el testigo.\n",
    "\n",
    "Es una técnica básica, pero que a veces es la única con la que contamos. Usualmente es la única opción en problemas con muy poca estructura, o en problemas en donde queremos asegurarnos de pasar por todas las posibilidades.\n",
    "\n",
    "También se conoce como \"fuerza bruta\", o como \"explorar por completo el espacio de estados\".\n",
    "\n",
    "Usaremos esta heurística para resolver los siguientes problemas. Aunque no necesariamente sea la mejor heurística para estos problemas, ayudará a entender el concepto que estamos estudiando.\n",
    "\n",
    "## Problemas de exploración exhaustiva\n",
    "\n",
    "**Problema 1.** ¿De cuántas formas se puede poner a $10000$ como suma de cuadrados de dos números enteros positivos? ¿En cuál de las expresiones $x^2+y^2=10000$ se minimiza $3x+5y-1$?\n",
    "\n",
    "**Problema 2.** Se toman tres enteros $a$, $b$ y $c$ en el intervalo $[1,100]$. ¿Para cuáles de ellos el valor de $a^2+2b^2+3c^2-2ab-5bc-7ca$ es mínimo?\n",
    "\n",
    "**Problema 3.** ¿Cuál es la palabra más larga en español que tenga únicamente cuatro vocales?\n",
    "\n",
    "**Problema 4.** ¿Existe alguna palabra en español que use exactamente diez vocales y diez consonantes? Si sí, ¿cuántas hay?\n",
    "\n",
    "**Problema 5.** Las letras $a,b,c,d,e,f,g,h,i,j$ representan dígitos distintos. ¿para cuantas elecciones tenemos que $\\frac{abcde}{fghij}$ es un número entero? Aquí $abcde$ y $fghij$ son los números de cinco dígitos obtenidos de concatenar los dígitos correspondientes."
   ]
  },
  {
   "cell_type": "markdown",
   "metadata": {},
   "source": [
    "## Soluciones con exploración exhaustiva\n",
    "\n",
    "**Problema 1.** ¿De cuántas formas se puede poner a $10000$ como suma de cuadrados de dos números enteros positivos? ¿En cuál de las expresiones $x^2+y^2=10000$ se minimiza $3x+5y-1$?\n",
    "\n",
    "Para el Problema 1, el espacio de estados que queremos explorar son las parejas $(x,y)$ con $x$ y $y$ en el intervalo $[1,99]$. Una exploración exhaustiva verifica todos los casos posibles. Implementaremos esto en Python usando dos ciclos."
   ]
  },
  {
   "cell_type": "code",
   "execution_count": 11,
   "metadata": {
    "ExecuteTime": {
     "end_time": "2020-11-20T18:00:30.892295Z",
     "start_time": "2020-11-20T18:00:30.865947Z"
    }
   },
   "outputs": [
    {
     "name": "stdout",
     "output_type": "stream",
     "text": [
      "4\n",
      "[(28, 96), (60, 80), (80, 60), (96, 28)]\n",
      "427\n",
      "(96, 28)\n"
     ]
    }
   ],
   "source": [
    "# Primero, la exploración exhaustiva para ver quienes son todas las parejas\n",
    "cuantos=0\n",
    "cuales=[]\n",
    "for x in range(1,100):\n",
    "    for y in range(1,100):\n",
    "        if x**2+y**2==10000:\n",
    "            cuantos+=1\n",
    "            cuales+=[(x,y)]\n",
    "            \n",
    "print(cuantos)\n",
    "print(cuales)\n",
    "\n",
    "# Ahora, hagamos otra exploración para ver en cuál se minimiza 3x+5y-1\n",
    "minimo=10000000\n",
    "for pair in cuales:\n",
    "    x=pair[0]\n",
    "    y=pair[1]\n",
    "    if 3*x+5*y-1<minimo:\n",
    "        minimo=3*x+5*y-1\n",
    "        optimo=(x,y)\n",
    "\n",
    "print(minimo)\n",
    "print(optimo)"
   ]
  },
  {
   "cell_type": "markdown",
   "metadata": {},
   "source": [
    "Pensemos que el Problema 1 se generaliza para dos números $x$ y $y$ que queremos que su cuadrado sume $n$. En este caso, el espacio de estados sería, de acuerdo a nuestra estrategia anterior, que $x$ y $y$ estén en $[1,2,\\ldots, \\lceil \\sqrt{n} \\rceil]$.\n",
    "\n",
    "En el primer ciclo estamos corriendo por $O(\n",
    "\\sqrt{n})$ elementos y el que está anidado también corre por $O(\\sqrt{n})$ así que estos ciclos anidados corren en tiempo $O(n)$. Con este tiempo se puede tanto determinar cuáles parejas son, como determinar cuál es el mínimo de la expresión $3x+5y-1$ sujeta a las condiciones $x^2+y^2=n$ y $x,y$ enteros."
   ]
  },
  {
   "cell_type": "markdown",
   "metadata": {},
   "source": [
    "**Problema 2.** Se toman tres enteros $a$, $b$ y $c$ en el intervalo $[1,100]$. ¿Para cuáles de ellos el valor de $a^2+2b^2+3c^2-2ab-5bc-7ca$ es mínimo?\n",
    "\n",
    "En este caso tenemos menos simetría en las variables $a$, $b$ y $c$, por lo que en este problema tiene un poco más de sentido hacer una exploración exhaustiva. Necesitamos tres ciclos anidados para explorar el espacio de estados."
   ]
  },
  {
   "cell_type": "code",
   "execution_count": 63,
   "metadata": {
    "ExecuteTime": {
     "end_time": "2020-11-19T18:56:44.983823Z",
     "start_time": "2020-11-19T18:56:44.014165Z"
    }
   },
   "outputs": [
    {
     "name": "stdout",
     "output_type": "stream",
     "text": [
      "-80000\n",
      "(100, 100, 100)\n"
     ]
    }
   ],
   "source": [
    "def funcion(a,b,c):\n",
    "    return(a**2+2*b**2+3*c**2-2*a*b-5*b*c-7*c*a)\n",
    "\n",
    "minimo=100000\n",
    "for a in range(1,101):\n",
    "    for b in range(1,101):\n",
    "        for c in range(1,101):\n",
    "            F=funcion(a,b,c)\n",
    "            # Típica forma de ir guardando el optimo.\n",
    "            if F<minimo:\n",
    "                minimo=F\n",
    "                optimo=(a,b,c)\n",
    "                \n",
    "print(minimo)\n",
    "print(optimo)"
   ]
  },
  {
   "cell_type": "markdown",
   "metadata": {},
   "source": [
    "Si el problema fuera para números en el intervalo $[1,\\ldots,n]$, entonces el algoritmo de acá arriba corre en tiempo $O(n^3)$. Si fuera para $k$ números en ese intervalo, el tiempo cambia a $O(n^k)$."
   ]
  },
  {
   "cell_type": "markdown",
   "metadata": {},
   "source": [
    "**Problema 3.** ¿Cuál es la palabra más larga en español que tenga únicamente cuatro vocales?\n",
    "\n",
    "Primero haremos una función auxiliar que cuenta vocales. Después, haremos una exploración exhaustiva palabra por palabra para determinar cuáles tienen exactamente cuatro palabras y ver cuál de ellas es la más grande.\n",
    "\n",
    "Para nuestra exploración exhaustiva, tomaremos como espacio de estados la lista de palabras en español disponible en <a href=\"http://www.gwicks.net/dictionaries.htm\">este sitio</a>.\n"
   ]
  },
  {
   "cell_type": "code",
   "execution_count": 2,
   "metadata": {
    "ExecuteTime": {
     "end_time": "2020-11-20T17:20:06.445138Z",
     "start_time": "2020-11-20T17:20:06.418696Z"
    }
   },
   "outputs": [
    {
     "name": "stdout",
     "output_type": "stream",
     "text": [
      "4\n",
      "12\n",
      "9\n"
     ]
    }
   ],
   "source": [
    "# En la lista de palabras, las siguientes\n",
    "# letras aparecen como vocales. Notemos\n",
    "# cómo sí hay palabras con, por ejemplo ì, lo que\n",
    "# no es correcto en español, pero sí debemos considerarlo.\n",
    "\n",
    "vocales='aeiouáéíàèìòùóúüAEIOUÁÉÍÓÚÜÀÈÌÒÙ'\n",
    "# Función auxiliar para contar vocales. Notemos que, en cierto sentido\n",
    "# es una búsqueda exhaustiva dentro de la palabra.\n",
    "def contarvocales(palabra):\n",
    "    cuenta=0\n",
    "    for j in palabra:\n",
    "        if j in vocales:\n",
    "            cuenta+=1\n",
    "    return cuenta\n",
    "\n",
    "# Hacemos algunas pruebas para ver que la funció auxiliar hace lo que queremos\n",
    "print(contarvocales('Hola mundo!'))\n",
    "print(contarvocales('Esta oración tiene acentos'))\n",
    "print(contarvocales('PIngÜinoS y MurCIElAGOs'))"
   ]
  },
  {
   "cell_type": "code",
   "execution_count": 44,
   "metadata": {
    "ExecuteTime": {
     "end_time": "2020-11-19T17:37:52.330030Z",
     "start_time": "2020-11-19T17:37:52.070948Z"
    }
   },
   "outputs": [
    {
     "name": "stdout",
     "output_type": "stream",
     "text": [
      "Las palabras con cuatro vocales y la máxima cantidad de letras tienen 14 letras. \n",
      "Son las siguientes 5:\n",
      "- circunscriban\n",
      "- prescriptibles\n",
      "- transformables\n",
      "- transpondremos\n",
      "- transportables\n"
     ]
    }
   ],
   "source": [
    "lista=open('espanol.txt','r',encoding = \"ISO-8859-1\")\n",
    "linea=lista.readline()\n",
    "maximo=0\n",
    "\n",
    "# Vamos a encontrar todas las palabras que sean óptimas y guardarlas en esta lista.\n",
    "mejores=[]\n",
    "while linea:\n",
    "    # Algunas líneas de nuestra lista incluyen 'subj' al final, por eso primero\n",
    "    # las limpiamos con esto.\n",
    "    limpio=linea[:-1].split(' ')[0]\n",
    "    # Ahora sí, procesamos la cadena limpia. Típico algoritmo que va almacenando los\n",
    "    # mínimos.\n",
    "    if contarvocales(limpio)==4:\n",
    "        if len(limpio)>maximo:\n",
    "            maximo=len(limpio)\n",
    "            mejores=[mejor]\n",
    "            mejor=limpio\n",
    "        if len(limpio)==maximo:\n",
    "            mejores.append(limpio)\n",
    "    linea=lista.readline()\n",
    "\n",
    "print('''Las palabras con cuatro vocales y la máxima cantidad de letras tienen {} letras. \\nSon las siguientes {}:'''.format(maximo,len(mejores)))\n",
    "for palabra in mejores:\n",
    "    print('- '+palabra)\n",
    "    \n",
    "lista.close()"
   ]
  },
  {
   "cell_type": "markdown",
   "metadata": {},
   "source": [
    "**Problema 4.** ¿Existe alguna palabra en español que use exactamente diez vocales y diez consonantes? Si sí, ¿cuántas hay?\n",
    "\n",
    "Una vez más, nuestro espacio de estados será la lista de palabras en español que cargamos previamente."
   ]
  },
  {
   "cell_type": "code",
   "execution_count": 4,
   "metadata": {
    "ExecuteTime": {
     "end_time": "2020-11-20T17:27:29.299867Z",
     "start_time": "2020-11-20T17:27:28.983233Z"
    }
   },
   "outputs": [
    {
     "name": "stdout",
     "output_type": "stream",
     "text": [
      "Hay 2 palabras con diez vocales y diez consontantes. Son:\n",
      "- desnacionalizaciones\n",
      "- impermeabilizaríamos\n"
     ]
    }
   ],
   "source": [
    "lista=open('espanol.txt','r',encoding = \"ISO-8859-1\")\n",
    "linea=lista.readline()\n",
    "\n",
    "# Vamos a encontrar todas las palabras que sean óptimas y guardarlas en esta lista.\n",
    "testigos=[]\n",
    "while linea:\n",
    "    # Algunas líneas de nuestra lista incluyen 'subj' al final, por eso primero\n",
    "    # las limpiamos con esto.\n",
    "    limpio=linea[:-1].split(' ')[0]\n",
    "    # Ahora sí, procesamos la cadena limpia. Típico algoritmo que va almacenando lo que\n",
    "    # cumple.\n",
    "    if contarvocales(limpio)==10 and len(limpio)==20:\n",
    "        testigos.append(limpio)\n",
    "    linea=lista.readline()\n",
    "\n",
    "print('''Hay {} palabras con diez vocales y diez consontantes. Son:'''.format(len(testigos)))\n",
    "for j in testigos:\n",
    "    print('- ' + j)\n",
    "    \n",
    "lista.close()"
   ]
  },
  {
   "cell_type": "markdown",
   "metadata": {},
   "source": [
    "Consideremos el siguiente problema que se parece al anterior, pero en vez de ser de decisión es de optimización:\n",
    "\n",
    "**Problema.** Encontrar el mayor entero $k$ tal que en español hay una palabra que use exctamente $k$ vocales y $k$ consonantes.\n",
    "\n",
    "Observemos que podemos resolver este problema de optimización resolviendo varias instancias del siguiente problema de decisión:\n",
    "\n",
    "**Problema.** Dado un entero $k$, determinar si en español hay una palabra que use exactamente $k$ vocales y $k$ consonantes.\n",
    "\n",
    "Aunque a veces esta estrategia es lo mejor para algunos problemas, hay otros problemas en los que hay mejores formas de resolver la versión de optimización."
   ]
  },
  {
   "cell_type": "markdown",
   "metadata": {},
   "source": [
    "Pensemos en la complejidad de un problema un poco más general, y que prácticamente abarca los dos anteriores.\n",
    "\n",
    "**Problema.** Dada una lista $C$ de $m$ caracteres, una lista $P$ de $n$ palabras, cada una con longitud a lo más $l$, para cada palabra, decir cuántos caracteres de $C$ tiene, contando repeticiones.\n",
    "\n",
    "Haciendo el algoritmo de arriba, tenemos ciclos anidados. Cada \n",
    "caracter de cada palabra en $P$ se debe buscar en $C$. Como $C$ tiene $m$ elementos, esto toma tiempo $O(m)$. Como cada palabra tiene longitud a lo más $l$, cada palabra se verifica en tiempo $O(lm)$. Como hay $n$ palabras, el algoritmo corre en tiempo $O(lmn)$.\n",
    "\n",
    "Esto se puede mejorar a tiempo cerca de $O(ln)$ si implementamos $C$ como un diccionario o conjunto, pues tiene tiempo de búsqueda cerca de $O(1)$."
   ]
  },
  {
   "cell_type": "markdown",
   "metadata": {},
   "source": [
    "**Problema 5.** Las letras $a,b,c,d,e,f,g,h,i,j$ representan dígitos distintos. ¿para cuantas elecciones tenemos que $\\frac{abcde}{fghij}$ es un número entero? Aquí $abcde$ y $fghij$ son los números de cinco dígitos obtenidos de concatenar los dígitos correspondientes.\n",
    "\n",
    "Aquí hay que decidir cuidadosamente el espacio de estados. Si elegimos como espacio de estados que cada letra tome cada una de las 10 posibilidades que tiene, y luego verificamos duplicados, y luego procesamos, se tendrán que verificar $\\approx10^{10}$ casos. Esto es demasiado, pues son 10 mil millones de casos.\n",
    "\n",
    "¿Queremos que sean todas las permutaciones posibles? Son 10!=3628800. Está bien, no son tantísimas. Pero este sería un tiempo imposible para permutaciones de más números."
   ]
  },
  {
   "cell_type": "code",
   "execution_count": 31,
   "metadata": {
    "ExecuteTime": {
     "end_time": "2020-11-27T20:40:54.858678Z",
     "start_time": "2020-11-27T20:40:49.848173Z"
    }
   },
   "outputs": [
    {
     "name": "stdout",
     "output_type": "stream",
     "text": [
      "3628800\n"
     ]
    }
   ],
   "source": [
    "def perms(lista):\n",
    "    L = len(lista)\n",
    "    if L == 1:\n",
    "        return [lista]\n",
    "    else:\n",
    "        old = perms(lista[:-1])\n",
    "        last = lista[-1]\n",
    "        new = []\n",
    "        for k in range(L):\n",
    "            for perm in old:\n",
    "                to_add = perm[:k]+[last]+perm[k:]\n",
    "                new.append(to_add)\n",
    "        return new\n",
    "    \n",
    "# Creamos las permutaciones que nos interesan\n",
    "numeros=[1,2,3,4,5,6,7,8,9,0]\n",
    "permutaciones=perms(numeros)\n",
    "print(len(permutaciones))"
   ]
  },
  {
   "cell_type": "code",
   "execution_count": 6,
   "metadata": {
    "ExecuteTime": {
     "end_time": "2020-11-20T17:43:24.221363Z",
     "start_time": "2020-11-20T17:42:50.054782Z"
    }
   },
   "outputs": [
    {
     "name": "stdout",
     "output_type": "stream",
     "text": [
      "Hay 281 soluciones\n"
     ]
    }
   ],
   "source": [
    "# Ahora recorramos cada una de las permutaciones y procesemos. Vamos\n",
    "# a almacenar todas las soluciones y luego las contamos.\n",
    "\n",
    "soluciones=[]\n",
    "for pi in permutaciones:\n",
    "    first=[str(j) for j in pi[:5]]\n",
    "    last=[str(j) for j in pi[5:]]\n",
    "    a=int(''.join(first))\n",
    "    b=int(''.join(last))\n",
    "    if a%b==0:\n",
    "        soluciones.append((a,b))\n",
    "\n",
    "print(\"Hay {} soluciones\".format(len(soluciones)))"
   ]
  },
  {
   "cell_type": "markdown",
   "metadata": {},
   "source": [
    "La función auxiliar `perms` regresa una lista con todas las permutaciones, que puede o no ser lo que queremos. Un pequeño problema de esto es que además de usar $\\Theta(n!)$ tiempo, también se usa $\\Theta(n!)$ espacio, pues regresa una lista con todas las permutaciones.\n",
    "\n",
    "Hay formas de mejorar esta complejidad en espacio, por ejemplo, haciendo un generador de permutaciones, o bien ir procesando cada permutación conforme aparezca. Esto requiere de una cuidadosa adaptación del argumento recursivo."
   ]
  },
  {
   "cell_type": "code",
   "execution_count": null,
   "metadata": {},
   "outputs": [],
   "source": [
    "# En vez de crear una función que de una lista de todas las\n",
    "# permutaciones, vamos lidiando con cada permutación, una\n",
    "# por una. Pero cómo estamos trabajando recursivamente,hay que\n",
    "# tener cuidado de sólo procesar en el nivel superior.\n",
    "\n",
    "numeros=[1,2,3,4,5,6,7,8,9,0]\n",
    "permutaciones=perms(numeros)\n",
    "\n",
    "def problema5(lista):\n",
    "    L=len(lista)\n",
    "    if L==1:\n",
    "        return [lista]\n",
    "    else:\n",
    "        old=perms(lista[:-1])\n",
    "        last=lista[-1]\n",
    "        new=[]\n",
    "        for k in range(L):\n",
    "            for perm in old:\n",
    "                to_add=perm[:k]+[last]+perm[k:]\n",
    "                # Ya no vamos al\n",
    "                # new.append(to_add)\n",
    "        return new\n",
    "    \n",
    "# Creamos las permutaciones que nos interesan\n",
    "numeros=[1,2,3,4,5,6,7,8,9,0]\n",
    "permutaciones=perms(numeros)"
   ]
  },
  {
   "cell_type": "markdown",
   "metadata": {},
   "source": [
    "## Exploración exhaustiva recortada\n",
    "\n",
    "Consiste en dejar de explorar posibilidades que ya no se pueden extender a posibilidades exitosas. Esto no es lo mismo que reducir el espacio de estados. Tampoco quiere decir que no exploremos todas las posibilidades. Consiste en dar argumentos para que nuestro algoritmo revise menos casos y siga dando la respuesta correcta.\n",
    "\n",
    "Retomemos uno de los problemas de la sección anterior:\n",
    "\n",
    "**Problema 1.** ¿De cuántas formas se puede poner a $10000$ como suma de cuadrados de dos números enteros positivos? ¿En cuál de las expresiones $x^2+y^2=10000=100^2$ se minimiza $3x+5y-1$?\n",
    "\n",
    "Recortemos el espacio de estados a partir de las siguientes dos observaciones:\n",
    "- Ambos $x$ y $y$ tienen que ser pares\n",
    "- Si $x$ ya está dada, no tiene chiste mover $y$ por todos sus valores posibles de $1$ a $100$ pues por tamaño ya sólo puede tener pocas posibilidades.\n",
    "\n",
    "$y$ ya nada más puede ser a lo mucho $\\approx\\sqrt{10000-x^2}$. Esto ahorra algunos pasos.\n",
    "\n",
    "Los otros problemas también se prestan a este tipo de recorte de espacio de estados."
   ]
  },
  {
   "cell_type": "code",
   "execution_count": 15,
   "metadata": {
    "ExecuteTime": {
     "end_time": "2020-11-20T18:00:45.173894Z",
     "start_time": "2020-11-20T18:00:45.155927Z"
    }
   },
   "outputs": [
    {
     "name": "stdout",
     "output_type": "stream",
     "text": [
      "[(28, 96), (60, 80), (80, 60), (96, 28)]\n"
     ]
    }
   ],
   "source": [
    "soluciones=[]\n",
    "for x in range(1,100):\n",
    "    for y in range(1,int((10000-x**2)**(0.5)+1)):\n",
    "        if x**2+y**2==10000:\n",
    "            soluciones.append((x,y))\n",
    "            \n",
    "print(soluciones)"
   ]
  },
  {
   "cell_type": "markdown",
   "metadata": {},
   "source": [
    "## Problemas de exploración exhaustiva recortada\n",
    "\n",
    "Pongamos otros cuantos problemas que se pueden estudiar usando un recorte de espacio de estados.\n",
    "\n",
    "**Problema 6.** Tenemos que encontrar todas las parejas de palabras `x` y `y` en español que sean diferentes y que `x y` tenga en total 9 caracteres.\n",
    "\n",
    "**Problema 7.** Queremos encontrar para cuantas parejas `x` y `y` de palabras en español sucede que cada una de ellas tiene por lo menos cinco letras y las últimas cinco letras de la primera son iguales a las primeras cinco letras de la última. \n",
    "\n",
    "**Problema 8.** Tenemos el siguiente arreglo de números $$[4,1,7,4,2,5,5,7,1,8,4,9,9,1,4,1,5,7,2,8,3,6,1]$$. Queremos determinar de cuántas formas se pueden elegir algunos de estos números de forma consecutiva de modo que sumen $18$.\n",
    "\n",
    "**Problema 9.** Una **matriz mágica sencilla**  consiste de una matriz de $3\\times 3$, la suma de las entradas en cada fila es un cierto número $x$ y la suma de las entradas en cada columna es ese mismo número $x$. Las entradas deben ser los números del $1$ al $9$. ¿Cuántas matrices mágicas existen?\n",
    "\n",
    "**Problema 10.** Se cayeron los $12$ números de un reloj. Se quieren volver a poner, uno en cada posición. No importa tanto saber la hora, pero es muy importante que la suma de tres de esos números consecutivos (en orden cíclico) no sea $13$, porque da mala suerte. ¿De cuántas formas es posible hacer esto?"
   ]
  },
  {
   "cell_type": "markdown",
   "metadata": {},
   "source": [
    "Veamos los problemas uno por uno.\n",
    "\n",
    "**Problema 6.** Tenemos que encontrar todas las parejas de palabras `x` y `y` en español que sean diferentes y que `x y` tenga en total 9 caracteres.\n",
    "\n",
    "Podemos pensar el espacio de estados como todas las parejas de palabras en español y procesar cada una de ellas. Si lo exploramos de manera directa, esto toma tiempo cuadrático en la cantidad de palabras en español. Al procesar cada posibilidad seguro que cubrimos todas, pero parece que hay cierta pérdida de tiempo pues las palabras grandes (de $7$ letras o más) las estamos considerando en muchas parejas, pero todas ellas van a fallar.\n",
    "\n",
    "Una mejor forma de explorar el espacio de estados es primero usar tiempo lineal en descartar las palabras grandes y luego usar tiempo cuadrático en una lista mucho más corta."
   ]
  },
  {
   "cell_type": "code",
   "execution_count": 49,
   "metadata": {
    "ExecuteTime": {
     "end_time": "2020-11-20T20:01:49.639042Z",
     "start_time": "2020-11-20T20:01:49.510058Z"
    }
   },
   "outputs": [
    {
     "name": "stdout",
     "output_type": "stream",
     "text": [
      "['a\\n', 'aaronita\\n', 'aarónico\\n', 'aba\\n', 'ababa\\n', 'ababillarse\\n', 'ababol\\n', 'abacal\\n', 'abacalero\\n', 'abacero\\n']\n"
     ]
    },
    {
     "data": {
      "text/plain": [
       "80383"
      ]
     },
     "execution_count": 49,
     "metadata": {},
     "output_type": "execute_result"
    }
   ],
   "source": [
    "with open('listado-general.txt', 'r', encoding = \"utf8\") as f:\n",
    "    lines = f.readlines()\n",
    "    print(lines[:10])\n",
    "    num_lines = len(lines)\n",
    "num_lines"
   ]
  },
  {
   "cell_type": "code",
   "execution_count": 50,
   "metadata": {
    "ExecuteTime": {
     "end_time": "2020-11-20T20:01:49.639042Z",
     "start_time": "2020-11-20T20:01:49.510058Z"
    }
   },
   "outputs": [
    {
     "name": "stdout",
     "output_type": "stream",
     "text": [
      "Los casos a checar sin cortar la búsqueda son aproximadamente 80383^2 = 6461426689\n",
      "Los casos en la búsqueda cortada son aproximadamente 32936^2 = 1084780096\n"
     ]
    }
   ],
   "source": [
    "words = []\n",
    "with open('0_palabras_todas.txt', 'r', encoding = \"utf8\") as f:\n",
    "    lines = f.readlines()\n",
    "    for line in lines:\n",
    "        lst = line.strip()\n",
    "        if 1 < len(lst) < 8:\n",
    "            words.append(lst)\n",
    "    \n",
    "print(f\"Los casos a checar sin cortar la búsqueda son aproximadamente {num_lines}^2 = {num_lines**2}\")\n",
    "print(f\"Los casos en la búsqueda cortada son aproximadamente {len(words)}^2 = {len(words)**2}\")"
   ]
  },
  {
   "cell_type": "markdown",
   "metadata": {},
   "source": [
    "Para reducir el espacio de estados, podemos ordenar la lista de palabras por longitud ascendente. Después, tomamos una palabra de la lista (llámese $u$) y recorremos la lista en un bucle. Denotando con $v$ la palabra obtenida en cada iteración del bucle, tenemos que la combinación $u+v$ es una palabra válida si:\n",
    "\n",
    "$$ |u+v| = |u|+|v| = 9 $$\n",
    "\n",
    "Sin embargo, si en algún momento encontramos una $v$ tal que $|u|+|v|>$, sabemos que podemos detener el bucle ahí, ya que como la lista está ordenada, todas las palabras posteriores a $v$ también cumplirán esto. Implementando esto:\n",
    "\n",
    "- Estamos usando tiempo $O(n)$ primero para reducir la lista a una de palabras más cortas.\n",
    "- Estamos usando tiempo $O(n\\log n)$ en la lista de palabras cortas para ordenarla.\n",
    "- Así, el tiempo $O(n^2)$ que usamos lo podemos recortar. Esto es muy conveniente pues es lo que asintóticamente tiene la carga más pesada."
   ]
  },
  {
   "cell_type": "code",
   "execution_count": 59,
   "metadata": {},
   "outputs": [
    {
     "data": {
      "text/plain": [
       "[[2, 6], [2, 4], [8, 2], [0, 1], [5, 1]]"
      ]
     },
     "execution_count": 59,
     "metadata": {},
     "output_type": "execute_result"
    }
   ],
   "source": [
    "test = [[0,1], [2,4], [2,6], [8,2], [5,1]]\n",
    "test.sort(key=lambda x: x[1], reverse=True)\n",
    "test"
   ]
  },
  {
   "cell_type": "code",
   "execution_count": 60,
   "metadata": {
    "ExecuteTime": {
     "end_time": "2020-11-20T18:41:00.176233Z",
     "start_time": "2020-11-20T18:40:50.126233Z"
    }
   },
   "outputs": [
    {
     "name": "stdout",
     "output_type": "stream",
     "text": [
      "['ad', 'ah', 'aj', 'al', 'ál', 'ar', 'as', 'ax', 'ay', 'be', 'bu', 'ca', 'ce', 'ch', 'cu', 'de', 'dí', 'do', 'ea', 'eh', 'el', 'él', 'en', 'et', 'ex', 'fa', 'fe', 'fi', 'fo', 'fu', 'ge', 'gu', 'ha', 'he', 'hi', 'hí', 'hu', 'ir', 'ja', 'je', 'ji', 'jo', 'ju', 'ka', 'la', 'le', 'll', 'lo', 'me', 'mi', 'mí', 'mu', 'na', 'ña', 'ne', 'ni', 'no', 'ño', 'ñu', 'oa', 'oc', 'oh', 'os', 'ox', 'pe', 'pi', 'pu', 'qu', 'ra', 're']\n",
      "34313788\n"
     ]
    }
   ],
   "source": [
    "words.sort(key=lambda x: len(x))\n",
    "print(words[:70])\n",
    "pairs = 0\n",
    "\n",
    "for j in words:\n",
    "    for k in words:\n",
    "        if len(j) + len(k) == 9:\n",
    "            pairs += 1\n",
    "        elif len(j) + len(k) > 9:\n",
    "            break\n",
    "\n",
    "print(pairs)"
   ]
  },
  {
   "cell_type": "markdown",
   "metadata": {},
   "source": [
    "Acá arriba recortamos la búsqueda en cuanto estuvimos seguros de que ya no habría soluciones. Esto nos dejó todavía con un algoritmo en $O(n^2)$, pero, con un mejor factor constante que permitió correrlo en pocos segundos. Esto todavía no es el mejor algorimo, pero refleja bien la idea de recorte de espacio de estados."
   ]
  },
  {
   "cell_type": "markdown",
   "metadata": {},
   "source": [
    "Los siguientes dos problemas quedan como práctica.\n",
    "\n",
    "**Problema 7.** Queremos encontrar para cuantas parejas de `x` y `y` de palabras en español sucede que cada una de ellas tiene por lo menos cinco letras y las últimas cinco letras de la primera son iguales a las primeras cinco letras de la última. \n",
    "\n",
    "**Problema 8.** Tenemos el siguiente arreglo de números $$[4,1,7,4,2,5,5,7,1,8,4,9,9,1,4,1,5,7,2,8,3,6,1]$$. Queremos determinar de cuántas formas se pueden elegir algunos de estos números de forma consecutiva de modo que sumen $18$."
   ]
  },
  {
   "cell_type": "markdown",
   "metadata": {},
   "source": [
    "**Problema 9.** Una **matriz mágica sencilla**  consiste de una matriz de $3\\times 3$, la suma de las entradas en cada fila es un cierto número $x$ y la suma de las entradas en cada columna es ese mismo número $x$. Las entradas deben ser los números del $1$ al $9$, sin repetir ¿Cuántas matrices mágicas existen?\n",
    "\n",
    "Lo primero que tenemos que hacer es decidir quién será nuestro espacio de estados. Como los números no se repiten, podemos pensar en permutaciones. Esto en total nos da un espacio de estados con 9! elementos a verificar. \n",
    "\n",
    "La permutación $[a_0,\\ldots,a_8]$ la pensaremos como la matriz\n",
    "\n",
    "$$\\begin{pmatrix}a_0 & a_1 & a_2 \\\\ a_3 & a_4 & a_5 \\\\ a_6 & a_7 & a_8 \\\\\\end{pmatrix}$$\n",
    "\n",
    "Una observación adicional es que la suma de todos los números del $1$ al $9$ es $45$. De este modo, la suma en cada fila y en cada columna debe ser igual a $15$. Esto nos permite comparar la suma de cada fila y columna no entre sí, sino entre ellas y un número constante.\n",
    "\n",
    "Primero, definimos una función para calcular todas las permutaciones de una lista:"
   ]
  },
  {
   "cell_type": "code",
   "execution_count": 2,
   "metadata": {},
   "outputs": [
    {
     "data": {
      "text/plain": [
       "[[3, 2, 1], [3, 1, 2], [2, 3, 1], [1, 3, 2], [2, 1, 3], [1, 2, 3]]"
      ]
     },
     "execution_count": 2,
     "metadata": {},
     "output_type": "execute_result"
    }
   ],
   "source": [
    "def perms(lista):\n",
    "    L = len(lista)\n",
    "    if L == 1:\n",
    "        return [lista]\n",
    "    else:\n",
    "        old = perms(lista[:-1])\n",
    "        last = lista[-1]\n",
    "        new = []\n",
    "        for k in range(L):\n",
    "            for perm in old:\n",
    "                to_add = perm[:k]+[last]+perm[k:]\n",
    "                new.append(to_add)\n",
    "        return new\n",
    "    \n",
    "test = [1,2,3]\n",
    "perms(test)"
   ]
  },
  {
   "cell_type": "markdown",
   "metadata": {},
   "source": [
    "Luego, generamos todas las candidatas mágicas posibles:"
   ]
  },
  {
   "cell_type": "code",
   "execution_count": 42,
   "metadata": {
    "ExecuteTime": {
     "end_time": "2020-11-24T16:18:38.889358Z",
     "start_time": "2020-11-24T16:18:38.481740Z"
    }
   },
   "outputs": [
    {
     "data": {
      "text/plain": [
       "362880"
      ]
     },
     "execution_count": 42,
     "metadata": {},
     "output_type": "execute_result"
    }
   ],
   "source": [
    "numeros = [1,2,3,4,5,6,7,8,9]\n",
    "candidatas = perms(numeros)\n",
    "len(candidatas)"
   ]
  },
  {
   "cell_type": "markdown",
   "metadata": {},
   "source": [
    "Y definimos una función para comprobar si es mágica:"
   ]
  },
  {
   "cell_type": "code",
   "execution_count": 43,
   "metadata": {
    "ExecuteTime": {
     "end_time": "2020-11-24T16:18:38.889358Z",
     "start_time": "2020-11-24T16:18:38.481740Z"
    }
   },
   "outputs": [],
   "source": [
    "def es_magica_3(lista):\n",
    "    a = (lista[0]+lista[3]+lista[6] == 15)\n",
    "    b = (lista[1]+lista[4]+lista[7] == 15)\n",
    "    c = (lista[2]+lista[5]+lista[8] == 15)\n",
    "    \n",
    "    d = (lista[0]+lista[1]+lista[2] == 15)\n",
    "    e = (lista[3]+lista[4]+lista[5] == 15)\n",
    "    f = (lista[6]+lista[7]+lista[8] == 15)\n",
    "    return a and b and c and d and e and f"
   ]
  },
  {
   "cell_type": "markdown",
   "metadata": {},
   "source": [
    "Finalmente, iteramos sobre todas las matrices candidatas generadas, y guardamos las que sean mágicas:"
   ]
  },
  {
   "cell_type": "code",
   "execution_count": 64,
   "metadata": {
    "ExecuteTime": {
     "end_time": "2020-11-24T16:18:53.720729Z",
     "start_time": "2020-11-24T16:18:53.369892Z"
    }
   },
   "outputs": [
    {
     "name": "stdout",
     "output_type": "stream",
     "text": [
      "72\n",
      "[9, 4, 2, 1, 8, 6, 5, 3, 7]\n"
     ]
    }
   ],
   "source": [
    "soluciones = []\n",
    "for matriz in candidatas:\n",
    "    if es_magica_3(matriz):\n",
    "        soluciones.append(matriz)\n",
    "        \n",
    "print(len(soluciones))\n",
    "print(soluciones[0])"
   ]
  },
  {
   "cell_type": "code",
   "execution_count": 65,
   "metadata": {
    "ExecuteTime": {
     "end_time": "2020-11-20T20:14:38.169334Z",
     "start_time": "2020-11-20T20:14:38.165925Z"
    }
   },
   "outputs": [
    {
     "name": "stdout",
     "output_type": "stream",
     "text": [
      "[9, 4, 2]\n",
      "[1, 8, 6]\n",
      "[5, 3, 7]\n"
     ]
    }
   ],
   "source": [
    "#¿Qué tal que queremos ver la matriz un poco más linda?\n",
    "for k in range(3):\n",
    "    print(soluciones[0][3*k:3*(k+1)])"
   ]
  },
  {
   "cell_type": "markdown",
   "metadata": {},
   "source": [
    "Esta solución es suficientemente rápida para matrices de $3\\times 3$, pero es muy lenta si quisiéramos encontrar matrices mágicas más grandes. Cuando tenemos matrices de $4\\times 4$, la cantidad de números que queremos acomodar es $16!\\approx 10^{13}$ (como $10$ millones de segundos) y eso es demasiado grande para esperar. ¿Cómo podemos cambiar o recortar el espacio de estados en este caso?\n",
    "\n",
    "Primero generalicemos algunas de las observaciones anteriores. En una matriz mágica de $n\\times n$ tenemos los números de $1$ a $n^2$ y por lo tanto la suma de todos ellos es $$1+2+\\ldots+n^2=n^2(n^2+1)/2,$$ de donde la suma en cada renglón y columna debe ser igual a $n(n^2+1)/2$. Para $n=4$ obtenemos $34$.\n",
    "\n"
   ]
  },
  {
   "cell_type": "code",
   "execution_count": 48,
   "metadata": {
    "ExecuteTime": {
     "end_time": "2020-11-21T19:59:44.504231Z",
     "start_time": "2020-11-21T19:59:44.486052Z"
    }
   },
   "outputs": [
    {
     "name": "stdout",
     "output_type": "stream",
     "text": [
      "True\n",
      "False\n"
     ]
    }
   ],
   "source": [
    "def es_magica_4(lista):\n",
    "    magica=True\n",
    "    # Verificar que las filas sumen 34.\n",
    "    for fila in range(4):\n",
    "        magica = magica and (sum(lista[entrada] for entrada in range(4*fila,4*fila+4))==34)\n",
    "    # Verificar que las columnas sumen 34.\n",
    "    for columna in range(4):\n",
    "        magica = magica and (sum(lista[entrada] for entrada in range(columna,16,4))==34)\n",
    "    return magica\n",
    "\n",
    "#Hacemos una prueba con una matriz que sepamos que es mágica\n",
    "A=[8,11,14,1,13,2,7,12,3,16,9,6,10,5,4,15]\n",
    "print(es_magica_4(A))\n",
    "#Y con una que no\n",
    "B=[8,11,1,14,13,2,7,12,3,16,9,6,10,5,4,15]\n",
    "print(es_magica_4(B))"
   ]
  },
  {
   "cell_type": "markdown",
   "metadata": {
    "ExecuteTime": {
     "end_time": "2020-11-21T20:08:08.267895Z",
     "start_time": "2020-11-21T20:08:08.203322Z"
    }
   },
   "source": [
    "Retomaremos este problema más adelante, cuando hablemos de bactrack y búsquedas combinatorias."
   ]
  },
  {
   "cell_type": "markdown",
   "metadata": {},
   "source": [
    "## Recortes de espacio de estados con simetrías\n",
    "\n",
    "Es usar simetrías en el espacios de estados y el problema planteado para reducir la exploración. Por ejemplo, si estamos buscando cuántas parejas $(x,y)$ de una lista de núméros suman cierto número $M$, entonces una posibilidad es que recorramos todo el espacio de estados para $x$ y $y$, pero otra forma de hacerlo es suponer que $x\\leq y$ y luego tras encontrar todas las soluciones bajo esta suposición, simplemente a partir de cada pareja $(x,y)$ construir la pareja $(y,x)$.\n",
    "\n",
    "Apliquemos esta esta idea en siguiente problema.\n",
    "\n",
    "**Problema 10.** Se cayeron los $12$ números de un reloj. Se quieren volver a poner, uno en cada posición. No importa tanto saber la hora, pero es muy importante que la suma de tres de esos números consecutivos (en orden cíclico) no sea $13$, porque da mala suerte. ¿De cuántas formas es posible hacer esto?\n",
    "\n",
    "Si hiciéramos una solución que explore todos los posibles estados, entonces necesitaríamos pasar por $12!$ de ellos, que son como $480$ millones. Sin embargo, podemos ahorrarnos un factor de $12$ si observamos que tenemos una simetría rotacional de orden 12: un acomodo funciona si y sólo si funcionan todas sus rotaciones. Por esta razón, basta con considerar aquellas permutaciones que comiencen con $1$ y verificar lo que queremos."
   ]
  },
  {
   "cell_type": "code",
   "execution_count": 6,
   "metadata": {
    "ExecuteTime": {
     "end_time": "2020-11-27T20:41:39.864211Z",
     "start_time": "2020-11-27T20:41:38.782631Z"
    }
   },
   "outputs": [],
   "source": [
    "from itertools import permutations\n",
    "\n",
    "numeros=[2,3,4,5,6,7,8,9,10,11,12]\n",
    "test = permutations(numeros)"
   ]
  },
  {
   "cell_type": "code",
   "execution_count": 10,
   "metadata": {
    "ExecuteTime": {
     "end_time": "2020-11-27T20:41:39.870266Z",
     "start_time": "2020-11-27T20:41:39.865744Z"
    }
   },
   "outputs": [
    {
     "data": {
      "text/plain": [
       "(2, 3, 4, 5, 6, 7, 8, 9, 11, 12, 10)"
      ]
     },
     "execution_count": 10,
     "metadata": {},
     "output_type": "execute_result"
    }
   ],
   "source": [
    "next(test)"
   ]
  },
  {
   "cell_type": "code",
   "execution_count": 35,
   "metadata": {
    "ExecuteTime": {
     "end_time": "2020-11-27T20:41:44.583818Z",
     "start_time": "2020-11-27T20:41:43.923538Z"
    }
   },
   "outputs": [
    {
     "name": "stdout",
     "output_type": "stream",
     "text": [
      "165520\n"
     ]
    }
   ],
   "source": [
    "def buena_suerte(lista):\n",
    "    buena=True\n",
    "    for j in range(10):\n",
    "        buena = buena and (lista[(j%10)]+lista[(j+1)%10]+lista[(j+2)%10]!=13)\n",
    "    return buena\n",
    "\n",
    "soluciones=0\n",
    "for lista in candidatas:\n",
    "    if buena_suerte(lista):\n",
    "        soluciones+=1\n",
    "        \n",
    "print(soluciones)"
   ]
  },
  {
   "cell_type": "markdown",
   "metadata": {},
   "source": [
    "Tenemos 165520 soluciones que comienzan con $1$. Si queremos regresar al problema con 10 números, todavía cada una de estas soluciones crea 10 soluciones, una por cada una de las 10 rotaciones posibles. Así, la cantidad total de soluciones es 1655200."
   ]
  },
  {
   "cell_type": "markdown",
   "metadata": {},
   "source": [
    "## Algoritmos voraces (greedy, glotones, ambiciosos)\n",
    "\n",
    "Consisten en intentar realizar en cada momento la mejor decisión para optimizar una función. En cada problema puede que no haya una única forma de hacer \"lo mejor\" en cada momento, así que a veces tenemos que elegir de entre varias formas de hacer las cosas cuál nos conviene.\n",
    "\n",
    "**Problema 11.** Se tienen números enteros positivos distintos $a_1,a_2,\\ldots,a_n$. Se quiere encontrar una permutación de ellos $b_1,\\ldots,b_n$ que haga la siguiente suma $$b_1+2b_2+3b_3+\\ldots+nb_n$$ máxima. Resolver el problema en general, y luego ejecutarlo para:\n",
    "\n",
    "`50, 76, 72, 52, 70, 74, 84, 16, 43, 29, 31, 77, 22, 92, 46, 38, 91, 42, 48, 98, 87, 83, 6, 44, 7, 36, 80, 11, 10, 82, 67, 90, 18, 27, 37, 86, 33, 64, 26, 9`\n",
    "\n",
    "**Problema 12.** Se tienen $2n$ números enteros $a_1,\\ldots,a_{2n}$. Hay que encontrar cuáles $n$ de ellos tienen la suma menor. Resolver el problema en general y luego ejecutarlo para:\n",
    "\n",
    "`34, -51, -67, -42, -72, 27, -12, 55, -69, 47, 89, -54, 92, 8, 77, 82, -52, -48, -61, -90, 95, -49, 32, 18, 40, 96, 65, 44, 81, 24, 38, -4, -14, -97, -20, 63, 86, -98, -19, -8`\n",
    "\n",
    "**Problema 13.** Se tienen $n$ bloques de longitudes enteras positivas $a_1,a_2,\\ldots a_n$. Se quiere acomodarlos en forma de pirámide, de modo que se obtenga la mayor altura de pirámide posible. ¿Cuál es la altura que se obtiene? Resolver en general y luego ejecutarlo para:\n",
    "\n",
    "`355, 572, 532, 788, 82, 433, 225, 183, 499, 374, 734, 157, 121, 53, 486, 954, 792, 97, 684, 933, 51, 868, 485, 907, 292, 349, 804, 83, 214, 704, 200, 236, 404, 276, 778, 958, 105, 500, 334, 448, 836, 890, 537, 167, 31, 398, 313, 175, 930, 342`\n",
    "\n",
    "**Problema 14.** Se tiene la siguiente pirámide de números. Se comienza desde arriba y en cada paso se puede ir al número inferior, o bien al número inferior a la derecha, hasta que se llega a la fila de hasta abajo. \n",
    "\n",
    "<code>[7116]\n",
    "[2675 8480]\n",
    "[4356 6635 9218]\n",
    "[7772 5841 2088 5391]\n",
    "[4167 7727 3335 8931 4326]\n",
    "[3838 2437 3248 9461 7437 6341]\n",
    "[2117 5132 4482 1541 5000 8745 3782]\n",
    "[6343 8811 6752 7523 2144 7855 9078 6472]\n",
    "[1717 1943 8715 4741 3475 9590 7878 6717 4730]\n",
    "[1683 1507 6681 1496 9129 7566 8605 3997 8064 7240]\n",
    "[4668 9965 6544 1470 6365 8740 8637 6981 5703 9535 1509]\n",
    "[7196 9964 7924 6509 8146 6239 4603 9728 1090 2069 8021 3227]</code>\n",
    "\n",
    "Por ejemplo, un posible camino es:\n",
    "\n",
    "`7116,2675,6635,2088,8931,9461,1541,2144,3475,9129,8740,4603`\n",
    "\n",
    "Hay que encontrar el camino que vaya de hasta arriba hasta abajo cuya suma de valores sea máxima."
   ]
  },
  {
   "cell_type": "markdown",
   "metadata": {},
   "source": [
    "Comenzamos con el siguiente problema.\n",
    "\n",
    "**Problema 11.** Se tienen números enteros positivos distintos $a_1,a_2,\\ldots,a_n$. Se quiere encontrar una permutación de ellos $b_1,\\ldots,b_n$ que haga la siguiente suma $$b_1+2b_2+3b_3+\\ldots+nb_n$$ máxima. Resolver el problema en general, y luego ejecutarlo para:\n",
    "\n",
    "`50, 76, 72, 52, 70, 74, 84, 16, 43, 29, 31, 77, 22, 92, 46, 38, 91, 42, 48, 98, 87, 83, 6, 44, 7, 36, 80, 11, 10, 82, 67, 90, 18, 27, 37, 86, 33, 64, 26, 9`\n",
    "\n",
    "En este problema, el espacio de estados son todas posibles permutaciones de $a_1,\\ldots,a_n$, que son $n!$. Por lo tanto, si queremos resolver el problema por exploración exhaustiva, tendríamos que verificar $\\Theta(n!)$. Incluso cuando $n$ no es tan grande, esto es demasiado tiempo.\n",
    "\n",
    "Para resolver el problema, vamos a realizar un algoritmo voraz eligiendo los $a_i$ más grandes para los coeficientes más grandes. Es decir, el máximo de los $a_i$ va a acompañar al coeficiente $n$, el siguiente al coeficiente $n-1$ y así sucesivamente.\n",
    "\n",
    "Con esta idea, se puede proponer el siguiente algoritmo:\n",
    "\n",
    "- Poner los $a_i$ en una lista de Python - Tiempo $O(n)$\n",
    "- Tomar el $a_i$ más grande y declarlo como $b_n$ - Tiempo $O(n)$.\n",
    "- Eliminar ese $a_i$ de la lista. - Tiempo $O(n)$\n",
    "- Repetir para ir definiendo $b_{n-1},\\ldots,b_1$. En total, tiempo $O(n^2)$.\n",
    "\n",
    "Este algoritmo toma $O(n^2)$ tiempo en total. Se puede mejorar a tiempo $O(n\\log n)$ si primero ordenamos la lista y luego de ahí ya vamos tomando los más grandes (que simplemente es ordenar)."
   ]
  },
  {
   "cell_type": "code",
   "execution_count": 28,
   "metadata": {
    "ExecuteTime": {
     "end_time": "2020-11-26T16:18:44.277949Z",
     "start_time": "2020-11-26T16:18:44.266421Z"
    }
   },
   "outputs": [
    {
     "name": "stdout",
     "output_type": "stream",
     "text": [
      "[6, 7, 9, 10, 11, 16, 18, 22, 26, 27, 29, 31, 33, 36, 37, 38, 42, 43, 44, 46, 48, 50, 52, 64, 67, 70, 72, 74, 76, 77, 80, 82, 83, 84, 86, 87, 90, 91, 92, 98]\n",
      "53023\n"
     ]
    }
   ],
   "source": [
    "A=[50, 76, 72, 52, 70, 74, 84, 16, 43, 29, 31, 77, 22, 92, 46, 38, 91, 42, 48, 98, 87, 83, 6, 44, 7, 36, 80, 11, 10, 82, 67, 90, 18, 27, 37, 86, 33, 64, 26, 9]\n",
    "A.sort()\n",
    "print(A)\n",
    "\n",
    "print(sum(i*a for i,a in enumerate(A)))"
   ]
  },
  {
   "cell_type": "markdown",
   "metadata": {},
   "source": [
    "Vamos a mostrar que la permutación de $a_1,\\ldots,a_n$ que maximiza $a_1+2a_2+\\ldots+na_n$ es precisamente en la cual tenemos los $a_i$'s ordenados.\n",
    "\n",
    "Pensemos que tenemos una permutación $b_1,b_2,\\ldots,b_n$ en la cual los $b_i$ no están en orden creciente. Como los $b_i$ no están orden creciente, debe existir una pareja de índices $i$ y $j$ tales que $i<j$ y $b_i>b_j$. Entonces la suma se ve así: $$S=\\ldots + i b_i + \\ldots + j b_j + \\ldots.$$\n",
    "\n",
    "Al pasar $b_i$ a la posición $j$ y $b_j$ a la posición $b_i$, la nueva suma es: $$S-i b_i-j b_j+jb_i+ib_j=S+(j-i)(b_i-b_j)>S,$$\n",
    "\n",
    "por lo cual dicha permutación que habíamos tomado no puede ser la mayor."
   ]
  },
  {
   "cell_type": "markdown",
   "metadata": {},
   "source": [
    "**Problema 12.** Se tienen $2n$ números enteros $a_1,\\ldots,a_{2n}$. Hay que encontrar cuáles $n$ de ellos tienen la suma menor. Resolver el problema en general y luego ejecutarlo para:\n",
    "\n",
    "`34, -51, -67, -42, -72, 27, -12, 55, -69, 47, 89, -54, 92, 8, 77, 82, -52, -48, -61, -90, 95, -49, 32, 18, 40, 96, 65, 44, 81, 24, 38, -4, -14, -97, -20, 63, 86, -98, -19, -8`\n",
    "\n",
    "Una forma de resolver el problema es con exploración exhaustiva sobre el espacio de estados de subconjuntos de $n$ elementos de un conjunto con $2n$ elementos. Para cada uno de estos subconjuntos hacemos su suma y buscamos de entre ellas la menor. Con este algoritmo tendríamos que verificar $\\binom{2n}{n}$ casos. Estos son $\\Omega(2^{2n})$ casos, que como es exponencial tampoco nos conviene mucho.\n",
    "\n",
    "Una mucho mejor forma de resolverlo es tomando de entre la lista los $n$ más pequeños. Estos definitivamente tienen la suma más pequeña. ¿Cuánto tiempo tarda? Si vamos encontrando los más pequeños uno por uno leyendo la lista $n$ veces, toma tiempo $O(n^2)$, pero una mejor forma de hacerlo es ordenándolos y tomando los $n$ más pequeños."
   ]
  },
  {
   "cell_type": "code",
   "execution_count": 31,
   "metadata": {
    "ExecuteTime": {
     "end_time": "2020-11-26T16:33:51.136062Z",
     "start_time": "2020-11-26T16:33:51.122066Z"
    },
    "scrolled": true
   },
   "outputs": [
    {
     "name": "stdout",
     "output_type": "stream",
     "text": [
      "[-98, -97, -90, -72, -69, -67, -61, -54, -52, -51, -49, -48, -42, -20, -19, -14, -12, -8, -4, 8, 18, 24, 27, 32, 34, 38, 40, 44, 47, 55, 63, 65, 77, 81, 82, 86, 89, 92, 95, 96]\n",
      "40\n",
      "-919\n"
     ]
    }
   ],
   "source": [
    "A=[34, -51, -67, -42, -72, 27, -12, 55, -69, 47, 89, -54, 92, 8, 77, 82, -52, -48, -61, -90, 95, -49, 32, 18, 40, 96, 65, 44, 81, 24, 38, -4, -14, -97, -20, 63, 86, -98, -19, -8]\n",
    "A.sort()\n",
    "print(A)\n",
    "print(len(A))\n",
    "print(sum(j for j in A[:20]))"
   ]
  },
  {
   "cell_type": "markdown",
   "metadata": {},
   "source": [
    "**Problema 13.** Se tienen $n$ bloques de longitudes enteras positivas $a_1,a_2,\\ldots a_n$. Se quiere acomodarlos en forma de pirámide, de modo que se obtenga la mayor altura de pirámide posible. Aquí una pirámide es acomodar los bloques en niveles de modo que para cada nivel, tenga más bloques que el nivel de arriba y una suma total mayor que el nivel de arriba. ¿Cuál es la altura que se obtiene? Resolver en general y luego ejecutarlo para:\n",
    "\n",
    "`355, 572, 532, 788, 82, 433, 225, 183, 499, 374, 734, 157, 121, 53, 486, 954, 792, 97, 684, 933, 51, 868, 485, 907, 292, 349, 804, 83, 214, 704, 200, 236, 404, 276, 778, 958, 105, 500, 334, 448, 836, 890, 537, 167, 31, 398, 313, 175, 930, 342`\n",
    "\n",
    "Una exploración exhaustiva permutando los bloques a acomodándolos seguro que resuelve el problema, pero el tiempo de ejecución será muy elevado.\n",
    "\n",
    "Para resolver este problema, es mejor hacer lo siguiente:\n",
    "\n",
    "- Ordenamos los bloques de menor a mayor.\n",
    "- Ponemos el mayor hasta arriba, los siguientes dos en el nivel inferior, los siguientes tres en el inferior y así sucesivamente.\n",
    "- La altura máxima que podamos completar totalmente es la que se obtiene con este procedimiento."
   ]
  },
  {
   "cell_type": "code",
   "execution_count": 37,
   "metadata": {
    "ExecuteTime": {
     "end_time": "2020-11-26T21:41:10.464106Z",
     "start_time": "2020-11-26T21:41:10.449601Z"
    }
   },
   "outputs": [
    {
     "name": "stdout",
     "output_type": "stream",
     "text": [
      "La altura máxima es 9 y se puede alcanzar con la siguiente pirámide:\n",
      "[31] Esta fila tiene suma 31\n",
      "[51, 53] Esta fila tiene suma 104\n",
      "[82, 83, 97] Esta fila tiene suma 262\n",
      "[105, 121, 157, 167] Esta fila tiene suma 550\n",
      "[175, 183, 200, 214, 225] Esta fila tiene suma 997\n",
      "[236, 276, 292, 313, 334, 342] Esta fila tiene suma 1793\n",
      "[349, 355, 374, 398, 404, 433, 448] Esta fila tiene suma 2761\n",
      "[485, 486, 499, 500, 532, 537, 572, 684] Esta fila tiene suma 4295\n",
      "[704, 734, 778, 788, 792, 804, 836, 868, 890] Esta fila tiene suma 7194\n"
     ]
    }
   ],
   "source": [
    "lista=[355, 572, 532, 788, 82, 433, 225, 183, 499, 374, 734, 157, 121, 53, 486, 954, 792, 97, 684, 933, 51, 868, 485, 907, 292, 349, 804, 83, 214, 704, 200, 236, 404, 276, 778, 958, 105, 500, 334, 448, 836, 890, 537, 167, 31, 398, 313, 175, 930, 342]\n",
    "lista.sort()\n",
    "\n",
    "j=1\n",
    "suma=0\n",
    "piramide=[]\n",
    "suma=1\n",
    "while suma<len(lista):\n",
    "    fila=lista[suma-j:suma]\n",
    "    piramide.append(fila)\n",
    "    j+=1\n",
    "    suma+=j\n",
    "\n",
    "print(\"La altura máxima es {} y se puede alcanzar con la siguiente pirámide:\".format(len(piramide)))\n",
    "for fila in piramide:\n",
    "    print(fila, \"Esta fila tiene suma {}\".format(sum(fila)))\n",
    "    "
   ]
  },
  {
   "cell_type": "markdown",
   "metadata": {},
   "source": [
    "El análisis de tiempo y la correctitud quedan como tarea moral."
   ]
  },
  {
   "cell_type": "markdown",
   "metadata": {},
   "source": [
    "**Problema 14.** Se tiene la siguiente pirámide de números. Se comienza desde arriba y en cada paso se puede ir al número inferior, o bien al número inferior a la derecha, hasta que se llega a la fila de hasta abajo. \n",
    "\n",
    "<code>[7116]\n",
    "[2675 8480]\n",
    "[4356 6635 9218]\n",
    "[7772 5841 2088 5391]\n",
    "[4167 7727 3335 8931 4326]\n",
    "[3838 2437 3248 9461 7437 6341]\n",
    "[2117 5132 4482 1541 5000 8745 3782]\n",
    "[6343 8811 6752 7523 2144 7855 9078 6472]\n",
    "[1717 1943 8715 4741 3475 9590 7878 6717 4730]\n",
    "[1683 1507 6681 1496 9129 7566 8605 3997 8064 7240]\n",
    "[4668 9965 6544 1470 6365 8740 8637 6981 5703 9535 1509]\n",
    "[7196 9964 7924 6509 8146 6239 4603 9728 1090 2069 8021 3227]</code>\n",
    "\n",
    "Por ejemplo, un posible camino es:\n",
    "\n",
    "`7116,2675,6635,2088,8931,9461,1541,2144,3475,9129,8740,4603`\n",
    "\n",
    "Hay que encontrar el camino que vaya de hasta arriba hasta abajo cuya suma de valores sea máxima.\n",
    "\n",
    "Al ir de arriba hacia abajo tenemos dos opciones en cada paso, así que tenemos $2^{11}$ posibles caminos. Esto no son demasiadas posibilidades y se pueden hacer fácilmente con una búsqueda exhaustiva. Sin embargo, este es un algoritmo que toma tiempo exponencial en la cantidad de renglones y no sería factible para cuando tenemos más renglones.\n",
    "\n",
    "Una forma de mejorar este procedimiento es usando un algoritmo voraz. Pero hay que ser muy cuidadosos. Si hacemos un algoritmo voraz que de arriba hacia abajo siempre seleccione la mejor opción, es posible que falle, pues puede que por tomar la dirección del número más grande en un paso local, acabemos descartando la posibilidad de tener un número muy grande más adelante. Por ejemplo, siguiendo esta heurística, en la siguiente pirámide iríamos en el primer paso a la derecha, hacia el $54$, pero ya nunca podríamos tomar el $99$ de la esquina inferior izquierda que nos ayuda a maximizar la suma:\n",
    "\n",
    "<code>[10]\n",
    "[36 54]\n",
    "[99 20 24] </code>\n",
    "\n",
    "Sin embargo, eso no quiere decir que *ningún* algoritmo voraz funcione. A veces simplemente no hemos elegido el correcto. En este problema conviene mucho más realizar un algoritmo voraz de abajo hacia arriba. Para cada una de las entradas de la penúltima fila, ¿qué es lo mejor que puedo hacer después? Por ejemplo, en la pirámide chiquita de ejemplo, si ya llegamos al $36$ entonces lo mejor que puedo acumular a partir de ahí es $36+99=135$. Si ya llegamos al $54$, entonces lo mejor que puedo acumular desde ahí es $54+24=78$. De esta forma, podemos reemplazar el problema a ver cuál es el mejor camino en la pirámide\n",
    "\n",
    "<code>[10]\n",
    "[135 78] </code>\n",
    "\n",
    "A partir de aquí es claro lo que hay que hacer: del $10$ ir al $135$ y de ahí hacer lo mejor posible a partir de ahí, que ya sabemos que es seguir el camino que de $135$. Esta misma idea se puede generalizar para la pirámide con $12$ filas y para una cantidad abritraria $n$ de filas:\n",
    "\n",
    "- En el penúltimo renglón escribimos lo mejor que podemos hacer.\n",
    "- De ahí, podemos decir qué es lo mejor que podemos hacer en el antepenúltimo.\n",
    "- Seguimos así sucesivamente hasta el primero.\n",
    "- Para recuperar el mejor camino, simplemente en cada paso hacemos lo mejor, pero considerado de esta forma.\n",
    "\n",
    "Veamos la implementación"
   ]
  },
  {
   "cell_type": "code",
   "execution_count": 2,
   "metadata": {
    "ExecuteTime": {
     "end_time": "2020-11-27T17:22:46.381346Z",
     "start_time": "2020-11-27T17:22:46.364347Z"
    }
   },
   "outputs": [
    {
     "name": "stdout",
     "output_type": "stream",
     "text": [
      "[7116]\n",
      "[2675, 8480]\n",
      "[4356, 6635, 9218]\n",
      "[7772, 5841, 2088, 5391]\n",
      "[4167, 7727, 3335, 8931, 4326]\n",
      "[3838, 2437, 3248, 9461, 7437, 6341]\n",
      "[2117, 5132, 4482, 1541, 5000, 8745, 3782]\n",
      "[6343, 8811, 6752, 7523, 2144, 7855, 9078, 6472]\n",
      "[1717, 1943, 8715, 4741, 3475, 9590, 7878, 6717, 4730]\n",
      "[1683, 1507, 6681, 1496, 9129, 7566, 8605, 3997, 8064, 7240]\n",
      "[4668, 9965, 6544, 1470, 6365, 8740, 8637, 6981, 5703, 9535, 1509]\n",
      "[7196, 9964, 7924, 6509, 8146, 6239, 4603, 9728, 1090, 2069, 8021, 3227]\n"
     ]
    }
   ],
   "source": [
    "# Esta es una función auxiliar para leer la\n",
    "# cadena de caracteres que tenemos y pasarla a una\n",
    "# lista de listas de Python con la que podamos trabajar\n",
    "# mejor.\n",
    "\n",
    "entrada='''[7116]\n",
    "[2675 8480]\n",
    "[4356 6635 9218]\n",
    "[7772 5841 2088 5391]\n",
    "[4167 7727 3335 8931 4326]\n",
    "[3838 2437 3248 9461 7437 6341]\n",
    "[2117 5132 4482 1541 5000 8745 3782]\n",
    "[6343 8811 6752 7523 2144 7855 9078 6472]\n",
    "[1717 1943 8715 4741 3475 9590 7878 6717 4730]\n",
    "[1683 1507 6681 1496 9129 7566 8605 3997 8064 7240]\n",
    "[4668 9965 6544 1470 6365 8740 8637 6981 5703 9535 1509]\n",
    "[7196 9964 7924 6509 8146 6239 4603 9728 1090 2069 8021 3227]'''\n",
    "\n",
    "lineas=entrada.split('\\n')\n",
    "lista_buena=[]\n",
    "for j in lineas:\n",
    "    lista_buena.append([int(k) for k in j[1:-1].split(' ')])\n",
    "\n",
    "for linea in lista_buena:\n",
    "    print(linea)"
   ]
  },
  {
   "cell_type": "code",
   "execution_count": 3,
   "metadata": {
    "ExecuteTime": {
     "end_time": "2020-11-27T17:22:47.154865Z",
     "start_time": "2020-11-27T17:22:47.144075Z"
    },
    "scrolled": true
   },
   "outputs": [
    {
     "name": "stdout",
     "output_type": "stream",
     "text": [
      "[99733]\n",
      "[80926, 92617]\n",
      "[72408, 78251, 84137]\n",
      "[61743, 68052, 71616, 74919]\n",
      "[51812, 53971, 62211, 69528, 64923]\n",
      "[47645, 46244, 44659, 58876, 60597, 59501]\n",
      "[40792, 43807, 41411, 40245, 49415, 53160, 47708]\n",
      "[29722, 38675, 36616, 36929, 38704, 44415, 43926, 38809]\n",
      "[23329, 23379, 29864, 28849, 29406, 36560, 34848, 32337, 30350]\n",
      "[21612, 21436, 21149, 16007, 24108, 25931, 26970, 20706, 25620, 24796]\n",
      "[14632, 19929, 14468, 9616, 14511, 14979, 18365, 16709, 7772, 17556, 9530]\n",
      "[7196, 9964, 7924, 6509, 8146, 6239, 4603, 9728, 1090, 2069, 8021, 3227]\n"
     ]
    }
   ],
   "source": [
    "# Ahora, lo que haremos es comenzar desde la linea 11 (índice 10) e iremos cambiando las entradas,\n",
    "# de acuerdo a lo mejor que podemos hacer después. Ya hechos esos cambios, vamos a la línea 10,\n",
    "# luego a la 9, y así sucesivamente.\n",
    "\n",
    "for k in range(10,-1,-1):\n",
    "    for j in range(k+1):\n",
    "        lista_buena[k][j]=lista_buena[k][j]+max(lista_buena[k+1][j],lista_buena[k+1][j+1])\n",
    "        \n",
    "for linea in lista_buena:\n",
    "    print(linea)"
   ]
  },
  {
   "cell_type": "markdown",
   "metadata": {},
   "source": [
    "Con esto tenemos que el mejor camino tiene suma $99733$. Observa que el algoritmo corre en milisegundos. Aún no hemos dicho cómo reportar el camino, sino solamente el máximo que obtenemos. Esta parte queda como tarea moral. El análisis de tiempo y la correctitud también quedan como tarea moral."
   ]
  },
  {
   "cell_type": "markdown",
   "metadata": {},
   "source": [
    "## Divide y vencerás\n",
    "\n",
    "Es partir un problema en problemas más pequeños, que no necesariamente sean instancias del mismo problema. Algunas formas en las que sucede esto es:\n",
    "\n",
    "- Partiendo correctamente el problema en funciones auxiliares que sean conceptualmente más fáciles de crear y fáciles de utilizar.\n",
    "- Resolviendo el problema para una familia de instancias y luego usar estas instancias para resolver las demás.\n",
    "- Resolver el problema por casos.\n",
    "- Resolver el problema de manera recursiva."
   ]
  },
  {
   "cell_type": "markdown",
   "metadata": {},
   "source": [
    "### Multiplicación binaria\n",
    "\n",
    "Supongamos que tenemos dos números binarios $x$ y $y$ de $n$ dígitos, y queremos multiplicarlos. Por conveniencia, asumimos que su largo es potencia de 2 (aunque el caso general no es muy diferente). Luego, partimos a ambos en partes izquierda y derecha, de tamaño $n/2$:\n",
    "\n",
    "$$\n",
    "\\begin{align}\n",
    "x &= x_L \\cup x_R = 2^{n/2}x_L + x_R\\\\\n",
    "y &= y_L \\cup y_R = 2^{n/2}y_L + y_R\\\\\n",
    "\\end{align}\n",
    "$$\n",
    "\n",
    "Por ejemplo, si $x=10110110_2$, entonces:\n",
    "\n",
    "$$\n",
    "\\begin{align}\n",
    "x_L &= 1011_2\\\\\n",
    "x_R &= 0110_2\\\\\n",
    "x &= 2^4\\times 1011_2 + 0110_2\n",
    "\\end{align}\n",
    "$$\n",
    "\n",
    "Por lo tanto, el producto de $x$ y $y$ puede escribirse como:\n",
    "\n",
    "$$\n",
    "\\begin{align}\n",
    "xy &= (2^{n/2}x_L+x_R)(2^{n/2}y_L+y_R)\\\\\n",
    "&= 2^nx_Ly_L + 2^{n/2}(x_Ly_R + x_Ry_L) + x_Ry_R\n",
    "\\end{align}\n",
    "$$\n",
    "\n",
    "Las multiplicaciones por potencias de 2 son sencillas (simplemente bit-shifts hacia la izquierda). Por otro lado, hay cuatro multiplicaciones de números de tamaño $n/2$: $x_Ly_L, x_Ry_L, x_Ly_R, x_R,y_R$. Podemos resolverlas haciendo cuatro llamadas recursivas a nuestra función, el caso base siendo cuando ambos números tienen un solo bit.\n",
    "\n",
    "Escribiendo entonces el algoritmo:"
   ]
  },
  {
   "cell_type": "code",
   "execution_count": 197,
   "metadata": {},
   "outputs": [],
   "source": [
    "def binary_pair(x, y):\n",
    "    xb = bin(x).replace('0b', '')\n",
    "    yb = bin(y).replace('0b', '')\n",
    "    maxlen = max(len(xb), len(yb))\n",
    "    xb = xb.rjust(maxlen, '0')\n",
    "    yb = yb.rjust(maxlen, '0')\n",
    "    return xb, yb"
   ]
  },
  {
   "cell_type": "code",
   "execution_count": 189,
   "metadata": {},
   "outputs": [],
   "source": [
    "def binary_mul(x, y):\n",
    "    assert len(x) == len(y), \"Los números no tienen el mismo largo!\"\n",
    "    \n",
    "    n = len(x)\n",
    "    if n == 1:\n",
    "        if x == '0' or y == '0':\n",
    "            return '0'\n",
    "        else:\n",
    "            return '1'\n",
    "    \n",
    "    xl, xr = x[:n//2], x[n//2:]\n",
    "    yl, yr = y[:n//2], y[n//2:]\n",
    "    \n",
    "    xlyl = int(binary_mul(xl, yl), 2)\n",
    "    xryl = int(binary_mul(xr, yl), 2)\n",
    "    xlyr = int(binary_mul(xl, yr), 2)\n",
    "    xryr = int(binary_mul(xr, yr), 2)\n",
    "\n",
    "    res = (xlyl<<n) + ((xlyr + xryl)<<(n//2)) + (xryr)\n",
    "    return bin(res).replace('0b', '')"
   ]
  },
  {
   "cell_type": "code",
   "execution_count": 198,
   "metadata": {},
   "outputs": [
    {
     "data": {
      "text/plain": [
       "'1010000'"
      ]
     },
     "execution_count": 198,
     "metadata": {},
     "output_type": "execute_result"
    }
   ],
   "source": [
    "a, b = binary_pair(10, 8)\n",
    "binary_mul(a, b)"
   ]
  },
  {
   "cell_type": "code",
   "execution_count": 200,
   "metadata": {},
   "outputs": [
    {
     "data": {
      "text/plain": [
       "80"
      ]
     },
     "execution_count": 200,
     "metadata": {},
     "output_type": "execute_result"
    }
   ],
   "source": [
    "int('1010000', 2)"
   ]
  },
  {
   "cell_type": "markdown",
   "metadata": {},
   "source": [
    "Haciendo el análisis de complejidad, esto nos da una ecuación recursiva de la forma:\n",
    "\n",
    "$$\n",
    "T(n) = 4T\\left(\\frac{n}{2}\\right) + O(n)\n",
    "$$\n",
    "\n",
    "Resolviendo utilizando el teorema maestro, obtenemos que la complejidad de la función es $O(n^2)$, la misma que si hiciéramos multiplicación \"de primaria\" (dígito por dígito). ¿Cómo podemos mejorarla?\n",
    "\n",
    "Podemos aplicar un truco atribuido a (para variar) Gauss: él se dio cuenta que si consideramos el producto de dos números complejos:\n",
    "\n",
    "$$\n",
    "(a+bi)(c+di) = ac-bd + (bc+ad)i\n",
    "$$\n",
    "\n",
    "En principio parece requerir de cuatro multiplicaciones. Sin embargo, en realidad puede ser hecho con tan solo tres: $ac$, $bd$, y $(a+b)(c+d)$, ya que:\n",
    "\n",
    "$$\n",
    "bc+ad = (a+b)(c+d) - ac - bd\n",
    "$$\n",
    "\n",
    "Aplicándolo entonces a nuestro algoritmo, recordemos que tenemos la fórmula:\n",
    "\n",
    "$$\n",
    "xy = 2^nx_Ly_L + 2^{n/2}(x_Ly_R + x_Ry_L) + x_Ry_R\n",
    "$$\n",
    "\n",
    "Aplicando el truco de Gauss:\n",
    "\n",
    "$$\n",
    "x_Ly_R + x_Ry_L = (x_R+x_L)(y_R+y_L) - x_Ry_R - x_Ly_L\n",
    "$$\n",
    "\n",
    "Con lo cual obtenemos:"
   ]
  },
  {
   "cell_type": "code",
   "execution_count": 209,
   "metadata": {},
   "outputs": [],
   "source": [
    "def binary_mul_2(x, y):\n",
    "    assert len(x) == len(y), \"Los números no tienen el mismo largo!\"\n",
    "\n",
    "    n = len(x)\n",
    "    if n == 1:\n",
    "        if x == '0' or y == '0':\n",
    "            return '0'\n",
    "        else:\n",
    "            return '1'\n",
    "    \n",
    "    xl, xr = x[:n//2], x[n//2:]\n",
    "    yl, yr = y[:n//2], y[n//2:]\n",
    "    \n",
    "    p1 = int(binary_mul_2(xl, yl), 2)\n",
    "    p2 = int(binary_mul_2(xr, yr), 2)\n",
    "    \n",
    "    s1 = int(xl, 2) + int(xr, 2)\n",
    "    s2 = int(yl, 2) + int(yr, 2)\n",
    "    s1, s2 = binary_pair(s1, s2)\n",
    "    p3 = int(binary_mul_2(s1, s2), 2)\n",
    "\n",
    "    res = (p1<<n) + ((p3-p1-p2) << (n//2)) + p2\n",
    "    return bin(res).replace('0b', '')"
   ]
  },
  {
   "cell_type": "code",
   "execution_count": 211,
   "metadata": {},
   "outputs": [],
   "source": [
    "a, b = binary_pair(10, 8)\n",
    "# binary_mul_2(a, b)"
   ]
  },
  {
   "cell_type": "code",
   "execution_count": 205,
   "metadata": {},
   "outputs": [
    {
     "data": {
      "text/plain": [
       "64"
      ]
     },
     "execution_count": 205,
     "metadata": {},
     "output_type": "execute_result"
    }
   ],
   "source": [
    "int('1000000', 2)"
   ]
  },
  {
   "cell_type": "markdown",
   "metadata": {},
   "source": [
    "## Algoritmos recursivos\n",
    "\n",
    "Es una situación especial de la heurística de divide y conquista, en la cual ponemos a la instancia grande un problema en términos de instancias pequeñas del *mismo* problema.\n",
    "\n",
    "Muchos lenguajes de programación permiten hacer cosas del siguiente estilo:\n",
    "\n",
    "```\n",
    "definir resolver(instancia grande):\n",
    "    decir qué hacer si estamos en el caso base\n",
    "    hacer cosas para obtener instancias pequeñas\n",
    "    resolver(instancias pequeñas)\n",
    "    hacer cosas para combinar soluciones de instancias pequeñas\n",
    "    regresar resultado\n",
    "```\n",
    "    \n",
    "Aquí la función `resolver` se cita a sí misma, de manera muy parecida a como las sucesiones recursivas, como la de Fibonacci, están en términos de ellas mismas. Para que el algoritmo esté bien definido, la función debe decir que hacer con uno (o más) casos base. Veamos un par de ejemplos muy sencillos en Python:\n",
    "- Uno en donde definimos la función \"multiplicación por $3$\" en términos de la función suma para los números naturales.\n",
    "- Otro en donde definimos la función factorial."
   ]
  },
  {
   "cell_type": "code",
   "execution_count": 6,
   "metadata": {
    "ExecuteTime": {
     "end_time": "2020-11-27T17:44:16.927751Z",
     "start_time": "2020-11-27T17:44:16.906750Z"
    }
   },
   "outputs": [
    {
     "name": "stdout",
     "output_type": "stream",
     "text": [
      "24\n",
      "93326215443944152681699238856266700490715968264381621468592963895217599993229915608941463976156518286253697920827223758251185210916864000000000000000000000000\n"
     ]
    }
   ],
   "source": [
    "def multi_3(n):\n",
    "    if n==0:\n",
    "        #Este es el \"caso base\" en donde decimos que multiplicar por cero da cero\n",
    "        return 0\n",
    "    else:\n",
    "        #En esta linea es en la que hacemos recursión\n",
    "        anterior=multi_3(n-1)\n",
    "        return 3+anterior\n",
    "\n",
    "print(multi_3(8))\n",
    "\n",
    "def factorial(n):\n",
    "    if n==0:\n",
    "        return 1\n",
    "    else:\n",
    "        return n*(factorial(n-1))\n",
    "    \n",
    "print(factorial(100))"
   ]
  },
  {
   "cell_type": "markdown",
   "metadata": {},
   "source": [
    "**Problema 15.** Escribe un algoritmo recursivo que cree una lista de todas las permutaciones de $n$ elementos.\n",
    "\n",
    "**Problema 16.** Escribe un algoritmo recursivo que decida si una palabra es palíndroma o no, es decir, que diga si la palabra se lee igual al derecho que al revés."
   ]
  },
  {
   "cell_type": "markdown",
   "metadata": {},
   "source": [
    "**Problema 15.** Escribe un algoritmo recursivo que cree una lista de todas las permutaciones de $n$ elementos.\n",
    "\n",
    "Hagamos una lista de las permutaciones para poquitos elementos.\n",
    "\n",
    "$n=1$\n",
    "\n",
    "$1$\n",
    "\n",
    "$n=2$\n",
    "\n",
    "$12, 21$\n",
    "\n",
    "$n=3$\n",
    "\n",
    "$123,132,213,231,312,321$\n",
    "\n",
    "$n=4$\n",
    "\n",
    "?\n",
    "\n",
    "Esbozo:\n",
    "- Cuando tenemos un elemento, regresamos el elemento.\n",
    "- Cuando tenemos $n$ elementos, primero hacemos las permutaciones de $n-1$ elementos y luego en cada una de ellas ponemos el $n$-ésimo elemento en cada posición.\n"
   ]
  },
  {
   "cell_type": "code",
   "execution_count": 21,
   "metadata": {
    "ExecuteTime": {
     "end_time": "2020-11-27T18:06:51.931906Z",
     "start_time": "2020-11-27T18:06:51.918378Z"
    }
   },
   "outputs": [
    {
     "name": "stdout",
     "output_type": "stream",
     "text": [
      "['pera', 'manzana', 'naranja']\n",
      "['manzana', 'pera', 'naranja']\n",
      "['manzana', 'naranja', 'pera']\n",
      "['pera', 'naranja', 'manzana']\n",
      "['naranja', 'pera', 'manzana']\n",
      "['naranja', 'manzana', 'pera']\n",
      "4321\n",
      "3421\n",
      "3241\n",
      "3214\n",
      "4231\n",
      "2431\n",
      "2341\n",
      "2314\n",
      "4213\n",
      "2413\n",
      "2143\n",
      "2134\n",
      "4312\n",
      "3412\n",
      "3142\n",
      "3124\n",
      "4132\n",
      "1432\n",
      "1342\n",
      "1324\n",
      "4123\n",
      "1423\n",
      "1243\n",
      "1234\n"
     ]
    }
   ],
   "source": [
    "def permutaciones(lista):\n",
    "    if len(lista)==1:\n",
    "        return([lista])\n",
    "    else:\n",
    "        anteriores=permutaciones(lista[:-1])\n",
    "        ultimo=lista[-1]\n",
    "        nuevas=[]\n",
    "        for anterior in anteriores:\n",
    "            for j in range(len(anterior)+1):\n",
    "                nueva=anterior[:j]+[ultimo]+anterior[j:]\n",
    "                nuevas.append(nueva)\n",
    "        return(nuevas)\n",
    "\n",
    "for j in permutaciones(['naranja','manzana','pera']):\n",
    "    print(j)\n",
    "    \n",
    "for j in permutaciones([1,2,3,4]):\n",
    "    print(''.join([str(d) for d in j]))"
   ]
  },
  {
   "cell_type": "markdown",
   "metadata": {},
   "source": [
    "**Problema 16.** Escribe un algoritmo recursivo que decida si una palabra es palíndroma o no, es decir, que diga si la palabra se lee igual al derecho que al revés.\n",
    "\n",
    "Para resolverlo en términos recursivos, debemos pensar en los casos base que tenemos. Pensaremos en que el caso base consiste de las palabras de o bien $1$ caracter, o bien ningún caracter. En ambos casos, estas palabras son palíndromas.\n",
    "\n",
    "Si tenemos una palabra más larga, es decir, con tres o más caracteres, una cosa que podemos hacer es comparar el primero con el último y ver si son iguales o no. Si no son iguales, entonces la palabra ya no fue palíndroma. Si sí son iguales, entonces el problema se reduce a que la palabra quitando el primero y el último sea palíndroma."
   ]
  },
  {
   "cell_type": "code",
   "execution_count": 28,
   "metadata": {
    "ExecuteTime": {
     "end_time": "2020-11-27T18:22:36.125349Z",
     "start_time": "2020-11-27T18:22:36.114244Z"
    }
   },
   "outputs": [
    {
     "name": "stdout",
     "output_type": "stream",
     "text": [
      "True\n",
      "False\n",
      "True\n",
      "True\n",
      "True\n",
      "False\n"
     ]
    }
   ],
   "source": [
    "def palindroma(palabra):\n",
    "    if len(palabra)==0 or len(palabra)==1:\n",
    "        return True\n",
    "    if palabra[0]!=palabra[-1]:\n",
    "        return False\n",
    "    else:\n",
    "        return palindroma(palabra[1:-1])\n",
    "    \n",
    "print(palindroma('reconocer'))\n",
    "print(palindroma('alegría'))\n",
    "print(palindroma('a'))\n",
    "print(palindroma(''))\n",
    "print(palindroma('tassat'))\n",
    "print(palindroma('tatsat'))"
   ]
  },
  {
   "cell_type": "markdown",
   "metadata": {},
   "source": [
    "## Búsqueda combinatoria y backtrack\n",
    "\n",
    "Cuaderno adicional de Jupyter"
   ]
  },
  {
   "cell_type": "markdown",
   "metadata": {},
   "source": [
    "## El teorema maestro"
   ]
  },
  {
   "cell_type": "markdown",
   "metadata": {},
   "source": [
    "En mucho algoritmos del estilo de divide y conquista se hace una recursión del siguiente estilo\n",
    "\n",
    "`problema(n):\n",
    "    dividir el problema en a sub-problemas de tamaño b/n\n",
    "    resolver problema para cada uno de ellos (recursión)\n",
    "    combinar las respuestas\n",
    "`\n",
    "\n",
    "El teorema maestro ayuda a saber cuánto tiempo se tardan este tipo de algoritmos bajo ciertas hipótesis sobre $a$, $b$ y el tiempo de dividir el problema en subproblemas y de combinar las respuestas.\n",
    "\n",
    "**Teorema.** Supongamos que tenemos una función que satisface la siguiente ecuación recursiva: $$T(n)=aT(n/b)+f(n).$$\n",
    "\n",
    "en donde $a\\geq 1$ y $b>1$ son constantes y $f(n)$ es una función positiva. Definamos $d=\\log_b a=\\log a / \\log b$, al cual le llamaremos el **exponente crítico**. Entonces, tenemos los siguientes tres casos:\n",
    "\n",
    "1) Si $f(n)=O(n^{d-\\epsilon})$ para alguna constante $\\epsilon>0$, entonces $T(n)=\\Theta(n^d)$.\n",
    "\n",
    "2) Si $f(n)=\\Theta(n^d \\log ^k n)$ para alguna $k\\geq 0$, entonces $T(n)=\\Theta(n^d\\log^{k+1}n)$.\n",
    "\n",
    "3) Si $f(n)=\\Omega(n^{d+\\epsilon})$ para alguna constante $\\epsilon>0$ y además $f(n)$ satisface la **condición de regularidad** $af(n/b)<cf(n)$ para alguna constante $c<1$ y $n$ suficientemente grande, entonces $T(n)=\\Theta(f(n))$.\n"
   ]
  },
  {
   "cell_type": "markdown",
   "metadata": {},
   "source": [
    "**Ejemplo.** Usa el teorema maestro para resolver asintóticamente las siguiente recursiones. Hay una de ellas a la que no se le puede aplicar el teorema. Di cuál es y por qué.\n",
    "\n",
    "a) $T(n)=3T(n/2)+n^2$.\n",
    "\n",
    "b) $T(n)=4T(n/2)+n^2$.\n",
    "\n",
    "c) $T(n)=2^nT(n/2)+n^n$.\n",
    "\n",
    "d) $T(n)=16T(n/4)+n$.\n",
    "\n",
    "a) En efecto $a=3\\geq1$, $b=2> 1$ y $f(n)=n^2$, así que las hipótesis iniciales se cumplen. En este problema, el exponente crítico es $d=\\log 3/ \\log 2 \\approx 1.585$. Notemos que \n",
    "$$f(n)=n^2=\\Omega(n^2)=\\Omega(n^{d+\\epsilon}).$$ \n",
    "\n",
    "Además, tenemos que $3f(n/2)=\\frac{3}{4}n^2<\\frac{4}{5}n^2$, por lo que se cumple la regularidad con $c=4/5$. Así, estamos en el caso (3) del teorema maestro. Por lo tanto, tenemos que $T(n)=\\Theta(n^2)$.\n",
    "\n",
    "b) En efecto $a=4\\geq1$, $b=2>1$ y $f(n)=n^2$ es positiva, así que las hipótesis iniciales se cumplen. En este problema, el exponente crítico es $d=\\log 4/ \\log 2 = 2$. Notemos que \n",
    "\n",
    "$$f(n)=n^2=\\Theta(n^d).$$ \n",
    "\n",
    "Así, estamos en el caso (2) del teorema maestro, con $k=0$. Por lo tanto, tenemos que $T(n)=\\Theta(n^2\\log n)$.\n",
    "\n",
    "c) Notemos que $a=2^n$, que no es una constante, de modo que no podemos aplicar el teorema maestro.\n",
    "\n",
    "d) En efecto $a=16\\geq 1$, $b=4>1$ y $f(n)=n$ es positiva, así que las hipótesis iniciales se cumplen. En este problema, el exponente crítico es $d=\\log 16/ \\log 4 = 2$. Notemos que \n",
    "\n",
    "$$f(n)=n=O(n^d).$$\n",
    "\n",
    "\n",
    "\n",
    "Así, estamos en el caso (1) del teorema maestro y por lo tanto $T(n)=O(n^2)$."
   ]
  },
  {
   "cell_type": "code",
   "execution_count": 4,
   "metadata": {
    "ExecuteTime": {
     "end_time": "2020-12-04T17:46:08.155172Z",
     "start_time": "2020-12-04T17:46:08.144304Z"
    }
   },
   "outputs": [
    {
     "name": "stdout",
     "output_type": "stream",
     "text": [
      "1.5849625007211563\n",
      "2.0\n",
      "2.0\n"
     ]
    }
   ],
   "source": [
    "import numpy as np\n",
    "\n",
    "print(np.log(3)/np.log(2))\n",
    "print(np.log(4)/np.log(2))\n",
    "print(np.log(16)/np.log(4))"
   ]
  },
  {
   "cell_type": "markdown",
   "metadata": {},
   "source": [
    "**Ejercicio.** Resuelve las siguiente recursiones usando el teorema maestro o explica por qué no se puede usar. 10, 13, 16, 19\n",
    "\n",
    "a) $T(n)=16T(n/4)+n!$.\n",
    "\n",
    "b) $T(n)=3T(n/3)+\\sqrt{n}$.\n",
    "\n",
    "c) $T(n)=3T(n/3)+n/2$.\n",
    "\n",
    "d) $T(n)=64T(n/8)-n^2\\log n$.\n",
    "\n",
    "Revisar respuestas en https://people.csail.mit.edu/thies/6.046-web/master.pdf"
   ]
  },
  {
   "cell_type": "markdown",
   "metadata": {},
   "source": [
    "Cuando estamos ordenando por recursión, lo que hacemos es partir el problema de $n$ números en $2$ problemas con $n/2$ números. La división y recombinación toma tiempo lineal, así que el tiempo total es $$T(n)=2T(n/2)+cn.$$\n",
    "\n",
    "Notemos que $a=b=2>1$ y que $cn$ es positiva, de modo que podemos usar el teorema maestro. El exponente crítico es $d=\\log 2 / \\log 2 = 1$. Tenemos que $f(n)=cn=O(n^d)$, de modo que estamos en el caso (2) del teorema maestro. Entonces $T(n)=\\Theta(n\\log n)$.\n",
    "\n",
    "Cuando estamos haciendo búsqueda binaria, lo que hacemos es partir el problema en un problema de $n/2$ números y para hacer esto necesitamos tiempo constante. Así que el tiempo de ejecución es recursivamente $$T(n)=T(n/2)+f(n).$$\n",
    "\n",
    "Tenemos $a=1\\geq 1$, y $b=2>2$. Además la función $f(n)$ es positiva y $O(1)$. El exponente crítico es $d=\\log 1 \\ log 2 = 0$ y tenemos entonces que $f(n)$ es comparable a $n^d=1$. Estamos de nuevo en el caso 2 del teorema maestro y por lo tanto el tiempo total de ejecución satisface $T(n)=\\Theta(\\log n)$.\n",
    "\n",
    "\n"
   ]
  },
  {
   "cell_type": "markdown",
   "metadata": {},
   "source": [
    "## Programación dinámica"
   ]
  },
  {
   "cell_type": "markdown",
   "metadata": {},
   "source": [
    "Pensemos que queremos calcular los términos de la sucesión de Fibonacci usando la computadora. Recordemos que la sucesión de Fibonacci está definida por $F_0=0$, $F_1=1$ y para cada $n\\geq 0$ se tiene que $F_{n+2}=F_{n+1}+F_{n}$.\n",
    "\n",
    "Una posible forma de hacerlo es mediante recursión. Podemos escribir un algoritmo que haga lo siguiente:\n",
    "\n",
    "`def fibonacci(n):\n",
    "    si n=0, regresar 0\n",
    "    si n=1, regresar 1\n",
    "    si n>=2, regresar fibonacci(n-1)+fibonacci(n-2)`\n",
    "    \n",
    "Veamos que esto funciona correctamente.\n",
    "\n",
    "Los primeros Fibonaccis son 0,1,1,2,3,5,8,13,21,34,55,89,144,..."
   ]
  },
  {
   "cell_type": "code",
   "execution_count": 1,
   "metadata": {
    "ExecuteTime": {
     "end_time": "2020-12-08T16:09:02.681203Z",
     "start_time": "2020-12-08T16:09:02.674224Z"
    }
   },
   "outputs": [],
   "source": [
    "def fibonacci(n):\n",
    "    if n==0:\n",
    "        return 0\n",
    "    if n==1:\n",
    "        return 1\n",
    "    return fibonacci(n-1)+fibonacci(n-2)"
   ]
  },
  {
   "cell_type": "code",
   "execution_count": 10,
   "metadata": {
    "ExecuteTime": {
     "end_time": "2020-12-08T16:11:35.802725Z",
     "start_time": "2020-12-08T16:11:21.765404Z"
    }
   },
   "outputs": [
    {
     "name": "stdout",
     "output_type": "stream",
     "text": [
      "24157817\n"
     ]
    }
   ],
   "source": [
    "print(fibonacci(37))"
   ]
  },
  {
   "cell_type": "markdown",
   "metadata": {},
   "source": [
    "Notemos que este algoritmo es exponencial pues hay varios subproblemas que estamos resolviendo varias veces y no estamos aprovechando que ya los resolvimos. En este problema muy particular, nos conviene mucho más ir almacenando la respuesta a subproblemas que ya resolvimos.\n",
    "\n",
    "Esto lo podemos hacer de varias formas, por ejemplo, podríamos ir almacenando los números de Fibonacci en una lista de Python."
   ]
  },
  {
   "cell_type": "code",
   "execution_count": 16,
   "metadata": {
    "ExecuteTime": {
     "end_time": "2020-12-08T16:29:45.100853Z",
     "start_time": "2020-12-08T16:29:45.089368Z"
    }
   },
   "outputs": [
    {
     "data": {
      "text/plain": [
       "43466557686937456435688527675040625802564660517371780402481729089536555417949051890403879840079255169295922593080322634775209689623239873322471161642996440906533187938298969649928516003704476137795166849228875"
      ]
     },
     "execution_count": 16,
     "metadata": {},
     "output_type": "execute_result"
    }
   ],
   "source": [
    "lista_fib=[0,1]\n",
    "def fibonacci_cache(n,lista_fib):\n",
    "    if len(lista_fib)>=n+1:\n",
    "        return(lista_fib[n])\n",
    "    else:\n",
    "        nuevo_fib=fibonacci_cache(n-1,lista_fib)+fibonacci_cache(n-2,lista_fib)\n",
    "        lista_fib.append(nuevo_fib)\n",
    "        return nuevo_fib\n",
    "    \n",
    "fibonacci_cache(1000,lista_fib)"
   ]
  },
  {
   "cell_type": "markdown",
   "metadata": {},
   "source": [
    "Notemos que ahora el tiempo es nada más lineal, pues no es necesario entrar a la recursión tantas veces. Sin embargo, estamos pagando en espacio una cantidad $O(n)$ pues el objeto lista_fib tiene que ir almacenando a todos los Fibonaccis.\n",
    "\n",
    "Podemos mejorar este algoritmo todavía más pues muy pronto dejamos de utilizar los primeros valores de la sucesión de Fibonacci para calcular los más grandes. Por ejemplo, para $F_5$ ya no necesitamos acordarnos de $F_0,F_1,F_2$"
   ]
  },
  {
   "cell_type": "code",
   "execution_count": 20,
   "metadata": {
    "ExecuteTime": {
     "end_time": "2020-12-08T16:43:05.605040Z",
     "start_time": "2020-12-08T16:43:05.596139Z"
    }
   },
   "outputs": [
    {
     "name": "stdout",
     "output_type": "stream",
     "text": [
      "33644764876431783266621612005107543310302148460680063906564769974680081442166662368155595513633734025582065332680836159373734790483865268263040892463056431887354544369559827491606602099884183933864652731300088830269235673613135117579297437854413752130520504347701602264758318906527890855154366159582987279682987510631200575428783453215515103870818298969791613127856265033195487140214287532698187962046936097879900350962302291026368131493195275630227837628441540360584402572114334961180023091208287046088923962328835461505776583271252546093591128203925285393434620904245248929403901706233888991085841065183173360437470737908552631764325733993712871937587746897479926305837065742830161637408969178426378624212835258112820516370298089332099905707920064367426202389783111470054074998459250360633560933883831923386783056136435351892133279732908133732642652633989763922723407882928177953580570993691049175470808931841056146322338217465637321248226383092103297701648054726243842374862411453093812206564914032751086643394517512161526545361333111314042436854805106765843493523836959653428071768775328348234345557366719731392746273629108210679280784718035329131176778924659089938635459327894523777674406192240337638674004021330343297496902028328145933418826817683893072003634795623117103101291953169794607632737589253530772552375943788434504067715555779056450443016640119462580972216729758615026968443146952034614932291105970676243268515992834709891284706740862008587135016260312071903172086094081298321581077282076353186624611278245537208532365305775956430072517744315051539600905168603220349163222640885248852433158051534849622434848299380905070483482449327453732624567755879089187190803662058009594743150052402532709746995318770724376825907419939632265984147498193609285223945039707165443156421328157688908058783183404917434556270520223564846495196112460268313970975069382648706613264507665074611512677522748621598642530711298441182622661057163515069260029861704945425047491378115154139941550671256271197133252763631939606902895650288268608362241082050562430701794976171121233066073310059947366875\n"
     ]
    }
   ],
   "source": [
    "def fib_dp(n):\n",
    "    a=0\n",
    "    b=1\n",
    "    for j in range(n):\n",
    "        a,b=b,a+b\n",
    "    return(a)\n",
    "\n",
    "print(fib_dp(10000))"
   ]
  },
  {
   "cell_type": "markdown",
   "metadata": {},
   "source": [
    "**Problema.** Dado un entero no negativo $n$ y un entero $0\\leq k \\leq n$, calcular el coeficiente binomial $\\binom{n}{k}$.\n",
    "\n",
    "Pensemos en cómo resolver el problema para encontrar $\\binom{500}{37}$"
   ]
  },
  {
   "cell_type": "markdown",
   "metadata": {},
   "source": [
    "Un algoritmo recursivo que use la fórmula de Pascal sin ideas de caché toma demasiado tiempo."
   ]
  },
  {
   "cell_type": "code",
   "execution_count": 14,
   "metadata": {
    "ExecuteTime": {
     "end_time": "2020-12-10T16:21:31.135223Z",
     "start_time": "2020-12-10T16:21:21.515416Z"
    }
   },
   "outputs": [
    {
     "name": "stdout",
     "output_type": "stream",
     "text": [
      "20708500\n"
     ]
    }
   ],
   "source": [
    "def binomial(n,k):\n",
    "    if k==0 or k==n:\n",
    "        return 1\n",
    "    else:\n",
    "        return binomial(n-1,k) + binomial(n-1,k-1)\n",
    "    \n",
    "print(binomial(500,37))"
   ]
  },
  {
   "cell_type": "markdown",
   "metadata": {},
   "source": [
    "Agregando ideas de caché, se puede calcular mucho más rápido."
   ]
  },
  {
   "cell_type": "code",
   "execution_count": 19,
   "metadata": {
    "ExecuteTime": {
     "end_time": "2020-12-10T16:24:13.371222Z",
     "start_time": "2020-12-10T16:24:13.339377Z"
    }
   },
   "outputs": [
    {
     "name": "stdout",
     "output_type": "stream",
     "text": [
      "134914722808517751536999098076641485009511775957661594000\n"
     ]
    }
   ],
   "source": [
    "Binom=[]\n",
    "for j in range(501):\n",
    "    nuevo_renglon=(j+1)*[0]\n",
    "    nuevo_renglon[0]=1\n",
    "    nuevo_renglon[-1]=1\n",
    "    Binom.append(nuevo_renglon)\n",
    "    \n",
    "def binomial_cache(n,k,Binom):\n",
    "    if Binom[n][k] == 0:\n",
    "        Binom[n][k] = binomial_cache(n-1,k,Binom) + binomial_cache(n-1,k-1,Binom)\n",
    "        return Binom[n][k]\n",
    "    else:\n",
    "        return Binom[n][k]\n",
    "    \n",
    "print(binomial(500,37,Binom))"
   ]
  },
  {
   "cell_type": "markdown",
   "metadata": {},
   "source": [
    "*Reto.* Implementar un algoritmo que calcule coeficientes binomiales en tiempo $O(n^2)$ y espacio $O(n)$."
   ]
  },
  {
   "cell_type": "markdown",
   "metadata": {},
   "source": [
    "Dada una secuencia de números $a_1,a_2,a_3,a_4,\\ldots,a_n$ una sub-secuencia consiste de tomar algunos de ellos de izquierda a derecha.\n",
    "\n",
    "**Ejemplo.** Si tenemos a la secuencia $$10,15,8,4,2,3,1,9,12,21,5,7,$$ una posible subsecuencia es $$8,4,1,9,5.$$\n",
    "\n",
    "Una secuencia es creciente cuando sus elementos de izquierda a derecha están en orden creciente.\n",
    "\n",
    "**Ejemplo.** La secuencia $$10,15,18,21,35$$ está en orden creciente. La secuencia $$10,15,35,21,18$$ no está en orden creciente pues $35$ está a la izquierda de $18$ pero $35>18$.\n",
    "\n",
    "\n",
    "**Problema.** Dada una secuencia $a_1,\\ldots,a_n$, encontrar la subsecuencia creciente más grande.\n",
    "\n",
    "Para plantear este problema de manera recursiva, nos conviene mucho más plantear un problema un poquito más general.\n",
    "\n",
    "**Problema.** Dada una secuencia $a_1,\\ldots,a_n$ y un índice $j$, encontrar la subsecuencia creciente más grande que termina en la posición $j$.\n",
    "\n",
    "Este es un mejor problema, pues se puede resolver en términos recursivos. La subsecuencia más grande que termina en la posición $j$ es de tamaño $1$ si $a_j$ es menor que todos los anteriores y si es mayor que alguno de los anteriores entonces es uno más que la subsecuencia más grande anterior y que se pueda extender con $a_j$.\n",
    "\n",
    "Implementemos esto con programación dinámica, almacenando las respuestas de $1$ a $n$."
   ]
  },
  {
   "cell_type": "code",
   "execution_count": 33,
   "metadata": {
    "ExecuteTime": {
     "end_time": "2020-12-10T17:16:48.071067Z",
     "start_time": "2020-12-10T17:16:48.044789Z"
    }
   },
   "outputs": [
    {
     "name": "stdout",
     "output_type": "stream",
     "text": [
      "[1, 2, 1, 1, 1, 2, 1, 3, 4, 5, 3, 4]\n",
      "[-1, 0, -1, -1, -1, 4, -1, 5, 7, 8, 5, 10]\n",
      "La subsecuencia más grande termina en el índice 9 y es de longitud 5\n",
      "Una posible subsecuencia más grande es [2, 3, 9, 12, 21]\n"
     ]
    }
   ],
   "source": [
    "secuencia=[10,15,8,4,2,3,1,9,12,21,5,7]\n",
    "auxiliar=[]\n",
    "padres=[]\n",
    "\n",
    "for j in range(len(secuencia)):\n",
    "    nuevo=1\n",
    "    padre=-1\n",
    "    for k in range(j):\n",
    "        if secuencia[k]<secuencia[j] and auxiliar[k]+1>nuevo:\n",
    "            nuevo=auxiliar[k]+1\n",
    "            padre=k\n",
    "    auxiliar.append(nuevo)\n",
    "    padres.append(padre)\n",
    "    \n",
    "print(auxiliar)\n",
    "print(padres)\n",
    "\n",
    "mayor_long=0\n",
    "mayor_long_ind=-1\n",
    "for j in range(len(auxiliar)):\n",
    "    if auxiliar[j]>mayor_long:\n",
    "        mayor_long_ind=j\n",
    "        mayor_long=auxiliar[j]\n",
    "\n",
    "print('La subsecuencia más grande termina en el índice {} y es de longitud {}'.format(mayor_long_ind,mayor_long))\n",
    "\n",
    "subsecuencia=[]\n",
    "indice=mayor_long_ind\n",
    "\n",
    "while indice!=-1:\n",
    "    subsecuencia=[secuencia[indice]]+subsecuencia\n",
    "    indice=padres[indice]\n",
    "    \n",
    "print('Una posible subsecuencia más grande es {}'.format(subsecuencia))"
   ]
  },
  {
   "cell_type": "markdown",
   "metadata": {},
   "source": [
    "*Reto.* Hacer un algoritmo que encuentre todas las subsecuencias crecientes de longitud máxima."
   ]
  },
  {
   "cell_type": "markdown",
   "metadata": {},
   "source": [
    "## Métodos probabilísticos (*)"
   ]
  },
  {
   "cell_type": "markdown",
   "metadata": {},
   "source": []
  }
 ],
 "metadata": {
  "author": "mes",
  "kernelspec": {
   "display_name": "Python 3 (ipykernel)",
   "language": "python",
   "name": "python3"
  },
  "language_info": {
   "codemirror_mode": {
    "name": "ipython",
    "version": 3
   },
   "file_extension": ".py",
   "mimetype": "text/x-python",
   "name": "python",
   "nbconvert_exporter": "python",
   "pygments_lexer": "ipython3",
   "version": "3.8.12"
  },
  "latex_envs": {
   "LaTeX_envs_menu_present": true,
   "autoclose": false,
   "autocomplete": true,
   "bibliofile": "biblio.bib",
   "cite_by": "apalike",
   "current_citInitial": 1,
   "eqLabelWithNumbers": true,
   "eqNumInitial": 1,
   "hotkeys": {
    "equation": "Ctrl-E",
    "itemize": "Ctrl-I"
   },
   "labels_anchors": false,
   "latex_user_defs": false,
   "report_style_numbering": false,
   "user_envs_cfg": false
  },
  "title": "Unidad 3: Heurísticas de creación de algoritmos\\ Matemáticas Discretas"
 },
 "nbformat": 4,
 "nbformat_minor": 4
}
